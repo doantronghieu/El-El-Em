{
	"cells": [
		{
			"cell_type": "code",
			"execution_count": null,
			"metadata": {
				"notebookRunGroups": {
					"groupValue": "1"
				}
			},
			"outputs": [],
			"source": [
				"import add_packages\n",
				"import config\n",
				"from pprint import pprint\n",
				"\n",
				"from my_langchain import (text_embedding_models, vector_stores, )"
			]
		},
		{
			"cell_type": "code",
			"execution_count": null,
			"metadata": {},
			"outputs": [],
			"source": [
				"\"\"\"\n",
				"docker pull qdrant/qdrant\n",
				"docker run -p 6333:6333 -p 6334:6334 \\\n",
				"    -v $(pwd)/qdrant_storage:/qdrant/storage:z \\\n",
				"    qdrant/qdrant\n",
				"\"\"\""
			]
		},
		{
			"cell_type": "markdown",
			"metadata": {},
			"source": [
				"# Getting Started"
			]
		},
		{
			"cell_type": "markdown",
			"metadata": {},
			"source": [
				"## Quickstart"
			]
		},
		{
			"cell_type": "code",
			"execution_count": null,
			"metadata": {},
			"outputs": [],
			"source": [
				"from qdrant_client import QdrantClient\n",
				"from qdrant_client.http.models import Distance, VectorParams, PointStruct\n",
				"\n",
				"client = QdrantClient(\"localhost\", port=6333, grpc_port=6333)\n",
				"collection_name = \"test_collection\"\n"
			]
		},
		{
			"cell_type": "code",
			"execution_count": null,
			"metadata": {},
			"outputs": [],
			"source": [
				"client.get_collection(collection_name)\n"
			]
		},
		{
			"cell_type": "code",
			"execution_count": null,
			"metadata": {},
			"outputs": [],
			"source": [
				"\n",
				"#* Create a collection\n",
				"# Store vector data in a Qdrant collection named \"test_collection\" using dot \n",
				"# product distance metric for vector comparison.\n",
				"client.create_collection(\n",
				"  collection_name=collection_name,\n",
				"  vectors_config=VectorParams(size=4, distance=Distance.DOT),\n",
				")"
			]
		},
		{
			"cell_type": "code",
			"execution_count": null,
			"metadata": {},
			"outputs": [],
			"source": [
				"# Add vectors\n",
				"\n",
				"operation_info = client.upsert(\n",
				"  collection_name=collection_name,\n",
				"  wait=True,\n",
				"  points=[\n",
				"    PointStruct(id=1, vector=[0.05, 0.61, 0.76, 0.74], payload={\"city\": \"Berlin\"}),\n",
				"    PointStruct(id=2, vector=[0.19, 0.81, 0.75, 0.11], payload={\"city\": \"London\"}),\n",
				"    PointStruct(id=3, vector=[0.36, 0.55, 0.47, 0.94], payload={\"city\": \"Moscow\"}),\n",
				"    PointStruct(id=4, vector=[0.18, 0.01, 0.85, 0.80], payload={\"city\": \"New York\"}),\n",
				"    PointStruct(id=5, vector=[0.24, 0.18, 0.22, 0.44], payload={\"city\": \"Beijing\"}),\n",
				"    PointStruct(id=6, vector=[0.35, 0.08, 0.11, 0.44], payload={\"city\": \"Mumbai\"}),\n",
				"  ]\n",
				")\n",
				"\n",
				"print(operation_info)"
			]
		},
		{
			"cell_type": "code",
			"execution_count": null,
			"metadata": {},
			"outputs": [],
			"source": [
				"# Run a query\n",
				"# Inquire about similarity between stored vectors and the query vector\n",
				"search_result = client.search(\n",
				"  collection_name=collection_name,\n",
				"  query_vector=[0.2, 0.1, 0.9, 0.7],\n",
				"  limit=3,\n",
				")\n",
				"# Results returned in descending similarity order. \n",
				"# Payload and vector data missing in default results.\n",
				"pprint(search_result)"
			]
		},
		{
			"cell_type": "code",
			"execution_count": null,
			"metadata": {},
			"outputs": [],
			"source": [
				"from qdrant_client.http.models import Filter, FieldCondition, MatchValue\n",
				"\n",
				"# Add a filter\n",
				"search_result = client.search(\n",
				"  collection_name=collection_name,\n",
				"  query_vector=[0.2, 0.1, 0.9, 0.7],\n",
				"  query_filter=Filter(\n",
				"    must=[FieldCondition(key=\"city\", match=MatchValue(value=\"London\"))]\n",
				"  ),\n",
				"  with_payload=True,\n",
				"  limit=3,\n",
				")\n",
				"# Conducted vector search, loaded vectors into a database, queried with a\n",
				"# personal vector. Qdrant identified closest results, provided similarity score.\n",
				"pprint(search_result)"
			]
		},
		{
			"cell_type": "markdown",
			"metadata": {},
			"source": [
				"# User Manual"
			]
		},
		{
			"cell_type": "markdown",
			"metadata": {},
			"source": [
				"## Collection"
			]
		},
		{
			"cell_type": "markdown",
			"metadata": {},
			"source": [
				"# Youtube"
			]
		},
		{
			"cell_type": "markdown",
			"metadata": {},
			"source": [
				"## [Alejandro AO - Software & Ai](https://www.youtube.com/@alejandro_ao)"
			]
		},
		{
			"cell_type": "markdown",
			"metadata": {},
			"source": [
				"### Langchain, Qdrant Cloud\n",
				"Langchain + Qdrant Cloud | Pinecone FREE Alternative (20GB) | Tutorial"
			]
		},
		{
			"cell_type": "code",
			"execution_count": null,
			"metadata": {},
			"outputs": [],
			"source": [
				"from langchain_community.vectorstores import qdrant\n",
				"from langchain_openai import OpenAIEmbeddings, OpenAI\n",
				"from langchain_community.document_loaders import TextLoader\n",
				"from langchain.text_splitter import CharacterTextSplitter\n",
				"from langchain.chains import RetrievalQA\n",
				"\n",
				"\n",
				"import qdrant_client\n",
				"from qdrant_client.http import models\n",
				"import os"
			]
		},
		{
			"cell_type": "code",
			"execution_count": null,
			"metadata": {},
			"outputs": [],
			"source": [
				"# Create qdrant client\n",
				"client = qdrant_client.QdrantClient(\n",
				"  location=os.getenv(\"QDRANT_HOST\"),\n",
				"  api_key=os.getenv(\"QDRANT_API_KEY\"),\n",
				")"
			]
		},
		{
			"cell_type": "code",
			"execution_count": null,
			"metadata": {},
			"outputs": [],
			"source": [
				"# Create collection\n",
				"collection_name = 'my-collection'\n",
				"vectors_config = models.VectorParams(size=1536, distance=models.Distance.COSINE)\n",
				"client.recreate_collection(\n",
				"  collection_name=collection_name,\n",
				"  vectors_config=vectors_config,\n",
				")\n",
				"\n",
				"embeddings = OpenAIEmbeddings()\n",
				"\n",
				"vector_store = qdrant.Qdrant(\n",
				"  client=client, \n",
				"  collection_name=collection_name,\n",
				"  embeddings=embeddings,\n",
				")\n",
				"\n",
				"retriever = vector_store.as_retriever()\n",
				"\n",
				"# Plug vector store into retrieval chain\n",
				"qa_chain = RetrievalQA.from_chain_type(\n",
				"  llm=OpenAI(),\n",
				"  chain_type=\"stuff\",\n",
				"  retriever=retriever,\n",
				")"
			]
		},
		{
			"cell_type": "code",
			"execution_count": null,
			"metadata": {},
			"outputs": [],
			"source": [
				"# Add documents to vector store\n",
				"\n",
				"document = TextLoader(\"../../data/husky.txt\").load()\n",
				"\n",
				"text_splitter = CharacterTextSplitter(\n",
				"    separator=\"\\n\", chunk_size=1000, chunk_overlap=200,\n",
				")\n",
				"documents = text_splitter.split_documents(document)"
			]
		},
		{
			"cell_type": "code",
			"execution_count": null,
			"metadata": {},
			"outputs": [],
			"source": [
				"documents"
			]
		},
		{
			"cell_type": "code",
			"execution_count": null,
			"metadata": {},
			"outputs": [],
			"source": [
				"# Add documents to vector store\n",
				"\n",
				"document = TextLoader(\"../../data/husky.txt\").load()\n",
				"\n",
				"text_splitter = CharacterTextSplitter(\n",
				"  separator=\"\\n\", chunk_size=1000, chunk_overlap=200, \n",
				")\n",
				"documents = text_splitter.split_documents(document)\n",
				"\n",
				"vector_store.add_documents(documents)"
			]
		},
		{
			"cell_type": "code",
			"execution_count": null,
			"metadata": {},
			"outputs": [],
			"source": [
				"query = \"What is Husky?\"\n",
				"response = qa_chain.invoke(query)\n",
				"pprint(response['result'])"
			]
		},
		{
			"cell_type": "markdown",
			"metadata": {},
			"source": [
				"## [AI Anytime](https://www.youtube.com/@AIAnytime)\n"
			]
		},
		{
			"cell_type": "markdown",
			"metadata": {},
			"source": [
				"## RAG, Qdrant Vector Database\n",
				"Get Started with Qdrant Vector Database: Build your First RAG (Part 1)\n"
			]
		},
		{
			"cell_type": "code",
			"execution_count": null,
			"metadata": {},
			"outputs": [],
			"source": []
		},
		{
			"cell_type": "code",
			"execution_count": null,
			"metadata": {},
			"outputs": [],
			"source": []
		},
		{
			"cell_type": "code",
			"execution_count": null,
			"metadata": {},
			"outputs": [],
			"source": []
		},
		{
			"cell_type": "code",
			"execution_count": null,
			"metadata": {},
			"outputs": [],
			"source": []
		},
		{
			"cell_type": "code",
			"execution_count": null,
			"metadata": {},
			"outputs": [],
			"source": []
		},
		{
			"cell_type": "code",
			"execution_count": null,
			"metadata": {},
			"outputs": [],
			"source": []
		},
		{
			"cell_type": "code",
			"execution_count": null,
			"metadata": {},
			"outputs": [],
			"source": []
		},
		{
			"cell_type": "code",
			"execution_count": null,
			"metadata": {},
			"outputs": [],
			"source": []
		},
		{
			"cell_type": "code",
			"execution_count": null,
			"metadata": {},
			"outputs": [],
			"source": []
		},
		{
			"cell_type": "code",
			"execution_count": null,
			"metadata": {},
			"outputs": [],
			"source": []
		},
		{
			"cell_type": "markdown",
			"metadata": {},
			"source": [
				"# Test"
			]
		},
		{
			"cell_type": "markdown",
			"metadata": {},
			"source": [
				"## Basic Flow"
			]
		},
		{
			"cell_type": "code",
			"execution_count": null,
			"metadata": {},
			"outputs": [],
			"source": [
				"import os\n",
				"from my_langchain import documents\n",
				"from qdrant_client.http import models\n",
				"\n",
				"qdrant_instance = vector_stores.QdrantWrapper(\n",
				"  collection_name=\"my-user\",\n",
				"  qdrant_host=os.getenv(\"QDRANT_HOST\"),\n",
				"  qdrant_api_key=os.getenv(\"QDRANT_API_KEY\"),\n",
				"  default_search_type=\"similarity\",\n",
				"  default_search_kwargs={\"k\": 6},\n",
				")\n",
				"\n",
				"qdrant_instance.vector_store.add_documents([\n",
				"  documents.Document(\n",
				"    page_content=\"my name is Admin\", \n",
				"    metadata={\"user_role\": \"admin\", \"user_name\": \"admin\"},\n",
				"  ), \n",
				"  documents.Document(\n",
				"    page_content=\"my dog's name is Doraemon\", \n",
				"    metadata={\"user_role\": \"admin\", \"user_name\": \"admin\"},\n",
				"  ), \n",
				"  documents.Document(\n",
				"    page_content=\"my name is Moderator\", \n",
				"    metadata={\"user_role\": \"mod\", \"user_name\": \"moderator\"},\n",
				"  ), \n",
				"  documents.Document(\n",
				"    page_content=\"my cat's name is Mickey\", \n",
				"    metadata={\"user_role\": \"mod\", \"user_name\": \"moderator\"},\n",
				"  ), \n",
				"])"
			]
		},
		{
			"cell_type": "code",
			"execution_count": null,
			"metadata": {},
			"outputs": [],
			"source": [
				"query = \"What is admin dog's name?\""
			]
		},
		{
			"cell_type": "code",
			"execution_count": null,
			"metadata": {},
			"outputs": [],
			"source": [
				"pprint(qdrant_instance.vector_store.similarity_search_with_score(query))"
			]
		},
		{
			"cell_type": "code",
			"execution_count": null,
			"metadata": {},
			"outputs": [],
			"source": [
				"pprint(qdrant_instance.retriever.get_relevant_documents(query))"
			]
		},
		{
			"cell_type": "markdown",
			"metadata": {},
			"source": [
				"## Test 1\n",
				"\n",
				"---"
			]
		},
		{
			"cell_type": "code",
			"execution_count": null,
			"metadata": {},
			"outputs": [],
			"source": [
				"collection_name = \"test_1536\"\n",
				"client.create_collection(\n",
				"  collection_name=collection_name,\n",
				"  vectors_config=VectorParams(size=1536, distance=Distance.COSINE),\n",
				")\n",
				"\n",
				"\n",
				"dummy_txt = [\"one\", \"two\", \"three\", \"four\"]\n",
				"embedded_txt = embeddings.embed_documents(dummy_txt)\n",
				"points = [\n",
				"  {\"id\": 1, \"vector\": embedded_txt[0], \"payload\":{\"number\": \"one\"}},\n",
				"  {\"id\": 2, \"vector\": embedded_txt[1], \"payload\":{\"number\": \"two\"}},\n",
				"  {\"id\": 3, \"vector\": embedded_txt[2], \"payload\":{\"number\": \"three\"}},\n",
				"  {\"id\": 4, \"vector\": embedded_txt[3], \"payload\":{\"number\": \"four\"}},\n",
				"]\n",
				"point_struct_lst = [\n",
				"  PointStruct(id=point[\"id\"], vector=point[\"vector\"], payload=point[\"payload\"])\n",
				"              for point in points\n",
				"]\n",
				"\n",
				"\n",
				"operation_info = client.upsert(\n",
				"  collection_name=collection_name,\n",
				"  wait=True,\n",
				"  points=point_struct_lst,\n",
				")\n",
				"\n",
				"print(operation_info)\n",
				"\n",
				"vector_store = Qdrant(\n",
				"  client=client,\n",
				"  collection_name=collection_name,\n",
				"  embeddings=embeddings,\n",
				")\n",
				"\n",
				"retriever = vector_store.as_retriever()"
			]
		},
		{
			"cell_type": "markdown",
			"metadata": {},
			"source": [
				"## Test 2\n",
				"\n",
				"---"
			]
		},
		{
			"cell_type": "code",
			"execution_count": null,
			"metadata": {},
			"outputs": [],
			"source": [
				"# https://github.com/langchain-ai/langchain/issues/2594"
			]
		},
		{
			"cell_type": "markdown",
			"metadata": {},
			"source": [
				"# !"
			]
		}
	],
	"metadata": {
		"kernelspec": {
			"display_name": "LLM",
			"language": "python",
			"name": "python3"
		},
		"language_info": {
			"codemirror_mode": {
				"name": "ipython",
				"version": 3
			},
			"file_extension": ".py",
			"mimetype": "text/x-python",
			"name": "python",
			"nbconvert_exporter": "python",
			"pygments_lexer": "ipython3",
			"version": "3.9.18"
		}
	},
	"nbformat": 4,
	"nbformat_minor": 2
}
