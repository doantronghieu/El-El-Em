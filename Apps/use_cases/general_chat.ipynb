{
 "cells": [
  {
   "cell_type": "code",
   "execution_count": 40,
   "metadata": {},
   "outputs": [],
   "source": [
    "from my_langchain import llms, output_parsers, memory, chains, prompts\n",
    "from langchain.chains import ConversationChain\n",
    "\n",
    "\n",
    "def create_conversation_chain(\n",
    "    prompt=prompts.prompt_general,\n",
    "    llm=llms.llm_openai,\n",
    "    memory=memory.conversation_buffer_memory(ai_prefix=\"AI Assistant\"),\n",
    "    verbose=False,\n",
    "):\n",
    "    return chains.conversation_chain(\n",
    "        prompt=prompt,\n",
    "        llm=llm,\n",
    "        memory=memory,\n",
    "        verbose=verbose,\n",
    "    )\n",
    "\n",
    "def get_conversation_chain_response(human_msg, conversation_chain):\n",
    "    result = conversation_chain.invoke(human_msg)['response']\n",
    "    return result\n",
    "\n",
    "my_conversation_chain = create_conversation_chain()"
   ]
  },
  {
   "cell_type": "code",
   "execution_count": 41,
   "metadata": {},
   "outputs": [
    {
     "name": "stdout",
     "output_type": "stream",
     "text": [
      " Hello! How are you?\n"
     ]
    }
   ],
   "source": [
    "human_message = \"Hi there\"\n",
    "result = get_conversation_chain_response(human_message, my_conversation_chain)\n",
    "print(result)"
   ]
  },
  {
   "cell_type": "code",
   "execution_count": null,
   "metadata": {},
   "outputs": [],
   "source": []
  }
 ],
 "metadata": {
  "kernelspec": {
   "display_name": "LLM",
   "language": "python",
   "name": "python3"
  },
  "language_info": {
   "codemirror_mode": {
    "name": "ipython",
    "version": 3
   },
   "file_extension": ".py",
   "mimetype": "text/x-python",
   "name": "python",
   "nbconvert_exporter": "python",
   "pygments_lexer": "ipython3",
   "version": "3.9.18"
  }
 },
 "nbformat": 4,
 "nbformat_minor": 2
}
