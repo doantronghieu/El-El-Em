{
 "cells": [
  {
   "cell_type": "code",
   "execution_count": null,
   "metadata": {},
   "outputs": [],
   "source": [
    "import yaml\n",
    "import add_packages\n",
    "from pprint import pprint\n",
    "import os\n",
    "import pandas as pd\n",
    "from tqdm.auto import tqdm\n",
    "\n",
    "from toolkit.langchain import (\n",
    "\tdocument_loaders, text_splitters, text_embedding_models, stores, \n",
    "\tprompts, utils, output_parsers, agents, documents, models,\n",
    "\trunnables, tools, chains\n",
    ")"
   ]
  },
  {
   "cell_type": "markdown",
   "metadata": {},
   "source": [
    "Zilliz"
   ]
  },
  {
   "cell_type": "markdown",
   "metadata": {},
   "source": [
    "# [Zilliz Cloud Setup](https://zilliz.com/cloud)"
   ]
  },
  {
   "cell_type": "markdown",
   "metadata": {},
   "source": [
    "# [Zilliz Vectorstore](https://python.langchain.com/v0.2/docs/integrations/vectorstores/zilliz/)"
   ]
  },
  {
   "cell_type": "markdown",
   "metadata": {},
   "source": [
    "# [Zilliz Retrievers Cloud Pipeline](https://python.langchain.com/v0.2/docs/integrations/retrievers/zilliz_cloud_pipeline/)\n"
   ]
  },
  {
   "cell_type": "markdown",
   "metadata": {},
   "source": [
    "# [Milvus Vectorstore](https://python.langchain.com/v0.2/docs/integrations/vectorstores/milvus/)"
   ]
  },
  {
   "cell_type": "markdown",
   "metadata": {},
   "source": [
    "# [Milvus Self-querying retrievers](https://python.langchain.com/v0.2/docs/integrations/retrievers/self_query/milvus_self_query/)"
   ]
  },
  {
   "cell_type": "markdown",
   "metadata": {},
   "source": [
    "# [Milvus Hybrid Search](https://python.langchain.com/v0.2/docs/integrations/retrievers/milvus_hybrid_search/)"
   ]
  },
  {
   "cell_type": "markdown",
   "metadata": {},
   "source": []
  }
 ],
 "metadata": {
  "language_info": {
   "name": "python"
  }
 },
 "nbformat": 4,
 "nbformat_minor": 2
}
