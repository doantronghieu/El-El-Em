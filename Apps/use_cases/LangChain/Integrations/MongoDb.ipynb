{
 "cells": [
  {
   "cell_type": "code",
   "execution_count": null,
   "metadata": {},
   "outputs": [],
   "source": [
    "import yaml\n",
    "import add_packages\n",
    "from pprint import pprint\n",
    "import os\n",
    "import pandas as pd\n",
    "from tqdm.auto import tqdm\n",
    "\n",
    "from toolkit.langchain import (\n",
    "\tdocument_loaders, text_splitters, text_embedding_models, stores, \n",
    "\tprompts, utils, output_parsers, agents, documents, models,\n",
    "\trunnables, tools, chains\n",
    ")"
   ]
  },
  {
   "cell_type": "markdown",
   "metadata": {},
   "source": [
    "# [Vector stores](https://python.langchain.com/v0.2/docs/integrations/vectorstores/mongodb_atlas/)"
   ]
  },
  {
   "cell_type": "code",
   "execution_count": null,
   "metadata": {},
   "outputs": [],
   "source": [
    "from typing import List, Dict, Any, Optional\n",
    "from pymongo import MongoClient\n",
    "from langchain_community.vectorstores import MongoDBAtlasVectorSearch\n",
    "from langchain_openai import OpenAIEmbeddings\n",
    "from langchain.schema import Document\n",
    "from langchain.tools.retriever import create_retriever_tool\n",
    "from loguru import logger\n",
    "from tqdm import tqdm\n",
    "from pymongo.mongo_client import MongoClient\n",
    "from pymongo.operations import SearchIndexModel\n"
   ]
  },
  {
   "cell_type": "code",
   "execution_count": null,
   "metadata": {},
   "outputs": [],
   "source": [
    "MONGODB_DB_NAME = \"db_langchain\"\n",
    "MONGODB_COLLECTION_NAME = \"coll_langchain\"\n",
    "MONGODB_ATLAS_VECTOR_SEARCH_INDEX_NAME = \"idx_langchain\""
   ]
  },
  {
   "cell_type": "code",
   "execution_count": null,
   "metadata": {},
   "outputs": [],
   "source": [
    "class MongoStore:\n",
    "\t\tdef __init__(\n",
    "\t\t\t\tself,\n",
    "\t\t\t\tmongodb_atlas_cluster_uri: str,\n",
    "\t\t\t\tdb_name: str,\n",
    "\t\t\t\tcollection_name: str,\n",
    "\t\t\t\tindex_name: str,\n",
    "\t\t\t\tdimensions: int,\n",
    "\t\t\t\tembeddings: Optional[Any] = None,\n",
    "\t\t\t\tconfigs: Dict = None,\n",
    "\t\t\t\tdefault_search_type: str = \"similarity\",\n",
    "\t\t\t\tdefault_search_kwargs: Dict = {\"k\": 6},\n",
    "\t\t\t\tretriever_tool_name: str = \"\",\n",
    "\t\t\t\tretriever_tool_description: str = \"\",\n",
    "\t\t):\n",
    "\t\t\t\tself.client = MongoClient(mongodb_atlas_cluster_uri)\n",
    "\t\t\t\tself.db_name = db_name\n",
    "\t\t\t\tself.collection_name = collection_name\n",
    "\t\t\t\tself.index_name = index_name\n",
    "\t\t\t\tself.dimensions = dimensions\n",
    "\t\t\t\tself.collection = self.client[db_name][collection_name]\n",
    "\t\t\t\t\n",
    "\t\t\t\t# Set up embeddings\n",
    "\t\t\t\tself.embeddings = embeddings if embeddings else OpenAIEmbeddings(disallowed_special=())\n",
    "\t\t\t\t\n",
    "\t\t\t\t# Set up vector store\n",
    "\t\t\t\tself.vector_store = MongoDBAtlasVectorSearch(\n",
    "\t\t\t\t\t\tcollection=self.collection,\n",
    "\t\t\t\t\t\tindex_name=self.index_name,\n",
    "\t\t\t\t\t\tembedding=self.embeddings,\n",
    "\t\t\t\t\t\trelevance_score_fn=\"cosine\",\n",
    "\t\t\t\t)\n",
    "\t\t\t\t\n",
    "\t\t\t\t# Set up retriever\n",
    "\t\t\t\tself.retriever = self.vector_store.as_retriever(\n",
    "\t\t\t\t\t\tsearch_type=default_search_type,\n",
    "\t\t\t\t\t\tsearch_kwargs=default_search_kwargs,\n",
    "\t\t\t\t)\n",
    "\t\t\t\t\n",
    "\t\t\t\t# Set up retriever tool\n",
    "\t\t\t\tif retriever_tool_name and retriever_tool_description:\n",
    "\t\t\t\t\t\tself.retriever_tool = create_retriever_tool(\n",
    "\t\t\t\t\t\t\t\tretriever=self.retriever,\n",
    "\t\t\t\t\t\t\t\tname=retriever_tool_name,\n",
    "\t\t\t\t\t\t\t\tdescription=retriever_tool_description,\n",
    "\t\t\t\t\t\t)\n",
    "\t\t\t\telse:\n",
    "\t\t\t\t\t\tself.retriever_tool = None\n",
    "\n",
    "\t\tdef create_index(self):\n",
    "\t\t\t\t\"\"\"\n",
    "\t\t\t\tNot available in free-tier.\n",
    "\t\t\t\thttps://www.mongodb.com/docs/atlas/atlas-vector-search/ai-integrations/langchain/#create-the-atlas-vector-search-index\n",
    "\t\t\t\t\"\"\"\n",
    "\t\t\t\ttry:\n",
    "\t\t\t\t\t\tsearch_index_model = SearchIndexModel(\n",
    "\t\t\t\t\t\t\t\tdefinition={\n",
    "\t\t\t\t\t\t\t\t\t\t\"fields\": [\n",
    "\t\t\t\t\t\t\t\t\t\t\t\t{\n",
    "\t\t\t\t\t\t\t\t\t\t\t\t\t\t\"type\": \"vector\",\n",
    "\t\t\t\t\t\t\t\t\t\t\t\t\t\t\"numDimensions\": self.dimensions,\n",
    "\t\t\t\t\t\t\t\t\t\t\t\t\t\t\"path\": \"embedding\",\n",
    "\t\t\t\t\t\t\t\t\t\t\t\t\t\t\"similarity\": \"cosine\"\n",
    "\t\t\t\t\t\t\t\t\t\t\t\t},\n",
    "\t\t\t\t\t\t\t\t\t\t\t\t{\n",
    "\t\t\t\t\t\t\t\t\t\t\t\t\t\t\"type\": \"filter\",\n",
    "\t\t\t\t\t\t\t\t\t\t\t\t\t\t\"path\": \"page\"\n",
    "\t\t\t\t\t\t\t\t\t\t\t\t},\n",
    "\t\t\t\t\t\t\t\t\t\t]\n",
    "\t\t\t\t\t\t\t\t},\n",
    "\t\t\t\t\t\t\t\tname=self.index_name,\n",
    "\t\t\t\t\t\t\t\ttype=\"vectorSearch\",\n",
    "\t\t\t\t\t\t)\n",
    "\n",
    "\t\t\t\t\t\tresult = self.collection.create_search_index(model=search_index_model)\n",
    "\t\t\t\t\t\tlogger.info(f\"Index '{self.index_name}' created successfully. Result: {result}\")\n",
    "\t\t\t\t\t\treturn result\n",
    "\t\t\t\texcept Exception as e:\n",
    "\t\t\t\t\t\tif \"already exists\" in str(e):\n",
    "\t\t\t\t\t\t\t\tlogger.info(f\"Index '{self.index_name}' already exists.\")\n",
    "\t\t\t\t\t\telse:\n",
    "\t\t\t\t\t\t\t\tlogger.error(f\"Error creating index: {e}\")\n",
    "\t\t\t\t\t\treturn None\n",
    "\n",
    "\t\tdef add_documents(self, docs: List[Document]):\n",
    "\t\t\t\tfor doc in tqdm(docs):\n",
    "\t\t\t\t\t\tself.vector_store.add_documents([doc])\n",
    "\n",
    "\t\tdef invoke_retriever(self, query, **kwargs):\n",
    "\t\t\t\tresult: List[Document] = self.retriever.invoke(query, **kwargs)\n",
    "\t\t\t\tresult = [Document(res.page_content) for res in result]\n",
    "\t\t\t\treturn result"
   ]
  },
  {
   "cell_type": "code",
   "execution_count": null,
   "metadata": {},
   "outputs": [],
   "source": [
    "mongo_store = MongoStore(\n",
    "\tmongodb_atlas_cluster_uri=os.getenv(\"MONGODB_ATLAS_CLUSTER_URI\"),\n",
    "\tdb_name=MONGODB_DB_NAME,\n",
    "\tcollection_name=MONGODB_COLLECTION_NAME,\n",
    "\tindex_name=MONGODB_ATLAS_VECTOR_SEARCH_INDEX_NAME,\n",
    "\tdimensions=1536,  # Set this to match your embedding size\n",
    "\tretriever_tool_name=\"retriever_mongodb\",\n",
    "\tretriever_tool_description=\"Useful for retrieving information from MongoDB Atlas vector store.\"\n",
    ")\n"
   ]
  },
  {
   "cell_type": "code",
   "execution_count": null,
   "metadata": {},
   "outputs": [],
   "source": [
    "loader = document_loaders.UnstructuredPDFLoader(f\"{add_packages.APP_PATH}/data/gpt-4-technical-report.pdf\")\n",
    "doc = loader.load()\n",
    "\n",
    "text_splitter = text_splitters.RecursiveCharacterTextSplitter(\n",
    "  chunk_size=1000, chunk_overlap=150\n",
    ")\n",
    "docs = text_splitter.split_documents(doc)\n",
    "docs = docs[:100]\n"
   ]
  },
  {
   "cell_type": "code",
   "execution_count": null,
   "metadata": {},
   "outputs": [],
   "source": [
    "# mongo_store.add_documents(docs)"
   ]
  },
  {
   "cell_type": "code",
   "execution_count": null,
   "metadata": {},
   "outputs": [],
   "source": [
    "query = \"What were the compute requirements for training GPT 4\"\n",
    "\n",
    "results = mongo_store.invoke_retriever(query)"
   ]
  },
  {
   "cell_type": "code",
   "execution_count": null,
   "metadata": {},
   "outputs": [],
   "source": [
    "pprint(results)"
   ]
  },
  {
   "cell_type": "markdown",
   "metadata": {},
   "source": [
    "# [Self-querying retrievers](https://python.langchain.com/v0.2/docs/integrations/retrievers/self_query/mongodb_atlas/)"
   ]
  },
  {
   "cell_type": "markdown",
   "metadata": {},
   "source": [
    "# [Memory](https://python.langchain.com/v0.2/docs/integrations/memory/mongodb_chat_message_history/)"
   ]
  },
  {
   "cell_type": "code",
   "execution_count": null,
   "metadata": {},
   "outputs": [],
   "source": []
  },
  {
   "cell_type": "markdown",
   "metadata": {},
   "source": [
    "# [Document loaders](https://python.langchain.com/v0.2/docs/integrations/document_loaders/mongodb/)"
   ]
  },
  {
   "cell_type": "markdown",
   "metadata": {},
   "source": [
    "# [MongoDBCache](https://python.langchain.com/v0.2/docs/integrations/providers/mongodb_atlas/)"
   ]
  }
 ],
 "metadata": {
  "kernelspec": {
   "display_name": "llm",
   "language": "python",
   "name": "python3"
  },
  "language_info": {
   "codemirror_mode": {
    "name": "ipython",
    "version": 3
   },
   "file_extension": ".py",
   "mimetype": "text/x-python",
   "name": "python",
   "nbconvert_exporter": "python",
   "pygments_lexer": "ipython3",
   "version": "3.11.9"
  }
 },
 "nbformat": 4,
 "nbformat_minor": 2
}
