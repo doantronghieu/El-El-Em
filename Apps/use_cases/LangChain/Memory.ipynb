{
 "cells": [
  {
   "cell_type": "code",
   "execution_count": 1,
   "metadata": {
    "notebookRunGroups": {
     "groupValue": "1"
    }
   },
   "outputs": [],
   "source": [
    "import add_packages\n",
    "import boto3\n",
    "from toolkit.langchain import (\n",
    "\tagent_tools, document_loaders, text_splitters, text_embedding_models, vectorstores,\n",
    "\tchat_models, prompts, utils, output_parsers, agents, documents, runnables,\n",
    "\tllms, histories\n",
    ")"
   ]
  },
  {
   "cell_type": "markdown",
   "metadata": {},
   "source": [
    "# [AWS DynamoDB](https://python.langchain.com/v0.1/docs/integrations/memory/aws_dynamodb/)"
   ]
  },
  {
   "cell_type": "markdown",
   "metadata": {},
   "source": [
    "## Create Table"
   ]
  },
  {
   "cell_type": "code",
   "execution_count": 2,
   "metadata": {},
   "outputs": [],
   "source": [
    "dynamodb = boto3.resource(\"dynamodb\")"
   ]
  },
  {
   "cell_type": "code",
   "execution_count": 10,
   "metadata": {},
   "outputs": [],
   "source": [
    "table = dynamodb.create_table(\n",
    "\tTableName=\"LangChainSessionTable\",\n",
    "\tKeySchema=[\n",
    "\t\t{ \"AttributeName\": \"SessionId\",\t\"KeyType\": \"HASH\" },\n",
    "\t\t{ \"AttributeName\": \"UserId\", \"KeyType\": \"RANGE\" },\n",
    "  ],\n",
    "\tAttributeDefinitions=[\n",
    "\t\t{ \"AttributeName\": \"SessionId\", \"AttributeType\": \"S\" },\n",
    "\t\t{ \"AttributeName\": \"UserId\", \"AttributeType\": \"S\" },\n",
    "  ],\n",
    "\tBillingMode=\"PAY_PER_REQUEST\",\n",
    ")\n",
    "\n",
    "# Wait until the table exists\n",
    "table.meta.client.get_waiter(\"table_exists\").wait(TableName=\"LangChainSessionTable\")\n"
   ]
  },
  {
   "cell_type": "code",
   "execution_count": 11,
   "metadata": {},
   "outputs": [
    {
     "name": "stdout",
     "output_type": "stream",
     "text": [
      "0\n"
     ]
    }
   ],
   "source": [
    "print(table.item_count)"
   ]
  },
  {
   "cell_type": "markdown",
   "metadata": {},
   "source": [
    "## DynamoDBChatMessageHistory"
   ]
  },
  {
   "cell_type": "code",
   "execution_count": null,
   "metadata": {},
   "outputs": [],
   "source": [
    "table = dynamodb.Table(\"LangChainSessionTable\")"
   ]
  },
  {
   "cell_type": "code",
   "execution_count": 27,
   "metadata": {},
   "outputs": [],
   "source": [
    "history = histories.DynamoDBChatMessageHistory(\n",
    "\ttable_name=\"LangChainSessionTable\", session_id=\"0\",\n",
    "\tkey={\n",
    "\t\t\"SessionId\": \"0\",\n",
    "\t\t\"UserId\": \"admin\",\n",
    "\t}\n",
    ")"
   ]
  },
  {
   "cell_type": "code",
   "execution_count": null,
   "metadata": {},
   "outputs": [],
   "source": []
  },
  {
   "cell_type": "code",
   "execution_count": 14,
   "metadata": {},
   "outputs": [],
   "source": [
    "history.add_user_message(\"Hi!\")\n",
    "history.add_ai_message(\"Whats up?\")"
   ]
  },
  {
   "cell_type": "code",
   "execution_count": 25,
   "metadata": {},
   "outputs": [
    {
     "data": {
      "text/plain": [
       "[]"
      ]
     },
     "execution_count": 25,
     "metadata": {},
     "output_type": "execute_result"
    }
   ],
   "source": [
    "history.messages"
   ]
  },
  {
   "cell_type": "code",
   "execution_count": 24,
   "metadata": {},
   "outputs": [],
   "source": [
    "# Clear\n",
    "await history.aclear()"
   ]
  },
  {
   "cell_type": "code",
   "execution_count": 17,
   "metadata": {},
   "outputs": [],
   "source": [
    "history = []"
   ]
  },
  {
   "cell_type": "markdown",
   "metadata": {},
   "source": [
    "## DynamoDBChatMessageHistory With Composite Keys\n"
   ]
  },
  {
   "cell_type": "code",
   "execution_count": null,
   "metadata": {},
   "outputs": [],
   "source": []
  }
 ],
 "metadata": {
  "kernelspec": {
   "display_name": "llm",
   "language": "python",
   "name": "python3"
  },
  "language_info": {
   "codemirror_mode": {
    "name": "ipython",
    "version": 3
   },
   "file_extension": ".py",
   "mimetype": "text/x-python",
   "name": "python",
   "nbconvert_exporter": "python",
   "pygments_lexer": "ipython3",
   "version": "3.11.8"
  }
 },
 "nbformat": 4,
 "nbformat_minor": 2
}
