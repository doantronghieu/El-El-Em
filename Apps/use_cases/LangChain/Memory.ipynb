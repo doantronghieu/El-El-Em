{
	"cells": [
		{
			"cell_type": "code",
			"execution_count": null,
			"metadata": {
				"notebookRunGroups": {
					"groupValue": "1"
				}
			},
			"outputs": [],
			"source": [
				"from toolkit.langchain import models
\n",
				"import add_packages\n",
				"import boto3\n",
				"from boto3.dynamodb import conditions\n",
				"from toolkit.langchain import (\n",
				"\tagent_tools, document_loaders, text_splitters, text_embedding_models, stores,\n",
				"\tprompts, utils, output_parsers, agents, documents, runnables,\n",
				"\thistories\n",
				")"
			]
		},
		{
			"cell_type": "markdown",
			"metadata": {},
			"source": [
				"# [AWS DynamoDB](https://python.langchain.com/v0.1/docs/integrations/memory/aws_dynamodb/)"
			]
		},
		{
			"cell_type": "markdown",
			"metadata": {},
			"source": [
				"## Create Table"
			]
		},
		{
			"cell_type": "code",
			"execution_count": null,
			"metadata": {},
			"outputs": [],
			"source": [
				"dynamodb = boto3.resource(\"dynamodb\")"
			]
		},
		{
			"cell_type": "code",
			"execution_count": null,
			"metadata": {},
			"outputs": [],
			"source": [
				"# Create table\n",
				"table = dynamodb.create_table(\n",
				"\tTableName=\"LangChainSessionTable\",\n",
				"\tKeySchema=[\n",
				"\t\t{ \"AttributeName\": \"UserId\",\t\"KeyType\": \"HASH\" },\n",
				"\t\t{ \"AttributeName\": \"SessionId\", \"KeyType\": \"RANGE\" },\n",
				"  ],\n",
				"\tAttributeDefinitions=[\n",
				"\t\t{ \"AttributeName\": \"UserId\", \"AttributeType\": \"S\" },\n",
				"\t\t{ \"AttributeName\": \"SessionId\", \"AttributeType\": \"S\" },\n",
				"  ],\n",
				"\tBillingMode=\"PAY_PER_REQUEST\",\n",
				")\n",
				"\n",
				"# Wait until the table exists\n",
				"table.meta.client.get_waiter(\"table_exists\").wait(TableName=\"LangChainSessionTable\")\n"
			]
		},
		{
			"cell_type": "code",
			"execution_count": null,
			"metadata": {},
			"outputs": [],
			"source": [
				"# Get table\n",
				"table = dynamodb.Table(\"LangChainSessionTable\")\n",
				"table.meta.client.get_waiter(\"table_exists\").wait(TableName=\"LangChainSessionTable\")\n"
			]
		},
		{
			"cell_type": "code",
			"execution_count": null,
			"metadata": {},
			"outputs": [],
			"source": [
				"# Get User\n",
				"# Define the partition key value to query for\n",
				"partition_key_value = 'admin'\n",
				"\n",
				"# Define the condition expression for the query\n",
				"key_condition_expression = conditions.Key('UserId').eq(partition_key_value)\n",
				"\n",
				"# Execute the query\n",
				"response = table.query(\n",
				"\tKeyConditionExpression=key_condition_expression\n",
				")"
			]
		},
		{
			"cell_type": "code",
			"execution_count": null,
			"metadata": {},
			"outputs": [],
			"source": [
				"chat_history = response[\"Items\"]"
			]
		},
		{
			"cell_type": "code",
			"execution_count": null,
			"metadata": {},
			"outputs": [],
			"source": [
				"def get_session_ids(chat_history):\n",
				"\t\tsession_ids = []\n",
				"\t\tfor item in chat_history:\n",
				"\t\t\t\tsession_ids.append(item['SessionId'])\n",
				"\t\treturn session_ids"
			]
		},
		{
			"cell_type": "code",
			"execution_count": null,
			"metadata": {},
			"outputs": [],
			"source": [
				"session_ids = get_session_ids(chat_history)\n",
				"print(session_ids)  # Output: ['1', '2']"
			]
		},
		{
			"cell_type": "code",
			"execution_count": null,
			"metadata": {},
			"outputs": [],
			"source": [
				"result = table.scan()"
			]
		},
		{
			"cell_type": "code",
			"execution_count": null,
			"metadata": {},
			"outputs": [],
			"source": [
				"result[\"Items\"]"
			]
		},
		{
			"cell_type": "markdown",
			"metadata": {},
			"source": [
				"## DynamoDBChatMessageHistory"
			]
		},
		{
			"cell_type": "code",
			"execution_count": null,
			"metadata": {},
			"outputs": [],
			"source": [
				"table = dynamodb.Table(\"LangChainSessionTable\")"
			]
		},
		{
			"cell_type": "code",
			"execution_count": null,
			"metadata": {},
			"outputs": [],
			"source": [
				"history = histories.DynamoDBChatMessageHistory(\n",
				"\ttable_name=\"LangChainSessionTable\", session_id=\"0\",\n",
				"\tkey={\n",
				"\t\t\"SessionId\": \"0\",\n",
				"\t\t\"UserId\": \"admin\",\n",
				"\t}\n",
				")"
			]
		},
		{
			"cell_type": "code",
			"execution_count": null,
			"metadata": {},
			"outputs": [],
			"source": []
		},
		{
			"cell_type": "code",
			"execution_count": null,
			"metadata": {},
			"outputs": [],
			"source": [
				"history.add_user_message(\"Hi!\")\n",
				"history.add_ai_message(\"Whats up?\")"
			]
		},
		{
			"cell_type": "code",
			"execution_count": null,
			"metadata": {},
			"outputs": [],
			"source": [
				"history.messages"
			]
		},
		{
			"cell_type": "code",
			"execution_count": null,
			"metadata": {},
			"outputs": [],
			"source": [
				"# Clear\n",
				"await history.aclear()"
			]
		},
		{
			"cell_type": "code",
			"execution_count": null,
			"metadata": {},
			"outputs": [],
			"source": [
				"history = []"
			]
		},
		{
			"cell_type": "markdown",
			"metadata": {},
			"source": [
				"## Class"
			]
		},
		{
			"cell_type": "code",
			"execution_count": 18,
			"metadata": {},
			"outputs": [],
			"source": [
				"import boto3\n",
				"from boto3.dynamodb.conditions import Key, Attr\n",
				"\n",
				"class LangChainSessionDynamodbTable:\n",
				"\tdef __init__(self, table_name='LangChainSessionTable'):\n",
				"\t\tself.table_name = table_name\n",
				"\t\tself.dynamodb = boto3.resource('dynamodb')\n",
				"\t\tself.table = self.dynamodb.Table(self.table_name)\n",
				"\n",
				"\tdef create_table(\n",
				"   \tself,\n",
				"\t\tkey_schema=[\n",
				"\t\t\t{\"AttributeName\": \"UserId\", \"KeyType\": \"HASH\"},\n",
				"\t\t\t{\"AttributeName\": \"SessionId\", \"KeyType\": \"RANGE\"}\n",
				"\t\t],\n",
				"\t\tattribute_definitions=[\n",
				"\t\t\t{\"AttributeName\": \"UserId\", \"AttributeType\": \"S\"},\n",
				"\t\t\t{\"AttributeName\": \"SessionId\", \"AttributeType\": \"S\"}\n",
				"\t\t]\n",
				"  ):\n",
				"\t\t\"\"\"\n",
				"\t\tCreate a new DynamoDB table with the specified key schema and attribute definitions.\n",
				"\t\t\"\"\"\n",
				"\t\tself.table.create(\n",
				"\t\t\tTableName=self.table_name,\n",
				"\t\t\tKeySchema=key_schema,\n",
				"\t\t\tAttributeDefinitions=attribute_definitions,\n",
				"\t\t\tBillingMode='PAY_PER_REQUEST'\n",
				"\t\t)\n",
				"\t\tself.table.meta.client.get_waiter('table_exists').wait(TableName=self.table_name)\n",
				"\t\n",
				"\tdef get_user_sessions(self, user_id):\n",
				"\t\t\"\"\"\n",
				"\t\tGet all sessions for a specific user.\n",
				"\t\t\"\"\"\n",
				"\t\tresponse = self.table.query(\n",
				"\t\t\tKeyConditionExpression=Key('UserId').eq(user_id)\n",
				"\t\t)\n",
				"\t\treturn response['Items']\n",
				"\n",
				"\tdef get_session_ids(self, user_id):\n",
				"\t\t\"\"\"\n",
				"\t\tGet all session IDs from a list of chat history items.\n",
				"\t\t\"\"\"\n",
				"\t\tresponse = self.table.query(\n",
				"\t\t\tKeyConditionExpression=Key('UserId').eq(user_id)\n",
				"\t\t)\n",
				"\t\tchat_history = response['Items']\n",
				"\t\tsession_ids = [item['SessionId'] for item in chat_history]\n",
				"\t\treturn session_ids\n"
			]
		}
	],
	"metadata": {
		"kernelspec": {
			"display_name": "llm",
			"language": "python",
			"name": "python3"
		},
		"language_info": {
			"codemirror_mode": {
				"name": "ipython",
				"version": 3
			},
			"file_extension": ".py",
			"mimetype": "text/x-python",
			"name": "python",
			"nbconvert_exporter": "python",
			"pygments_lexer": "ipython3",
			"version": "3.11.8"
		}
	},
	"nbformat": 4,
	"nbformat_minor": 2
}
