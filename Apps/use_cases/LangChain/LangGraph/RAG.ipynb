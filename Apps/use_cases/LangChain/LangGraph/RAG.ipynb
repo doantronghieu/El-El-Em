{
 "cells": [
  {
   "cell_type": "code",
   "execution_count": 1,
   "metadata": {},
   "outputs": [
    {
     "name": "stderr",
     "output_type": "stream",
     "text": [
      "\u001b[32m2024-09-17 05:51:06.812\u001b[0m | \u001b[1mINFO    \u001b[0m | \u001b[36mimports\u001b[0m:\u001b[36m<module>\u001b[0m:\u001b[36m52\u001b[0m - \u001b[1mApps directory: /Users/thung/Documents/Me/Coding/LLM/Apps\u001b[0m\n",
      "\u001b[32m2024-09-17 05:51:06.813\u001b[0m | \u001b[1mINFO    \u001b[0m | \u001b[36mimports\u001b[0m:\u001b[36m<module>\u001b[0m:\u001b[36m53\u001b[0m - \u001b[1mToolkit path: /Users/thung/Documents/Me/Coding/LLM/Apps/toolkit\u001b[0m\n",
      "\u001b[32m2024-09-17 05:51:06.813\u001b[0m | \u001b[1mINFO    \u001b[0m | \u001b[36mimports\u001b[0m:\u001b[36m<module>\u001b[0m:\u001b[36m54\u001b[0m - \u001b[1mEnvironment files loaded:\u001b[0m\n"
     ]
    },
    {
     "name": "stderr",
     "output_type": "stream",
     "text": [
      "\u001b[32m2024-09-17 05:51:06.813\u001b[0m | \u001b[1mINFO    \u001b[0m | \u001b[36mimports\u001b[0m:\u001b[36m<module>\u001b[0m:\u001b[36m56\u001b[0m - \u001b[1m  - /Users/thung/Documents/Me/Coding/LLM/Apps/.env\u001b[0m\n"
     ]
    }
   ],
   "source": [
    "import imports\n",
    "from toolkit.llm.langchain import models"
   ]
  },
  {
   "cell_type": "code",
   "execution_count": 6,
   "metadata": {},
   "outputs": [],
   "source": [
    "import add_packages\n",
    "\n",
    "from toolkit.llm.langchain import models"
   ]
  },
  {
   "cell_type": "code",
   "execution_count": null,
   "metadata": {},
   "outputs": [],
   "source": []
  },
  {
   "cell_type": "markdown",
   "metadata": {},
   "source": [
    "# Sources\n",
    "\n",
    "- [ ] https://langchain-ai.github.io/langgraph/tutorials/rag/langgraph_crag/\n",
    "- [x] https://langchain-ai.github.io/langgraph/tutorials/rag/langgraph_adaptive_rag/\n",
    "  - [x] https://blog.langchain.dev/query-construction/\n",
    "    - [x] https://blog.langchain.dev/semi-structured-multi-modal-rag/ \n",
    "      - [x] https://python.langchain.com/docs/how_to/multi_vector/\n",
    "      - [ ] https://huyenchip.com/2023/10/10/multimodal.html\n",
    "      - [ ] https://github.com/langchain-ai/langchain/blob/master/cookbook/Semi_Structured_RAG.ipynb\n",
    "      - [ ] https://github.com/langchain-ai/langchain/blob/master/cookbook/Semi_structured_and_multi_modal_RAG.ipynb\n",
    "      - [ ] https://github.com/langchain-ai/langchain/blob/master/cookbook/Semi_structured_multi_modal_RAG_LLaMA2.ipynb\n",
    "      - [ ] https://blog.langchain.dev/using-langsmith-to-support-fine-tuning-of-open-source-llms/\n",
    "      - [ ] https://docs.google.com/presentation/d/1exjoapZ4EB_2xSQ7BSfSdPsZT30ap_6N3bi37F3cG0E/edit#slide=id.g23a039de743_0_40\n",
    "      - [ ] https://www.glean.com/blog/how-to-build-an-ai-assistant-for-the-enterprise\n",
    "      - [ ] https://unstructured.io/\n",
    "    - [x] https://blog.langchain.dev/query-transformations/\n",
    "      - [ ] https://python.langchain.com/docs/how_to/#retrievers\n",
    "      - [ ] https://www.searchenginejournal.com/what-is-google-query-expansion-cases-and-examples/7924/\n",
    "      - [ ] https://github.com/langchain-ai/langchain/blob/master/cookbook/rewrite.ipynb\n",
    "      - [ ] https://github.com/langchain-ai/langchain/blob/master/cookbook/stepback-qa.ipynb\n",
    "      - [ ] https://blog.langchain.dev/weblangchain/\n",
    "      - [ ] https://python.langchain.com/docs/how_to/MultiQueryRetriever/\n",
    "      - [ ] https://towardsdatascience.com/forget-rag-the-future-is-rag-fusion-1147298d8ad1\n",
    "      - [ ] https://github.com/langchain-ai/langchain/blob/master/cookbook/rag_fusion.ipynb\n",
    "    - [x] https://python.langchain.com/docs/how_to/self_query/\n",
    "      - [ ] https://python.langchain.com/docs/integrations/retrievers/self_query/\n",
    "      - [ ] https://github.com/langchain-ai/langchain/blob/master/cookbook/self_query_hotel_search.ipynb\n",
    "      - [ ] https://github.com/langchain-ai/langchain/tree/master/templates/self-query-supabase\n",
    "      - [ ] https://github.com/langchain-ai/langchain/tree/master/templates/rag-self-query\n",
    "    - [x] https://python.langchain.com/docs/tutorials/sql_qa/\n",
    "      - [ ] https://python.langchain.com/docs/how_to/sql_prompting/\n",
    "      - [ ] https://python.langchain.com/docs/how_to/sql_query_checking/\n",
    "      - [ ] https://python.langchain.com/docs/how_to/sql_large_db/\n",
    "      - [ ] https://python.langchain.com/docs/how_to/sql_csv/\n",
    "      - [ ] https://blog.langchain.dev/llms-and-sql/\n",
    "      - [ ] https://blog.langchain.dev/incorporating-domain-specific-knowledge-in-sql-llm-solutions/\n",
    "    - [x] https://github.com/langchain-ai/langchain/tree/master/templates/sql-pgvector\n",
    "      - [ ] https://github.com/langchain-ai/langchain/blob/master/cookbook/retrieval_in_sql.ipynb\n",
    "      - [ ] https://github.com/pgvector/pgvector\n",
    "      - [ ] https://supabase.com/blog/pgvector-vs-pinecone\n",
    "    - [x] https://blog.langchain.dev/using-a-knowledge-graph-to-implement-a-devops-rag-application/\n",
    "      - [ ] https://graphaware.com/graphaware/2015/05/19/neo4j-cypher-variable-length-relationships-by-example.html\n",
    "      - [ ] https://blog.langchain.dev/implementing-advanced-retrieval-rag-strategies-with-neo4j/\n",
    "      - [ ] https://neo4j.com/\n",
    "  - [x] https://blog.langchain.dev/agentic-rag-with-langgraph/\n",
    "    - [ ] https://github.com/langchain-ai/langgraph/blob/main/examples/rag/langgraph_crag.ipynb\n",
    "    - [ ] https://github.com/langchain-ai/langgraph/blob/main/examples/rag/langgraph_self_rag.ipynb\n",
    "    - [ ] https://blog.langchain.dev/deconstructing-rag/\n",
    "    - [ ] https://blog.langchain.dev/openais-bet-on-a-cognitive-architecture/"
   ]
  },
  {
   "cell_type": "code",
   "execution_count": null,
   "metadata": {},
   "outputs": [],
   "source": []
  }
 ],
 "metadata": {
  "kernelspec": {
   "display_name": "llm",
   "language": "python",
   "name": "python3"
  },
  "language_info": {
   "codemirror_mode": {
    "name": "ipython",
    "version": 3
   },
   "file_extension": ".py",
   "mimetype": "text/x-python",
   "name": "python",
   "nbconvert_exporter": "python",
   "pygments_lexer": "ipython3",
   "version": "3.11.9"
  }
 },
 "nbformat": 4,
 "nbformat_minor": 2
}
