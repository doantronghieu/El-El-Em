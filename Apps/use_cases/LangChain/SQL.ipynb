{
 "cells": [
  {
   "cell_type": "code",
   "execution_count": 1,
   "metadata": {
    "notebookRunGroups": {
     "groupValue": "1"
    }
   },
   "outputs": [],
   "source": [
    "import add_packages\n",
    "import os\n",
    "from pprint import pprint\n",
    "import pandas as pd\n",
    "from operator import itemgetter\n",
    "\n",
    "from toolkit import sql\n",
    "from toolkit.langchain import (\n",
    "\ttext_embedding_models, stores, prompts, output_parsers, agents, runnables,\n",
    "\tchains, models, tools, graphs\n",
    ")"
   ]
  },
  {
   "cell_type": "code",
   "execution_count": 3,
   "metadata": {},
   "outputs": [],
   "source": [
    "# my_sql_db = sql.MySQLDatabase()\n",
    "my_sql_db = sql.MySQLDatabase(\n",
    "\tdbname=os.getenv(\"SQL_DB_NEON\"),\n",
    "\thost=os.getenv(\"SQL_HOST_NEON\"),\n",
    "\tport=os.getenv(\"SQL_PORT_NEON\"),\n",
    "\tuser=os.getenv(\"SQL_USER_NEON\"),\n",
    "\tpassword=os.getenv(\"SQL_PASSWORD_NEON\"),\n",
    ")\n",
    "\n",
    "my_table_schema = [\n",
    "\t\"id SERIAL\",\n",
    "\t\"name VARCHAR(50) NOT NULL UNIQUE\",\n",
    "\t\"type VARCHAR(20) NOT NULL\",\n",
    "\t\"engine_type VARCHAR(20) NOT NULL\",\n",
    "\t\"webpage_link VARCHAR(200) NOT NULL\",\n",
    "\t\"specs TEXT NOT NULL\",\n",
    "\t\"brochure_link VARCHAR(200) NULL\",\n",
    "\t\"features TEXT NOT NULL\",\n",
    "\t\"interior_features TEXT NOT NULL\",\n",
    "\t\"exterior_features TEXT NOT NULL\",\n",
    "\t\"colors VARCHAR(200) NOT NULL\",\n",
    "\t\"price TEXT NOT NULL\",\n",
    "\t\"PRIMARY KEY (id)\",\n",
    "]\n",
    "my_table = sql.MySQLTable(\n",
    "\tname=\"vinfast_cars\", \n",
    "\tschema=my_table_schema,\n",
    "\tdb=my_sql_db,\n",
    ")\n",
    "my_table.create()\n",
    "\n",
    "db = stores.SQLDatabase.from_uri(my_sql_db.get_uri())\n",
    "llm = models.chat_openai\n",
    "\n",
    "embeddings = text_embedding_models.OpenAIEmbeddings()\n",
    "vectorstore = stores.faiss.FAISS\n"
   ]
  },
  {
   "cell_type": "code",
   "execution_count": 4,
   "metadata": {},
   "outputs": [],
   "source": [
    "path_xlsx = f\"{add_packages.APP_PATH}/data/vinfast/cars.xlsx\"\n",
    "df = pd.read_excel(path_xlsx)\n",
    "\n",
    "# my_table.insert_from_dataframe(df)\n"
   ]
  },
  {
   "cell_type": "code",
   "execution_count": null,
   "metadata": {},
   "outputs": [],
   "source": [
    "table_cols = [col_description.split(\" \")[0] for col_description in my_table_schema][1:-1]\n",
    "df.columns = table_cols\n",
    "# my_table.insert_from_dataframe(df)\n",
    "\n",
    "# INSERT DATA TO TABLE\n",
    "cols = [\"name\", \"type\", \"engine_type\"]\n",
    "proper_nouns = [value for col in cols for value in my_table.get_discrete_values_col(col)]\n"
   ]
  },
  {
   "cell_type": "code",
   "execution_count": null,
   "metadata": {},
   "outputs": [],
   "source": [
    "questions = [\n",
    "\t\"How many cars are there?\",\t\n",
    "\t\"Could you tell me the different types of vehicles included in this database?\",\n",
    "\t\"What are the price ranges for the various vehicle models?\",\n",
    "\t\"Are there any electric vehicles in the database, and if so, what are their key specifications like range and charging time?\",\n",
    "\t\"Which models offer different color options, and what are those color choices?\",\n",
    "\t\"Can you provide details on the interior and exterior features available for the different vehicle models?\",\n",
    "\t\"Are there any brochures or links available that provide more comprehensive information about the vehicles?\",\n",
    "\t\"How does the vehicle pricing work for models that offer battery rental or purchase options?\",\n",
    "\t\"Are there any performance-related specifications like engine power, torque, and acceleration times listed for the vehicles?\",\n",
    "\t\"Does the database include information on vehicle dimensions or seating capacity?\",\n",
    "\t\"Can you give me an overview of the advanced safety features or driver assistance technologies offered in these vehicles?\",\n",
    "]"
   ]
  },
  {
   "cell_type": "code",
   "execution_count": null,
   "metadata": {},
   "outputs": [],
   "source": [
    "examples_questions_to_sql = [\n",
    "    {\n",
    "        \"input\": \"How many cars are there?\",\n",
    "        \"query\": \"SELECT COUNT(*) FROM vinfast_cars;\"\n",
    "    },\n",
    "    {\n",
    "        \"input\": \"Could you tell me the different types of vehicles included in this database?\",\n",
    "        \"query\": \"SELECT DISTINCT type FROM vinfast_cars;\"\n",
    "    },\n",
    "    {\n",
    "        \"input\": \"What are the price ranges for the various vehicle models?\",\n",
    "        \"query\": \"SELECT name, price FROM vinfast_cars;\"\n",
    "    },\n",
    "    {\n",
    "        \"input\": \"Are there any electric vehicles in the database, and if so, what are their key specifications like range and charging time?\",\n",
    "        \"query\": \"SELECT name, specs FROM vinfast_cars WHERE engine_type = 'Điện';\"\n",
    "    },\n",
    "    {\n",
    "        \"input\": \"Which models offer different color options, and what are those color choices?\",\n",
    "        \"query\": \"SELECT name, colors FROM vinfast_cars WHERE colors <> '';\"\n",
    "    },\n",
    "    {\n",
    "        \"input\": \"Can you provide details on the interior and exterior features available for the different vehicle models?\",\n",
    "        \"query\": \"SELECT name, interior_features, exterior_features FROM vinfast_cars;\"\n",
    "    },\n",
    "    {\n",
    "        \"input\": \"Are there any brochures or links available that provide more comprehensive information about the vehicles?\",\n",
    "        \"query\": \"SELECT name, brochure_link, webpage_link FROM vinfast_cars WHERE brochure_link <> '' OR webpage_link <> '';\"\n",
    "    },\n",
    "    {\n",
    "        \"input\": \"How does the vehicle pricing work for models that offer battery rental or purchase options?\",\n",
    "        \"query\": \"SELECT name, price FROM vinfast_cars WHERE price LIKE '%PIN%';\"\n",
    "    },\n",
    "    {\n",
    "        \"input\": \"Are there any performance-related specifications like engine power, torque, and acceleration times listed for the vehicles?\",\n",
    "        \"query\": \"SELECT name, specs FROM vinfast_cars WHERE specs LIKE '%Công suất%' OR specs LIKE '%Mô men xoắn%' OR specs LIKE '%Tăng tốc%';\"\n",
    "    },\n",
    "    {\n",
    "        \"input\": \"Does the database include information on vehicle dimensions or seating capacity?\",\n",
    "        \"query\": \"SELECT name, specs FROM vinfast_cars WHERE specs LIKE '%Kích thước%' OR specs LIKE '%Số ghế ngồi%';\"\n",
    "    },\n",
    "    {\n",
    "        \"input\": \"Can you give me an overview of the advanced safety features or driver assistance technologies offered in these vehicles?\",\n",
    "        \"query\": \"SELECT name, features FROM vinfast_cars WHERE features LIKE '%Cảnh báo%' OR features LIKE '%Hỗ trợ%';\"\n",
    "    }\n",
    "]"
   ]
  },
  {
   "cell_type": "markdown",
   "metadata": {},
   "source": [
    "# Data"
   ]
  },
  {
   "cell_type": "code",
   "execution_count": null,
   "metadata": {},
   "outputs": [],
   "source": [
    "schema_vinfast_cars = [\n",
    "\t\"id SERIAL\",\n",
    "\t\"name VARCHAR(50) NOT NULL UNIQUE\",\n",
    "\t\"type VARCHAR(20) NOT NULL\",\n",
    "\t\"engine_type VARCHAR(20) NOT NULL\",\n",
    "\t\"webpage_link VARCHAR(200) NOT NULL\",\n",
    "\t\"specs TEXT NOT NULL\",\n",
    "\t\"brochure_link VARCHAR(200) NULL\",\n",
    "\t\"features TEXT NOT NULL\",\n",
    "\t\"interior_features TEXT NOT NULL\",\n",
    "\t\"exterior_features TEXT NOT NULL\",\n",
    "\t\"colors VARCHAR(200) NOT NULL\",\n",
    "\t\"price TEXT NOT NULL\",\n",
    "\t\"PRIMARY KEY (id)\",\n",
    "]\n",
    "\n",
    "table_vinfast_cars = sql.MySQLTable(\n",
    "\tname=\"vinfast_cars\", \n",
    "\tschema=schema_vinfast_cars,\n",
    "\tdb=my_sql_db,\n",
    ")\n",
    "\n",
    "table_vinfast_cars.create()"
   ]
  },
  {
   "cell_type": "code",
   "execution_count": null,
   "metadata": {},
   "outputs": [],
   "source": [
    "table_vinfast_cars.insert_from_excel(f\"{add_packages.APP_PATH}/data/vinfast/cars.xlsx\")"
   ]
  },
  {
   "cell_type": "markdown",
   "metadata": {},
   "source": [
    "# Docs"
   ]
  },
  {
   "cell_type": "markdown",
   "metadata": {},
   "source": [
    "## [Usecase - Build a Question/Answering system over SQL data](https://python.langchain.com/v0.2/docs/tutorials/sql_qa/)"
   ]
  },
  {
   "cell_type": "code",
   "execution_count": null,
   "metadata": {},
   "outputs": [],
   "source": [
    "print(db.dialect)\n",
    "print(db.get_usable_table_names())"
   ]
  },
  {
   "cell_type": "markdown",
   "metadata": {},
   "source": [
    "### Chains\n"
   ]
  },
  {
   "cell_type": "code",
   "execution_count": null,
   "metadata": {},
   "outputs": [],
   "source": [
    "chain = chains.create_sql_query_chain(llm, db)"
   ]
  },
  {
   "cell_type": "code",
   "execution_count": null,
   "metadata": {},
   "outputs": [],
   "source": [
    "def query_processor(query: str):\n",
    "\tquery = query.replace(\"\\\\\", \"\")\n",
    "\tquery = query.replace(\"SQLQuery: \", \"\")\n",
    "\treturn query"
   ]
  },
  {
   "cell_type": "code",
   "execution_count": null,
   "metadata": {},
   "outputs": [],
   "source": [
    "response = chain.invoke({\"question\": \"How many cars are there?\"})\n",
    "response = query_processor(response)"
   ]
  },
  {
   "cell_type": "code",
   "execution_count": null,
   "metadata": {},
   "outputs": [],
   "source": [
    "db.run(response)"
   ]
  },
  {
   "cell_type": "code",
   "execution_count": null,
   "metadata": {},
   "outputs": [],
   "source": [
    "chain.get_prompts()[0].pretty_print()"
   ]
  },
  {
   "cell_type": "code",
   "execution_count": null,
   "metadata": {},
   "outputs": [],
   "source": [
    "query_writer = chains.create_sql_query_chain(llm, db)\n",
    "query_executor = tools.QuerySQLDataBaseTool(db=db)\n",
    "\n",
    "prompt_answer = prompts.PromptTemplate.from_template(\"\"\"\\\n",
    "Given the following user question, corresponding SQL query, and SQL result, answer the user question.\n",
    "\n",
    "Question: {question}\n",
    "SQL Query: {query}\n",
    "SQL Result: {result}\n",
    "Answer:\\\n",
    "\"\"\")\n",
    "\n",
    "chain = (\n",
    "\trunnables.RunnablePassthrough.assign(query=query_writer).assign(\n",
    "\t\tresult=itemgetter(\"query\") \n",
    "\t\t\t\t\t| runnables.RunnableLambda(query_processor) \n",
    "\t\t\t\t\t| query_executor\n",
    "\t)\n",
    "\t| prompt_answer\n",
    "\t| llm\n",
    "\t| output_parsers.StrOutputParser()\n",
    ")"
   ]
  },
  {
   "cell_type": "code",
   "execution_count": null,
   "metadata": {},
   "outputs": [],
   "source": [
    "chain.invoke({\"question\": \"How many cars are there?\"})"
   ]
  },
  {
   "cell_type": "markdown",
   "metadata": {},
   "source": [
    "### Agents\n"
   ]
  },
  {
   "cell_type": "code",
   "execution_count": null,
   "metadata": {},
   "outputs": [],
   "source": [
    "sql_toolkit = tools.SQLDatabaseToolkit(db=db, llm=llm)\n",
    "sql_tools = sql_toolkit.get_tools()\n",
    "\n",
    "SQL_PREFIX = \"\"\"You are an agent designed to interact with a SQL database.\n",
    "Given an input question, create a syntactically correct PostgreSQL query to run, then look at the results of the query and return the answer.\n",
    "Unless the user specifies a specific number of examples they wish to obtain, always limit your query to at most 5 results.\n",
    "You can order the results by a relevant column to return the most interesting examples in the database.\n",
    "Never query for all the columns from a specific table, only ask for the relevant columns given the question.\n",
    "You have access to tools for interacting with the database.\n",
    "Only use the below tools. Only use the information returned by the below tools to construct your final answer.\n",
    "You MUST double check your query before executing it. If you get an error while executing a query, rewrite the query and try again.\n",
    "\n",
    "DO NOT make any DML statements (INSERT, UPDATE, DELETE, DROP etc.) to the database.\n",
    "\n",
    "To start you should ALWAYS look at the tables in the database to see what you can query.\n",
    "Do NOT skip this step.\n",
    "Then you should query the schema of the most relevant tables.\"\"\"\n",
    "\n",
    "system_message = prompts.SystemMessage(content=SQL_PREFIX)\n",
    "\n",
    "agent_executor = graphs.chat_agent_executor.create_tool_calling_executor(\n",
    "\tllm, sql_tools, messages_modifier=system_message\n",
    ")"
   ]
  },
  {
   "cell_type": "code",
   "execution_count": null,
   "metadata": {},
   "outputs": [],
   "source": [
    "result = agent_executor.invoke(\n",
    "\t{\"messages\": [\n",
    "\t\tprompts.HumanMessage(\n",
    "\t\t\tcontent=questions[0]\n",
    "\t)\n",
    "\t]}\n",
    ")\n",
    "result = dict(list(result.items())[0][-1][-1])[\"content\"]\n",
    "\n",
    "pprint(result)"
   ]
  },
  {
   "cell_type": "markdown",
   "metadata": {},
   "source": [
    "## Components"
   ]
  },
  {
   "cell_type": "markdown",
   "metadata": {},
   "source": [
    "### Tools"
   ]
  },
  {
   "cell_type": "markdown",
   "metadata": {},
   "source": [
    "#### [SQL Database](https://python.langchain.com/v0.2/docs/integrations/tools/sql_database/)\n"
   ]
  },
  {
   "cell_type": "markdown",
   "metadata": {},
   "source": [
    "### Toolkits"
   ]
  },
  {
   "cell_type": "markdown",
   "metadata": {},
   "source": [
    "#### [SQL Database](https://python.langchain.com/v0.2/docs/integrations/toolkits/sql_database/)\n"
   ]
  },
  {
   "cell_type": "code",
   "execution_count": null,
   "metadata": {},
   "outputs": [],
   "source": [
    "# More ok\n",
    "\n",
    "agent_executor = agents.create_sql_agent(\n",
    "\tllm=llm, db=db, agent_type=\"tool-calling\", verbose=True,\n",
    ")\n"
   ]
  },
  {
   "cell_type": "code",
   "execution_count": null,
   "metadata": {},
   "outputs": [],
   "source": [
    "agent_executor.invoke(\n",
    "\t# questions[0]\n",
    "\t# \"tell me about vf3\"\n",
    "\t# \"colors of vf3\"\n",
    "\t\"color difference between vf3 and vf7\"\n",
    ")"
   ]
  },
  {
   "cell_type": "code",
   "execution_count": null,
   "metadata": {},
   "outputs": [],
   "source": []
  },
  {
   "cell_type": "code",
   "execution_count": null,
   "metadata": {},
   "outputs": [],
   "source": [
    "sql_toolkit = tools.SQLDatabaseToolkit(db=db, llm=llm)\n",
    "sql_context = sql_toolkit.get_context()\n",
    "sql_tools = sql_toolkit.get_tools()\n",
    "\n",
    "messages = [\n",
    "\tprompts.HumanMessagePromptTemplate.from_template(\"{input}\"),\n",
    "\tprompts.AIMessage(content=prompts.SQL_FUNCTIONS_SUFFIX),\n",
    "\tprompts.MessagesPlaceholder(variable_name=\"agent_scratchpad\"),\n",
    "]\n",
    "prompt = prompts.ChatPromptTemplate.from_messages(messages)\n",
    "prompt = prompt.partial(**sql_context)\n",
    "\n",
    "agent = agents.create_tool_calling_agent(\n",
    "\tllm=llm, tools=sql_tools, prompt=prompt,\n",
    ")\n",
    "agent_executor = agents.AgentExecutor(\n",
    "\tagent=agent,\n",
    "\ttools=sql_tools,\n",
    "\tverbose=True,\n",
    ")"
   ]
  },
  {
   "cell_type": "code",
   "execution_count": null,
   "metadata": {},
   "outputs": [],
   "source": [
    "agent_executor.invoke({\n",
    "\t\"input\": questions[0]\n",
    "})"
   ]
  },
  {
   "cell_type": "markdown",
   "metadata": {},
   "source": [
    "## How-to"
   ]
  },
  {
   "cell_type": "markdown",
   "metadata": {},
   "source": [
    "### [better prompt](https://python.langchain.com/v0.2/docs/how_to/sql_prompting/)"
   ]
  },
  {
   "cell_type": "code",
   "execution_count": null,
   "metadata": {},
   "outputs": [],
   "source": [
    "# Dialect-specific prompting\n",
    "dialects = list(prompts.SQL_PROMPTS)\n",
    "\n",
    "chain = chains.create_sql_query_chain(llm, db)\n",
    "prompt_chain = chain.get_prompts()[0]\n",
    "# prompt_chain.pretty_print()\n",
    "\n",
    "context = db.get_context()\n",
    "# print(f\"contexts: {list(context)}\\n\")\n",
    "# print(f\"table_info: {context['table_info']}\")\n",
    "\n",
    "prompt_with_context = prompt_chain.partial(table_info=context['table_info'])\n",
    "# print(prompt_with_context.pretty_repr())\n",
    "\n",
    "example_selector = prompts.SemanticSimilarityExampleSelector.from_examples(\n",
    "\texamples=examples_questions_to_sql,\n",
    "\tembeddings=embeddings,\n",
    "\tvectorstore_cls=vectorstore,\n",
    "\tk=5,\n",
    "\tinput_keys=[\"input\"],\n",
    ")\n",
    "# example_selector.select_examples({\n",
    "# \t\"input\": questions[0]\n",
    "# })\n",
    "\n",
    "prompt_tpl_fewshot = prompts.PromptTemplate.from_template(\"\"\"\\\n",
    "User input: {input}\n",
    "SQL query: {query}\\\n",
    "\"\"\")\n",
    "prompt_fewshot = prompts.FewShotPromptTemplate(\n",
    "\t# examples=examples_questions_to_sql, # option\n",
    "\texample_selector=example_selector, # option\n",
    "\texample_prompt=prompt_tpl_fewshot,\n",
    "\tprefix=\"You are a SQL expert. Given an input question, create a syntactically correct SQL query to run. Unless otherwise specificed, do not return more than {top_k} rows.\\n\\nHere is the relevant table info: {table_info}\\n\\nBelow are a number of examples of questions and their corresponding SQL queries.\",\n",
    "\tsuffix=\"User input: {input}\\nSQL query: \",\n",
    "\tinput_variables=[\"input\", \"top_k\", \"table_info\"],\n",
    ")\n",
    "# print(prompt_fewshot.format(input=\"How many cars are there?\", top_k=3, table_info=\"foo\"))\n",
    "\n",
    "chain = chains.create_sql_query_chain(llm, db, prompt_fewshot)"
   ]
  },
  {
   "cell_type": "code",
   "execution_count": null,
   "metadata": {},
   "outputs": [],
   "source": [
    "chain.invoke({\n",
    "\t\"question\": questions[0]\n",
    "})"
   ]
  },
  {
   "cell_type": "markdown",
   "metadata": {},
   "source": [
    "### [do query validation](https://python.langchain.com/v0.2/docs/how_to/sql_check_querying/)\n"
   ]
  },
  {
   "cell_type": "code",
   "execution_count": null,
   "metadata": {
    "notebookRunGroups": {
     "groupValue": "1"
    }
   },
   "outputs": [],
   "source": [
    "\n",
    "prompt_system_check_query = \"\"\"\\\n",
    "You are a {dialect} expert. Given an input question, creat a syntactically correct {dialect} query to run.\n",
    "Unless the user specifies in the question a specific number of examples to obtain, query for at most {top_k} results using the LIMIT clause as per {dialect}. You can order the results to return the most informative data in the database.\n",
    "Never query for all columns from a table. You must query only the columns that are needed to answer the question. Wrap each column name in double quotes (\") to denote them as delimited identifiers.\n",
    "Pay attention to use only the column names you can see in the tables below. Be careful to not query for columns that do not exist. Also, pay attention to which column is in which table.\n",
    "Pay attention to use date('now') function to get the current date, if the question involves \"today\".\n",
    "\n",
    "Only use the following tables:\n",
    "{table_info}\n",
    "\n",
    "Write an initial draft of the query. Then double check the {dialect} query for common mistakes, including:\n",
    "- Using NOT IN with NULL values\n",
    "- Using UNION when UNION ALL should have been used\n",
    "- Using BETWEEN for exclusive ranges\n",
    "- Data type mismatch in predicates\n",
    "- Properly quoting identifiers\n",
    "- Using the correct number of arguments for functions\n",
    "- Casting to the correct data type\n",
    "- Using the proper columns for joins\n",
    "\n",
    "Use format:\n",
    "\n",
    "First draft: <<FIRST_DRAFT_QUERY>>\n",
    "Final answer: <<FINAL_ANSWER_QUERY>>\\\n",
    "\"\"\"\n",
    "prompt_check_query = prompts.ChatPromptTemplate.from_messages([\n",
    "\t(\"system\", prompt_system_check_query),\n",
    "\t(\"human\", \"{input}\"),\n",
    "]).partial(dialect=db.dialect)\n",
    "\n",
    "def parse_final_answer(output: str) -> str:\n",
    "    return output.split(\"Final answer: \")[1]\n",
    "\n",
    "chain_gen_check_query = (\n",
    "\tchains.create_sql_query_chain(llm, db, prompt=prompt_check_query)\n",
    "\t| parse_final_answer\n",
    ")\n",
    "\n",
    "query_executor = tools.QuerySQLDataBaseTool(db=db)\n",
    "\n",
    "prompt_answer = prompts.PromptTemplate.from_template(\"\"\"\\\n",
    "Given the following user question, corresponding SQL query, and SQL result, answer the user question.\n",
    "\n",
    "Question: {question}\n",
    "SQL Query: {query}\n",
    "SQL Result: {result}\n",
    "Answer:\\\n",
    "\"\"\")\n",
    "\n",
    "chain_check_query = (\n",
    "  runnables.RunnablePassthrough\n",
    "  .assign(query=chain_gen_check_query)\n",
    "  .assign(result=itemgetter(\"query\") | query_executor)\n",
    "\t| prompt_answer\n",
    "\t| llm\n",
    "\t| output_parsers.StrOutputParser()\n",
    ").with_retry()"
   ]
  },
  {
   "cell_type": "code",
   "execution_count": null,
   "metadata": {},
   "outputs": [],
   "source": [
    "chain_check_query.invoke({\n",
    "\t\"question\": questions[0]\n",
    "})\n"
   ]
  },
  {
   "cell_type": "markdown",
   "metadata": {},
   "source": [
    "### [deal with large databases](https://python.langchain.com/v0.2/docs/how_to/sql_large_db/)"
   ]
  },
  {
   "cell_type": "markdown",
   "metadata": {},
   "source": [
    "#### Many tables\n"
   ]
  },
  {
   "cell_type": "code",
   "execution_count": null,
   "metadata": {},
   "outputs": [],
   "source": [
    "categories = [\"car\", \"dog\"]\n"
   ]
  },
  {
   "cell_type": "code",
   "execution_count": null,
   "metadata": {},
   "outputs": [],
   "source": [
    "# class Table(tools.BaseModel):\n",
    "# \t\"\"\"Table in SQL database.\"\"\"\n",
    "\n",
    "# \tname: str = tools.Field(description=\"Name of table in SQL database.\")\n",
    "\n",
    "# prompt_tpl_get_tables = f\"\"\"\\\n",
    "# Return the names of ALL the SQL tables that MIGHT be relevant to the user question. \\\n",
    "# The tables are:\n",
    "\n",
    "# {table_names}\n",
    "\n",
    "# Remember to include ALL POTENTIALLY RELEVANT tables, even if you're not sure that they're needed.\\\n",
    "# \"\"\"\n",
    "\n",
    "# prompt_get_tables = prompts.ChatPromptTemplate.from_messages([\n",
    "# \t(\"system\", prompt_tpl_get_tables),\n",
    "# \t(\"human\", \"{input}\"),\n",
    "# ])\n",
    "# llm_with_tools = llm.bind_tools([Table])\n",
    "\n",
    "# def chain_process_get_tables(tables: list):\n",
    "# \tresult = [table.name for table in tables]\n",
    "# \treturn result\n",
    "\n",
    "# chain_get_tables = (\n",
    "#   {\n",
    "# \t\t\"input\": itemgetter(\"question\")\n",
    "# \t}\n",
    "#   |\tprompt_get_tables\n",
    "# \t| llm_with_tools\n",
    "# \t| tools.PydanticToolsParser(tools=[Table])\n",
    "# \t| runnables.RunnableLambda(chain_process_get_tables)\n",
    "# )\n",
    "\n",
    "# chain_check_table_gen_check_query = (\n",
    "#   runnables.RunnablePassthrough\n",
    "#   .assign(table_names_to_use=chain_get_tables)\n",
    "#   .assign(query=chain_gen_check_query)\n",
    "#   .assign(result=itemgetter(\"query\") | query_executor)\n",
    "# \t| prompt_answer\n",
    "# \t| llm\n",
    "# \t| output_parsers.StrOutputParser()\n",
    "# ).with_retry()"
   ]
  },
  {
   "cell_type": "code",
   "execution_count": null,
   "metadata": {},
   "outputs": [],
   "source": [
    "# result = chain_check_table_gen_check_query.invoke({\n",
    "# \t\"question\": questions[0]\n",
    "# \t# \"question\": \"tell me about VF 3\"\n",
    " \n",
    "# })\n",
    "\n",
    "# pprint(result)\n"
   ]
  },
  {
   "cell_type": "markdown",
   "metadata": {},
   "source": [
    "#### High-cardinality columns"
   ]
  },
  {
   "cell_type": "code",
   "execution_count": null,
   "metadata": {},
   "outputs": [],
   "source": [
    "# prompt_tpl_write_sql_filter_nouns = \"\"\"\\\n",
    "# You are a SQL expert. Given an input question, create a syntactically\n",
    "# correct SQL query to run. Unless otherwise specificed, do not return more than\n",
    "# {top_k} rows.\n",
    "\n",
    "# Only return the SQL query with no markup or explanation.\n",
    "\n",
    "# Here is the relevant table info: {table_info}\n",
    "\n",
    "# Here is a non-exhaustive list of possible feature values. If filtering on a feature\n",
    "# value make sure to check its spelling against this list first:\n",
    "\n",
    "# {proper_nouns}\\\n",
    "# \"\"\"\n",
    "\n",
    "# prompt_write_sql_filter_nouns = prompts.ChatPromptTemplate.from_messages([\n",
    "# \t(\"system\", prompt_tpl_write_sql_filter_nouns),\n",
    "# \t(\"human\", \"{input}\"),\n",
    "# ])\n",
    "# chain_write_sql = chains.create_sql_query_chain(\n",
    "#   llm, db, prompt=prompt_write_sql_filter_nouns\n",
    "# )\n",
    "\n",
    "# chain_retrieve_proper_nouns = (\n",
    "# \titemgetter(\"question\")\n",
    "# \t| retriever_nouns\n",
    "# \t| (lambda docs: \"\\n\".join(doc.page_content for doc in docs))\n",
    "# )\n",
    "\n",
    "# chain_write_sql_filter_nouns = runnables.RunnablePassthrough\\\n",
    "# \t.assign(proper_nouns=chain_retrieve_proper_nouns)\\\n",
    "# \t| chain_write_sql"
   ]
  },
  {
   "cell_type": "code",
   "execution_count": null,
   "metadata": {},
   "outputs": [],
   "source": [
    "# query = chain_write_sql_filter_nouns.invoke({\n",
    "# \t\"question\": questions[0]\n",
    "# })\n",
    "\n",
    "# query"
   ]
  },
  {
   "cell_type": "markdown",
   "metadata": {},
   "source": [
    "### [do question answering over CSVs](https://python.langchain.com/v0.2/docs/how_to/sql_csv/)"
   ]
  },
  {
   "cell_type": "markdown",
   "metadata": {},
   "source": [
    "## Cookbook"
   ]
  },
  {
   "cell_type": "markdown",
   "metadata": {},
   "source": [
    "### [LLaMA2 chat with SQL](https://github.com/langchain-ai/langchain/blob/master/cookbook/LLaMA2_sql_chat.ipynb)"
   ]
  },
  {
   "cell_type": "markdown",
   "metadata": {},
   "source": [
    "### [Databricks](https://github.com/langchain-ai/langchain/blob/master/cookbook/databricks_sql_db.ipynb)"
   ]
  },
  {
   "cell_type": "markdown",
   "metadata": {},
   "source": [
    "### [Vector SQL Retriever with MyScale](https://github.com/langchain-ai/langchain/blob/master/cookbook/myscale_vector_sql.ipynb)"
   ]
  },
  {
   "cell_type": "markdown",
   "metadata": {},
   "source": [
    "### [Incoporating semantic similarity in tabular databases](https://github.com/langchain-ai/langchain/blob/master/cookbook/retrieval_in_sql.ipynb)\n"
   ]
  },
  {
   "cell_type": "markdown",
   "metadata": {},
   "source": [
    "### [SQL Database Chain](https://github.com/langchain-ai/langchain/blob/master/cookbook/sql_db_qa.mdx)\n"
   ]
  },
  {
   "cell_type": "markdown",
   "metadata": {},
   "source": [
    "# Custom"
   ]
  },
  {
   "cell_type": "markdown",
   "metadata": {},
   "source": [
    "## Chain"
   ]
  },
  {
   "cell_type": "code",
   "execution_count": null,
   "metadata": {},
   "outputs": [],
   "source": [
    "class Table(tools.BaseModel):\n",
    "\t\"\"\"Table in SQL database.\"\"\"\n",
    "\n",
    "\tname: str = tools.Field(description=\"Name of table in SQL database.\")\n",
    "\n",
    "prompt_tpl_get_tables = f\"\"\"\\\n",
    "Return the names of ALL the SQL tables that MIGHT be relevant to the user question. \\\n",
    "The tables are:\n",
    "\n",
    "{table_names}\n",
    "\n",
    "Remember to include ALL POTENTIALLY RELEVANT tables, even if you're not sure that they're needed.\\\n",
    "\"\"\"\n",
    "\n",
    "prompt_get_tables = prompts.ChatPromptTemplate.from_messages([\n",
    "\t(\"system\", prompt_tpl_get_tables),\n",
    "\t(\"human\", \"{input}\"),\n",
    "])\n",
    "llm_with_tools = llm.bind_tools([Table])\n",
    "\n",
    "def chain_process_get_tables(tables: list):\n",
    "\tresult = [table.name for table in tables]\n",
    "\treturn result\n",
    "\n",
    "chain_get_tables = (\n",
    "  {\n",
    "\t\t\"input\": itemgetter(\"question\")\n",
    "\t}\n",
    "  |\tprompt_get_tables\n",
    "\t| llm_with_tools\n",
    "\t| tools.PydanticToolsParser(tools=[Table])\n",
    "\t| runnables.RunnableLambda(chain_process_get_tables)\n",
    ")\n",
    "#*-----------------------------------------------------------------------------\n",
    "\n",
    "chain_retrieve_proper_nouns = (\n",
    "\titemgetter(\"question\")\n",
    "\t| retriever_nouns\n",
    "\t| (lambda docs: \"\\n\".join(doc.page_content for doc in docs))\n",
    ")\n",
    "\n",
    "#*-----------------------------------------------------------------------------\n",
    "example_selector = prompts.SemanticSimilarityExampleSelector.from_examples(\n",
    "\texamples=examples_questions_to_sql,\n",
    "\tembeddings=embeddings,\n",
    "\tvectorstore_cls=vectorstore,\n",
    "\tk=5,\n",
    "\tinput_keys=[\"input\"],\n",
    ")\n",
    "\n",
    "chain_get_examples = (\n",
    "\t{\n",
    "\t\t\"input\": itemgetter(\"question\")\n",
    "\t}\n",
    "\t| runnables.RunnableLambda(example_selector.select_examples)\n",
    ")\n",
    "\n",
    "#*-----------------------------------------------------------------------------\n",
    "# Gen sql, check sql, filter nouns\n",
    "prompt_tpl_write_sql = \"\"\"\\\n",
    "You are a {dialect} expert. Given an input question, creat a syntactically correct {dialect} query to run.\n",
    "Unless the user specifies in the question a specific number of examples to obtain, query for at most {top_k} results using the LIMIT clause as per {dialect}. You can order the results to return the most informative data in the database.\n",
    "Never query for all columns from a table. You must query only the columns that are needed to answer the question. Wrap each column name in double quotes (\") to denote them as delimited identifiers.\n",
    "Pay attention to use only the column names you can see in the tables below. Be careful to not query for columns that do not exist. Also, pay attention to which column is in which table.\n",
    "Pay attention to use date('now') function to get the current date, if the question involves \"today\".\n",
    "\n",
    "Here is the relevant table info:\n",
    "{table_info}\n",
    "\n",
    "Here is a non-exhaustive list of possible feature values. If filtering on a feature\n",
    "value make sure to check its spelling against this list first:\n",
    "{proper_nouns}\n",
    "\n",
    "Below are a number of examples of questions and their corresponding SQL queries.\n",
    "{examples}\n",
    "\n",
    "Write an initial draft of the query. Then double check the {dialect} query for common mistakes, including:\n",
    "- Using NOT IN with NULL values\n",
    "- Using UNION when UNION ALL should have been used\n",
    "- Using BETWEEN for exclusive ranges\n",
    "- Data type mismatch in predicates\n",
    "- Properly quoting identifiers\n",
    "- Using the correct number of arguments for functions\n",
    "- Casting to the correct data type\n",
    "- Using the proper columns for joins\n",
    "\n",
    "Use format:\n",
    "\n",
    "First draft: <<FIRST_DRAFT_QUERY>>\n",
    "Final answer: <<FINAL_ANSWER_QUERY>>\\\n",
    "\"\"\"\n",
    "prompt_write_sql = prompts.ChatPromptTemplate.from_messages([\n",
    "\t(\"system\", prompt_tpl_write_sql),\n",
    "\t(\"human\", \"{input}\"),\n",
    "]).partial(dialect=db.dialect)\n",
    "\n",
    "def parse_final_answer(output: str) -> str:\n",
    "    return output.split(\"Final answer: \")[1]\n",
    "  \n",
    "chain_write_sql = (\n",
    "\tchains.create_sql_query_chain(\n",
    "\t\tllm, db, prompt=prompt_write_sql\n",
    "\t)\n",
    "\t| runnables.RunnableLambda(parse_final_answer)\t\n",
    ")\n",
    "\n",
    "#*-----------------------------------------------------------------------------\n",
    "\n",
    "query_executor = tools.QuerySQLDataBaseTool(db=db)\n",
    "\n",
    "prompt_answer = prompts.PromptTemplate.from_template(\"\"\"\\\n",
    "Given the following user question, corresponding SQL query, and SQL result, answer the user question.\n",
    "\n",
    "Question: {question}\n",
    "SQL Query: {query}\n",
    "SQL Result: {result}\n",
    "Answer:\\\n",
    "\"\"\")\n",
    "\n",
    "chain_answer = prompt_answer | llm | output_parsers.StrOutputParser()\n",
    "\n",
    "chain_sql = (\n",
    "  runnables.RunnablePassthrough\n",
    "  .assign(table_names_to_use=chain_get_tables)\n",
    "  .assign(proper_nouns=chain_retrieve_proper_nouns)\n",
    "  .assign(examples=chain_get_examples)\n",
    "  .assign(query=chain_write_sql)\n",
    "  .assign(result=itemgetter(\"query\") | query_executor)\n",
    "\t.assign(output=chain_answer)\n",
    ").with_retry()\n"
   ]
  },
  {
   "cell_type": "code",
   "execution_count": null,
   "metadata": {},
   "outputs": [],
   "source": [
    "result = chain_sql.invoke({\n",
    "\t# \"question\": questions[0]\n",
    "\t# \"question\": \"tell me about vf3\"\n",
    "\t# \"question\": \"colors of vf3\"\n",
    "\t\"question\": \"color difference between vf3 and vf7\"\n",
    "})\n",
    "output = result[\"output\"]\n",
    "\n",
    "pprint(output)"
   ]
  },
  {
   "cell_type": "markdown",
   "metadata": {},
   "source": [
    "### Class"
   ]
  },
  {
   "cell_type": "code",
   "execution_count": null,
   "metadata": {},
   "outputs": [],
   "source": [
    "my_sql_chain = chains.MySqlChain(\n",
    "\tmy_sql_db=my_sql_db,\n",
    "\tllm=llm,\n",
    "\tembeddings=embeddings,\n",
    "\tvectorstore=vectorstore,\n",
    "\tproper_nouns=proper_nouns,\n",
    "\tk_retriever_proper_nouns=4,\n",
    "\texamples_questions_to_sql=examples_questions_to_sql,\n",
    "\tk_few_shot_examples=5,\n",
    "\tis_debug=True,\n",
    "\ttool_name=\"sql_executor\",\n",
    "\ttool_description=\"Generate SQL based on user question and execute it\",\n",
    "\ttool_metadata={\"data\": \"cars\"},\n",
    "\ttool_tags=[\"cars\"],\n",
    ")"
   ]
  },
  {
   "cell_type": "code",
   "execution_count": null,
   "metadata": {},
   "outputs": [],
   "source": [
    "result = my_sql_chain.invoke_chain(\n",
    "\tquestions[0]\n",
    "\t# \"tell me about vf3\"\n",
    "\t# \"color difference between vf3 and vf7\"\n",
    ")\n",
    "\n",
    "pprint(result)"
   ]
  },
  {
   "cell_type": "code",
   "execution_count": null,
   "metadata": {},
   "outputs": [],
   "source": [
    "tool_chain_sql = my_sql_chain.create_tool_chain_sql()"
   ]
  },
  {
   "cell_type": "code",
   "execution_count": null,
   "metadata": {},
   "outputs": [],
   "source": [
    "llm = models.chat_openai\n",
    "my_tools = [\n",
    "\ttool_chain_sql,\n",
    "]\n",
    "prompt = prompts.create_prompt_tool_calling_agent()\n",
    "\n",
    "agent = agents.MyStatelessAgent(\n",
    "\tllm=llm,\n",
    "\ttools=my_tools,\n",
    "\tprompt=prompt,\n",
    "\tagent_type='tool_calling',\n",
    "\tagent_verbose=True,\n",
    ")"
   ]
  },
  {
   "cell_type": "code",
   "execution_count": null,
   "metadata": {},
   "outputs": [],
   "source": [
    "await agent.invoke_agent(\n",
    "\t# input_message=questions[0],\n",
    "\tinput_message=\"tell me about vf3\",\n",
    "\thistory_type=\"in_memory\",\n",
    "\tuser_id=\"user\",\n",
    "\tsession_id=\"default\",\n",
    ")"
   ]
  },
  {
   "cell_type": "markdown",
   "metadata": {},
   "source": [
    "## Agent"
   ]
  },
  {
   "cell_type": "markdown",
   "metadata": {},
   "source": [
    "# Todos\n",
    "\n",
    "## Youtube\n",
    "\n",
    "- [ ] https://alejandro-ao.com/chat-with-mysql-using-python-and-langchain/\n",
    "- [ ] https://github.com/alejandro-ao/chat-with-mysql\n",
    "- [ ] https://github.com/Coding-Crashkurse/Langchain-Dynamic-Routing\n",
    "- [ ] https://python.langchain.com/v0.1/docs/integrations/toolkits/sql_database/\n",
    "- [ ] https://blog.futuresmart.ai/mastering-natural-language-to-sql-with-langchain-nl2sql\n",
    "- [ ] https://github.com/krishnaik06/Google-Gemini-Crash-Course/tree/main/sqlllm\n",
    "- [ ] https://github.com/langchain-ai/langchain/tree/master/templates/sql-research-assistant\n",
    "- [ ] https://www.rabbitmetrics.com/building-llm-knowledge-base-for-advanced-sql-chains/\n",
    "- [ ] https://www.rabbitmetrics.com/chatting-with-ecommerce-data/\n",
    "- [ ] https://github.com/Farzad-R/Advanced-QA-and-RAG-Series\n",
    "- [ ] https://www.youtube.com/watch?v=XNeTgVEzILg (No code)\n",
    "---\n",
    "- [ ] https://www.youtube.com/watch?v=es-9MgxB-uc\n",
    "\n",
    "## Docs\n",
    "---\n",
    "- [ ] Not Done\n",
    "- [x] Done"
   ]
  },
  {
   "cell_type": "markdown",
   "metadata": {},
   "source": [
    "### Tools"
   ]
  },
  {
   "cell_type": "code",
   "execution_count": null,
   "metadata": {},
   "outputs": [],
   "source": []
  }
 ],
 "metadata": {
  "kernelspec": {
   "display_name": "llm",
   "language": "python",
   "name": "python3"
  },
  "language_info": {
   "codemirror_mode": {
    "name": "ipython",
    "version": 3
   },
   "file_extension": ".py",
   "mimetype": "text/x-python",
   "name": "python",
   "nbconvert_exporter": "python",
   "pygments_lexer": "ipython3",
   "version": "3.11.9"
  }
 },
 "nbformat": 4,
 "nbformat_minor": 2
}
