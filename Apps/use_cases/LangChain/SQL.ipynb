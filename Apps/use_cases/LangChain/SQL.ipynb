{
 "cells": [
  {
   "cell_type": "code",
   "execution_count": null,
   "metadata": {},
   "outputs": [],
   "source": [
    "from Apps.toolkit.langchain import models\n",
    "import add_packages\n",
    "import os\n",
    "from pprint import pprint\n",
    "\n",
    "from my_configs import constants\n",
    "\n",
    "from toolkit.langchain import (\n",
    "\tagent_tools, document_loaders, text_splitters, text_embedding_models, stores,\n",
    "\tprompts, utils, output_parsers, agents, documents, runnables,\n",
    "\thistories\n",
    ")"
   ]
  },
  {
   "cell_type": "markdown",
   "metadata": {},
   "source": [
    "# Docs"
   ]
  },
  {
   "cell_type": "markdown",
   "metadata": {},
   "source": [
    "## [Usecase - Build a Question/Answering system over SQL data](https://python.langchain.com/v0.2/docs/tutorials/sql_qa/)"
   ]
  },
  {
   "cell_type": "markdown",
   "metadata": {},
   "source": [
    "## Components"
   ]
  },
  {
   "cell_type": "markdown",
   "metadata": {},
   "source": [
    "### Tools"
   ]
  },
  {
   "cell_type": "markdown",
   "metadata": {},
   "source": [
    "#### [SQL Database](https://python.langchain.com/v0.2/docs/integrations/tools/sql_database/)\n"
   ]
  },
  {
   "cell_type": "markdown",
   "metadata": {},
   "source": [
    "### Toolkits"
   ]
  },
  {
   "cell_type": "markdown",
   "metadata": {},
   "source": [
    "#### [SQL Database](https://python.langchain.com/v0.2/docs/integrations/toolkits/sql_database/)\n"
   ]
  },
  {
   "cell_type": "markdown",
   "metadata": {},
   "source": [
    "### "
   ]
  },
  {
   "cell_type": "markdown",
   "metadata": {},
   "source": [
    "## How-to"
   ]
  },
  {
   "cell_type": "markdown",
   "metadata": {},
   "source": [
    "### [better prompt](https://python.langchain.com/v0.2/docs/how_to/sql_prompting/)"
   ]
  },
  {
   "cell_type": "markdown",
   "metadata": {},
   "source": [
    "### [do query validation](https://python.langchain.com/v0.2/docs/how_to/sql_query_checking/)\n"
   ]
  },
  {
   "cell_type": "markdown",
   "metadata": {},
   "source": [
    "### [deal with large databases](https://python.langchain.com/v0.2/docs/how_to/sql_large_db/)"
   ]
  },
  {
   "cell_type": "markdown",
   "metadata": {},
   "source": [
    "### [do question answering over CSVs](https://python.langchain.com/v0.2/docs/how_to/sql_csv/)"
   ]
  },
  {
   "cell_type": "markdown",
   "metadata": {},
   "source": [
    "## Cookbook"
   ]
  },
  {
   "cell_type": "markdown",
   "metadata": {},
   "source": [
    "### [LLaMA2 chat with SQL](https://github.com/langchain-ai/langchain/blob/master/cookbook/LLaMA2_sql_chat.ipynb)"
   ]
  },
  {
   "cell_type": "markdown",
   "metadata": {},
   "source": [
    "### [Databricks](https://github.com/langchain-ai/langchain/blob/master/cookbook/databricks_sql_db.ipynb)"
   ]
  },
  {
   "cell_type": "markdown",
   "metadata": {},
   "source": [
    "### [Vector SQL Retriever with MyScale](https://github.com/langchain-ai/langchain/blob/master/cookbook/myscale_vector_sql.ipynb)"
   ]
  },
  {
   "cell_type": "markdown",
   "metadata": {},
   "source": [
    "### [Incoporating semantic similarity in tabular databases](https://github.com/langchain-ai/langchain/blob/master/cookbook/retrieval_in_sql.ipynb)\n"
   ]
  },
  {
   "cell_type": "markdown",
   "metadata": {},
   "source": [
    "### [SQL Database Chain](https://github.com/langchain-ai/langchain/blob/master/cookbook/sql_db_qa.mdx)\n"
   ]
  },
  {
   "cell_type": "markdown",
   "metadata": {},
   "source": [
    "# Custom"
   ]
  },
  {
   "cell_type": "markdown",
   "metadata": {},
   "source": [
    "# Todos\n",
    "\n",
    "## Youtube\n",
    "\n",
    "- [ ] https://alejandro-ao.com/chat-with-mysql-using-python-and-langchain/\n",
    "- [ ] https://github.com/alejandro-ao/chat-with-mysql\n",
    "- [ ] https://github.com/Coding-Crashkurse/Langchain-Dynamic-Routing\n",
    "- [ ] https://python.langchain.com/v0.1/docs/integrations/toolkits/sql_database/\n",
    "- [ ] https://blog.futuresmart.ai/mastering-natural-language-to-sql-with-langchain-nl2sql\n",
    "- [ ] https://github.com/krishnaik06/Google-Gemini-Crash-Course/tree/main/sqlllm\n",
    "- [ ] https://github.com/langchain-ai/langchain/tree/master/templates/sql-research-assistant\n",
    "- [ ] https://www.rabbitmetrics.com/building-llm-knowledge-base-for-advanced-sql-chains/\n",
    "- [ ] https://www.rabbitmetrics.com/chatting-with-ecommerce-data/\n",
    "- [ ] https://github.com/Farzad-R/Advanced-QA-and-RAG-Series\n",
    "- [ ] https://www.youtube.com/watch?v=XNeTgVEzILg (No code)\n",
    "---\n",
    "- [ ] https://www.youtube.com/watch?v=es-9MgxB-uc\n",
    "\n",
    "## Docs\n",
    "---\n",
    "- [ ] Not Done\n",
    "- [x] Done"
   ]
  },
  {
   "cell_type": "markdown",
   "metadata": {},
   "source": [
    "### Tools"
   ]
  },
  {
   "cell_type": "code",
   "execution_count": null,
   "metadata": {},
   "outputs": [],
   "source": []
  }
 ],
 "metadata": {
  "kernelspec": {
   "display_name": "llm",
   "language": "python",
   "name": "python3"
  },
  "language_info": {
   "name": "python",
   "version": "3.11.8"
  }
 },
 "nbformat": 4,
 "nbformat_minor": 2
}
