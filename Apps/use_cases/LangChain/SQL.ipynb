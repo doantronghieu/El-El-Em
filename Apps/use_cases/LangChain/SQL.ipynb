{
 "cells": [
  {
   "cell_type": "code",
   "execution_count": 33,
   "metadata": {},
   "outputs": [],
   "source": [
    "import add_packages\n",
    "import os\n",
    "from pprint import pprint\n",
    "import pandas as pd\n",
    "from operator import itemgetter\n",
    "\n",
    "from my_configs import constants\n",
    "\n",
    "from toolkit import sql\n",
    "from toolkit.langchain import (\n",
    "\tdocument_loaders, text_splitters, text_embedding_models, stores,\n",
    "\tprompts, utils, output_parsers, agents, documents, runnables,\n",
    "\thistories, chains, models, tools\n",
    ")"
   ]
  },
  {
   "cell_type": "markdown",
   "metadata": {},
   "source": [
    "# Data"
   ]
  },
  {
   "cell_type": "code",
   "execution_count": null,
   "metadata": {},
   "outputs": [],
   "source": [
    "my_sql_db = sql.SQLDatabase()"
   ]
  },
  {
   "cell_type": "code",
   "execution_count": null,
   "metadata": {},
   "outputs": [],
   "source": [
    "schema_vinfast_cars = [\n",
    "\t\"id SERIAL\",\n",
    "\t\"name VARCHAR(50) NOT NULL UNIQUE\",\n",
    "\t\"type VARCHAR(20) NOT NULL\",\n",
    "\t\"engine_type VARCHAR(20) NOT NULL\",\n",
    "\t\"webpage_link VARCHAR(200) NOT NULL\",\n",
    "\t\"specs TEXT NOT NULL\",\n",
    "\t\"brochure_link VARCHAR(200) NULL\",\n",
    "\t\"features TEXT NOT NULL\",\n",
    "\t\"interior_features TEXT NOT NULL\",\n",
    "\t\"exterior_features TEXT NOT NULL\",\n",
    "\t\"colors VARCHAR(200) NOT NULL\",\n",
    "\t\"price TEXT NOT NULL\",\n",
    "\t\"PRIMARY KEY (id)\",\n",
    "]\n",
    "\n",
    "table_vinfast_cars = sql.SQLTable(\n",
    "\tname=\"vinfast_cars\", \n",
    "\tschema=schema_vinfast_cars,\n",
    "\tdb=my_sql_db,\n",
    ")\n",
    "\n",
    "table_vinfast_cars.create()"
   ]
  },
  {
   "cell_type": "code",
   "execution_count": null,
   "metadata": {},
   "outputs": [],
   "source": [
    "table_vinfast_cars.insert_from_excel(f\"{add_packages.APP_PATH}/data/vinfast/cars.xlsx\")"
   ]
  },
  {
   "cell_type": "markdown",
   "metadata": {},
   "source": [
    "# Docs"
   ]
  },
  {
   "cell_type": "markdown",
   "metadata": {},
   "source": [
    "## [Usecase - Build a Question/Answering system over SQL data](https://python.langchain.com/v0.2/docs/tutorials/sql_qa/)"
   ]
  },
  {
   "cell_type": "code",
   "execution_count": null,
   "metadata": {},
   "outputs": [],
   "source": [
    "db = stores.SQLDatabase.from_uri(my_sql_db.get_uri())"
   ]
  },
  {
   "cell_type": "code",
   "execution_count": null,
   "metadata": {},
   "outputs": [],
   "source": [
    "print(db.dialect)\n",
    "print(db.get_usable_table_names())"
   ]
  },
  {
   "cell_type": "markdown",
   "metadata": {},
   "source": [
    "### Chains\n"
   ]
  },
  {
   "cell_type": "code",
   "execution_count": 34,
   "metadata": {},
   "outputs": [],
   "source": [
    "llm = models.chat_groq_mixtral\n",
    "\n",
    "chain = chains.create_sql_query_chain(llm, db)"
   ]
  },
  {
   "cell_type": "code",
   "execution_count": 37,
   "metadata": {},
   "outputs": [],
   "source": [
    "def query_processor(query: str):\n",
    "\tquery = query.replace(\"\\\\\", \"\")\n",
    "\tquery = query.replace(\"SQLQuery: \", \"\")\n",
    "\treturn query"
   ]
  },
  {
   "cell_type": "code",
   "execution_count": null,
   "metadata": {},
   "outputs": [],
   "source": [
    "response = chain.invoke({\"question\": \"How many cars are there?\"})\n",
    "response = query_processor(response)"
   ]
  },
  {
   "cell_type": "code",
   "execution_count": 35,
   "metadata": {},
   "outputs": [],
   "source": [
    "db.run(response)"
   ]
  },
  {
   "cell_type": "code",
   "execution_count": null,
   "metadata": {},
   "outputs": [],
   "source": [
    "chain.get_prompts()[0].pretty_print()"
   ]
  },
  {
   "cell_type": "code",
   "execution_count": 41,
   "metadata": {},
   "outputs": [],
   "source": [
    "query_writer = chains.create_sql_query_chain(llm, db)\n",
    "query_executor = tools.QuerySQLDataBaseTool(db=db)\n",
    "\n",
    "prompt_answer = prompts.PromptTemplate.from_template(\"\"\"\\\n",
    "Given the following user question, corresponding SQL query, and SQL result, answer the user question.\n",
    "\n",
    "Question: {question}\n",
    "SQL Query: {query}\n",
    "SQL Result: {result}\n",
    "Answer:\\\n",
    "\"\"\")\n",
    "\n",
    "chain = (\n",
    "\trunnables.RunnablePassthrough.assign(query=query_writer).assign(\n",
    "\t\tresult=itemgetter(\"query\") \n",
    "\t\t\t\t\t| runnables.RunnableLambda(query_processor) \n",
    "\t\t\t\t\t| query_executor\n",
    "\t)\n",
    "\t| prompt_answer\n",
    "\t| llm\n",
    "\t| output_parsers.StrOutputParser()\n",
    ")"
   ]
  },
  {
   "cell_type": "code",
   "execution_count": 42,
   "metadata": {},
   "outputs": [
    {
     "data": {
      "text/plain": [
       "'There are 7 cars. The SQL result shows that the query returned a single row with a count of 7, indicating that there are 7 cars in the `vinfast_cars` table.'"
      ]
     },
     "execution_count": 42,
     "metadata": {},
     "output_type": "execute_result"
    }
   ],
   "source": [
    "chain.invoke({\"question\": \"How many cars are there?\"})"
   ]
  },
  {
   "cell_type": "markdown",
   "metadata": {},
   "source": [
    "### Agents\n"
   ]
  },
  {
   "cell_type": "markdown",
   "metadata": {},
   "source": [
    "## Components"
   ]
  },
  {
   "cell_type": "markdown",
   "metadata": {},
   "source": [
    "### Tools"
   ]
  },
  {
   "cell_type": "markdown",
   "metadata": {},
   "source": [
    "#### [SQL Database](https://python.langchain.com/v0.2/docs/integrations/tools/sql_database/)\n"
   ]
  },
  {
   "cell_type": "markdown",
   "metadata": {},
   "source": [
    "### Toolkits"
   ]
  },
  {
   "cell_type": "markdown",
   "metadata": {},
   "source": [
    "#### [SQL Database](https://python.langchain.com/v0.2/docs/integrations/toolkits/sql_database/)\n"
   ]
  },
  {
   "cell_type": "markdown",
   "metadata": {},
   "source": [
    "### "
   ]
  },
  {
   "cell_type": "markdown",
   "metadata": {},
   "source": [
    "## How-to"
   ]
  },
  {
   "cell_type": "markdown",
   "metadata": {},
   "source": [
    "### [better prompt](https://python.langchain.com/v0.2/docs/how_to/sql_prompting/)"
   ]
  },
  {
   "cell_type": "markdown",
   "metadata": {},
   "source": [
    "### [do query validation](https://python.langchain.com/v0.2/docs/how_to/sql_query_checking/)\n"
   ]
  },
  {
   "cell_type": "markdown",
   "metadata": {},
   "source": [
    "### [deal with large databases](https://python.langchain.com/v0.2/docs/how_to/sql_large_db/)"
   ]
  },
  {
   "cell_type": "markdown",
   "metadata": {},
   "source": [
    "### [do question answering over CSVs](https://python.langchain.com/v0.2/docs/how_to/sql_csv/)"
   ]
  },
  {
   "cell_type": "markdown",
   "metadata": {},
   "source": [
    "## Cookbook"
   ]
  },
  {
   "cell_type": "markdown",
   "metadata": {},
   "source": [
    "### [LLaMA2 chat with SQL](https://github.com/langchain-ai/langchain/blob/master/cookbook/LLaMA2_sql_chat.ipynb)"
   ]
  },
  {
   "cell_type": "markdown",
   "metadata": {},
   "source": [
    "### [Databricks](https://github.com/langchain-ai/langchain/blob/master/cookbook/databricks_sql_db.ipynb)"
   ]
  },
  {
   "cell_type": "markdown",
   "metadata": {},
   "source": [
    "### [Vector SQL Retriever with MyScale](https://github.com/langchain-ai/langchain/blob/master/cookbook/myscale_vector_sql.ipynb)"
   ]
  },
  {
   "cell_type": "markdown",
   "metadata": {},
   "source": [
    "### [Incoporating semantic similarity in tabular databases](https://github.com/langchain-ai/langchain/blob/master/cookbook/retrieval_in_sql.ipynb)\n"
   ]
  },
  {
   "cell_type": "markdown",
   "metadata": {},
   "source": [
    "### [SQL Database Chain](https://github.com/langchain-ai/langchain/blob/master/cookbook/sql_db_qa.mdx)\n"
   ]
  },
  {
   "cell_type": "markdown",
   "metadata": {},
   "source": [
    "# Custom"
   ]
  },
  {
   "cell_type": "markdown",
   "metadata": {},
   "source": [
    "# Todos\n",
    "\n",
    "## Youtube\n",
    "\n",
    "- [ ] https://alejandro-ao.com/chat-with-mysql-using-python-and-langchain/\n",
    "- [ ] https://github.com/alejandro-ao/chat-with-mysql\n",
    "- [ ] https://github.com/Coding-Crashkurse/Langchain-Dynamic-Routing\n",
    "- [ ] https://python.langchain.com/v0.1/docs/integrations/toolkits/sql_database/\n",
    "- [ ] https://blog.futuresmart.ai/mastering-natural-language-to-sql-with-langchain-nl2sql\n",
    "- [ ] https://github.com/krishnaik06/Google-Gemini-Crash-Course/tree/main/sqlllm\n",
    "- [ ] https://github.com/langchain-ai/langchain/tree/master/templates/sql-research-assistant\n",
    "- [ ] https://www.rabbitmetrics.com/building-llm-knowledge-base-for-advanced-sql-chains/\n",
    "- [ ] https://www.rabbitmetrics.com/chatting-with-ecommerce-data/\n",
    "- [ ] https://github.com/Farzad-R/Advanced-QA-and-RAG-Series\n",
    "- [ ] https://www.youtube.com/watch?v=XNeTgVEzILg (No code)\n",
    "---\n",
    "- [ ] https://www.youtube.com/watch?v=es-9MgxB-uc\n",
    "\n",
    "## Docs\n",
    "---\n",
    "- [ ] Not Done\n",
    "- [x] Done"
   ]
  },
  {
   "cell_type": "markdown",
   "metadata": {},
   "source": [
    "### Tools"
   ]
  },
  {
   "cell_type": "code",
   "execution_count": null,
   "metadata": {},
   "outputs": [],
   "source": []
  }
 ],
 "metadata": {
  "kernelspec": {
   "display_name": "llm",
   "language": "python",
   "name": "python3"
  },
  "language_info": {
   "codemirror_mode": {
    "name": "ipython",
    "version": 3
   },
   "file_extension": ".py",
   "mimetype": "text/x-python",
   "name": "python",
   "nbconvert_exporter": "python",
   "pygments_lexer": "ipython3",
   "version": "3.11.8"
  }
 },
 "nbformat": 4,
 "nbformat_minor": 2
}
