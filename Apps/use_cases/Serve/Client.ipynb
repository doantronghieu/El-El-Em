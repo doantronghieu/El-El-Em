{
 "cells": [
  {
   "cell_type": "code",
   "execution_count": 8,
   "metadata": {},
   "outputs": [],
   "source": [
    "import httpx\n",
    "\n",
    "server_fastapi = 'http://127.0.0.1:8000'\n",
    "url_stream_fake = f\"{server_fastapi}/fake-stream\"\n",
    "url_stream_langchain_chat_model = f\"{server_fastapi}/stream-langchain-chat-model\""
   ]
  },
  {
   "cell_type": "code",
   "execution_count": 9,
   "metadata": {},
   "outputs": [
    {
     "name": "stdout",
     "output_type": "stream",
     "text": [
      "b'some fake data\\n\\n'\n",
      "b'some fake data\\n\\n'\n",
      "b'some fake data\\n\\n'\n",
      "b'some fake data\\n\\n'\n",
      "b'some fake data\\n\\n'\n",
      "b'some fake data\\n\\n'\n",
      "b'some fake data\\n\\n'\n",
      "b'some fake data\\n\\n'\n",
      "b'some fake data\\n\\n'\n",
      "b'some fake data\\n\\n'\n"
     ]
    }
   ],
   "source": [
    "with httpx.stream(\n",
    "\tmethod='GET', \n",
    "\turl=url_stream_fake\n",
    " ) as r:\n",
    "\t\n",
    "\tfor chunk in r.iter_text():  # or, for line in r.iter_lines():\n",
    "\t\tprint(chunk)"
   ]
  },
  {
   "cell_type": "code",
   "execution_count": 14,
   "metadata": {},
   "outputs": [
    {
     "name": "stdout",
     "output_type": "stream",
     "text": [
      "A husky is a breed of dog known for its thick double coat, erect triangular ears, and distinctive markings. Huskies are known for their strength, endurance, and ability to withstand cold temperatures. They are often used as sled dogs in colder climates and are also popular as family pets due to their friendly and outgoing nature."
     ]
    }
   ],
   "source": [
    "with httpx.stream(\n",
    "  method='GET', \n",
    "  params={\n",
    "\t\t\"query\": \"what is husky\",\n",
    "\t},\n",
    "  url=url_stream_langchain_chat_model\n",
    ") as r:\n",
    "\n",
    "\tfor chunk in r.iter_text():  # or, for line in r.iter_lines():\n",
    "\t\t\tprint(chunk, end=\"\", flush=True)"
   ]
  }
 ],
 "metadata": {
  "kernelspec": {
   "display_name": "llm",
   "language": "python",
   "name": "python3"
  },
  "language_info": {
   "codemirror_mode": {
    "name": "ipython",
    "version": 3
   },
   "file_extension": ".py",
   "mimetype": "text/x-python",
   "name": "python",
   "nbconvert_exporter": "python",
   "pygments_lexer": "ipython3",
   "version": "3.11.8"
  }
 },
 "nbformat": 4,
 "nbformat_minor": 2
}
