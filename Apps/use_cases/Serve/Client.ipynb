{
 "cells": [
  {
   "cell_type": "code",
   "execution_count": null,
   "metadata": {},
   "outputs": [],
   "source": [
    "import httpx\n",
    "\n",
    "server_fastapi = 'http://127.0.0.1:8000'"
   ]
  },
  {
   "cell_type": "code",
   "execution_count": null,
   "metadata": {},
   "outputs": [],
   "source": [
    "url_stream_langchain_chat_model = f\"{server_fastapi}/stream-langchain-chat-model\"\n",
    "\n",
    "with httpx.stream(\n",
    "  method='GET', \n",
    "  params={\n",
    "\t\t\"query\": \"Tell me a super long joke\",\n",
    "\t},\n",
    "  url=url_stream_langchain_chat_model\n",
    ") as r:\n",
    "\n",
    "\tfor chunk in r.iter_text():  # or, for line in r.iter_lines():\n",
    "\t\t\tprint(chunk, end=\"\", flush=True)"
   ]
  },
  {
   "cell_type": "code",
   "execution_count": null,
   "metadata": {},
   "outputs": [],
   "source": [
    "url_stream_vtc_agent = f\"{server_fastapi}/stream-vtc-agent\"\n",
    "\n",
    "with httpx.stream(\n",
    "  method='GET', \n",
    "  params={\n",
    "\t\t\"query\": \"Onlinica có các loại tài khoản nào\",\n",
    "\t},\n",
    "  url=url_stream_vtc_agent,\n",
    "  timeout=60,\n",
    ") as r:\n",
    "\n",
    "\tfor chunk in r.iter_text():  # or, for line in r.iter_lines():\n",
    "\t\t\tprint(chunk, end=\"\", flush=True)"
   ]
  }
 ],
 "metadata": {
  "kernelspec": {
   "display_name": "llm",
   "language": "python",
   "name": "python3"
  },
  "language_info": {
   "codemirror_mode": {
    "name": "ipython",
    "version": 3
   },
   "file_extension": ".py",
   "mimetype": "text/x-python",
   "name": "python",
   "nbconvert_exporter": "python",
   "pygments_lexer": "ipython3",
   "version": "3.11.8"
  }
 },
 "nbformat": 4,
 "nbformat_minor": 2
}
