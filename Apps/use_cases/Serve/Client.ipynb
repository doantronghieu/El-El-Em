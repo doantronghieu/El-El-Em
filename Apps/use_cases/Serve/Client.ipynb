{
 "cells": [
  {
   "cell_type": "code",
   "execution_count": 1,
   "metadata": {
    "notebookRunGroups": {
     "groupValue": "1"
    }
   },
   "outputs": [],
   "source": [
    "import httpx\n",
    "import asyncio\n",
    "import json\n",
    "\n",
    "server_fastapi = 'http://127.0.0.1:8000'"
   ]
  },
  {
   "cell_type": "markdown",
   "metadata": {},
   "source": [
    "# Stream Chat Model"
   ]
  },
  {
   "cell_type": "code",
   "execution_count": null,
   "metadata": {},
   "outputs": [],
   "source": [
    "with httpx.stream(\n",
    "  method='GET', \n",
    "  params={\n",
    "\t\t\"query\": \"Tell me a super long joke\",\n",
    "\t},\n",
    "  url=f\"{server_fastapi}/stream-chat-model\"\n",
    ") as r:\n",
    "\n",
    "\tfor chunk in r.iter_text():  # or, for line in r.iter_lines():\n",
    "\t\tprint(chunk, end=\"\", flush=True)"
   ]
  },
  {
   "cell_type": "markdown",
   "metadata": {},
   "source": [
    "# Stream Agent"
   ]
  },
  {
   "cell_type": "code",
   "execution_count": null,
   "metadata": {},
   "outputs": [],
   "source": [
    "with httpx.stream(\n",
    "  method='GET', \n",
    "  params={\n",
    "\t\t\"query\": \"Tell me a super long joke\",\n",
    "\t},\n",
    "  url=f\"{server_fastapi}/stream-agent\",\n",
    "  timeout=60,\n",
    ") as r:\n",
    "\n",
    "\tfor chunk in r.iter_text():  # or, for line in r.iter_lines():\n",
    "\t\t\tprint(chunk, end=\"\", flush=True)"
   ]
  },
  {
   "cell_type": "code",
   "execution_count": 2,
   "metadata": {},
   "outputs": [],
   "source": [
    "async def stream_agent(\n",
    "  query,\n",
    "\tserver_fastapi = 'http://127.0.0.1:8000', \n",
    "):\n",
    "\turl = f\"{server_fastapi}/stream-agent\"\n",
    "\tparams = {\n",
    "\t\t\"query\": query,\n",
    "\t}\n",
    "\n",
    "\tasync with httpx.AsyncClient() as client:\n",
    "\t\ttry:\n",
    "\t\t\tasync with client.stream('GET', url, params=params, timeout=60) as r:\n",
    "\t\t\t\tasync for chunk in r.aiter_text():  # or, async for line in r.aiter_lines():\n",
    "\t\t\t\t\tyield chunk\n",
    "\t\texcept httpx.HTTPError as e:\n",
    "\t\t\tprint(f\"Request failed with status code {e.response.status_code}: {e.response.content.decode('utf-8')}\")\n"
   ]
  },
  {
   "cell_type": "code",
   "execution_count": 5,
   "metadata": {},
   "outputs": [
    {
     "name": "stdout",
     "output_type": "stream",
     "text": [
      "Apple Inc. is a well-known technology company that offers a wide range of products and services. They are known for their innovative products like the iPhone, MacBook, Apple Card, and Apple TV+. Apple also focuses on environmental initiatives and offers trade-in offers for their products.\n",
      "\n",
      "If you'd like to learn more about Apple Inc., you can visit their official website [here](https://www.apple.com/)."
     ]
    }
   ],
   "source": [
    "async for chunk in stream_agent(\"Tell me a super long joke\"):\n",
    "\tprint(chunk, end=\"\", flush=True)"
   ]
  },
  {
   "cell_type": "markdown",
   "metadata": {},
   "source": [
    "# Invoke Agent"
   ]
  },
  {
   "cell_type": "code",
   "execution_count": null,
   "metadata": {},
   "outputs": [],
   "source": [
    "res = httpx.get(\n",
    "  f\"{server_fastapi}/invoke-agent\", \n",
    "  params={\n",
    "    \"query\": \"Hello\"\n",
    "  }, \n",
    "  headers={\n",
    "    \"accept\": \"application/json\"\n",
    "  }\n",
    ")\n",
    "res_txt = res.text\n",
    "\n",
    "res_txt"
   ]
  },
  {
   "cell_type": "code",
   "execution_count": 22,
   "metadata": {},
   "outputs": [],
   "source": [
    "def invoke_agent(\n",
    "\tquery,\n",
    "\tserver_fastapi = 'http://127.0.0.1:8000', \n",
    "):\n",
    "\t\"\"\"\n",
    "\tinvoke_agent(\"Tell me a long joke\")\n",
    " \t\"\"\"\n",
    "  \n",
    "\turl = f\"{server_fastapi}/invoke-agent\"\n",
    "\theaders = {\n",
    "\t\t\"accept\": \"application/json\"\n",
    "\t}\n",
    "\tparams = {\n",
    "\t\t\"query\": query\n",
    "\t}\n",
    "\n",
    "\ttry:\n",
    "\t\tresponse = httpx.get(url, headers=headers, params=params)\n",
    "\t\tresponse.raise_for_status()  \n",
    "\t\tres_txt = response.text\n",
    "\t\treturn res_txt\n",
    "\texcept httpx.HTTPError as e:\n",
    "\t\tprint(f\"Request failed with status code {e.response.status_code}: {e.response.content.decode('utf-8')}\")\n",
    "\t\treturn None"
   ]
  },
  {
   "cell_type": "markdown",
   "metadata": {},
   "source": [
    "# Invoke Agent (Async)"
   ]
  },
  {
   "cell_type": "code",
   "execution_count": null,
   "metadata": {},
   "outputs": [],
   "source": [
    "async def invoke_agent():\n",
    "\turl_invoke_agent = f\"{server_fastapi}/invoke-agent\"\n",
    " \n",
    "\tasync with httpx.AsyncClient() as client:\n",
    "\t\tres = await client.get(\n",
    "\t\t\turl_invoke_agent, \n",
    "\t\t\tparams={\n",
    "\t\t\t\t\"query\": \"Hello\"\n",
    "\t\t\t}, \n",
    "\t\t\theaders={\n",
    "\t\t\t\t\"accept\": \"application/json\"\n",
    "\t\t\t}\n",
    "\t\t)\n",
    "\t\n",
    "\treturn res\n",
    "\n",
    "res = asyncio.run(invoke_agent())"
   ]
  },
  {
   "cell_type": "markdown",
   "metadata": {},
   "source": [
    "# Get Agent Chat History"
   ]
  },
  {
   "cell_type": "code",
   "execution_count": null,
   "metadata": {},
   "outputs": [],
   "source": [
    "res = httpx.get(\n",
    "  f\"{server_fastapi}/agent-chat-history\", \n",
    "  params={\n",
    "    \"query\": \"Hello\"\n",
    "  }, \n",
    "  headers={\n",
    "    \"accept\": \"application/json\"\n",
    "  }\n",
    ")\n",
    "res = json.loads(res.content.decode(\"utf-8\"))"
   ]
  },
  {
   "cell_type": "code",
   "execution_count": null,
   "metadata": {},
   "outputs": [],
   "source": [
    "async def get_chat_history(\n",
    "  server_fastapi = 'http://127.0.0.1:8000', \n",
    "):\n",
    "\turl = f\"{server_fastapi}/agent-chat-history\"\n",
    "\theaders = {\n",
    "\t\t\"accept\": \"application/json\"\n",
    "\t}\n",
    "\tparams = {\n",
    "\t}\n",
    "\n",
    "\ttry:\n",
    "\t\tresponse = httpx.get(url, headers=headers, params=params)\n",
    "\t\tresponse.raise_for_status()  # This will raise an exception if the request failed (e.g., 404, 500, etc.)\n",
    "\t\tdata = json.loads(response.content.decode(\"utf-8\"))\n",
    "\t\treturn data\n",
    "\texcept httpx.HTTPError as e:\n",
    "\t\tprint(f\"Request failed with status code {e.response.status_code}: {e.response.content.decode('utf-8')}\")\n",
    "\t\treturn None"
   ]
  },
  {
   "cell_type": "code",
   "execution_count": null,
   "metadata": {},
   "outputs": [],
   "source": [
    "await get_chat_history()"
   ]
  },
  {
   "cell_type": "markdown",
   "metadata": {},
   "source": [
    "# Clear Agent Chat History"
   ]
  },
  {
   "cell_type": "code",
   "execution_count": null,
   "metadata": {},
   "outputs": [],
   "source": [
    "async def clear_chat_history(\n",
    "  server_fastapi = 'http://127.0.0.1:8000', \n",
    "):\n",
    "\turl = f\"{server_fastapi}/agent-chat-history\"\n",
    "\theaders = {\n",
    "\t\t\"accept\": \"application/json\"\n",
    "\t}\n",
    "\tparams = {\n",
    "\t}\n",
    "\n",
    "\ttry:\n",
    "\t\tresponse = httpx.get(url, headers=headers, params=params)\n",
    "\t\tresponse.raise_for_status()  # This will raise an exception if the request failed (e.g., 404, 500, etc.)\n",
    "\t\tdata = json.loads(response.content.decode(\"utf-8\"))\n",
    "\t\treturn data\n",
    "\texcept httpx.HTTPError as e:\n",
    "\t\tprint(f\"Request failed with status code {e.response.status_code}: {e.response.content.decode('utf-8')}\")\n",
    "\t\treturn None"
   ]
  },
  {
   "cell_type": "markdown",
   "metadata": {},
   "source": [
    "# Stream VTC Agent"
   ]
  },
  {
   "cell_type": "code",
   "execution_count": null,
   "metadata": {},
   "outputs": [],
   "source": [
    "url_stream_vtc_agent = f\"{server_fastapi}/stream-vtc-agent\"\n",
    "\n",
    "with httpx.stream(\n",
    "  method='GET', \n",
    "  params={\n",
    "\t\t\"query\": \"Onlinica có các loại tài khoản nào\",\n",
    "\t},\n",
    "  url=url_stream_vtc_agent,\n",
    "  timeout=60,\n",
    ") as r:\n",
    "\n",
    "\tfor chunk in r.iter_text():  # or, for line in r.iter_lines():\n",
    "\t\t\tprint(chunk, end=\"\", flush=True)"
   ]
  }
 ],
 "metadata": {
  "kernelspec": {
   "display_name": "llm",
   "language": "python",
   "name": "python3"
  },
  "language_info": {
   "codemirror_mode": {
    "name": "ipython",
    "version": 3
   },
   "file_extension": ".py",
   "mimetype": "text/x-python",
   "name": "python",
   "nbconvert_exporter": "python",
   "pygments_lexer": "ipython3",
   "version": "3.11.8"
  }
 },
 "nbformat": 4,
 "nbformat_minor": 2
}
