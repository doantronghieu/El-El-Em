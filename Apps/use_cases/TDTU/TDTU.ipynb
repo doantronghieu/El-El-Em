{
	"cells": [
		{
			"cell_type": "code",
			"execution_count": 2,
			"metadata": {
				"notebookRunGroups": {
					"groupValue": "1"
				}
			},
			"outputs": [
				{
					"name": "stderr",
					"output_type": "stream",
					"text": [
						"/opt/homebrew/Caskroom/miniconda/base/envs/llm/lib/python3.11/site-packages/tqdm/auto.py:21: TqdmWarning: IProgress not found. Please update jupyter and ipywidgets. See https://ipywidgets.readthedocs.io/en/stable/user_install.html\n",
						"  from .autonotebook import tqdm as notebook_tqdm\n"
					]
				}
			],
			"source": [
				"import yaml\n",
				"import add_packages\n",
				"from pprint import pprint\n",
				"import os\n",
				"import pandas as pd\n",
				"from tqdm.auto import tqdm\n",
				"\n",
				"from toolkit.langchain import (\n",
				"\tdocument_loaders, text_splitters, text_embedding_models, stores, \n",
				"\tprompts, utils, output_parsers, agents, documents, models,\n",
				"\trunnables, tools, chains\n",
				")\n",
				"\n",
				"from toolkit import sql, utils\n",
				"\n",
				"PATH_DATA = f\"{add_packages.APP_PATH}/data/tdtu/FEEE\"\n",
				"FILE_CFG = \"tdtu.yaml\"\n",
				"tqdm.pandas(desc=\"Processing\")\n",
				"\n",
				"with open(f\"{add_packages.APP_PATH}/my_configs/{FILE_CFG}\", 'r') as file:\n",
				"\tconfigs = yaml.safe_load(file)"
			]
		},
		{
			"cell_type": "code",
			"execution_count": 3,
			"metadata": {},
			"outputs": [],
			"source": [
				"# llm = models.chat_openai\n",
				"# embeddings = text_embedding_models.OpenAIEmbeddings()\n",
				"llm = models.create_llm(provider=\"openai\", version=\"gpt-4o-mini\")\n",
				"embeddings = text_embedding_models.OpenAIEmbeddings(model=\"text-embedding-3-large\")\n",
				"\n",
				"vectorstore = stores.faiss.FAISS"
			]
		},
		{
			"cell_type": "code",
			"execution_count": 4,
			"metadata": {},
			"outputs": [],
			"source": [
				"my_sql_db = sql.MySQLDatabase()\n",
				"# my_sql_db = sql.MySQLDatabase(\n",
				"# \tdbname=os.getenv(\"SQL_DB_NEON\"),\n",
				"# \thost=os.getenv(\"SQL_HOST_NEON\"),\n",
				"# \tport=os.getenv(\"SQL_PORT_NEON\"),\n",
				"# \tuser=os.getenv(\"SQL_USER_NEON\"),\n",
				"# \tpassword=os.getenv(\"SQL_PASSWORD_NEON\"),\n",
				"# )"
			]
		},
		{
			"cell_type": "markdown",
			"metadata": {},
			"source": [
				"# Data"
			]
		},
		{
			"cell_type": "markdown",
			"metadata": {},
			"source": [
				"## txt"
			]
		},
		{
			"cell_type": "markdown",
			"metadata": {},
			"source": [
				"### tdtu_feee_faq"
			]
		},
		{
			"cell_type": "code",
			"execution_count": null,
			"metadata": {},
			"outputs": [],
			"source": [
				"path_txt = f\"{PATH_DATA}/tdtu_feee_faq.txt\""
			]
		},
		{
			"cell_type": "code",
			"execution_count": null,
			"metadata": {},
			"outputs": [],
			"source": [
				"loader_txt = document_loaders.TextLoader(path_txt)\n",
				"doc_txt = loader_txt.load()\n",
				"\n",
				"text_splitter = text_splitters.RecursiveCharacterTextSplitter(\n",
				"\t# chunk_size=500, chunk_overlap=100,\n",
				"\tseparators=[\"##\"], chunk_size=1000, chunk_overlap=0,\n",
				")\n",
				"docs_txt = text_splitter.split_documents(doc_txt)\n",
				"docs_txt = docs_txt[1:]\n",
				"\n",
				"metadatas = {\n",
				"\t\"data\": \"general information\"\n",
				"}\n",
				"utils.remove_metadata(docs_txt, \"source\")\n",
				"utils.update_metadata(docs_txt, metadatas)"
			]
		},
		{
			"cell_type": "code",
			"execution_count": null,
			"metadata": {},
			"outputs": [],
			"source": [
				"docs_txt_tdtu_feee_faq = docs_txt"
			]
		},
		{
			"cell_type": "markdown",
			"metadata": {},
			"source": [
				"### File 2"
			]
		},
		{
			"cell_type": "code",
			"execution_count": null,
			"metadata": {},
			"outputs": [],
			"source": [
				"path_txt = f\"{PATH_DATA}/faq.txt\""
			]
		},
		{
			"cell_type": "code",
			"execution_count": null,
			"metadata": {},
			"outputs": [],
			"source": [
				"loader_txt = document_loaders.TextLoader(path_txt)\n",
				"doc_txt = loader_txt.load()\n",
				"\n",
				"text_splitter = text_splitters.RecursiveCharacterTextSplitter(\n",
				"\t# chunk_size=500, chunk_overlap=100,\n",
				"\tseparators=[\"##\"], chunk_size=150, chunk_overlap=0,\n",
				")\n",
				"docs_txt = text_splitter.split_documents(doc_txt)\n",
				"docs_txt = docs_txt[1:]\n",
				"\n",
				"metadatas = {\n",
				"\t\"data\": \"frequently asked questions\"\n",
				"}\n",
				"utils.remove_metadata(docs_txt, \"source\")\n",
				"utils.update_metadata(docs_txt, metadatas)"
			]
		},
		{
			"cell_type": "markdown",
			"metadata": {},
			"source": [
				"## csv"
			]
		},
		{
			"cell_type": "markdown",
			"metadata": {},
			"source": [
				"### NhanSu"
			]
		},
		{
			"cell_type": "code",
			"execution_count": null,
			"metadata": {},
			"outputs": [],
			"source": [
				"file_xlsx = \"NhanSu.xlsx\"\n",
				"path_xlsx = f\"{PATH_DATA}/{file_xlsx}\"\n",
				"path_xlsx_processed = f\"{PATH_DATA}/{file_xlsx.split('.')[0]}1.xlsx\""
			]
		},
		{
			"cell_type": "code",
			"execution_count": null,
			"metadata": {},
			"outputs": [],
			"source": [
				"df = pd.read_excel(\n",
				"\tpath_xlsx, \n",
				" \t# delimiter=\";\"\n",
				")\n",
				"\n",
				"df.head()\n",
				"\n",
				"# Prompting to get new col names"
			]
		},
		{
			"cell_type": "markdown",
			"metadata": {},
			"source": [
				"#### Process"
			]
		},
		{
			"cell_type": "code",
			"execution_count": null,
			"metadata": {},
			"outputs": [],
			"source": [
				"model = models.chat_openai\n",
				"\n",
				"template1 = \"\"\"\\\n",
				"...\n",
				"{text}\n",
				"\"\"\"\n",
				"\n",
				"template2 = \"\"\"\\\n",
				"...\n",
				"{text}\n",
				"\"\"\"\n",
				"\n",
				"prompt_template1 = prompts.PromptTemplate.from_template(template1)\n",
				"prompt_template2 = prompts.PromptTemplate.from_template(template2)\n",
				"\n",
				"chain1 = prompt_template1 | model | output_parsers.StrOutputParser()\n",
				"chain2 = prompt_template2 | model | output_parsers.StrOutputParser()\n",
				"\n",
				"# chain = runnables.RunnablePassthrough.assign(\n",
				"#   text=chain1\n",
				"# ).assign(\n",
				"#   text=chain2\n",
				"# )\n",
				"\n",
				"\n",
				"chain = runnables.RunnablePassthrough.assign(\n",
				"  text=chain1\n",
				")\n",
				"\n",
				"def process_xlsx_col(text: str) -> str:\n",
				"  result = chain.invoke({\"text\": text})['text']\n",
				"  return result\n",
				"\n",
				"def capitalize_first_letter(s):\n",
				"\treturn ' '.join([word.capitalize() for word in s.split()])\n",
				"\n",
				"def change_col_value(df: pd.DataFrame, column_name: str, value, new_value):\n",
				"\tdf[column_name] = df[column_name].replace(value, new_value)\n",
				"\treturn df\n",
				"\n",
				"def replace_col_value_if_contains(df, column_name, substring, new_substring):\n",
				"\tdf[column_name] = df[column_name].str.replace(substring, new_substring)\n",
				"\treturn df\n",
				"\n",
				"# query = '...'\n",
				"# result = process_xlsx_col(query)\n",
				"\n",
				"# pprint(result)"
			]
		},
		{
			"cell_type": "code",
			"execution_count": null,
			"metadata": {},
			"outputs": [],
			"source": [
				"col_to_process = \"Liên hệ\"\n",
				"\n",
				"df[col_to_process] = df[col_to_process].progress_apply(process_xlsx_col)\n"
			]
		},
		{
			"cell_type": "code",
			"execution_count": null,
			"metadata": {},
			"outputs": [],
			"source": [
				"# df.to_excel(f\"{path_xlsx_processed}\", index=False)"
			]
		},
		{
			"cell_type": "code",
			"execution_count": null,
			"metadata": {},
			"outputs": [],
			"source": [
				"path_xlsx = path_xlsx_processed"
			]
		},
		{
			"cell_type": "markdown",
			"metadata": {},
			"source": [
				"#### Load to sql"
			]
		},
		{
			"cell_type": "code",
			"execution_count": null,
			"metadata": {},
			"outputs": [],
			"source": [
				"my_table_schema = [\n",
				"\t\"id SERIAL\",\n",
				"\t\"faculty TEXT\",\n",
				"\t\"name TEXT\",\n",
				"\t\"position TEXT\",\n",
				"\t\"major TEXT\",\n",
				"\t\"email TEXT\",\n",
				"\t\"office TEXT\",\n",
				"\t\"child_department TEXT\",\n",
				"\t\"PRIMARY KEY (id)\",\n",
				"]\n",
				"\n",
				"my_table = sql.MySQLTable(\n",
				"\tname=\"tdtu_feee_personnel\", \n",
				"\tschema=my_table_schema,\n",
				"\tdb=my_sql_db,\n",
				")\n",
				"my_table.create()\n",
				"\n",
				"db = stores.SQLDatabase.from_uri(my_sql_db.get_uri())\n",
				"\n",
				"table_cols = [col_description.split(\" \")[0] for col_description in my_table_schema][1:-1]\n"
			]
		},
		{
			"cell_type": "code",
			"execution_count": null,
			"metadata": {},
			"outputs": [],
			"source": [
				"# my_table.insert_from_dataframe(df)"
			]
		},
		{
			"cell_type": "code",
			"execution_count": null,
			"metadata": {},
			"outputs": [],
			"source": [
				"# df = pd.read_excel(path_xlsx)\n",
				"# df.columns = table_cols\n",
				"\n",
				"# my_table.insert_from_dataframe(df)\n",
				"\n",
				"# cols = ['name', 'position', 'major', 'office', 'child_department']\n",
				"# proper_nouns = [value for col in cols for value in my_table.get_discrete_values_col(col)]\n"
			]
		},
		{
			"cell_type": "code",
			"execution_count": null,
			"metadata": {},
			"outputs": [],
			"source": [
				"# all_proper_nouns.extend(proper_nouns)"
			]
		},
		{
			"cell_type": "code",
			"execution_count": null,
			"metadata": {},
			"outputs": [],
			"source": [
				"questions = ...\n",
				"examples_questions_to_sql = ..."
			]
		},
		{
			"cell_type": "markdown",
			"metadata": {},
			"source": [
				"### ChuongTrinhDaoTao"
			]
		},
		{
			"cell_type": "code",
			"execution_count": null,
			"metadata": {},
			"outputs": [],
			"source": [
				"file_xlsx = \"ChuongTrinhDaoTao.xlsx\"\n",
				"path_xlsx = f\"{PATH_DATA}/{file_xlsx}\"\n",
				"path_xlsx_processed = f\"{PATH_DATA}/{file_xlsx.split('.')[0]}1.xlsx\""
			]
		},
		{
			"cell_type": "code",
			"execution_count": null,
			"metadata": {},
			"outputs": [],
			"source": [
				"df = pd.read_excel(\n",
				"\tpath_xlsx, \n",
				" \t# delimiter=\";\"\n",
				")\n",
				"\n",
				"df.head()\n",
				"\n",
				"# Prompting to get new col names"
			]
		},
		{
			"cell_type": "markdown",
			"metadata": {},
			"source": [
				"#### Process"
			]
		},
		{
			"cell_type": "code",
			"execution_count": null,
			"metadata": {},
			"outputs": [],
			"source": [
				"model = models.chat_openai\n",
				"\n",
				"template1 = \"\"\"\\\n",
				"...\n",
				"{text}\n",
				"\"\"\"\n",
				"\n",
				"template2 = \"\"\"\\\n",
				"...\n",
				"{text}\n",
				"\"\"\"\n",
				"\n",
				"prompt_template1 = prompts.PromptTemplate.from_template(template1)\n",
				"prompt_template2 = prompts.PromptTemplate.from_template(template2)\n",
				"\n",
				"chain1 = prompt_template1 | model | output_parsers.StrOutputParser()\n",
				"chain2 = prompt_template2 | model | output_parsers.StrOutputParser()\n",
				"\n",
				"# chain = runnables.RunnablePassthrough.assign(\n",
				"#   text=chain1\n",
				"# ).assign(\n",
				"#   text=chain2\n",
				"# )\n",
				"\n",
				"\n",
				"chain = runnables.RunnablePassthrough.assign(\n",
				"  text=chain1\n",
				")\n",
				"\n",
				"def process_xlsx_col(text: str) -> str:\n",
				"  result = chain.invoke({\"text\": text})['text']\n",
				"  return result\n",
				"\n",
				"def capitalize_first_letter(s):\n",
				"\treturn ' '.join([word.capitalize() for word in s.split()])\n",
				"\n",
				"def change_col_value(df: pd.DataFrame, column_name: str, value, new_value):\n",
				"\tdf[column_name] = df[column_name].replace(value, new_value)\n",
				"\treturn df\n",
				"\n",
				"def replace_col_value_if_contains(df, column_name, substring, new_substring):\n",
				"\tdf[column_name] = df[column_name].str.replace(substring, new_substring)\n",
				"\treturn df\n",
				"\n",
				"# query = '...'\n",
				"# result = process_xlsx_col(query)\n",
				"\n",
				"# pprint(result)"
			]
		},
		{
			"cell_type": "code",
			"execution_count": null,
			"metadata": {},
			"outputs": [],
			"source": [
				"col_to_process = \"Liên hệ\"\n",
				"\n",
				"df[col_to_process] = df[col_to_process].progress_apply(process_xlsx_col)\n"
			]
		},
		{
			"cell_type": "code",
			"execution_count": null,
			"metadata": {},
			"outputs": [],
			"source": [
				"df.to_excel(f\"{path_xlsx_processed}\", index=False)"
			]
		},
		{
			"cell_type": "code",
			"execution_count": null,
			"metadata": {},
			"outputs": [],
			"source": [
				"df"
			]
		},
		{
			"cell_type": "code",
			"execution_count": null,
			"metadata": {},
			"outputs": [],
			"source": [
				"path_xlsx = path_xlsx_processed"
			]
		},
		{
			"cell_type": "markdown",
			"metadata": {},
			"source": [
				"#### Load to sql"
			]
		},
		{
			"cell_type": "code",
			"execution_count": null,
			"metadata": {},
			"outputs": [],
			"source": [
				"my_table_schema = [\n",
				"\t\"id SERIAL\",\n",
				"\t\"faculty TEXT\",\n",
				"\t\"study_field TEXT\",\n",
				"\t\"link TEXT\",\n",
				"\t\"program_type TEXT\",\n",
				"\t\"education_level TEXT\",\n",
				"\t\"introduction TEXT\",\n",
				"\t\"career_prospects TEXT\",\n",
				"\t\"outcome TEXT\",\n",
				"\t\"syllabub TEXT\",\n",
				"\t\"admission_candidates TEXT\",\n",
				"\t\"registration TEXT\",\n",
				"\t\"tuition TEXT\",\n",
				" \t\"contact TEXT\",\n",
				"\t\"PRIMARY KEY (id)\",\n",
				"]\n",
				"my_table = sql.MySQLTable(\n",
				"\tname=\"tdtu_feee_admission\", \n",
				"\tschema=my_table_schema,\n",
				"\tdb=my_sql_db,\n",
				")\n",
				"my_table.create()\n",
				"\n",
				"table_cols = [col_description.split(\" \")[0] for col_description in my_table_schema][1:-1]\n"
			]
		},
		{
			"cell_type": "code",
			"execution_count": null,
			"metadata": {},
			"outputs": [],
			"source": [
				"# my_table.insert_from_dataframe(df)"
			]
		},
		{
			"cell_type": "code",
			"execution_count": null,
			"metadata": {},
			"outputs": [],
			"source": [
				"# df = pd.read_excel(path_xlsx)\n",
				"# df.columns = table_cols\n",
				"\n",
				"# my_table.insert_from_dataframe(df)\n",
				"\n",
				"# cols = ['faculty', 'study_field', 'program_type', 'education_level']\n",
				"# proper_nouns = [value for col in cols for value in my_table.get_discrete_values_col(col)]\n"
			]
		},
		{
			"cell_type": "code",
			"execution_count": null,
			"metadata": {},
			"outputs": [],
			"source": [
				"# all_proper_nouns.extend(proper_nouns)"
			]
		},
		{
			"cell_type": "code",
			"execution_count": null,
			"metadata": {},
			"outputs": [],
			"source": [
				"questions = ...\n",
				"examples_questions_to_sql = ..."
			]
		},
		{
			"cell_type": "markdown",
			"metadata": {},
			"source": [
				"# Vector store "
			]
		},
		{
			"cell_type": "markdown",
			"metadata": {},
			"source": [
				"## txt"
			]
		},
		{
			"cell_type": "markdown",
			"metadata": {},
			"source": [
				"### tdtu_feee_faq"
			]
		},
		{
			"cell_type": "code",
			"execution_count": 5,
			"metadata": {},
			"outputs": [
				{
					"name": "stderr",
					"output_type": "stream",
					"text": [
						"\u001b[32m2024-08-06 09:04:56.239\u001b[0m | \u001b[1mINFO    \u001b[0m | \u001b[36mtoolkit.langchain.stores\u001b[0m:\u001b[36mcreate_embeddings\u001b[0m:\u001b[36m80\u001b[0m - \u001b[1m[Embeddings] openai. Model: text-embedding-3-large\u001b[0m\n",
						"\u001b[32m2024-08-06 09:04:57.089\u001b[0m | \u001b[1mINFO    \u001b[0m | \u001b[36mtoolkit.langchain.stores\u001b[0m:\u001b[36msetup_collection\u001b[0m:\u001b[36m301\u001b[0m - \u001b[1m[Qdrant] Collection `tdtu_feee_faq` found.\u001b[0m\n",
						"\u001b[32m2024-08-06 09:04:57.091\u001b[0m | \u001b[1mINFO    \u001b[0m | \u001b[36mtoolkit.langchain.stores\u001b[0m:\u001b[36mcreate_retriever\u001b[0m:\u001b[36m174\u001b[0m - \u001b[1m[Retrievers] base\u001b[0m\n"
					]
				}
			],
			"source": [
				"qdrant_txt_tdtu_feee_faq = stores.QdrantStore(\n",
				"  embeddings_provider=\"openai\",\n",
				"\tembeddings_model=\"text-embedding-3-large\",\n",
				"\tllm=models.chat_openai,\n",
				"\tsearch_type=\"mmr\",\n",
				"  configs=configs,\n",
				"  distance=\"Cosine\",\n",
				"  retriever_types=\"base\",\n",
				"  **configs[\"vector_db\"][\"qdrant\"][\"tdtu_feee_faq\"],\n",
				")"
			]
		},
		{
			"cell_type": "code",
			"execution_count": null,
			"metadata": {},
			"outputs": [],
			"source": [
				"# qdrant_txt_tdtu_feee_faq.add_documents(docs_txt_tdtu_feee_faq)"
			]
		},
		{
			"cell_type": "markdown",
			"metadata": {},
			"source": [
				"# Test"
			]
		},
		{
			"cell_type": "code",
			"execution_count": 6,
			"metadata": {},
			"outputs": [],
			"source": [
				"my_chain_rag_tdtu_feee_faq = chains.MyRagChain(\n",
				"\tllm=llm,\n",
				"\tretriever=qdrant_txt_tdtu_feee_faq.retriever,\n",
				"\tis_debug=False,\n",
				"\tjust_return_ctx=True,\n",
				"\t**configs[\"vector_db\"][\"qdrant\"][\"tdtu_feee_faq\"],\n",
				")\n",
				"\n",
				"tool_chain_rag_tdtu_feee_faq = my_chain_rag_tdtu_feee_faq.create_tool_chain_rag()\n"
			]
		},
		{
			"cell_type": "code",
			"execution_count": 7,
			"metadata": {},
			"outputs": [],
			"source": [
				"examples_fewshot_tmp = dict(configs[\"sql\"][\"examples_questions_to_sql\"]).values()\n",
				"examples_questions_to_sql = [example for sublist in examples_fewshot_tmp for example in sublist]\n",
				"\n",
				"proper_nouns = configs[\"sql\"][\"proper_nouns\"]\n",
				"\n",
				"my_sql_db = sql.MySQLDatabase()\n",
				"\n",
				"cfg_sql = configs[\"sql\"]\n",
				"cfg_sql_tool = cfg_sql[\"tool\"]\n",
				"\n",
				"my_sql_chain = chains.MySqlChain(\n",
				"\tmy_sql_db=my_sql_db,\n",
				"\tllm=llm,\n",
				"\tembeddings=embeddings,\n",
				"\tvectorstore=vectorstore,\n",
				"\tproper_nouns=proper_nouns,\n",
				"\tk_retriever_proper_nouns=4,\n",
				"\texamples_questions_to_sql=examples_questions_to_sql,\n",
				"\tk_few_shot_examples=5,\n",
				"\tsql_max_out_length=2000,\n",
				"\tis_sql_get_all=True,\n",
				"\tis_debug=False,\n",
				"\ttool_name=cfg_sql_tool[\"name\"],\n",
				"\ttool_description=cfg_sql_tool[\"description\"],\n",
				"\ttool_metadata=cfg_sql_tool[\"metadata\"],\n",
				"\ttool_tags=cfg_sql_tool[\"tags\"],\n",
				")\n",
				"\n",
				"tool_chain_sql = my_sql_chain.create_tool_chain_sql()"
			]
		},
		{
			"cell_type": "code",
			"execution_count": 8,
			"metadata": {},
			"outputs": [
				{
					"name": "stderr",
					"output_type": "stream",
					"text": [
						"\u001b[32m2024-08-06 09:05:56.141\u001b[0m | \u001b[1mINFO    \u001b[0m | \u001b[36mtoolkit.langchain.agents\u001b[0m:\u001b[36m_create_agent\u001b[0m:\u001b[36m159\u001b[0m - \u001b[1mAgent type: tool_calling\u001b[0m\n"
					]
				}
			],
			"source": [
				"llm = models.create_llm(provider=\"openai\", version=\"gpt-4o-mini\")\n",
				"\n",
				"tools = [\n",
				"\ttool_chain_rag_tdtu_feee_faq,\n",
				"\ttool_chain_sql,\n",
				"]\n",
				"\n",
				"system_message_custom = configs[\"prompts\"][\"system_message_tdtu\"]\n",
				"prompt = prompts.create_prompt_tool_calling_agent(system_message_custom)\n",
				"\n",
				"agent = agents.MyStatelessAgent(\n",
				"\tllm=llm,\n",
				"\ttools=tools,\n",
				"\tprompt=prompt,\n",
				"\tagent_type=\"tool_calling\",\n",
				"\tagent_verbose=False,\n",
				")"
			]
		},
		{
			"cell_type": "code",
			"execution_count": 9,
			"metadata": {},
			"outputs": [
				{
					"name": "stderr",
					"output_type": "stream",
					"text": [
						"\u001b[32m2024-08-06 09:06:21.170\u001b[0m | \u001b[1mINFO    \u001b[0m | \u001b[36mtoolkit.langchain.agents\u001b[0m:\u001b[36m__init__\u001b[0m:\u001b[36m94\u001b[0m - \u001b[1mUser Id: Sonya Herring-521d7b89-942b-4e6d-9c71-10b614d8c726\u001b[0m\n",
						"\u001b[32m2024-08-06 09:06:21.171\u001b[0m | \u001b[1mINFO    \u001b[0m | \u001b[36mtoolkit.langchain.agents\u001b[0m:\u001b[36m__init__\u001b[0m:\u001b[36m95\u001b[0m - \u001b[1mSession Id: acd7f055-5096-4ff8-89ab-788e340ee5b0\u001b[0m\n",
						"\u001b[32m2024-08-06 09:06:21.172\u001b[0m | \u001b[1mINFO    \u001b[0m | \u001b[36mtoolkit.langchain.agents\u001b[0m:\u001b[36m__init__\u001b[0m:\u001b[36m96\u001b[0m - \u001b[1mHistory Type: mongodb\u001b[0m\n",
						"/opt/homebrew/Caskroom/miniconda/base/envs/llm/lib/python3.11/site-packages/langchain_core/_api/beta_decorator.py:87: LangChainBetaWarning: This API is in beta and may change in the future.\n",
						"  warn_beta(\n"
					]
				},
				{
					"name": "stdout",
					"output_type": "stream",
					"text": [
						"`[TOOL - CALLING]` \n",
						"Invoking: `sql_executor` with `{'question': 'Chi tiết Chương trình Đại học về Tự động hoá khoa Điện tại Trường Đại học Tôn Đức Thắng.'}`\n",
						"\n",
						"\n",
						"`[TOOL - RESULT]` [(4, 'Điện - Điện tử', 'Kỹ thuật Điều khiển và Tự động hóa', 'https://feee.tdtu.edu.vn/giao-duc/dai-hoc-tieu-chuan/nganh-ky-thuat-dieu-khien-va-tu-dong-hoa-chuong-trinh-tieu-chuan', 'Tiêu chuẩn', 'Đại học', '## Giới thiệu chương trình đào tạo ngành Kỹ thuật Điều khiển và Tự động hóa\\n\\nNgành Kỹ thuật điều khiển và tự động hóa liên quan đến quá trình sản xuất công nghiệp, thay thế thao tác con người bằng máy móc, robot. Sinh viên sẽ học về hệ thống điều khiển tự động, công nghệ điện tử, và sáng tạo trong công nghiệp.\\n\\nChương trình đào tạo có tính ứng dụng cao, tiếp xúc với trang thiết bị thí nghiệm hiện đại từ các tập đoàn lớn. Sinh viên sẽ được học về điều khiển hệ thống, tự động hóa sản xuất, và chế tạo robot.\\n\\nSau khi tốt nghiệp, sinh viên có thể làm việc tại viện nghiên cứu, trường đại học, doanh nghiệp sản xuất, hoặc cơ hội khác như công nghệ thông tin, sinh học, y khoa.', '## Triển vọng nghề nghiệp của ngành Kỹ thuật Điều khiển và Tự động hóa\\n\\nSinh viên tốt nghiệp ngành Kỹ thuật Điều khiển và Tự động hóa có thể làm việc ở các vị trí sau:\\n\\na. Viện, Trung tâm nghiên cứu, trường Đại học:\\n\\n- Nghiên cứu viên tại Viện Nghiên cứu Điện tử – tin học – Tự động hóa, Viện Ứng dụng công nghệ, Trung tâm thiết kế vi mạch, Khu công nghệ cao, ...\\n\\n- Giảng viên hoặc nghiên cứu viên tại trường Đại học chuyên ngành Điều khiển tự động.\\n\\nb. Doanh nghiệp sản xuất trong và ngoài nước:\\n\\n- Kỹ sư thiết kế, vận hành, bảo trì kỹ thuật trong dây chuyền sản xuất hiện đại như lắp ráp ô tô, tự động hóa hàng không, nhà máy điện, nhà máy thực phẩm, vật liệu xây dựng, thiết bị điện tử dân dụng, ...\\n\\nc. Doanh nghiệp tư vấn kỹ thuật, kinh doanh thiết bị tự động hoặc chuyển giao công nghệ:\\n\\n- Chuyên viên tư vấn, hỗ trợ kỹ thuật cho đơn vị sản xuất kinh doanh.\\n\\n- Tham gia xây dựng, thiết kế, triển khai hệ thống điều khiển tự động mới, sửa chữa và nâng cấp hệ thống đã có.\\n\\nd. Cơ hội khác:\\n\\nSinh viên tốt nghiệp ngành Kỹ thuật Điều khiển và Tự động hóa có thể làm việc trong các doanh nghiệp khác như công nghệ thông tin, sinh học, y khoa.', 'https://feee.tdtu.edu.vn/chi-tiet-nganh/chuan-dau-ra-2022-nganh-ky-thuat-dieu-khien-va-tu-dong-hoa-chuong-trinh-tieu-chuan', 'Chương trình đào tạo của Đại học Tôn Đức Thắng được thiết kế đồng bộ với phương pháp giảng dạy, học tập và đánh giá kết quả học tập để đảm bảo người học tích lũy kiến thức và năng lực theo chuẩn đầu ra đại học. Chương trình này tương thích với TOP 100 đại học tốt nhất Thế giới, nhưng được điều chỉnh để phù hợp với điều kiện thực tế tại Việt Nam và mục tiêu đào tạo của trường.\\n\\nNhà trường thường rà soát và đánh giá chương trình đào tạo để đảm bảo người học đáp ứng yêu cầu xã hội và cập nhật công nghệ mới. Quá trình này có sự tham gia của nhà khoa học, nhà tuyển dụng, cựu sinh viên, sinh viên và giảng viên. Chương trình đào tạo được công bố qua cổng thông tin sinh viên và trên website chính thức của trường.\\n\\n[Chi tiết](https://feee.tdtu.edu.vn/chi-tiet-nganh/chuong-trinh-dao-tao-2022-nganh-ky-thuat-dieu-khien-va-tu-dong-hoa-ma-nganh-7520216)', 'Thí sinh tốt nghiệp THPT hoặc tương đương.', 'https://admission.tdtu.edu.vn/dai-hoc/tuyen-sinh/phuong-thuc-2027', 'Mức Học phí trung bình (đồng/năm) năm 2024: 31,680,000\\nTham khảo: https://admission.tdtu.edu.vn/hoc-tai-tdtu/hoc-phi-hoc-bong-2024', 'Số 19 Nguyễn Hữu Thọ, Phường Tân Phong, Quận 7, TP. Hồ Chí Minh, Việt Nam\\n\\nTư vấn tuyển sinh đại học:\\n- Hotline: 19002024\\n- Email: tuvantuyensinh@tdtu.edu.vn\\n\\nTư vấn tuyển sinh sau đại học:\\n- Hotline: 0944 314 466\\n- Email: tssdh@tdtu.edu.vn\\n\\nTư vấn liên kết đào tạo quốc tế:\\n- Hotline: 0935 035 270\\n- Email: tuvantuyensinhlkqt@tdtu.edu.vn\\n\\nKhoa Điện - Điện tử:\\n- Phòng C008 - Số 19 Nguyễn Hữu Thọ, Phường Tân Phong, Quận 7, TP. Hồ Chí Minh, Việt Nam\\n- Điện thoại: 02837.755.028\\n- Email: khoadien@tdtu.edu.vn\\n- website: https://feee.tdtu.edu.vn/\\n- Facebook: https://web.facebook.com/feee.tdtu.edu.vn?_rdc=1&_rdr\\n- Youtube: https://www.youtube.com/channel/UCkeB4slthGY9B3MHCfdOfLA'), (5, 'Điện - Điện tử', 'Kỹ thuật Điều khiển và Tự động hóa', 'https://feee.tdtu.edu.vn/giao-duc/dai-hoc-chat-luong-cao/nganh-ky-thuat-dieu-khien-va-tu-dong-hoa-chuong-trinh-chat-luong-0', 'Chất lượng cao', 'Đại học', '## Giới thiệu chương trình đào tạo ngành Kỹ thuật điều khiển và tự động hóa tại trường đại học\\n\\nNgành Kỹ thuật điều khiển và tự động hóa liên quan đến quá trình sản xuất công nghiệp, thay thế thao tác con người bằng máy móc, robot. Sinh viên sẽ học về hệ thống điều khiển tự động hiện đại, công nghệ điện tử, và ý tưởng sáng tạo trong công nghiệp.\\n\\nChương trình đào tạo có tính ứng dụng cao, tiếp cận trang thiết bị thí nghiệm hiện đại từ các tập đoàn lớn trên thế giới. Sinh viên sẽ được học về điều khiển hệ thống tự động, tự động hóa sản xuất, truyền thông công nghiệp, và chế tạo robot.\\n\\nMôi trường học tập chuyên nghiệp với sĩ số lớp nhỏ, đội ngũ giảng viên uy tín, cơ sở vật chất hiện đại. Sinh viên tốt nghiệp loại giỏi có cơ hội nhận học bổng cao học tại trường hoặc học bổng toàn phần ở các trường đối tác trên thế giới. Chương trình học được xây dựng theo nhu cầu thị trường lao động, giảng dạy bằng tiếng Anh và tiếng Việt, có cơ hội thực tập ở nước ngoài.', '## Triển vọng nghề nghiệp của ngành Kỹ thuật Điều khiển và Tự động hóa\\n\\nSinh viên tốt nghiệp ngành này có thể làm việc tại:\\n\\n- Viện Nghiên cứu Điện tử – tin học – Tự động hóa, Viện Ứng dụng công nghệ, Trung tâm thiết kế vi mạch, Khu công nghệ cao, trường Đại học.\\n\\n- Các doanh nghiệp sản xuất trong và ngoài nước, làm kỹ sư thiết kế, vận hành, bảo trì kỹ thuật.\\n\\n- Các doanh nghiệp tư vấn kỹ thuật, kinh doanh thiết bị tự động hoặc chuyển giao công nghệ.\\n\\n- Khởi nghiệp trong lĩnh vực điện, tự động hóa.\\n\\n- Cơ hội khác trong các ngành công nghệ thông tin, sinh học, y khoa.', 'https://feee.tdtu.edu.vn/chi-tiet-nganh/chuan-dau-ra-2022-nganh-ky-thuat-dieu-khien-va-tu-dong-hoa-chuong-trinh-chat-luong-0', 'Chương trình đào tạo của Đại học Tôn Đức Thắng được thiết kế đồng bộ với phương pháp giảng dạy, học tập và đánh giá kết quả học tập để đảm bảo người học tích lũy kiến thức và năng lực theo chuẩn đầu ra đại học. Chương trình này tương thích với TOP 100 đại học tốt nhất Thế giới, nhưng được điều chỉnh để phù hợp với điều kiện thực tế tại Việt Nam và mục tiêu đào tạo của trường.\\n\\nNhà trường thường rà soát và đánh giá chương trình đào tạo để đảm bảo người học đáp ứng yêu cầu xã hội và cập nhật công nghệ mới. Quá trình này có sự tham gia của nhà khoa học, nhà tuyển dụng, cựu sinh viên, sinh viên và giảng viên. Chương trình đào tạo được công bố qua cổng thông tin sinh viên và trên website chính thức của trường.\\n\\n[Chi tiết](https://feee.tdtu.edu.vn/chi-tiet-nganh/chuong-trinh-dao-tao-2022-nganh-ky-thuat-dieu-khien-va-tu-dong-hoa-ma-nganh)', 'Thí sinh tốt nghiệp THPT hoặc tương đương.', 'https://admission.tdtu.edu.vn/dai-hoc/tuyen-sinh/phuong-thuc-2028', 'Mức Học phí trung bình (đồng/năm) năm 2024: Từ 53,000,000 đến 54,000,000\\nTham khảo: https://admission.tdtu.edu.vn/hoc-tai-tdtu/hoc-phi-hoc-bong-2024', 'Số 19 Nguyễn Hữu Thọ, Phường Tân Phong, Quận 7, TP. Hồ Chí Minh, Việt Nam\\n\\nTư vấn tuyển sinh đại học:\\n- Hotline: 19002024\\n- Email: tuvantuyensinh@tdtu.edu.vn\\n\\nTư vấn tuyển sinh sau đại học:\\n- Hotline: 0944 314 466\\n- Email: tssdh@tdtu.edu.vn\\n\\nTư vấn liên kết đào tạo quốc tế:\\n- Hotline: 0935 035 270\\n- Email: tuvantuyensinhlkqt@tdtu.edu.vn\\n\\nKhoa Điện - Điện tử:\\n- Phòng C008 - Số 19 Nguyễn Hữu Thọ, Phường Tân Phong, Quận 7, TP. Hồ Chí Minh, Việt Nam\\n- Điện thoại: 02837.755.028\\n- Email: khoadien@tdtu.edu.vn\\n- website: https://feee.tdtu.edu.vn/\\n- Facebook: https://web.facebook.com/feee.tdtu.edu.vn?_rdc=1&_rdr\\n- Youtube: https://www.youtube.com/channel/UCkeB4slthGY9B3MHCfdOfLA'), (8, 'Điện - Điện tử', 'Kỹ thuật Điều khiển và Tự động hóa', 'https://feee.tdtu.edu.vn/giao-duc/dai-hoc-chat-luong-cao/nganh-ky-thuat-dieu-khien-va-tu-dong-hoa-chuong-trinh-chat-luong', 'Chất lượng cao', 'Đại học', '## Giới thiệu chương trình đào tạo ngành Kỹ thuật điều khiển và tự động hóa tại trường đại học\\n\\n### 1.1. Giới thiệu chương trình\\n\\nNgành Kỹ thuật điều khiển và tự động hóa liên quan đến quá trình sản xuất công nghiệp, thay thế thao tác con người bằng máy móc, robot. Sinh viên sẽ học về hệ thống điều khiển tự động hiện đại, công nghệ điện tử, và ý tưởng sáng tạo trong công nghiệp.\\n\\nChương trình đào tạo có tính ứng dụng cao, tiếp cận trang thiết bị thí nghiệm hiện đại từ các tập đoàn lớn trên thế giới. Sinh viên sẽ được học về điều khiển hệ thống tự động, tự động hóa sản xuất, và chế tạo robot.\\n\\n### 1.2. Điểm khác biệt của chương trình Chất lượng cao\\n\\nMôi trường học tập chuyên nghiệp với sĩ số lớp nhỏ, đội ngũ giảng viên uy tín, cơ sở vật chất hiện đại. Sinh viên tốt nghiệp loại giỏi có cơ hội nhận học bổng cao học và được giới thiệu xin học bổng toàn phần ở các trường đại học trên thế giới. Chương trình học được xây dựng có tính ứng dụng cao, giáo trình hiện đại, và sinh viên được tham gia kiến tập và thực tập hàng năm.', '## Triển vọng nghề nghiệp của ngành Kỹ thuật Điều khiển và Tự động hóa\\n\\nSinh viên tốt nghiệp ngành này có thể làm việc tại:\\n\\n- Viện Nghiên cứu Điện tử – tin học – Tự động hóa, Viện Ứng dụng công nghệ, Trung tâm thiết kế vi mạch, Khu công nghệ cao.\\n\\n- Các doanh nghiệp sản xuất trong và ngoài nước: Kỹ sư thiết kế, vận hành, bảo trì kỹ thuật.\\n\\n- Các doanh nghiệp tư vấn kỹ thuật, kinh doanh thiết bị tự động hoặc chuyển giao công nghệ.\\n\\n- Khởi nghiệp: Tự thành lập công ty, doanh nghiệp trong lĩnh vực điện, tự động hóa.\\n\\n- Các cơ hội khác: Làm việc trong các doanh nghiệp khác như công nghệ thông tin, công nghệ sinh học, y khoa.', 'https://feee.tdtu.edu.vn/chi-tiet-nganh/chuan-dau-ra-2022-nganh-ky-thuat-dieu-khien-va-tu-dong-hoa-chuong-trinh-chat-luong', 'Chương trình đào tạo của Đại học Tôn Đức Thắng được thiết kế đồng bộ với phương pháp giảng dạy, học tập và đánh giá kết quả học tập để đảm bảo người học tích lũy kiến thức và năng lực theo chuẩn đầu ra đại học. Chương trình này tương thích với TOP 100 đại học tốt nhất Thế giới, nhưng được điều chỉnh để phù hợp với điều kiện thực tế tại Việt Nam và mục tiêu đào tạo của trường.\\n\\nNhà trường thường rà soát và đánh giá chương trình đào tạo để đảm bảo người học đáp ứng yêu cầu xã hội và cập nhật công nghệ mới. Quá trình này có sự tham gia của nhà khoa học, nhà tuyển dụng, cựu sinh viên, sinh viên và giảng viên. Chương trình đào tạo được công bố qua cổng thông tin sinh viên và trên website chính thức của trường.\\n\\n[Chi tiết](https://feee.tdtu.edu.vn/chi-tiet-nganh/chuong-trinh-dao-tao-2022-nganh-ky-thuat-dieu-khien-va-tu-dong-hoa-ma-nganh-0)', 'Thí sinh tốt nghiệp THPT hoặc tương đương.', 'https://admission.tdtu.edu.vn/dai-hoc/tuyen-sinh/phuong-thuc-2031', 'Mức Học phí trung bình (đồng/năm) năm 2024: Từ 53,000,000 đến 54,000,000\\nTham khảo: https://admission.tdtu.edu.vn/hoc-tai-tdtu/hoc-phi-hoc-bong-2024', 'Số 19 Nguyễn Hữu Thọ, Phường Tân Phong, Quận 7, TP. Hồ Chí Minh, Việt Nam\\n\\nTư vấn tuyển sinh đại học:\\n- Hotline: 19002024\\n- Email: tuvantuyensinh@tdtu.edu.vn\\n\\nTư vấn tuyển sinh sau đại học:\\n- Hotline: 0944 314 466\\n- Email: tssdh@tdtu.edu.vn\\n\\nTư vấn liên kết đào tạo quốc tế:\\n- Hotline: 0935 035 270\\n- Email: tuvantuyensinhlkqt@tdtu.edu.vn\\n\\nKhoa Điện - Điện tử:\\n- Phòng C008 - Số 19 Nguyễn Hữu Thọ, Phường Tân Phong, Quận 7, TP. Hồ Chí Minh, Việt Nam\\n- Điện thoại: 02837.755.028\\n- Email: khoadien@tdtu.edu.vn\\n- website: https://feee.tdtu.edu.vn/\\n- Facebook: https://web.facebook.com/feee.tdtu.edu.vn?_rdc=1&_rdr\\n- Youtube: https://www.youtube.com/channel/UCkeB4slthGY9B3MHCfdOfLA')]\n",
						"\n",
						"Chương trình Đại học về **Kỹ thuật Điều khiển và Tự động hóa** tại Khoa Điện - Điện tử của Trường Đại học Tôn Đức Thắng được thiết kế với nhiều điểm nổi bật. Dưới đây là thông tin chi tiết về chương trình:\n",
						"\n",
						"### 1. Giới thiệu chương trình\n",
						"Ngành Kỹ thuật Điều khiển và Tự động hóa liên quan đến quá trình sản xuất công nghiệp, thay thế thao tác con người bằng máy móc và robot. Sinh viên sẽ được học về hệ thống điều khiển tự động, công nghệ điện tử, và sáng tạo trong công nghiệp. Chương trình đào tạo có tính ứng dụng cao, tiếp xúc với trang thiết bị thí nghiệm hiện đại từ các tập đoàn lớn.\n",
						"\n",
						"- **Chương trình tiêu chuẩn**: [Chi tiết tại đây](https://feee.tdtu.edu.vn/giao-duc/dai-hoc-tieu-chuan/nganh-ky-thuat-dieu-khien-va-tu-dong-hoa-chuong-trinh-tieu-chuan)\n",
						"- **Chương trình chất lượng cao**: [Chi tiết tại đây](https://feee.tdtu.edu.vn/giao-duc/dai-hoc-chat-luong-cao/nganh-ky-thuat-dieu-khien-va-tu-dong-hoa-chuong-trinh-chat-luong)\n",
						"\n",
						"### 2. Triển vọng nghề nghiệp\n",
						"Sinh viên tốt nghiệp ngành này có thể làm việc tại:\n",
						"- Viện Nghiên cứu, Trung tâm thiết kế vi mạch, Khu công nghệ cao.\n",
						"- Doanh nghiệp sản xuất trong và ngoài nước, làm kỹ sư thiết kế, vận hành, bảo trì kỹ thuật.\n",
						"- Doanh nghiệp tư vấn kỹ thuật, kinh doanh thiết bị tự động hoặc chuyển giao công nghệ.\n",
						"- Khởi nghiệp trong lĩnh vực điện, tự động hóa.\n",
						"\n",
						"### 3. Điều kiện tuyển sinh\n",
						"- Thí sinh tốt nghiệp THPT hoặc tương đương.\n",
						"\n",
						"### 4. Học phí\n",
						"- Mức học phí trung bình (đồng/năm) năm 2024: \n",
						"  - Chương trình tiêu chuẩn: 31,680,000 VNĐ\n",
						"  - Chương trình chất lượng cao: Từ 53,000,000 đến 54,000,000 VNĐ\n",
						"- Tham khảo thêm: [Học phí và học bổng](https://admission.tdtu.edu.vn/hoc-tai-tdtu/hoc-phi-hoc-bong-2024)\n",
						"\n",
						"### 5. Thông tin liên hệ\n",
						"- **Địa chỉ**: Số 19 Nguyễn Hữu Thọ, Phường Tân Phong, Quận 7, TP. Hồ Chí Minh, Việt Nam\n",
						"- **Hotline**: 19002024\n",
						"- **Email**: tuvantuyensinh@tdtu.edu.vn\n",
						"- **Website Khoa Điện - Điện tử**: [feee.tdtu.edu.vn](https://feee.tdtu.edu.vn/)\n",
						"\n",
						"Nếu bạn có thêm câu hỏi nào khác hoặc cần thông tin chi tiết hơn, đừng ngần ngại hỏi nhé! 😊"
					]
				}
			],
			"source": [
				"res = []\n",
				"async for chunk in agent.astream_events_basic(\n",
				"\t# \"Người phụ trách bộ môn Điều khiển tự động khoa Điện\",\n",
				"\t# \"Các tiến sĩ trong khoa Điện\", # adjust prompt to return all result\n",
				"\t# \"Các thạc sĩ trong khoa Điện\",\n",
				"\t# \"Ký túc xá\",\n",
				"\t\"Chi tiết Chương trình Đại học về Tự động hoá khoa Điện\",\n",
				"  show_tool_call=True,\n",
				"  history_type=\"mongodb\",\n",
				"  user_id=utils.generate_unique_id(thing=\"uuid_name\"),\n",
				"\tsession_id=utils.generate_unique_id(thing=\"uuid\"),\n",
				"):\n",
				"\tprint(chunk, end=\"\", flush=True)\n",
				"\n",
				"\tres.append(chunk)"
			]
		},
		{
			"cell_type": "code",
			"execution_count": null,
			"metadata": {},
			"outputs": [],
			"source": [
				"result = my_sql_chain.chain_sql.invoke({\n",
				"\t\"question\": \n",
				"   \t\"Các chương trình đào tạo khoa Điện có hình thức liên kết với các trường đại học nước ngoài?\",\n",
				"})\n",
				"\n",
				"result"
			]
		},
		{
			"cell_type": "code",
			"execution_count": null,
			"metadata": {},
			"outputs": [],
			"source": []
		}
	],
	"metadata": {
		"kernelspec": {
			"display_name": "LLM",
			"language": "python",
			"name": "python3"
		},
		"language_info": {
			"codemirror_mode": {
				"name": "ipython",
				"version": 3
			},
			"file_extension": ".py",
			"mimetype": "text/x-python",
			"name": "python",
			"nbconvert_exporter": "python",
			"pygments_lexer": "ipython3",
			"version": "3.11.9"
		}
	},
	"nbformat": 4,
	"nbformat_minor": 2
}
