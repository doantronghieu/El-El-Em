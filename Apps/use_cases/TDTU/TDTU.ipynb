{
	"cells": [
		{
			"cell_type": "code",
			"execution_count": 1,
			"metadata": {
				"notebookRunGroups": {
					"groupValue": "1"
				}
			},
			"outputs": [
				{
					"name": "stderr",
					"output_type": "stream",
					"text": [
						"/opt/homebrew/Caskroom/miniconda/base/envs/llm/lib/python3.11/site-packages/tqdm/auto.py:21: TqdmWarning: IProgress not found. Please update jupyter and ipywidgets. See https://ipywidgets.readthedocs.io/en/stable/user_install.html\n",
						"  from .autonotebook import tqdm as notebook_tqdm\n"
					]
				}
			],
			"source": [
				"import yaml\n",
				"import add_packages\n",
				"from pprint import pprint\n",
				"import os, re\n",
				"import pandas as pd\n",
				"# import tqdm\n",
				"from tqdm.auto import tqdm\n",
				"\n",
				"from toolkit.langchain import (\n",
				"\tdocument_loaders, text_splitters, text_embedding_models, stores, \n",
				"\tprompts, utils, output_parsers, agents, documents,\n",
				"\trunnables, agent_tools\n",
				")\n",
				"\n",
				"PATH_DATA = f\"{add_packages.APP_PATH}/data/tdtu/FEEE\"\n",
				"FILE_CFG = \"tdtu.yaml\"\n",
				"tqdm.pandas(desc=\"Processing\")\n",
				"\n",
				"with open(f\"{add_packages.APP_PATH}/my_configs/{FILE_CFG}\", 'r') as file:\n",
				"\tconfigs = yaml.safe_load(file)"
			]
		},
		{
			"cell_type": "markdown",
			"metadata": {},
			"source": [
				"# Data"
			]
		},
		{
			"cell_type": "markdown",
			"metadata": {},
			"source": [
				"## txt"
			]
		},
		{
			"cell_type": "markdown",
			"metadata": {},
			"source": [
				"### ThongTinChung"
			]
		},
		{
			"cell_type": "code",
			"execution_count": 2,
			"metadata": {},
			"outputs": [],
			"source": [
				"path_txt = f\"{PATH_DATA}/ThongTinChung.txt\""
			]
		},
		{
			"cell_type": "code",
			"execution_count": 3,
			"metadata": {},
			"outputs": [],
			"source": [
				"loader_txt = document_loaders.TextLoader(path_txt)\n",
				"doc_txt = loader_txt.load()\n",
				"\n",
				"text_splitter = text_splitters.RecursiveCharacterTextSplitter(\n",
				"\t# chunk_size=500, chunk_overlap=100,\n",
				"\tseparators=[\"##\"], chunk_size=1000, chunk_overlap=0,\n",
				")\n",
				"docs_txt = text_splitter.split_documents(doc_txt)\n",
				"docs_txt = docs_txt[1:]\n",
				"\n",
				"metadatas = {\n",
				"\t\"data\": \"general information\"\n",
				"}\n",
				"utils.remove_metadata(docs_txt, \"source\")\n",
				"utils.update_metadata(docs_txt, metadatas)"
			]
		},
		{
			"cell_type": "code",
			"execution_count": 4,
			"metadata": {},
			"outputs": [],
			"source": [
				"docs_txt_thongtinchung = docs_txt"
			]
		},
		{
			"cell_type": "markdown",
			"metadata": {},
			"source": [
				"### File 2"
			]
		},
		{
			"cell_type": "code",
			"execution_count": null,
			"metadata": {},
			"outputs": [],
			"source": [
				"path_txt = f\"{PATH_DATA}/faq.txt\""
			]
		},
		{
			"cell_type": "code",
			"execution_count": null,
			"metadata": {},
			"outputs": [],
			"source": [
				"loader_txt = document_loaders.TextLoader(path_txt)\n",
				"doc_txt = loader_txt.load()\n",
				"\n",
				"text_splitter = text_splitters.RecursiveCharacterTextSplitter(\n",
				"\t# chunk_size=500, chunk_overlap=100,\n",
				"\tseparators=[\"##\"], chunk_size=150, chunk_overlap=0,\n",
				")\n",
				"docs_txt = text_splitter.split_documents(doc_txt)\n",
				"docs_txt = docs_txt[1:]\n",
				"\n",
				"metadatas = {\n",
				"\t\"data\": \"frequently asked questions\"\n",
				"}\n",
				"utils.remove_metadata(docs_txt, \"source\")\n",
				"utils.update_metadata(docs_txt, metadatas)"
			]
		},
		{
			"cell_type": "markdown",
			"metadata": {},
			"source": [
				"## csv"
			]
		},
		{
			"cell_type": "markdown",
			"metadata": {},
			"source": [
				"### NhanSu"
			]
		},
		{
			"cell_type": "code",
			"execution_count": 5,
			"metadata": {},
			"outputs": [],
			"source": [
				"file_csv = \"NhanSu.csv\"\n",
				"path_csv = f\"{PATH_DATA}/{file_csv}\"\n",
				"path_csv_processed = f\"{PATH_DATA}/{file_csv.split('.')[0]}1.csv\""
			]
		},
		{
			"cell_type": "markdown",
			"metadata": {},
			"source": [
				"#### Process"
			]
		},
		{
			"cell_type": "code",
			"execution_count": null,
			"metadata": {},
			"outputs": [],
			"source": [
				"model = models.chat_openai\n",
				"\n",
				"template1 = \"\"\"\\\n",
				"...\n",
				"{text}\"\"\"\n",
				"\n",
				"template2 = \"\"\"\\\n",
				"...\n",
				"{text}\n",
				"\"\"\"\n",
				"\n",
				"prompt_template1 = prompts.PromptTemplate.from_template(template1)\n",
				"prompt_template2 = prompts.PromptTemplate.from_template(template2)\n",
				"\n",
				"chain1 = prompt_template1 | model | output_parsers.StrOutputParser()\n",
				"chain2 = prompt_template2 | model | output_parsers.StrOutputParser()\n",
				"\n",
				"chain = runnables.RunnablePassthrough.assign(\n",
				"  text=chain1\n",
				").assign(\n",
				"  text=chain2\n",
				")\n",
				"\n",
				"def process_csv_col(text: str) -> str:\n",
				"  result = chain.invoke({\"text\": text})['text']\n",
				"  return result\n",
				"\n",
				"query = '...'\n",
				"result = process_csv_col(query)\n",
				"\n",
				"pprint(result)"
			]
		},
		{
			"cell_type": "code",
			"execution_count": null,
			"metadata": {},
			"outputs": [],
			"source": [
				"df = pd.read_csv(path_csv)\n",
				"\n",
				"col_to_process = \"...\"\n",
				"\n",
				"df[col_to_process] = df[col_to_process].progress_apply(process_csv_col)\n",
				"\n",
				"df.to_csv(f\"{PATH_DATA}/{path_csv_processed}\", index=False)\n"
			]
		},
		{
			"cell_type": "code",
			"execution_count": null,
			"metadata": {},
			"outputs": [],
			"source": [
				"path_csv = path_csv_processed"
			]
		},
		{
			"cell_type": "markdown",
			"metadata": {},
			"source": [
				"#### Load"
			]
		},
		{
			"cell_type": "code",
			"execution_count": 6,
			"metadata": {},
			"outputs": [],
			"source": [
				"csv_cols = [\n",
				"  \"Nhân sự\", \"Chức vụ\", \"Bộ môn\", 'Email', \"Phòng làm việc\", \"Nhóm\"\n",
				"]\n",
				"\n",
				"loader_csv = document_loaders.CSVLoader(\n",
				"\tpath_csv,\n",
				"\t# source_column=\"No\",\n",
				"\tcsv_args={\n",
				"\t\t\"delimiter\": \";\", # \",\", \";\"\n",
				"\t\t# \"quotechar\": \"''\",\n",
				"\t\t\"fieldnames\": csv_cols,\n",
				"\t},\n",
				")\n",
				"docs_csv = loader_csv.load()[1:]\n",
				"\n",
				"metadatas = {\n",
				"\t\"data\": \"Nhân sự, Giảng viên\"\n",
				"}\n",
				"\n",
				"utils.remove_metadata(docs_csv, \"source\")\n",
				"utils.remove_metadata(docs_csv, \"row\")\n",
				"utils.update_metadata(docs_csv, metadatas)"
			]
		},
		{
			"cell_type": "code",
			"execution_count": 7,
			"metadata": {},
			"outputs": [],
			"source": [
				"docs_csv_nhansu = docs_csv"
			]
		},
		{
			"cell_type": "markdown",
			"metadata": {},
			"source": [
				"### ChuongTrinhDaoTao"
			]
		},
		{
			"cell_type": "code",
			"execution_count": 8,
			"metadata": {},
			"outputs": [],
			"source": [
				"file_csv = \"ChuongTrinhDaoTao.csv\"\n",
				"path_csv = f\"{PATH_DATA}/{file_csv}\"\n",
				"path_csv_processed = f\"{file_csv.split('.')[0]}1.csv\""
			]
		},
		{
			"cell_type": "code",
			"execution_count": null,
			"metadata": {},
			"outputs": [],
			"source": [
				"df = pd.read_csv(\n",
				"\tpath_csv, delimiter=\";\"\n",
				")\n",
				"\n",
				"df.head()"
			]
		},
		{
			"cell_type": "markdown",
			"metadata": {},
			"source": [
				"#### Process"
			]
		},
		{
			"cell_type": "code",
			"execution_count": null,
			"metadata": {},
			"outputs": [],
			"source": [
				"model = models.chat_openai\n",
				"\n",
				"template1 = \"\"\"\\\n",
				"...\n",
				"{text}\"\"\"\n",
				"\n",
				"template2 = \"\"\"\\\n",
				"...\n",
				"{text}\n",
				"\"\"\"\n",
				"\n",
				"prompt_template1 = prompts.PromptTemplate.from_template(template1)\n",
				"prompt_template2 = prompts.PromptTemplate.from_template(template2)\n",
				"\n",
				"chain1 = prompt_template1 | model | output_parsers.StrOutputParser()\n",
				"chain2 = prompt_template2 | model | output_parsers.StrOutputParser()\n",
				"\n",
				"chain = runnables.RunnablePassthrough.assign(\n",
				"  text=chain1\n",
				").assign(\n",
				"  text=chain2\n",
				")\n",
				"\n",
				"def process_csv_col(text: str) -> str:\n",
				"  result = chain.invoke({\"text\": text})['text']\n",
				"  return result\n",
				"\n",
				"query = '...'\n",
				"result = process_csv_col(query)\n",
				"\n",
				"pprint(result)"
			]
		},
		{
			"cell_type": "code",
			"execution_count": null,
			"metadata": {},
			"outputs": [],
			"source": [
				"df = pd.read_csv(path_csv)\n",
				"\n",
				"col_to_process = \"...\"\n",
				"\n",
				"df[col_to_process] = df[col_to_process].progress_apply(process_csv_col)\n",
				"\n",
				"df.to_csv(f\"{PATH_DATA}/{path_csv_processed}\", index=False)\n"
			]
		},
		{
			"cell_type": "code",
			"execution_count": null,
			"metadata": {},
			"outputs": [],
			"source": [
				"path_csv = path_csv_processed"
			]
		},
		{
			"cell_type": "markdown",
			"metadata": {},
			"source": [
				"#### Load"
			]
		},
		{
			"cell_type": "code",
			"execution_count": 9,
			"metadata": {},
			"outputs": [],
			"source": [
				"csv_cols = [\n",
				"\t\"Ngành\", \"Chương trình\", \"Hệ đào tạo\", \"Link\", \"Liên kiết\", \"Giới thiệu\", \n",
				"\t\"Chuẩn đầu ra\", \"Cơ hội việc làm\", \"Hướng nghiên cứu\", \"Tuyển sinh\",\n",
				"]\n",
				"\n",
				"loader_csv = document_loaders.CSVLoader(\n",
				"\tpath_csv,\n",
				"\t# source_column=\"No\",\n",
				"\tcsv_args={\n",
				"\t\t\"delimiter\": \";\", # \",\", \";\"\n",
				"\t\t# \"quotechar\": \"''\",\n",
				"\t\t\"fieldnames\": csv_cols,\n",
				"\t},\n",
				")\n",
				"docs_csv = loader_csv.load()[1:]\n",
				"\n",
				"metadatas = {\n",
				"\t\"data\": \"...\"\n",
				"}\n",
				"\n",
				"utils.remove_metadata(docs_csv, \"source\")\n",
				"utils.remove_metadata(docs_csv, \"row\")\n",
				"utils.update_metadata(docs_csv, metadatas)"
			]
		},
		{
			"cell_type": "code",
			"execution_count": 10,
			"metadata": {},
			"outputs": [],
			"source": [
				"docs_csv_chuongtrinhdaodao = docs_csv"
			]
		},
		{
			"cell_type": "markdown",
			"metadata": {},
			"source": [
				"### File 3"
			]
		},
		{
			"cell_type": "code",
			"execution_count": null,
			"metadata": {},
			"outputs": [],
			"source": [
				"file_csv = \"...\"\n",
				"path_csv = f\"{PATH_DATA}/{file_csv}\"\n",
				"path_csv_processed = f\"{file_csv.split(\".\")[0]}1.csv\""
			]
		},
		{
			"cell_type": "markdown",
			"metadata": {},
			"source": [
				"#### Process"
			]
		},
		{
			"cell_type": "code",
			"execution_count": null,
			"metadata": {},
			"outputs": [],
			"source": [
				"model = models.chat_openai\n",
				"\n",
				"template1 = \"\"\"\\\n",
				"...\n",
				"{text}\"\"\"\n",
				"\n",
				"template2 = \"\"\"\\\n",
				"...\n",
				"{text}\n",
				"\"\"\"\n",
				"\n",
				"prompt_template1 = prompts.PromptTemplate.from_template(template1)\n",
				"prompt_template2 = prompts.PromptTemplate.from_template(template2)\n",
				"\n",
				"chain1 = prompt_template1 | model | output_parsers.StrOutputParser()\n",
				"chain2 = prompt_template2 | model | output_parsers.StrOutputParser()\n",
				"\n",
				"chain = runnables.RunnablePassthrough.assign(\n",
				"  text=chain1\n",
				").assign(\n",
				"  text=chain2\n",
				")\n",
				"\n",
				"def process_csv_col(text: str) -> str:\n",
				"  result = chain.invoke({\"text\": text})['text']\n",
				"  return result\n",
				"\n",
				"query = '...'\n",
				"result = process_csv_col(query)\n",
				"\n",
				"pprint(result)"
			]
		},
		{
			"cell_type": "code",
			"execution_count": null,
			"metadata": {},
			"outputs": [],
			"source": [
				"df = pd.read_csv(path_csv)\n",
				"\n",
				"col_to_process = \"...\"\n",
				"\n",
				"df[col_to_process] = df[col_to_process].progress_apply(process_csv_col)\n",
				"\n",
				"df.to_csv(f\"{PATH_DATA}/{path_csv_processed}\", index=False)\n"
			]
		},
		{
			"cell_type": "code",
			"execution_count": null,
			"metadata": {},
			"outputs": [],
			"source": [
				"path_csv = path_csv_processed"
			]
		},
		{
			"cell_type": "markdown",
			"metadata": {},
			"source": [
				"#### Load"
			]
		},
		{
			"cell_type": "code",
			"execution_count": null,
			"metadata": {},
			"outputs": [],
			"source": [
				"csv_cols = utils.get_csv_column_names(path_csv)\n",
				"\n",
				"loader_csv = document_loaders.CSVLoader(\n",
				"\tpath_csv,\n",
				"\t# source_column=\"No\",\n",
				"\tcsv_args={\n",
				"\t\t\"delimiter\": \",\", # \",\", \";\"\n",
				"\t\t# \"quotechar\": \"''\",\n",
				"\t\t\"fieldnames\": csv_cols,\n",
				"\t},\n",
				")\n",
				"docs_csv = loader_csv.load()\n",
				"\n",
				"metadatas = {\n",
				"\t\"data\": \"...\"\n",
				"}\n",
				"\n",
				"utils.remove_metadata(docs_csv, \"source\")\n",
				"utils.remove_metadata(docs_csv, \"row\")\n",
				"utils.upd# Vector store \n",
				"## csv\n",
				"### File 1\n",
				"collection_csv = \"...\"\n",
				"\n",
				"qdrant_csv = stores.QdrantWrapper(\n",
				"\tqdrant_host=os.getenv(\"QDRANT_HOST\"),\n",
				"\tqdrant_api_key=os.getenv(\"QDRANT_API_KEY\"),\n",
				"\tconfigs=configs,\n",
				"\t**configs[\"vector_db\"][\"qdrant\"][collection_csv]\n",
				")\n",
				"qdrant_csv.add_documents(docs_csv)\n",
				"### File 2\n",
				"collection_csv = \"...\"\n",
				"\n",
				"qdrant_csv = stores.QdrantWrapper(\n",
				"\tqdrant_host=os.getenv(\"QDRANT_HOST\"),\n",
				"\tqdrant_api_key=os.getenv(\"QDRANT_API_KEY\"),\n",
				"\tconfigs=configs,\n",
				"\t**configs[\"vector_db\"][\"qdrant\"][collection_csv]\n",
				")\n",
				"qdrant_csv.add_documents(docs_csv)\n",
				"## txt\n",
				"### File 1\n",
				"collection_txt = \"faq\"\n",
				"\n",
				"qdrant_txt = stores.QdrantWrapper(\n",
				"  qdrant_host=os.getenv(\"QDRANT_HOST\"),\n",
				"  qdrant_api_key=os.getenv(\"QDRANT_API_KEY\"),\n",
				"  configs=configs,\n",
				"  **configs[\"vector_db\"][\"qdrant\"][collection_txt]\n",
				")\n",
				"qdrant_txt.add_documents(docs_txt)\n",
				"### File 2\n",
				"collection_txt = \"faq\"\n",
				"\n",
				"qdrant_txt = stores.QdrantWrapper(\n",
				"  qdrant_host=os.getenv(\"QDRANT_HOST\"),\n",
				"  qdrant_api_key=os.getenv(\"QDRANT_API_KEY\"),\n",
				"  configs=configs,\n",
				"  **configs[\"vector_db\"][\"qdrant\"][collection_txt]\n",
				")\n",
				"# qdrant_txt.add_documents(docs_txt)ate_metadata(docs_csv, metadatas)"
			]
		},
		{
			"cell_type": "markdown",
			"metadata": {},
			"source": [
				"# Vector store "
			]
		},
		{
			"cell_type": "markdown",
			"metadata": {},
			"source": [
				"## csv"
			]
		},
		{
			"cell_type": "markdown",
			"metadata": {},
			"source": [
				"### NhanSu"
			]
		},
		{
			"cell_type": "code",
			"execution_count": 18,
			"metadata": {},
			"outputs": [
				{
					"name": "stderr",
					"output_type": "stream",
					"text": [
						"\u001b[32m2024-05-28 13:53:17.810\u001b[0m | \u001b[1mINFO    \u001b[0m | \u001b[36mtoolkit.langchain.stores\u001b[0m:\u001b[36m__init__\u001b[0m:\u001b[36m94\u001b[0m - \u001b[1mFound collection: `tdtu-personnel`.\u001b[0m\n",
						"\u001b[32m2024-05-28 13:53:17.811\u001b[0m | \u001b[1mINFO    \u001b[0m | \u001b[36mtoolkit.langchain.stores\u001b[0m:\u001b[36m__init__\u001b[0m:\u001b[36m107\u001b[0m - \u001b[1m`tdtu-personnel` - Embeddings: openai - {'model': 'text-embedding-3-large'}, 3072\u001b[0m\n",
						"\u001b[32m2024-05-28 13:53:17.852\u001b[0m | \u001b[1mINFO    \u001b[0m | \u001b[36mtoolkit.langchain.stores\u001b[0m:\u001b[36m__init__\u001b[0m:\u001b[36m126\u001b[0m - \u001b[1m`tdtu-personnel` - Retriever: Vectorstore\u001b[0m\n"
					]
				}
			],
			"source": [
				"qdrant_csv_personnel = stores.QdrantWrapper(\n",
				"\tqdrant_host=os.getenv(\"QDRANT_HOST\"),\n",
				"\tqdrant_api_key=os.getenv(\"QDRANT_API_KEY\"),\n",
				"\tconfigs=configs,\n",
				"\t**configs[\"vector_db\"][\"qdrant\"][\"personnel\"]\n",
				")"
			]
		},
		{
			"cell_type": "code",
			"execution_count": 12,
			"metadata": {},
			"outputs": [
				{
					"name": "stderr",
					"output_type": "stream",
					"text": [
						"100%|██████████| 41/41 [00:46<00:00,  1.13s/it]\n"
					]
				}
			],
			"source": [
				"qdrant_csv_personnel.add_documents(docs_csv_nhansu)"
			]
		},
		{
			"cell_type": "markdown",
			"metadata": {},
			"source": [
				"### ChuongTrinhDaoTao"
			]
		},
		{
			"cell_type": "code",
			"execution_count": 13,
			"metadata": {},
			"outputs": [
				{
					"name": "stderr",
					"output_type": "stream",
					"text": [
						"\u001b[32m2024-05-28 13:43:35.398\u001b[0m | \u001b[1mINFO    \u001b[0m | \u001b[36mtoolkit.langchain.stores\u001b[0m:\u001b[36m__init__\u001b[0m:\u001b[36m103\u001b[0m - \u001b[1mCollection: `tdtu-university_admission_program` created.\u001b[0m\n",
						"\u001b[32m2024-05-28 13:43:35.399\u001b[0m | \u001b[1mINFO    \u001b[0m | \u001b[36mtoolkit.langchain.stores\u001b[0m:\u001b[36m__init__\u001b[0m:\u001b[36m107\u001b[0m - \u001b[1m`tdtu-university_admission_program` - Embeddings: openai - {'model': 'text-embedding-3-large'}, 3072\u001b[0m\n",
						"\u001b[32m2024-05-28 13:43:35.458\u001b[0m | \u001b[1mINFO    \u001b[0m | \u001b[36mtoolkit.langchain.stores\u001b[0m:\u001b[36m__init__\u001b[0m:\u001b[36m126\u001b[0m - \u001b[1m`tdtu-university_admission_program` - Retriever: Vectorstore\u001b[0m\n"
					]
				}
			],
			"source": [
				"qdrant_csv_admission = stores.QdrantWrapper(\n",
				"\tqdrant_host=os.getenv(\"QDRANT_HOST\"),\n",
				"\tqdrant_api_key=os.getenv(\"QDRANT_API_KEY\"),\n",
				"\tconfigs=configs,\n",
				"\t**configs[\"vector_db\"][\"qdrant\"][\"university_admission_program\"]\n",
				")"
			]
		},
		{
			"cell_type": "code",
			"execution_count": 14,
			"metadata": {},
			"outputs": [
				{
					"name": "stderr",
					"output_type": "stream",
					"text": [
						"100%|██████████| 18/18 [00:24<00:00,  1.36s/it]\n"
					]
				}
			],
			"source": [
				"qdrant_csv_admission.add_documents(docs_csv_chuongtrinhdaodao)"
			]
		},
		{
			"cell_type": "markdown",
			"metadata": {},
			"source": [
				"### File 2"
			]
		},
		{
			"cell_type": "code",
			"execution_count": null,
			"metadata": {},
			"outputs": [],
			"source": [
				"collection_csv = \"...\"\n",
				"\n",
				"qdrant_csv = stores.QdrantWrapper(\n",
				"\tqdrant_host=os.getenv(\"QDRANT_HOST\"),\n",
				"\tqdrant_api_key=os.getenv(\"QDRANT_API_KEY\"),\n",
				"\tconfigs=configs,\n",
				"\t**configs[\"vector_db\"][\"qdrant\"][collection_csv]\n",
				")"
			]
		},
		{
			"cell_type": "markdown",
			"metadata": {},
			"source": [
				"## txt"
			]
		},
		{
			"cell_type": "markdown",
			"metadata": {},
			"source": [
				"### ThongTinChung"
			]
		},
		{
			"cell_type": "code",
			"execution_count": 15,
			"metadata": {},
			"outputs": [
				{
					"name": "stderr",
					"output_type": "stream",
					"text": [
						"\u001b[32m2024-05-28 13:45:19.847\u001b[0m | \u001b[1mINFO    \u001b[0m | \u001b[36mtoolkit.langchain.stores\u001b[0m:\u001b[36m__init__\u001b[0m:\u001b[36m103\u001b[0m - \u001b[1mCollection: `tdtu-general_information` created.\u001b[0m\n",
						"\u001b[32m2024-05-28 13:45:19.848\u001b[0m | \u001b[1mINFO    \u001b[0m | \u001b[36mtoolkit.langchain.stores\u001b[0m:\u001b[36m__init__\u001b[0m:\u001b[36m107\u001b[0m - \u001b[1m`tdtu-general_information` - Embeddings: openai - {'model': 'text-embedding-3-large'}, 3072\u001b[0m\n",
						"\u001b[32m2024-05-28 13:45:19.895\u001b[0m | \u001b[1mINFO    \u001b[0m | \u001b[36mtoolkit.langchain.stores\u001b[0m:\u001b[36m__init__\u001b[0m:\u001b[36m126\u001b[0m - \u001b[1m`tdtu-general_information` - Retriever: Vectorstore\u001b[0m\n"
					]
				}
			],
			"source": [
				"qdrant_txt_info = stores.QdrantWrapper(\n",
				"  qdrant_host=os.getenv(\"QDRANT_HOST\"),\n",
				"  qdrant_api_key=os.getenv(\"QDRANT_API_KEY\"),\n",
				"  configs=configs,\n",
				"  **configs[\"vector_db\"][\"qdrant\"][\"general_information\"]\n",
				")"
			]
		},
		{
			"cell_type": "code",
			"execution_count": 16,
			"metadata": {},
			"outputs": [
				{
					"name": "stderr",
					"output_type": "stream",
					"text": [
						"100%|██████████| 11/11 [00:13<00:00,  1.19s/it]\n"
					]
				}
			],
			"source": [
				"qdrant_txt_info.add_documents(docs_txt_thongtinchung)"
			]
		},
		{
			"cell_type": "markdown",
			"metadata": {},
			"source": [
				"### File 2"
			]
		},
		{
			"cell_type": "code",
			"execution_count": null,
			"metadata": {},
			"outputs": [],
			"source": [
				"collection_txt = \"general_information\"\n",
				"\n",
				"qdrant_faq = stores.QdrantWrapper(\n",
				"  qdrant_host=os.getenv(\"QDRANT_HOST\"),\n",
				"  qdrant_api_key=os.getenv(\"QDRANT_API_KEY\"),\n",
				"  configs=configs,\n",
				"  **configs[\"vector_db\"][\"qdrant\"][collection_txt]\n",
				")"
			]
		},
		{
			"cell_type": "code",
			"execution_count": null,
			"metadata": {},
			"outputs": [],
			"source": [
				"# qdrant_faq.add_documents(docs_txt)"
			]
		},
		{
			"cell_type": "markdown",
			"metadata": {},
			"source": [
				"# Test"
			]
		},
		{
			"cell_type": "code",
			"execution_count": 22,
			"metadata": {},
			"outputs": [
				{
					"name": "stderr",
					"output_type": "stream",
					"text": [
						"\u001b[32m2024-05-28 13:54:04.365\u001b[0m | \u001b[1mINFO    \u001b[0m | \u001b[36mtoolkit.langchain.agents\u001b[0m:\u001b[36m_create_agent\u001b[0m:\u001b[36m155\u001b[0m - \u001b[1mAgent type: tool_calling\u001b[0m\n"
					]
				}
			],
			"source": [
				"llm = models.chat_openai\n",
				"\n",
				"tools = [\n",
				"\t# tools.TavilySearchResults(max_results=3),\n",
				"\tqdrant_csv_admission.retriever_tool,\n",
				"\tqdrant_csv_personnel.retriever_tool,\n",
				"\tqdrant_txt_info.retriever_tool,\n",
				"]\n",
				"\n",
				"system_message_custom = configs[\"prompts\"][\"system_message_tdtu\"]\n",
				"prompt = prompts.create_prompt_tool_calling_agent(system_message_custom)\n",
				"\n",
				"agent = agents.MyStatelessAgent(\n",
				"\tllm=llm,\n",
				"\ttools=tools,\n",
				"\tprompt=prompt,\n",
				"\tagent_type=configs[\"agents\"][\"type\"],\n",
				"\tagent_verbose=True,\n",
				")"
			]
		},
		{
			"cell_type": "code",
			"execution_count": 35,
			"metadata": {},
			"outputs": [],
			"source": [
				"questions = [\n",
				"\t\"Thành viên ban chủ nhiệm khoa điện\",\n",
				"\t\"Các ngành đào tạo chương trình tiêu chuẩn\",\n",
				"\t\"Thông điệp trưởng khoa\",\n",
				"\t\"Đồng Sĩ Thiên Châu\",\n",
				"]\n"
			]
		},
		{
			"cell_type": "code",
			"execution_count": 36,
			"metadata": {},
			"outputs": [
				{
					"name": "stderr",
					"output_type": "stream",
					"text": [
						"\u001b[32m2024-05-28 14:02:56.552\u001b[0m | \u001b[1mINFO    \u001b[0m | \u001b[36mtoolkit.langchain.agents\u001b[0m:\u001b[36m__init__\u001b[0m:\u001b[36m88\u001b[0m - \u001b[1mUser Id: admin\u001b[0m\n",
						"\u001b[32m2024-05-28 14:02:56.552\u001b[0m | \u001b[1mINFO    \u001b[0m | \u001b[36mtoolkit.langchain.agents\u001b[0m:\u001b[36m__init__\u001b[0m:\u001b[36m89\u001b[0m - \u001b[1mSession Id: Timothy Singh-5ee5dfae\u001b[0m\n",
						"\u001b[32m2024-05-28 14:02:56.553\u001b[0m | \u001b[1mINFO    \u001b[0m | \u001b[36mtoolkit.langchain.agents\u001b[0m:\u001b[36m__init__\u001b[0m:\u001b[36m90\u001b[0m - \u001b[1mHistory Type: dynamodb\u001b[0m\n"
					]
				},
				{
					"name": "stdout",
					"output_type": "stream",
					"text": [
						"\n",
						"\n",
						"\u001b[1m> Entering new AgentExecutor chain...\u001b[0m\n",
						"\u001b[32;1m\u001b[1;3m\n",
						"Invoking: `personnel` with `{'query': 'Đồng Sĩ Thiên Châu'}`\n",
						"\n",
						"\n",
						"\u001b[0m\u001b[33;1m\u001b[1;3mNhân sự: TS. Đồng Sĩ Thiên Châu\n",
						"Chức vụ: Phó Hiệu trưởng trường Đại học Tôn Đức Thắng\n",
						"Bộ môn: Điều khiển tự động\n",
						"Email: dongsythienchau@tdt.edu.vn\n",
						"Phòng làm việc: Không\n",
						"Nhóm: Bộ môn Điều khiển tự động\n",
						"\n",
						"Nhân sự: Nguyễn Thị Thu Quyên\n",
						"Chức vụ: Viên chức hành chính\n",
						"Bộ môn: Hành Chính\n",
						"Email: nguyenthithuquyen@tdtu.edu.vn\n",
						"Phòng làm việc: C008\n",
						"Nhóm: Bộ phận Hành Chính\n",
						"\n",
						"Nhân sự: TS. Nguyễn Nhật Tân\n",
						"Chức vụ: Giảng viên bộ môn Điện tử - Viễn thông\n",
						"Bộ môn: Điện tử - Viễn thông\n",
						"Email: nguyennhattan@tdtu.edu.vn\n",
						"Phòng làm việc: C117\n",
						"Nhóm: Bộ môn Điện tử - Viễn thông\n",
						"\n",
						"Nhân sự: TS. Đinh Hoàng Bách\n",
						"Chức vụ: Viện trưởng Viện hợp tác, nghiên cứu và đào tạo quốc tế, Trưởng Bộ môn Kĩ thuật Điện\n",
						"Bộ môn: Kỹ Thuật Điện\n",
						"Email: dinhhoangbach@tdtu.edu.vn\n",
						"Phòng làm việc: C118\n",
						"Nhóm: Bộ môn Kỹ thuật Điện\n",
						"\n",
						"Nhân sự: ThS. Đặng Ngọc Khoa\n",
						"Chức vụ: Giảng viên bộ môn Điện tử - Viễn thông\n",
						"Bộ môn: Điện tử - Viễn thông\n",
						"Email: dangngockhoa@tdtu.edu.vn\n",
						"Phòng làm việc: C117\n",
						"Nhóm: Bộ môn Điện tử - Viễn thông\n",
						"\n",
						"Nhân sự: Lê Đức Thịnh\n",
						"Chức vụ: Viên chức hành chính\n",
						"Bộ môn: Hành Chính\n",
						"Email: leducthinh@tdtu.edu.vn\n",
						"Phòng làm việc: C008\n",
						"Nhóm: Bộ phận Hành Chính\n",
						"\n",
						"Nhân sự: ThS. Nguyễn Quang Dũng\n",
						"Chức vụ: Giảng viên bộ môn Điều khiển tự động\n",
						"Bộ môn: Điều khiển tự động\n",
						"Email: nguyenquangdung@tdtu.edu.vn\n",
						"Phòng làm việc: C117\n",
						"Nhóm: Bộ môn Điều khiển tự động\n",
						"\n",
						"Nhân sự: TS. Nguyễn Dáo\n",
						"Chức vụ: Giảng viên bộ môn Kỹ thuật điện\n",
						"Bộ môn: Kỹ Thuật Điện\n",
						"Email: nguyendao@tdtu.edu.vn\n",
						"Phòng làm việc: C118\n",
						"Nhóm: Bộ môn Kỹ thuật Điện\n",
						"\n",
						"Nhân sự: Phan Thanh Duy\n",
						"Chức vụ: Viên chức hành chính\n",
						"Bộ môn: Hành Chính\n",
						"Email: phanhthanhduy@tdtu.edu.vn\n",
						"Phòng làm việc: C008\n",
						"Nhóm: Bộ phận Hành Chính\n",
						"\n",
						"Nhân sự: TS. Đỗ Vinh Quang\n",
						"Chức vụ: Giảng viên bộ môn Điện tử - Viễn thông\n",
						"Bộ môn: Điện tử - Viễn thông\n",
						"Email: dovinhquang@tdtu.edu.vn\n",
						"Phòng làm việc: C117\n",
						"Nhóm: Bộ môn Điện tử - Viễn thông\u001b[0m\u001b[32;1m\u001b[1;3mHere is the personnel information for TS. Đồng Sĩ Thiên Châu:\n",
						"\n",
						"- Chức vụ (Position): Phó Hiệu trưởng trường Đại học Tôn Đức Thắng\n",
						"- Bộ môn (Department): Điều khiển tự động\n",
						"- Email: dongsythienchau@tdt.edu.vn\n",
						"- Nhóm (Group): Bộ môn Điều khiển tự động\n",
						"\n",
						"If you need more information or assistance, feel free to ask!\u001b[0m\n",
						"\n",
						"\u001b[1m> Finished chain.\u001b[0m\n",
						"('Here is the personnel information for TS. Đồng Sĩ Thiên Châu:\\n'\n",
						" '\\n'\n",
						" '- Chức vụ (Position): Phó Hiệu trưởng trường Đại học Tôn Đức Thắng\\n'\n",
						" '- Bộ môn (Department): Điều khiển tự động\\n'\n",
						" '- Email: dongsythienchau@tdt.edu.vn\\n'\n",
						" '- Nhóm (Group): Bộ môn Điều khiển tự động\\n'\n",
						" '\\n'\n",
						" 'If you need more information or assistance, feel free to ask!')\n"
					]
				}
			],
			"source": [
				"input_message = questions[3]\n",
				"# await agent.stream_conversable_agent(questions[2])\n",
				"result = await agent.invoke_agent(\n",
				"\tinput_message, user_id=\"admin\", session_id=\"default\",\n",
				")\n",
				"# await agent.stream_agent(input_message)\n",
				"pprint(result)"
			]
		}
	],
	"metadata": {
		"kernelspec": {
			"display_name": "LLM",
			"language": "python",
			"name": "python3"
		},
		"language_info": {
			"codemirror_mode": {
				"name": "ipython",
				"version": 3
			},
			"file_extension": ".py",
			"mimetype": "text/x-python",
			"name": "python",
			"nbconvert_exporter": "python",
			"pygments_lexer": "ipython3",
			"version": "3.11.8"
		}
	},
	"nbformat": 4,
	"nbformat_minor": 2
}
