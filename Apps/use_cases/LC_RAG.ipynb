{
 "cells": [
  {
   "cell_type": "code",
   "execution_count": 1,
   "metadata": {
    "notebookRunGroups": {
     "groupValue": "1"
    }
   },
   "outputs": [],
   "source": [
    "import add_packages\n",
    "import config\n",
    "from pprint import pprint\n",
    "import os\n",
    "\n",
    "from my_langchain import (\n",
    "  document_loaders, text_splitters, text_embedding_models, vector_stores, \n",
    "  chat_models, prompts, utils, output_parsers, agents\n",
    ")"
   ]
  },
  {
   "cell_type": "markdown",
   "metadata": {},
   "source": [
    "# LangChain"
   ]
  },
  {
   "cell_type": "markdown",
   "metadata": {},
   "source": [
    "## Q&A with RAG"
   ]
  },
  {
   "cell_type": "markdown",
   "metadata": {},
   "source": [
    "### Base"
   ]
  },
  {
   "cell_type": "code",
   "execution_count": 2,
   "metadata": {},
   "outputs": [],
   "source": [
    "import bs4\n",
    "from langchain import hub\n",
    "from langchain_core.runnables import RunnablePassthrough, RunnableParallel\n",
    "from langchain_core.messages import AIMessage, HumanMessage"
   ]
  },
  {
   "cell_type": "code",
   "execution_count": 3,
   "metadata": {},
   "outputs": [],
   "source": [
    "# Indexing: Load\n",
    "bs4_strainer = bs4.SoupStrainer(class_=(\"post-title\", \"post-header\", \"post-content\"))\n",
    "loader = document_loaders.web_base_loader(\n",
    "  web_paths=(\"https://lilianweng.github.io/posts/2023-06-23-agent/\",),\n",
    "  bs_kwargs={\"parse_only\": bs4_strainer}\n",
    ")\n",
    "docs = loader.load()\n",
    "\n",
    "# Indexing: Split\n",
    "text_splitter = text_splitters.recursive_character_text_splitter(\n",
    "  chunk_size=1000, chunk_overlap=200, add_start_index=True,\n",
    ")\n",
    "all_splits = text_splitter.split_documents(docs)"
   ]
  },
  {
   "cell_type": "code",
   "execution_count": 2,
   "metadata": {},
   "outputs": [
    {
     "name": "stderr",
     "output_type": "stream",
     "text": [
      "\u001b[32m2024-03-07 10:45:10.146\u001b[0m | \u001b[1mINFO    \u001b[0m | \u001b[36mmy_langchain.vector_stores\u001b[0m:\u001b[36m__init__\u001b[0m:\u001b[36m99\u001b[0m - \u001b[1mFound collection: `my-rag`.\u001b[0m\n"
     ]
    }
   ],
   "source": [
    "qdrant_instance = vector_stores.QdrantWrapper(\n",
    "  collection_name=\"my-rag\",\n",
    "  qdrant_host=os.getenv(\"QDRANT_HOST\"),\n",
    "  qdrant_api_key=os.getenv(\"QDRANT_API_KEY\"),\n",
    "  default_search_type=\"similarity\",\n",
    "  default_search_kwargs={\"k\": 6},\n",
    "  retriever_tool_name=\"search_state_of_union\",\n",
    "  retriever_tool_description=\"Searches and returns excerpts from the 2022 State of the Union.\",\n",
    ")"
   ]
  },
  {
   "cell_type": "code",
   "execution_count": 6,
   "metadata": {},
   "outputs": [],
   "source": [
    "# Indexing: Store\n",
    "qdrant_instance.vector_store.add_documents(documents=all_splits)"
   ]
  },
  {
   "cell_type": "code",
   "execution_count": 7,
   "metadata": {},
   "outputs": [],
   "source": [
    "# Retrieval and Generation: Retrieve\n",
    "query = \"What are the approaches to Task Decomposition?\"\n",
    "retrieved_docs = qdrant_instance.invoke_retriever(query)"
   ]
  },
  {
   "cell_type": "code",
   "execution_count": 8,
   "metadata": {},
   "outputs": [],
   "source": [
    "# Retrieval and Generation: Generate\n",
    "\n",
    "chat = chat_models.chat_openai\n",
    "\n",
    "prompt = prompts.rag_prompt\n",
    "\n",
    "rag_chain = (\n",
    "  {\n",
    "    \"context\": qdrant_instance.retriever | utils.format_docs, \n",
    "    \"question\": RunnablePassthrough()\n",
    "  }\n",
    "  | prompt\n",
    "  | chat\n",
    "  | output_parsers.str_output_parser()\n",
    ")\n",
    "\n",
    "example_messages = prompt.invoke(\n",
    "  {\n",
    "    \"context\": \"filter context\",\n",
    "    \"question\": \"filter question\"\n",
    "  }\n",
    ").to_messages()"
   ]
  },
  {
   "cell_type": "code",
   "execution_count": 9,
   "metadata": {},
   "outputs": [
    {
     "name": "stdout",
     "output_type": "stream",
     "text": [
      "Task decomposition involves breaking down complex tasks into smaller and simpler steps to enhance model performance. Techniques like Chain of Thought and Tree of Thoughts help in transforming big tasks into manageable ones by exploring multiple reasoning possibilities at each step. Task decomposition can be done using simple prompting, task-specific instructions, or human inputs."
     ]
    }
   ],
   "source": [
    "for chunk in rag_chain.stream(\"What is Task Decomposition?\"):\n",
    "  print(chunk, end=\"\", flush=True)"
   ]
  },
  {
   "cell_type": "markdown",
   "metadata": {},
   "source": [
    "### Add Source"
   ]
  },
  {
   "cell_type": "code",
   "execution_count": 10,
   "metadata": {},
   "outputs": [],
   "source": [
    "# Adding sources\n",
    "rag_chain_from_dos = (\n",
    "  RunnablePassthrough.assign(context=(lambda x: utils.format_docs(x[\"context\"])))\n",
    "  | prompt\n",
    "  | chat\n",
    "  | output_parsers.str_output_parser()\n",
    ")\n",
    "rag_chain_with_source = RunnableParallel(\n",
    "  {\n",
    "    \"context\": qdrant_instance.retriever,\n",
    "    \"question\": RunnablePassthrough()\n",
    "  }\n",
    ").assign(answer=rag_chain_from_dos)"
   ]
  },
  {
   "cell_type": "code",
   "execution_count": 17,
   "metadata": {},
   "outputs": [
    {
     "data": {
      "text/plain": [
       "{'context': [Document(page_content='Fig. 1. Overview of a LLM-powered autonomous agent system.\\nComponent One: Planning#\\nA complicated task usually involves many steps. An agent needs to know what they are and plan ahead.\\nTask Decomposition#\\nChain of thought (CoT; Wei et al. 2022) has become a standard prompting technique for enhancing model performance on complex tasks. The model is instructed to “think step by step” to utilize more test-time computation to decompose hard tasks into smaller and simpler steps. CoT transforms big tasks into multiple manageable tasks and shed lights into an interpretation of the model’s thinking process.', metadata={'source': 'https://lilianweng.github.io/posts/2023-06-23-agent/', 'start_index': 1585, '_id': '3e36d9d5-a5f2-48cd-9bf9-0e1d127bf068', '_collection_name': 'my-rag'}),\n",
       "  Document(page_content='Tree of Thoughts (Yao et al. 2023) extends CoT by exploring multiple reasoning possibilities at each step. It first decomposes the problem into multiple thought steps and generates multiple thoughts per step, creating a tree structure. The search process can be BFS (breadth-first search) or DFS (depth-first search) with each state evaluated by a classifier (via a prompt) or majority vote.\\nTask decomposition can be done (1) by LLM with simple prompting like \"Steps for XYZ.\\\\n1.\", \"What are the subgoals for achieving XYZ?\", (2) by using task-specific instructions; e.g. \"Write a story outline.\" for writing a novel, or (3) with human inputs.', metadata={'source': 'https://lilianweng.github.io/posts/2023-06-23-agent/', 'start_index': 2192, '_id': '355aa980-55bd-40ba-b72c-6ab47ea9c0d9', '_collection_name': 'my-rag'}),\n",
       "  Document(page_content='Resources:\\n1. Internet access for searches and information gathering.\\n2. Long Term memory management.\\n3. GPT-3.5 powered Agents for delegation of simple tasks.\\n4. File output.\\n\\nPerformance Evaluation:\\n1. Continuously review and analyze your actions to ensure you are performing to the best of your abilities.\\n2. Constructively self-criticize your big-picture behavior constantly.\\n3. Reflect on past decisions and strategies to refine your approach.\\n4. Every command has a cost, so be smart and efficient. Aim to complete tasks in the least number of steps.', metadata={'source': 'https://lilianweng.github.io/posts/2023-06-23-agent/', 'start_index': 29630, '_id': 'f0933cc3-36d0-4a29-a6d7-a8835b8a5366', '_collection_name': 'my-rag'}),\n",
       "  Document(page_content=\"(3) Task execution: Expert models execute on the specific tasks and log results.\\nInstruction:\\n\\nWith the input and the inference results, the AI assistant needs to describe the process and results. The previous stages can be formed as - User Input: {{ User Input }}, Task Planning: {{ Tasks }}, Model Selection: {{ Model Assignment }}, Task Execution: {{ Predictions }}. You must first answer the user's request in a straightforward manner. Then describe the task process and show your analysis and model inference results to the user in the first person. If inference results contain a file path, must tell the user the complete file path.\", metadata={'source': 'https://lilianweng.github.io/posts/2023-06-23-agent/', 'start_index': 19373, '_id': 'e2e9d02e-6329-4dd3-b47a-7252e542be88', '_collection_name': 'my-rag'}),\n",
       "  Document(page_content='The AI assistant can parse user input to several tasks: [{\"task\": task, \"id\", task_id, \"dep\": dependency_task_ids, \"args\": {\"text\": text, \"image\": URL, \"audio\": URL, \"video\": URL}}]. The \"dep\" field denotes the id of the previous task which generates a new resource that the current task relies on. A special tag \"-task_id\" refers to the generated text image, audio and video in the dependency task with id as task_id. The task MUST be selected from the following options: {{ Available Task List }}. There is a logical relationship between tasks, please note their order. If the user input can\\'t be parsed, you need to reply empty JSON. Here are several cases for your reference: {{ Demonstrations }}. The chat history is recorded as {{ Chat History }}. From this chat history, you can find the path of the user-mentioned resources for your task planning.', metadata={'source': 'https://lilianweng.github.io/posts/2023-06-23-agent/', 'start_index': 17804, '_id': 'e5f959e3-1b52-4678-8394-75d6e2baca87', '_collection_name': 'my-rag'}),\n",
       "  Document(page_content='Fig. 11. Illustration of how HuggingGPT works. (Image source: Shen et al. 2023)\\nThe system comprises of 4 stages:\\n(1) Task planning: LLM works as the brain and parses the user requests into multiple tasks. There are four attributes associated with each task: task type, ID, dependencies, and arguments. They use few-shot examples to guide LLM to do task parsing and planning.\\nInstruction:', metadata={'source': 'https://lilianweng.github.io/posts/2023-06-23-agent/', 'start_index': 17414, '_id': '6e433cf8-7094-476d-b2a6-6527aa9fc4ce', '_collection_name': 'my-rag'})],\n",
       " 'question': 'What is Task Decomposition?',\n",
       " 'answer': 'Task decomposition is a technique used to break down complex tasks into smaller and simpler steps. This process allows agents to plan ahead and tackle each step individually. It can be done through prompting techniques like Chain of Thought or Tree of Thoughts, or with task-specific instructions.'}"
      ]
     },
     "execution_count": 17,
     "metadata": {},
     "output_type": "execute_result"
    }
   ],
   "source": [
    "rag_chain_with_source.invoke(\"What is Task Decomposition?\")"
   ]
  },
  {
   "cell_type": "markdown",
   "metadata": {},
   "source": [
    "### Add chat history"
   ]
  },
  {
   "cell_type": "code",
   "execution_count": 11,
   "metadata": {},
   "outputs": [],
   "source": [
    "contextualize_q_chain = (\n",
    "  prompts.contextualize_q_prompt \n",
    "  | chat\n",
    "  | output_parsers.str_output_parser()\n",
    ")\n",
    "\n",
    "def contextualized_question(input: dict):\n",
    "  if input.get(\"chat_history\"):\n",
    "    return contextualize_q_chain\n",
    "  else:\n",
    "    return input[\"question\"]\n",
    "\n",
    "rag_chain = (\n",
    "  RunnablePassthrough.assign(\n",
    "    context=contextualized_question | qdrant_instance.retriever | utils.format_docs\n",
    "  )\n",
    "  | prompts.qa_prompt\n",
    "  | chat\n",
    ")\n"
   ]
  },
  {
   "cell_type": "code",
   "execution_count": 12,
   "metadata": {},
   "outputs": [],
   "source": [
    "chat_history = []\n",
    "\n",
    "questions = [\n",
    "  \"What is Task Decomposition?\",\n",
    "  \"What are common ways of doing it?\"\n",
    "]\n",
    "\n",
    "for question in questions:\n",
    "  ai_msg = rag_chain.invoke({\n",
    "    \"question\": question, \"chat_history\": chat_history\n",
    "  })\n",
    "  chat_history.extend([HumanMessage(content=question), ai_msg])"
   ]
  },
  {
   "cell_type": "markdown",
   "metadata": {},
   "source": [
    "### Streaming"
   ]
  },
  {
   "cell_type": "code",
   "execution_count": 19,
   "metadata": {},
   "outputs": [
    {
     "name": "stdout",
     "output_type": "stream",
     "text": [
      "Task decomposition involves breaking down a complex task into smaller and simpler steps to make it more manageable for an agent or model. Techniques like Chain of Thought (CoT) and Tree of Thoughts help in decomposing hard tasks into multiple manageable tasks by guiding the model to think step by step or explore multiple reasoning possibilities at each step. Task decomposition can be done using simple prompting, task-specific instructions, or human inputs to guide the agent or model in achieving the overall task goal."
     ]
    }
   ],
   "source": [
    "for chunk in rag_chain.stream({\n",
    "  \"question\": \"What is Task Decomposition\", \"chat_history\": []\n",
    "}):\n",
    "  print(chunk.content, flush=True, end='')"
   ]
  },
  {
   "cell_type": "markdown",
   "metadata": {},
   "source": [
    "### Per-User Retrieval"
   ]
  },
  {
   "cell_type": "markdown",
   "metadata": {},
   "source": [
    "### Citations"
   ]
  },
  {
   "cell_type": "markdown",
   "metadata": {},
   "source": [
    "### Use Agents"
   ]
  },
  {
   "cell_type": "code",
   "execution_count": 17,
   "metadata": {},
   "outputs": [],
   "source": [
    "tools = [\n",
    "  qdrant_instance.retriever_tool\n",
    "]\n",
    "\n",
    "agent_prompt = prompts.openai_tools_agent_prompt\n",
    "\n",
    "agent = agents.create_openai_tools_agent(\n",
    "  llm=chat_models.chat_openai,\n",
    "  tools=tools,\n",
    "  prompt=agent_prompt,\n",
    ")\n",
    "agent_executor = agents.AgentExecutor(agent=agent, tools=tools, verbose=True)"
   ]
  },
  {
   "cell_type": "code",
   "execution_count": 25,
   "metadata": {},
   "outputs": [
    {
     "name": "stdout",
     "output_type": "stream",
     "text": [
      "\n",
      "\n",
      "\u001b[1m> Entering new AgentExecutor chain...\u001b[0m\n",
      "\u001b[32;1m\u001b[1;3mHello Bob! How can I assist you today?\u001b[0m\n",
      "\n",
      "\u001b[1m> Finished chain.\u001b[0m\n"
     ]
    },
    {
     "data": {
      "text/plain": [
       "{'input': 'hi, i am Bob', 'output': 'Hello Bob! How can I assist you today?'}"
      ]
     },
     "execution_count": 25,
     "metadata": {},
     "output_type": "execute_result"
    }
   ],
   "source": [
    "agent_executor.invoke({\"input\": \"hi, i am Bob\"})"
   ]
  },
  {
   "cell_type": "markdown",
   "metadata": {},
   "source": [
    "### Use Local Models"
   ]
  },
  {
   "cell_type": "markdown",
   "metadata": {},
   "source": [
    "# end"
   ]
  }
 ],
 "metadata": {
  "kernelspec": {
   "display_name": "LLM",
   "language": "python",
   "name": "python3"
  },
  "language_info": {
   "codemirror_mode": {
    "name": "ipython",
    "version": 3
   },
   "file_extension": ".py",
   "mimetype": "text/x-python",
   "name": "python",
   "nbconvert_exporter": "python",
   "pygments_lexer": "ipython3",
   "version": "3.9.18"
  }
 },
 "nbformat": 4,
 "nbformat_minor": 2
}
