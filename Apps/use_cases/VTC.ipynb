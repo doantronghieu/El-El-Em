{
	"cells": [
		{
			"cell_type": "code",
			"execution_count": 1,
			"metadata": {
				"notebookRunGroups": {
					"groupValue": "1"
				}
			},
			"outputs": [
				{
					"name": "stderr",
					"output_type": "stream",
					"text": [
						"/home/doantronghieu/anaconda3/envs/LLM/lib/python3.9/site-packages/tqdm/auto.py:21: TqdmWarning: IProgress not found. Please update jupyter and ipywidgets. See https://ipywidgets.readthedocs.io/en/stable/user_install.html\n",
						"  from .autonotebook import tqdm as notebook_tqdm\n"
					]
				}
			],
			"source": [
				"import add_packages\n",
				"import config\n",
				"from pprint import pprint\n",
				"import os, re, unicodedata, string\n",
				"import pandas as pd\n",
				"# import tqdm\n",
				"from tqdm.auto import tqdm\n",
				"from nltk.tokenize import word_tokenize\n",
				"from nltk.corpus import stopwords\n",
				"\n",
				"from my_prompts import (\n",
				"  prompts_onlinica\n",
				")\n",
				"\n",
				"from my_langchain import (\n",
				"  document_loaders, text_splitters, text_embedding_models, vector_stores, \n",
				"  chat_models, prompts, utils, output_parsers, agents, documents, llms,\n",
				"  runnables\n",
				")\n",
				"\n",
				"tqdm.pandas(desc=\"Processing\")"
			]
		},
		{
			"cell_type": "markdown",
			"metadata": {},
			"source": [
				"# Data"
			]
		},
		{
			"cell_type": "markdown",
			"metadata": {},
			"source": [
				"## Lectures Content"
			]
		},
		{
			"cell_type": "markdown",
			"metadata": {},
			"source": [
				"### Combine"
			]
		},
		{
			"cell_type": "code",
			"execution_count": null,
			"metadata": {},
			"outputs": [],
			"source": [
				"def extract_course_name(file_path):\n",
				"    with open(file_path, 'r', encoding='utf-8') as file:\n",
				"        first_line = file.readline().strip()\n",
				"        return first_line[len(\"# Course: \"):]"
			]
		},
		{
			"cell_type": "code",
			"execution_count": null,
			"metadata": {},
			"outputs": [],
			"source": [
				"def remove_extra_newlines(text):\n",
				"    while '\\n\\n' in text:\n",
				"        text = text.replace('\\n\\n', '\\n')\n",
				"    return text\n",
				"\n",
				"\n",
				"def remove_double_spaces(text):\n",
				"    while '  ' in text:\n",
				"        text = text.replace('  ', ' ')\n",
				"    return text\n",
				"\n",
				"\n",
				"def process_add_space_after_hash(text):\n",
				"    pattern = r'##(\\w)'\n",
				"    processed_text = re.sub(pattern, r'## \\1', text)\n",
				"    return processed_text\n",
				"\n",
				"\n",
				"def process_remove_quotes(text):\n",
				"    cleaned_text = text.replace('\"', '')\n",
				"    return cleaned_text\n",
				"\n",
				"\n",
				"def process_text_file(input_file, output_file, functions):\n",
				"    # Read the first line of the input file\n",
				"    with open(input_file, 'r') as file:\n",
				"        first_line = file.readline().strip()\n",
				"        len_first_line = len(first_line)\n",
				"    \n",
				"\n",
				"    # Extract course name from filename\n",
				"    course_name = os.path.splitext(os.path.basename(input_file))[0]\n",
				"    # If the first line doesn't match the filename, replace it with the filename's course name\n",
				"    first_line = \"# Course: \" + course_name\n",
				"\n",
				"    # Reopen the file to process the entire content\n",
				"    with open(input_file, 'r') as file:\n",
				"        text = file.read()\n",
				"\n",
				"    # Apply processing functions\n",
				"    for func in functions:\n",
				"        text = func(text)\n",
				"\n",
				"    # Prepend the modified first line to the processed text\n",
				"    text = first_line + '\\n' + text[len_first_line + 1:]\n",
				"\n",
				"    # Write the processed text to the output file\n",
				"    with open(output_file, 'w') as file:\n",
				"        file.write(text)\n",
				"\n",
				"\n",
				"# Define the list of functions to apply\n",
				"functions_to_apply = [\n",
				"    process_remove_quotes,\n",
				"    remove_extra_newlines,\n",
				"    remove_double_spaces,\n",
				"    process_add_space_after_hash,\n",
				"]\n"
			]
		},
		{
			"cell_type": "code",
			"execution_count": null,
			"metadata": {},
			"outputs": [],
			"source": [
				"\n",
				"# Example usage:\n",
				"input_file_path = '../data/vtc1/script/KỸ NĂNG TÌM VIỆC LÀM THÊM.txt'\n",
				"output_file_path = '../data/vtc1/script/KỸ NĂNG TÌM VIỆC LÀM THÊM.txt'\n",
				"process_text_file(input_file_path, output_file_path, functions_to_apply)"
			]
		},
		{
			"cell_type": "markdown",
			"metadata": {},
			"source": [
				"### Process files"
			]
		},
		{
			"cell_type": "code",
			"execution_count": null,
			"metadata": {},
			"outputs": [],
			"source": [
				"# Specify the folder containing the files\n",
				"folder_path = '../data/vtc2/script/'\n",
				"\n",
				"# Loop through each file in the folder\n",
				"for filename in os.listdir(folder_path):\n",
				"    if filename.endswith('.txt'):  # Process only text files\n",
				"        input_file_path = os.path.join(folder_path, filename)\n",
				"        output_file_path = os.path.join(\n",
				"            folder_path, filename)  # Output file path\n",
				"        process_text_file(input_file_path, output_file_path,\n",
				"                          functions_to_apply)"
			]
		},
		{
			"cell_type": "markdown",
			"metadata": {},
			"source": [
				"### Create documents "
			]
		},
		{
			"cell_type": "markdown",
			"metadata": {},
			"source": [
				"#### ONE course\n"
			]
		},
		{
			"cell_type": "code",
			"execution_count": null,
			"metadata": {},
			"outputs": [],
			"source": [
				"# Example usage:\n",
				"file_path = \"../data/vtc1/script/HỘI HỌA - MÀU SẮC VÀ PHỐI MÀU CƠ BẢN.txt\"\n",
				"course_name = extract_course_name(file_path).lower()\n",
				"\n",
				"text_loader_lectures_content = document_loaders.TextLoader(file_path)\n",
				"document = text_loader_lectures_content.load()\n",
				"\n",
				"text_splitter = text_splitters.RecursiveCharacterTextSplitter(\n",
				"  chunk_size=1000, chunk_overlap=200,\n",
				")\n",
				"docs_lectures_content = text_splitter.split_documents(document)\n",
				"\n",
				"metadatas = {\n",
				"  \"data\": \"lectures content\",\n",
				"  \"course_name\": course_name,\n",
				"}\n",
				"utils.remove_metadata(docs_lectures_content, \"source\")\n",
				"utils.update_metadata(docs_lectures_content, metadatas)"
			]
		},
		{
			"cell_type": "markdown",
			"metadata": {},
			"source": [
				"#### MULTIPLE course\n"
			]
		},
		{
			"cell_type": "code",
			"execution_count": null,
			"metadata": {},
			"outputs": [],
			"source": [
				"\n",
				"def process_folder(folder_path):\n",
				"    data_dict = {}\n",
				"    for root, dirs, files in os.walk(folder_path):\n",
				"        for file_name in files:\n",
				"            if file_name.endswith('.txt'):\n",
				"                file_path = os.path.join(root, file_name)\n",
				"                course_name = extract_course_name(file_path).lower()\n",
				"\n",
				"                text_loader_lectures_content = document_loaders.TextLoader(file_path)\n",
				"                document = text_loader_lectures_content.load()\n",
				"\n",
				"                text_splitter = text_splitters.RecursiveCharacterTextSplitter(\n",
				"                    chunk_size=1000, chunk_overlap=200,\n",
				"                )\n",
				"                docs_lectures_content = text_splitter.split_documents(document)\n",
				"\n",
				"                metadatas = {\n",
				"                    \"data\": \"lectures content\",\n",
				"                    \"course_name\": course_name,\n",
				"                }\n",
				"                utils.remove_metadata(docs_lectures_content, \"source\")\n",
				"                utils.update_metadata(docs_lectures_content, metadatas)\n",
				"\n",
				"                data_dict[course_name] = docs_lectures_content\n",
				"\n",
				"    return data_dict\n",
				"\n",
				"\n",
				"folder_path = \"../data/vtc2/script/\"\n",
				"docs_lectures_content_dict = process_folder(folder_path)\n",
				"for file_name, content in docs_lectures_content_dict.items():\n",
				"    print(f\"File: {file_name}, Course: {content[0].metadata['course_name']}\")"
			]
		},
		{
			"cell_type": "markdown",
			"metadata": {},
			"source": [
				"## FAQ"
			]
		},
		{
			"cell_type": "code",
			"execution_count": null,
			"metadata": {},
			"outputs": [],
			"source": [
				"text_loader_faq = document_loaders.TextLoader(\n",
				"  \"../data/vtc/faq.txt\"\n",
				")\n",
				"document = text_loader_faq.load()\n",
				"\n",
				"text_splitter = text_splitters.RecursiveCharacterTextSplitter(\n",
				"  chunk_size=500, chunk_overlap=100,\n",
				")\n",
				"docs_faq = text_splitter.split_documents(document)\n",
				"\n",
				"metadatas = {\n",
				"  \"data\": \"frequently asked questions\"\n",
				"}\n",
				"utils.remove_metadata(docs_faq, \"source\")\n",
				"utils.update_metadata(docs_faq, metadatas)"
			]
		},
		{
			"cell_type": "markdown",
			"metadata": {},
			"source": [
				"## Courses list"
			]
		},
		{
			"cell_type": "code",
			"execution_count": 129,
			"metadata": {},
			"outputs": [
				{
					"name": "stdout",
					"output_type": "stream",
					"text": [
						"('Kiến thức cơ bản về màu sắc. Sử dụng ánh sáng và nhiệt độ trong màu sắc. '\n",
						" 'Nguyên lý phối màu. Thực hành tô màu với vòng tròn thuần sắc. Hướng dẫn bởi '\n",
						" 'giảng viên chuyên ngành thiết kế')\n"
					]
				}
			],
			"source": [
				"model = chat_models.chat_openai\n",
				"\n",
				"template1 = \"\"\"\\\n",
				"Dựa trên mô tả khóa học, đưa ra chỉ nội dung cốt lõi sẽ được dạy của khóa học. Trả lời dưới dạng gạch đầu dòng.\n",
				"\n",
				"Đây là mô tả khóa học:\n",
				"{text}\"\"\"\n",
				"\n",
				"template2 = \"\"\"\\\n",
				"Delete bullet points. Replace line breaks with dots.\n",
				"Example Input:\n",
				"'- Kiến thức cơ bản về màu sắc\\n- Sử dụng ánh sáng và nhiệt độ trong màu sắc\\n- Nguyên lý phối màu\\n- Thực hành tô màu với vòng tròn thuần sắc\\n- Hướng dẫn bởi giảng viên chuyên ngành thiết kế'\n",
				"\n",
				"Example Output:\n",
				"'Kiến thức cơ bản về màu sắc. Sử dụng ánh sáng và nhiệt độ trong màu sắc. Nguyên lý phối màu. Thực hành tô màu với vòng tròn thuần sắc. Hướng dẫn bởi giảng viên chuyên ngành thiết kế'\n",
				"\n",
				"Input:\n",
				"{text}\n",
				"\"\"\"\n",
				"\n",
				"prompt_template1 = prompts.PromptTemplate.from_template(template1)\n",
				"prompt_template2 = prompts.PromptTemplate.from_template(template2)\n",
				"\n",
				"chain1 = prompt_template1 | model | output_parsers.StrOutputParser()\n",
				"chain2 = prompt_template2 | model | output_parsers.StrOutputParser()\n",
				"\n",
				"chain = runnables.RunnablePassthrough.assign(\n",
				"  text=chain1\n",
				").assign(\n",
				"  text=chain2\n",
				")\n",
				"\n",
				"def process_description(text: str) -> str:\n",
				"  result = chain.invoke({\"text\": text})['text']\n",
				"  return result\n",
				"\n",
				"query = 'Bạn yêu thích việc sử dụng màu sắc, nhưng lại không biết làm sao để phối ra những màu sắc mà bản thân mong muốn. Vậy thì khóa học \"Màu sắc và cách phối màu cơ bản\" sẽ mang đến cho bạn những kiến thức cơ bản về màu sắc như việc sử dụng ánh sáng, nhiệt độ trong màu sắc hay thú vị hơn là nắm được các nguyên lý phối màu. Không những thế bạn còn có thể thực hành tô màu với vòng tròn thuần sắc cùng Mr. Anh Thi - Giảng viên chuyên ngành thiết kế. Để có thể có những trải nghiệm tuyệt vời trên còn chần chờ gì mà không nhanh tay đăng ký khóa học để tiếp thu những kiến thức hữu ích bạn nhé!'\n",
				"result = process_description(query)\n",
				"\n",
				"pprint(result)"
			]
		},
		{
			"cell_type": "code",
			"execution_count": 130,
			"metadata": {},
			"outputs": [],
			"source": [
				"path_courses_list = \"../data/vtc2/courses_list.csv\"\n",
				"\n",
				"df = pd.read_csv(path_courses_list)\n",
				"\n",
				"df['MÔ TẢ (course description)'] = df['MÔ TẢ (course description)'].progress_apply(\n",
				"  process_description)\n",
				"\n",
				"df.to_csv(\"../data/vtc2/courses_list1.csv\", index=False)\n",
				"\n",
				"list(df[\"MÔ TẢ (course description)\"])"
			]
		},
		{
			"cell_type": "code",
			"execution_count": 134,
			"metadata": {},
			"outputs": [],
			"source": [
				"path_courses_list = \"../data/vtc2/courses_list1.csv\"\n",
				"courses_list_cols = utils.get_csv_column_names(path_courses_list)\n",
				"\n",
				"csv_loader_courses_list = document_loaders.CSVLoader(\n",
				"    path_courses_list,\n",
				"    # source_column=\"No\",\n",
				"    csv_args={\n",
				"        \"delimiter\": \",\",\n",
				"        # \"quotechar\": \"''\",\n",
				"        \"fieldnames\": courses_list_cols,\n",
				"    },\n",
				")\n",
				"document = csv_loader_courses_list.load()[1:]\n",
				"docs_courses_information = document\n",
				"\n",
				"metadatas = {\n",
				"    \"data\": \"courses information\"\n",
				"}\n",
				"\n",
				"utils.remove_metadata(docs_courses_information, \"source\")\n",
				"utils.remove_metadata(docs_courses_information, \"row\")\n",
				"utils.update_metadata(docs_courses_information, metadatas)"
			]
		},
		{
			"cell_type": "markdown",
			"metadata": {},
			"source": [
				"# Vector store "
			]
		},
		{
			"cell_type": "markdown",
			"metadata": {},
			"source": [
				"## Lectures Content"
			]
		},
		{
			"cell_type": "code",
			"execution_count": null,
			"metadata": {},
			"outputs": [],
			"source": [
				"qdrant_instance_lectures_content = vector_stores.QdrantWrapper(\n",
				"  collection_name=\"vtc-lectures-content-2\",\n",
				"  qdrant_host=os.getenv(\"QDRANT_HOST\"),\n",
				"  qdrant_api_key=os.getenv(\"QDRANT_API_KEY\"),\n",
				"  default_search_type=\"similarity\",\n",
				"  default_search_kwargs={\"k\": 5},\n",
				"  retriever_tool_name=\"lectures_content\",\n",
				"  retriever_tool_description=\"Searches and returns content, knowledge from \\\n",
				"    the lecture scripts based on specialized keywords from user's question like \\\n",
				"    Typography, Lazada, Premiere, Unity ...\",\n",
				")"
			]
		},
		{
			"cell_type": "markdown",
			"metadata": {},
			"source": [
				"### Add multiple courses\n"
			]
		},
		{
			"cell_type": "code",
			"execution_count": null,
			"metadata": {},
			"outputs": [],
			"source": [
				"for docs in docs_lectures_content_dict.values():\n",
				"  qdrant_instance_lectures_content.add_documents(docs)"
			]
		},
		{
			"cell_type": "markdown",
			"metadata": {},
			"source": [
				"#### If error"
			]
		},
		{
			"cell_type": "code",
			"execution_count": null,
			"metadata": {},
			"outputs": [],
			"source": [
				"# Check position based on len(docs) of the course\n",
				"for position, (key, value) in enumerate(docs_lectures_content_dict.items()):\n",
				"    if len(value) == 71:\n",
				"        print(\"Key:\", key)\n",
				"        print(\"Position:\", position)"
			]
		},
		{
			"cell_type": "code",
			"execution_count": null,
			"metadata": {},
			"outputs": [],
			"source": [
				"# Continue if error\n",
				"for docs in (list(docs_lectures_content_dict.values()))[36:]:\n",
				"  qdrant_instance_lectures_content.add_documents(docs)"
			]
		},
		{
			"cell_type": "markdown",
			"metadata": {},
			"source": [
				"### Add one course\n"
			]
		},
		{
			"cell_type": "code",
			"execution_count": null,
			"metadata": {},
			"outputs": [],
			"source": [
				"# qdrant_instance_lectures_content.add_documents(docs_lectures_content)"
			]
		},
		{
			"cell_type": "markdown",
			"metadata": {},
			"source": [
				"## FAQ"
			]
		},
		{
			"cell_type": "code",
			"execution_count": null,
			"metadata": {},
			"outputs": [],
			"source": [
				"qdrant_instance_faq = vector_stores.QdrantWrapper(\n",
				"  collection_name=\"vtc-faq\",\n",
				"  qdrant_host=os.getenv(\"QDRANT_HOST\"),\n",
				"  qdrant_api_key=os.getenv(\"QDRANT_API_KEY\"),\n",
				"  default_search_type=\"similarity\",\n",
				"  default_search_kwargs={\"k\": 10},\n",
				"  retriever_tool_name=\"frequently_asked_questions\",\n",
				"  retriever_tool_description=\"Searches and returns answer for frequently asked \\\n",
				"    questions about Onlinica information like accounts, fees, courses, payments, \\\n",
				"    certificates ...\",\n",
				")"
			]
		},
		{
			"cell_type": "code",
			"execution_count": null,
			"metadata": {},
			"outputs": [],
			"source": [
				"# qdrant_instance_faq.add_documents(docs_faq)"
			]
		},
		{
			"cell_type": "markdown",
			"metadata": {},
			"source": [
				"## Courses List"
			]
		},
		{
			"cell_type": "code",
			"execution_count": 136,
			"metadata": {},
			"outputs": [
				{
					"name": "stderr",
					"output_type": "stream",
					"text": [
						"\u001b[32m2024-03-22 13:12:23.882\u001b[0m | \u001b[1mINFO    \u001b[0m | \u001b[36mmy_langchain.vector_stores\u001b[0m:\u001b[36m__init__\u001b[0m:\u001b[36m118\u001b[0m - \u001b[1mCollection: `vtc-courses-information-2` created.\u001b[0m\n"
					]
				}
			],
			"source": [
				"qdrant_instance_courses_information = vector_stores.QdrantWrapper(\n",
				"    collection_name=\"vtc-courses-information-2\",\n",
				"    qdrant_host=os.getenv(\"QDRANT_HOST\"),\n",
				"    qdrant_api_key=os.getenv(\"QDRANT_API_KEY\"),\n",
				"    default_search_type=\"similarity\",\n",
				"    default_search_kwargs={\"k\": 10},\n",
				"    retriever_tool_name=\"courses_information\",\n",
				"    retriever_tool_description=\"Searches and returns information about courses \\\n",
				"      of Onlinica like course name, course category, course link, course \\\n",
				"      description, total number of courses ...\",\n",
				")"
			]
		},
		{
			"cell_type": "code",
			"execution_count": 137,
			"metadata": {},
			"outputs": [
				{
					"name": "stderr",
					"output_type": "stream",
					"text": [
						"100%|██████████| 45/45 [00:39<00:00,  1.15it/s]\n"
					]
				}
			],
			"source": [
				"qdrant_instance_courses_information.add_documents(docs_courses_information)"
			]
		},
		{
			"cell_type": "markdown",
			"metadata": {},
			"source": [
				"#### ONE course\n"
			]
		},
		{
			"cell_type": "markdown",
			"metadata": {},
			"source": [
				"# Tools"
			]
		},
		{
			"cell_type": "code",
			"execution_count": 2,
			"metadata": {},
			"outputs": [],
			"source": [
				"system_message_onlinica = prompts_onlinica.system_message_onlinica\n",
				"\n",
				"prompt_onlinica = prompts.create_prompt_custom_agent_openai_tools(system_message_onlinica)"
			]
		},
		{
			"cell_type": "code",
			"execution_count": 4,
			"metadata": {},
			"outputs": [
				{
					"name": "stdout",
					"output_type": "stream",
					"text": [
						"You are a consultant for an online learning platform called Onlinica.\n",
						"\n",
						"You have the following qualities:\n",
						"- Helpful\n",
						"- Extremely dedicated and hardworking\n",
						"- Professionalism, respect, sincerity and honesty\n",
						"- Standard thinking\n",
						"- Excellent communication, negotiation and complaint handling skills\n",
						"- Excellent sales skills\n",
						"- Deep understanding of products/services. Strong knowledge of the industry\n",
						"- Optimistic and positive spirit. Ability to create a positive customer experience\n",
						"- Sensitive to customers' requests and desires\n",
						"\n",
						"You will help users answer questions about the courses on the platform. The language in which you respond will be the same as the user's language.\n",
						"\n",
						"Questions users might ask and how to answer:\n",
						"- Course Information: You SHOULD list ALL available courses (and their information) that are RELEVANT to the user's question\n",
						"- List courses in a certain category: You MUST list about 10 courses in that category\n",
						"- Content and knowledge of the lecture: These questions will often contain specialized keywords such as Typography, Lazada, Premiere, Unity,... You will synthesize information from the scripts of the lectures that contain keywords that major and give detailed answers to users. You should suggest courses (course name with course link) related to that specialized keyword to users.\n",
						"- Frequently asked questions\n",
						"\n"
					]
				}
			],
			"source": [
				"print(system_message_onlinica)"
			]
		},
		{
			"cell_type": "code",
			"execution_count": null,
			"metadata": {},
			"outputs": [],
			"source": [
				"tools = [\n",
				"  qdrant_instance_lectures_content.retriever_tool,\n",
				"  qdrant_instance_faq.retriever_tool,\n",
				"  qdrant_instance_courses_information.retriever_tool,\n",
				"]\n",
				"\n",
				"llm = chat_models.chat_openai\n",
				"agent = agents.MyAgent(prompt=prompt_onlinica, tools=tools, agent_type=\"openai_tools\", llm=llm)"
			]
		},
		{
			"cell_type": "code",
			"execution_count": null,
			"metadata": {},
			"outputs": [],
			"source": [
				"questions = [\n",
				"  \"xin chào. Tên tôi là Bob.\",\n",
				"  \"bạn có nhớ tên tôi là gì không\",\n",
				"  \n",
				"  \"digital marketing là gì\",\n",
				"  \n",
				"  \"làm cách nào để đăng ký tài khoản onlinica\",\n",
				"  \"có mấy loại tài khoản onlinica\",\n",
				"  \"các khoá học tại onlinica có thời hạn sử dụng bao lâu\",\n",
				"  \"onlinica có mấy hình thức thanh toán\",\n",
				"  \"có thể thanh toán bằng momo được không\",\n",
				"  \n",
				"  \"các khóa học về design\",\n",
				"  \"các khóa học về trí tuệ nhân tạo\",\n",
				"  \"các khóa học về  ai\",\n",
				"  \"các khóa học của nguyễn ngọc tú uyên\",\n",
				"  \"các khóa học của tú uyên\",\n",
				"  \"các khóa học thầy trần anh tuấn dạy\",\n",
				"  \n",
				"  \"cách quản lý thời gian\",\n",
				"  \"nguyên lý phối màu\",\n",
				"]"
			]
		},
		{
			"cell_type": "code",
			"execution_count": null,
			"metadata": {},
			"outputs": [],
			"source": [
				"response = agent.invoke_agent(\n",
				"    \"có thể thanh toán bằng momo được không\"\n",
				")\n",
				"pprint(response)"
			]
		}
	],
	"metadata": {
		"kernelspec": {
			"display_name": "LLM",
			"language": "python",
			"name": "python3"
		},
		"language_info": {
			"codemirror_mode": {
				"name": "ipython",
				"version": 3
			},
			"file_extension": ".py",
			"mimetype": "text/x-python",
			"name": "python",
			"nbconvert_exporter": "python",
			"pygments_lexer": "ipython3",
			"version": "3.9.18"
		}
	},
	"nbformat": 4,
	"nbformat_minor": 2
}
