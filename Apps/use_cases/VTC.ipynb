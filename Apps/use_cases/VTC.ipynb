{
	"cells": [
		{
			"cell_type": "code",
			"execution_count": null,
			"metadata": {
				"notebookRunGroups": {
					"groupValue": "1"
				}
			},
			"outputs": [],
			"source": [
				"import yaml\n",
				"import add_packages\n",
				"from pprint import pprint\n",
				"import os, re\n",
				"import pandas as pd\n",
				"# import tqdm\n",
				"from tqdm.auto import tqdm\n",
				"\n",
				"from my_langchain import (\n",
				"  document_loaders, text_splitters, text_embedding_models, vectorstores, \n",
				"  chat_models, prompts, utils, output_parsers, agents, documents, llms,\n",
				"  runnables\n",
				")\n",
				"\n",
				"tqdm.pandas(desc=\"Processing\")\n",
				"\n",
				"with open(\"../my_configs/vtc.yaml\", 'r') as file:\n",
				"    configs_vtc = yaml.safe_load(file)"
			]
		},
		{
			"cell_type": "markdown",
			"metadata": {},
			"source": [
				"# Data"
			]
		},
		{
			"cell_type": "markdown",
			"metadata": {},
			"source": [
				"## Lectures Content"
			]
		},
		{
			"cell_type": "markdown",
			"metadata": {},
			"source": [
				"### Combine"
			]
		},
		{
			"cell_type": "code",
			"execution_count": null,
			"metadata": {},
			"outputs": [],
			"source": [
				"def extract_course_name(file_path):\n",
				"    with open(file_path, 'r', encoding='utf-8') as file:\n",
				"        first_line = file.readline().strip()\n",
				"        return first_line[len(\"# Course: \"):]"
			]
		},
		{
			"cell_type": "code",
			"execution_count": null,
			"metadata": {},
			"outputs": [],
			"source": [
				"def remove_extra_newlines(text):\n",
				"    while '\\n\\n' in text:\n",
				"        text = text.replace('\\n\\n', '\\n')\n",
				"    return text\n",
				"\n",
				"\n",
				"def remove_double_spaces(text):\n",
				"    while '  ' in text:\n",
				"        text = text.replace('  ', ' ')\n",
				"    return text\n",
				"\n",
				"\n",
				"def process_add_space_after_hash(text):\n",
				"    pattern = r'##(\\w)'\n",
				"    processed_text = re.sub(pattern, r'## \\1', text)\n",
				"    return processed_text\n",
				"\n",
				"\n",
				"def process_remove_quotes(text):\n",
				"    cleaned_text = text.replace('\"', '')\n",
				"    return cleaned_text\n",
				"\n",
				"\n",
				"def process_text_file(input_file, output_file, functions):\n",
				"    # Read the first line of the input file\n",
				"    with open(input_file, 'r') as file:\n",
				"        first_line = file.readline().strip()\n",
				"        len_first_line = len(first_line)\n",
				"    \n",
				"\n",
				"    # Extract course name from filename\n",
				"    course_name = os.path.splitext(os.path.basename(input_file))[0]\n",
				"    # If the first line doesn't match the filename, replace it with the filename's course name\n",
				"    first_line = \"# Course: \" + course_name\n",
				"\n",
				"    # Reopen the file to process the entire content\n",
				"    with open(input_file, 'r') as file:\n",
				"        text = file.read()\n",
				"\n",
				"    # Apply processing functions\n",
				"    for func in functions:\n",
				"        text = func(text)\n",
				"\n",
				"    # Prepend the modified first line to the processed text\n",
				"    text = first_line + '\\n' + text[len_first_line + 1:]\n",
				"\n",
				"    # Write the processed text to the output file\n",
				"    with open(output_file, 'w') as file:\n",
				"        file.write(text)\n",
				"\n",
				"\n",
				"# Define the list of functions to apply\n",
				"functions_to_apply = [\n",
				"    process_remove_quotes,\n",
				"    remove_extra_newlines,\n",
				"    remove_double_spaces,\n",
				"    process_add_space_after_hash,\n",
				"]\n"
			]
		},
		{
			"cell_type": "code",
			"execution_count": null,
			"metadata": {},
			"outputs": [],
			"source": [
				"# # Example usage:\n",
				"# input_file_path = '../data/vtc1/script/KỸ NĂNG TÌM VIỆC LÀM THÊM.txt'\n",
				"# output_file_path = '../data/vtc1/script/KỸ NĂNG TÌM VIỆC LÀM THÊM.txt'\n",
				"# process_text_file(input_file_path, output_file_path, functions_to_apply)"
			]
		},
		{
			"cell_type": "markdown",
			"metadata": {},
			"source": [
				"### Process files"
			]
		},
		{
			"cell_type": "code",
			"execution_count": null,
			"metadata": {},
			"outputs": [],
			"source": [
				"# # Specify the folder containing the files\n",
				"# folder_path = '../data/vtc2/script/'\n",
				"\n",
				"# # Loop through each file in the folder\n",
				"# for filename in os.listdir(folder_path):\n",
				"#     if filename.endswith('.txt'):  # Process only text files\n",
				"#         input_file_path = os.path.join(folder_path, filename)\n",
				"#         output_file_path = os.path.join(\n",
				"#             folder_path, filename)  # Output file path\n",
				"#         process_text_file(input_file_path, output_file_path,\n",
				"#                           functions_to_apply)"
			]
		},
		{
			"cell_type": "markdown",
			"metadata": {},
			"source": [
				"### Create documents "
			]
		},
		{
			"cell_type": "markdown",
			"metadata": {},
			"source": [
				"#### ONE course\n"
			]
		},
		{
			"cell_type": "code",
			"execution_count": null,
			"metadata": {},
			"outputs": [],
			"source": [
				"# # Example usage:\n",
				"# file_path = \"../data/vtc1/script/HỘI HỌA - MÀU SẮC VÀ PHỐI MÀU CƠ BẢN.txt\"\n",
				"# course_name = extract_course_name(file_path).lower()\n",
				"\n",
				"# text_loader_lectures_content = document_loaders.TextLoader(file_path)\n",
				"# document = text_loader_lectures_content.load()\n",
				"\n",
				"# text_splitter = text_splitters.RecursiveCharacterTextSplitter(\n",
				"#   chunk_size=1000, chunk_overlap=200,\n",
				"# )\n",
				"# docs_lectures_content = text_splitter.split_documents(document)\n",
				"\n",
				"# metadatas = {\n",
				"#   \"data\": \"lectures content\",\n",
				"#   \"course_name\": course_name,\n",
				"# }\n",
				"# utils.remove_metadata(docs_lectures_content, \"source\")\n",
				"# utils.update_metadata(docs_lectures_content, metadatas)"
			]
		},
		{
			"cell_type": "markdown",
			"metadata": {},
			"source": [
				"#### MULTIPLE course\n"
			]
		},
		{
			"cell_type": "code",
			"execution_count": null,
			"metadata": {},
			"outputs": [],
			"source": [
				"\n",
				"def process_folder(folder_path):\n",
				"    data_dict = {}\n",
				"    for root, dirs, files in os.walk(folder_path):\n",
				"        for file_name in files:\n",
				"            if file_name.endswith('.txt'):\n",
				"                file_path = os.path.join(root, file_name)\n",
				"                course_name = extract_course_name(file_path).lower()\n",
				"\n",
				"                text_loader_lectures_content = document_loaders.TextLoader(file_path)\n",
				"                document = text_loader_lectures_content.load()\n",
				"\n",
				"                text_splitter = text_splitters.RecursiveCharacterTextSplitter(\n",
				"                    chunk_size=1000, chunk_overlap=200,\n",
				"                )\n",
				"                docs_lectures_content = text_splitter.split_documents(document)\n",
				"\n",
				"                metadatas = {\n",
				"                    \"data\": \"lectures content\",\n",
				"                    \"course_name\": course_name,\n",
				"                }\n",
				"                utils.remove_metadata(docs_lectures_content, \"source\")\n",
				"                utils.update_metadata(docs_lectures_content, metadatas)\n",
				"\n",
				"                data_dict[course_name] = docs_lectures_content\n",
				"\n",
				"    return data_dict\n",
				"\n",
				"\n",
				"folder_path = \"../data/vtc2/script/\"\n",
				"docs_lectures_content_dict = process_folder(folder_path)\n",
				"for file_name, content in docs_lectures_content_dict.items():\n",
				"    print(f\"File: {file_name}, Course: {content[0].metadata['course_name']}\")"
			]
		},
		{
			"cell_type": "markdown",
			"metadata": {},
			"source": [
				"## FAQ"
			]
		},
		{
			"cell_type": "code",
			"execution_count": null,
			"metadata": {},
			"outputs": [],
			"source": [
				"text_loader_faq = document_loaders.TextLoader(\n",
				"  \"../data/vtc/faq1.txt\"\n",
				")\n",
				"document = text_loader_faq.load()\n",
				"\n",
				"text_splitter = text_splitters.RecursiveCharacterTextSplitter(\n",
				"  # chunk_size=500, chunk_overlap=100,\n",
				"  separators=[\"##\"], chunk_size=150, chunk_overlap=0,\n",
				")\n",
				"docs_faq = text_splitter.split_documents(document)\n",
				"docs_faq = docs_faq[1:]\n",
				"metadatas = {\n",
				"  \"data\": \"frequently asked questions\"\n",
				"}\n",
				"utils.remove_metadata(docs_faq, \"source\")\n",
				"utils.update_metadata(docs_faq, metadatas)"
			]
		},
		{
			"cell_type": "markdown",
			"metadata": {},
			"source": [
				"## Courses list"
			]
		},
		{
			"cell_type": "code",
			"execution_count": null,
			"metadata": {},
			"outputs": [],
			"source": [
				"model = chat_models.chat_openai\n",
				"\n",
				"template1 = \"\"\"\\\n",
				"Dựa trên mô tả khóa học, đưa ra chỉ nội dung cốt lõi sẽ được dạy của khóa học. Trả lời dưới dạng gạch đầu dòng.\n",
				"\n",
				"Đây là mô tả khóa học:\n",
				"{text}\"\"\"\n",
				"\n",
				"template2 = \"\"\"\\\n",
				"Delete bullet points. Replace line breaks with dots.\n",
				"Example Input:\n",
				"'- Kiến thức cơ bản về màu sắc\\n- Sử dụng ánh sáng và nhiệt độ trong màu sắc\\n- Nguyên lý phối màu\\n- Thực hành tô màu với vòng tròn thuần sắc\\n- Hướng dẫn bởi giảng viên chuyên ngành thiết kế'\n",
				"\n",
				"Example Output:\n",
				"'Kiến thức cơ bản về màu sắc. Sử dụng ánh sáng và nhiệt độ trong màu sắc. Nguyên lý phối màu. Thực hành tô màu với vòng tròn thuần sắc. Hướng dẫn bởi giảng viên chuyên ngành thiết kế'\n",
				"\n",
				"Input:\n",
				"{text}\n",
				"\"\"\"\n",
				"\n",
				"prompt_template1 = prompts.PromptTemplate.from_template(template1)\n",
				"prompt_template2 = prompts.PromptTemplate.from_template(template2)\n",
				"\n",
				"chain1 = prompt_template1 | model | output_parsers.StrOutputParser()\n",
				"chain2 = prompt_template2 | model | output_parsers.StrOutputParser()\n",
				"\n",
				"chain = runnables.RunnablePassthrough.assign(\n",
				"  text=chain1\n",
				").assign(\n",
				"  text=chain2\n",
				")\n",
				"\n",
				"def process_course_description(text: str) -> str:\n",
				"  result = chain.invoke({\"text\": text})['text']\n",
				"  return result\n",
				"\n",
				"query = 'Bạn yêu thích việc sử dụng màu sắc, nhưng lại không biết làm sao để phối ra những màu sắc mà bản thân mong muốn. Vậy thì khóa học \"Màu sắc và cách phối màu cơ bản\" sẽ mang đến cho bạn những kiến thức cơ bản về màu sắc như việc sử dụng ánh sáng, nhiệt độ trong màu sắc hay thú vị hơn là nắm được các nguyên lý phối màu. Không những thế bạn còn có thể thực hành tô màu với vòng tròn thuần sắc cùng Mr. Anh Thi - Giảng viên chuyên ngành thiết kế. Để có thể có những trải nghiệm tuyệt vời trên còn chần chờ gì mà không nhanh tay đăng ký khóa học để tiếp thu những kiến thức hữu ích bạn nhé!'\n",
				"result = process_course_description(query)\n",
				"\n",
				"pprint(result)"
			]
		},
		{
			"cell_type": "code",
			"execution_count": null,
			"metadata": {},
			"outputs": [],
			"source": [
				"path_courses_list = \"../data/vtc2/courses_list1.csv\"\n",
				"courses_list_cols = utils.get_csv_column_names(path_courses_list)\n",
				"\n",
				"csv_loader_courses_list = document_loaders.CSVLoader(\n",
				"    path_courses_list,\n",
				"    # source_column=\"No\",\n",
				"    csv_args={\n",
				"        \"delimiter\": \",\",\n",
				"        # \"quotechar\": \"''\",\n",
				"        \"fieldnames\": courses_list_cols,\n",
				"    },\n",
				")\n",
				"document = csv_loader_courses_list.load()[1:]\n",
				"docs_courses_information = document\n",
				"\n",
				"metadatas = {\n",
				"    \"data\": \"courses information\"\n",
				"}\n",
				"\n",
				"utils.remove_metadata(docs_courses_information, \"source\")\n",
				"utils.remove_metadata(docs_courses_information, \"row\")\n",
				"utils.update_metadata(docs_courses_information, metadatas)"
			]
		},
		{
			"cell_type": "markdown",
			"metadata": {},
			"source": [
				"# Vector store "
			]
		},
		{
			"cell_type": "markdown",
			"metadata": {},
			"source": [
				"## Lectures Content"
			]
		},
		{
			"cell_type": "code",
			"execution_count": null,
			"metadata": {},
			"outputs": [],
			"source": [
				"qdrant_lectures_content = vectorstores.QdrantWrapper(\n",
				"  qdrant_host=os.getenv(\"QDRANT_HOST\"),\n",
				"  qdrant_api_key=os.getenv(\"QDRANT_API_KEY\"),\n",
				"  configs=configs_vtc,\n",
				"  **configs_vtc[\"vector_db\"][\"qdrant\"][\"lectures_content\"],\n",
				")"
			]
		},
		{
			"cell_type": "markdown",
			"metadata": {},
			"source": [
				"### Add multiple courses\n"
			]
		},
		{
			"cell_type": "code",
			"execution_count": null,
			"metadata": {},
			"outputs": [],
			"source": [
				"# for docs in docs_lectures_content_dict.values():\n",
				"#   qdrant_lectures_content.add_documents(docs)"
			]
		},
		{
			"cell_type": "markdown",
			"metadata": {},
			"source": [
				"#### If error"
			]
		},
		{
			"cell_type": "code",
			"execution_count": null,
			"metadata": {},
			"outputs": [],
			"source": [
				"# # Check position based on len(docs) of the course\n",
				"# for position, (key, value) in enumerate(docs_lectures_content_dict.items()):\n",
				"#     if len(value) == 71:\n",
				"#         print(\"Key:\", key)\n",
				"#         print(\"Position:\", position)"
			]
		},
		{
			"cell_type": "code",
			"execution_count": null,
			"metadata": {},
			"outputs": [],
			"source": [
				"# # Continue if error\n",
				"# for docs in (list(docs_lectures_content_dict.values()))[36:]:\n",
				"#   qdrant_lectures_content.add_documents(docs)"
			]
		},
		{
			"cell_type": "markdown",
			"metadata": {},
			"source": [
				"### Add one course\n"
			]
		},
		{
			"cell_type": "code",
			"execution_count": null,
			"metadata": {},
			"outputs": [],
			"source": [
				"# qdrant_lectures_content.add_documents(docs_lectures_content)"
			]
		},
		{
			"cell_type": "markdown",
			"metadata": {},
			"source": [
				"## FAQ"
			]
		},
		{
			"cell_type": "code",
			"execution_count": null,
			"metadata": {},
			"outputs": [],
			"source": [
				"qdrant_faq = vectorstores.QdrantWrapper(\n",
				"  qdrant_host=os.getenv(\"QDRANT_HOST\"),\n",
				"  qdrant_api_key=os.getenv(\"QDRANT_API_KEY\"),\n",
				"  configs=configs_vtc,\n",
				"  **configs_vtc[\"vector_db\"][\"qdrant\"][\"faq\"]\n",
				")"
			]
		},
		{
			"cell_type": "code",
			"execution_count": null,
			"metadata": {},
			"outputs": [],
			"source": [
				"# qdrant_faq.add_documents(docs_faq)"
			]
		},
		{
			"cell_type": "markdown",
			"metadata": {},
			"source": [
				"## Courses List"
			]
		},
		{
			"cell_type": "code",
			"execution_count": null,
			"metadata": {},
			"outputs": [],
			"source": [
				"qdrant_courses_information = vectorstores.QdrantWrapper(\n",
				"  qdrant_host=os.getenv(\"QDRANT_HOST\"),\n",
				"  qdrant_api_key=os.getenv(\"QDRANT_API_KEY\"),\n",
				"  configs=configs_vtc,\n",
				"  **configs_vtc[\"vector_db\"][\"qdrant\"][\"courses_information\"]\n",
				")"
			]
		},
		{
			"cell_type": "code",
			"execution_count": null,
			"metadata": {},
			"outputs": [],
			"source": [
				"# qdrant_courses_information.add_documents(docs_courses_information)"
			]
		},
		{
			"cell_type": "markdown",
			"metadata": {},
			"source": [
				"#### ONE course\n"
			]
		},
		{
			"cell_type": "markdown",
			"metadata": {},
			"source": [
				"# Tools"
			]
		},
		{
			"cell_type": "code",
			"execution_count": null,
			"metadata": {},
			"outputs": [],
			"source": [
				"system_message_onlinica = configs_vtc[\"prompts\"][\"system_message_onlinica\"]\n",
				"prompt_onlinica = prompts.create_prompt_custom_agent_openai_tools(system_message_onlinica)"
			]
		},
		{
			"cell_type": "code",
			"execution_count": null,
			"metadata": {},
			"outputs": [],
			"source": [
				"tools = [\n",
				"  qdrant_lectures_content.retriever_tool,\n",
				"  qdrant_faq.retriever_tool,\n",
				"  qdrant_courses_information.retriever_tool,\n",
				"]\n",
				"\n",
				"llm = chat_models.chat_openai\n",
				"agent = agents.MyAgent(\n",
				"  prompt=prompt_onlinica, tools=tools,\n",
				"  agent_type=configs_vtc[\"agents\"][\"agent_type_onlinica\"], \n",
				"  llm=llm\n",
				")"
			]
		},
		{
			"cell_type": "code",
			"execution_count": null,
			"metadata": {},
			"outputs": [],
			"source": [
				"questions = [\n",
				"  \"xin chào. Tên tôi là Bob.\",\n",
				"  \"bạn có nhớ tên tôi là gì không\",\n",
				"  \n",
				"  \"digital marketing là gì\",\n",
				"  \n",
				"  \"làm cách nào để đăng ký tài khoản onlinica\",\n",
				"  \"có mấy loại tài khoản onlinica\",\n",
				"  \"các khoá học tại onlinica có thời hạn sử dụng bao lâu\",\n",
				"  \"onlinica có mấy hình thức thanh toán\",\n",
				"  \"có thể thanh toán bằng momo được không\",\n",
				"  \n",
				"  \"các khóa học về design\",\n",
				"  \"các khóa học về trí tuệ nhân tạo\",\n",
				"  \"các khóa học về  ai\",\n",
				"  \"các khóa học của nguyễn ngọc tú uyên\",\n",
				"  \"các khóa học của tú uyên\",\n",
				"  \"các khóa học thầy trần anh tuấn dạy\",\n",
				"  \n",
				"  \"cách quản lý thời gian\",\n",
				"  \"nguyên lý phối màu\",\n",
				"]\n"
			]
		},
		{
			"cell_type": "code",
			"execution_count": null,
			"metadata": {},
			"outputs": [],
			"source": [
				"input_message = \"nguyên lý phối màu\"\n",
				"\n",
				"# await agent.invoke_agent_stream(questions[2])\n",
				"await agent.invoke_agent_stream(input_message)"
			]
		},
		{
			"cell_type": "code",
			"execution_count": null,
			"metadata": {},
			"outputs": [],
			"source": [
				"await agent.invoke_agent_stream(\"Chi tiết hơn\")"
			]
		},
		{
			"cell_type": "markdown",
			"metadata": {},
			"source": [
				"# Test Anthropic"
			]
		},
		{
			"cell_type": "code",
			"execution_count": null,
			"metadata": {},
			"outputs": [],
			"source": [
				"from langchain import hub\n",
				"from langchain.agents import AgentExecutor, create_xml_agent\n",
				"from langchain_anthropic import ChatAnthropic\n",
				"from langchain_community.tools.tavily_search import TavilySearchResults\n",
				"\n",
				"# tools = [TavilySearchResults(max_results=1)]\n",
				"tools = [\n",
				"    qdrant_lectures_content.retriever_tool,\n",
				"    qdrant_faq.retriever_tool,\n",
				"    qdrant_courses_information.retriever_tool,\n",
				"]\n",
				"\n",
				"# Get the prompt to use - you can modify this!\n",
				"# prompt = prompts.create_prompt_custom_agent_xml_tools(system_message_onlinica)\n",
				"prompt = prompts.create_prompt_custom_agent_xml_tools()\n",
				"\n",
				"# Choose the LLM that will drive the agent\n",
				"llm = ChatAnthropic(model=\"claude-3-haiku-20240307\")\n",
				"\n",
				"# Construct the XML agent\n",
				"agent = create_xml_agent(llm, tools, prompt)\n",
				"\n",
				"# Create an agent executor by passing in the agent and tools\n",
				"agent_executor = AgentExecutor(agent=agent, tools=tools, verbose=True)\n",
				"\n",
				"result = agent_executor.invoke({\"input\": \"các khóa học thầy trần anh tuấn\"})['output']\n",
				"pprint(result)"
			]
		}
	],
	"metadata": {
		"kernelspec": {
			"display_name": "LLM",
			"language": "python",
			"name": "python3"
		},
		"language_info": {
			"codemirror_mode": {
				"name": "ipython",
				"version": 3
			},
			"file_extension": ".py",
			"mimetype": "text/x-python",
			"name": "python",
			"nbconvert_exporter": "python",
			"pygments_lexer": "ipython3",
			"version": "3.11.8"
		}
	},
	"nbformat": 4,
	"nbformat_minor": 2
}
