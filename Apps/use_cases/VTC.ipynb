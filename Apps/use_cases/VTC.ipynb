{
	"cells": [
		{
			"cell_type": "code",
			"execution_count": 15,
			"metadata": {
				"notebookRunGroups": {
					"groupValue": "1"
				}
			},
			"outputs": [],
			"source": [
				"import yaml\n",
				"import add_packages\n",
				"from pprint import pprint\n",
				"import os, re\n",
				"import pandas as pd\n",
				"# import tqdm\n",
				"from tqdm.auto import tqdm\n",
				"\n",
				"from my_langchain import (\n",
				"  document_loaders, text_splitters, text_embedding_models, vectorstores, \n",
				"  chat_models, prompts, utils, output_parsers, agents, documents, llms,\n",
				"  runnables\n",
				")\n",
				"\n",
				"tqdm.pandas(desc=\"Processing\")\n",
				"\n",
				"with open(\"../my_configs/vtc.yaml\", 'r') as file:\n",
				"    configs_vtc = yaml.safe_load(file)\n",
				"\n",
				"PATH_VTC = \"../data/vtc_v1\""
			]
		},
		{
			"cell_type": "markdown",
			"metadata": {},
			"source": [
				"# Data"
			]
		},
		{
			"cell_type": "markdown",
			"metadata": {},
			"source": [
				"## Lectures Content"
			]
		},
		{
			"cell_type": "markdown",
			"metadata": {},
			"source": [
				"### Combine"
			]
		},
		{
			"cell_type": "code",
			"execution_count": null,
			"metadata": {},
			"outputs": [],
			"source": [
				"def extract_course_name(file_path):\n",
				"    with open(file_path, 'r', encoding='utf-8') as file:\n",
				"        first_line = file.readline().strip()\n",
				"        return first_line[len(\"# Course: \"):]"
			]
		},
		{
			"cell_type": "code",
			"execution_count": null,
			"metadata": {},
			"outputs": [],
			"source": [
				"def remove_extra_newlines(text):\n",
				"    while '\\n\\n' in text:\n",
				"        text = text.replace('\\n\\n', '\\n')\n",
				"    return text\n",
				"\n",
				"\n",
				"def remove_double_spaces(text):\n",
				"    while '  ' in text:\n",
				"        text = text.replace('  ', ' ')\n",
				"    return text\n",
				"\n",
				"\n",
				"def process_add_space_after_hash(text):\n",
				"    pattern = r'##(\\w)'\n",
				"    processed_text = re.sub(pattern, r'## \\1', text)\n",
				"    return processed_text\n",
				"\n",
				"\n",
				"def process_remove_quotes(text):\n",
				"    cleaned_text = text.replace('\"', '')\n",
				"    return cleaned_text\n",
				"\n",
				"\n",
				"def process_text_file(input_file, output_file, functions):\n",
				"    # Read the first line of the input file\n",
				"    with open(input_file, 'r') as file:\n",
				"        first_line = file.readline().strip()\n",
				"        len_first_line = len(first_line)\n",
				"    \n",
				"\n",
				"    # Extract course name from filename\n",
				"    course_name = os.path.splitext(os.path.basename(input_file))[0]\n",
				"    # If the first line doesn't match the filename, replace it with the filename's course name\n",
				"    first_line = \"# Course: \" + course_name\n",
				"\n",
				"    # Reopen the file to process the entire content\n",
				"    with open(input_file, 'r') as file:\n",
				"        text = file.read()\n",
				"\n",
				"    # Apply processing functions\n",
				"    for func in functions:\n",
				"        text = func(text)\n",
				"\n",
				"    # Prepend the modified first line to the processed text\n",
				"    text = first_line + '\\n' + text[len_first_line + 1:]\n",
				"\n",
				"    # Write the processed text to the output file\n",
				"    with open(output_file, 'w') as file:\n",
				"        file.write(text)\n",
				"\n",
				"\n",
				"# Define the list of functions to apply\n",
				"functions_to_apply = [\n",
				"    process_remove_quotes,\n",
				"    remove_extra_newlines,\n",
				"    remove_double_spaces,\n",
				"    process_add_space_after_hash,\n",
				"]\n"
			]
		},
		{
			"cell_type": "code",
			"execution_count": null,
			"metadata": {},
			"outputs": [],
			"source": [
				"# # Example usage:\n",
				"# input_file_path = '../data/vtc1/script/KỸ NĂNG TÌM VIỆC LÀM THÊM.txt'\n",
				"# output_file_path = '../data/vtc1/script/KỸ NĂNG TÌM VIỆC LÀM THÊM.txt'\n",
				"# process_text_file(input_file_path, output_file_path, functions_to_apply)"
			]
		},
		{
			"cell_type": "markdown",
			"metadata": {},
			"source": [
				"### Process files"
			]
		},
		{
			"cell_type": "code",
			"execution_count": null,
			"metadata": {},
			"outputs": [],
			"source": [
				"# # Specify the folder containing the files\n",
				"# folder_path = f'{PATH_VTC}/script/'\n",
				"\n",
				"# # Loop through each file in the folder\n",
				"# for filename in os.listdir(folder_path):\n",
				"#     if filename.endswith('.txt'):  # Process only text files\n",
				"#         input_file_path = os.path.join(folder_path, filename)\n",
				"#         output_file_path = os.path.join(\n",
				"#             folder_path, filename)  # Output file path\n",
				"#         process_text_file(input_file_path, output_file_path,\n",
				"#                           functions_to_apply)"
			]
		},
		{
			"cell_type": "markdown",
			"metadata": {},
			"source": [
				"### Create documents "
			]
		},
		{
			"cell_type": "markdown",
			"metadata": {},
			"source": [
				"#### ONE course\n"
			]
		},
		{
			"cell_type": "code",
			"execution_count": null,
			"metadata": {},
			"outputs": [],
			"source": [
				"# # Example usage:\n",
				"# file_path = \"../data/vtc1/script/HỘI HỌA - MÀU SẮC VÀ PHỐI MÀU CƠ BẢN.txt\"\n",
				"# course_name = extract_course_name(file_path).lower()\n",
				"\n",
				"# text_loader_lectures_content = document_loaders.TextLoader(file_path)\n",
				"# document = text_loader_lectures_content.load()\n",
				"\n",
				"# text_splitter = text_splitters.RecursiveCharacterTextSplitter(\n",
				"#   chunk_size=1000, chunk_overlap=200,\n",
				"# )\n",
				"# docs_lectures_content = text_splitter.split_documents(document)\n",
				"\n",
				"# metadatas = {\n",
				"#   \"data\": \"lectures content\",\n",
				"#   \"course_name\": course_name,\n",
				"# }\n",
				"# utils.remove_metadata(docs_lectures_content, \"source\")\n",
				"# utils.update_metadata(docs_lectures_content, metadatas)"
			]
		},
		{
			"cell_type": "markdown",
			"metadata": {},
			"source": [
				"#### MULTIPLE course\n"
			]
		},
		{
			"cell_type": "code",
			"execution_count": null,
			"metadata": {},
			"outputs": [],
			"source": [
				"\n",
				"# def process_folder(folder_path):\n",
				"#     data_dict = {}\n",
				"#     for root, dirs, files in os.walk(folder_path):\n",
				"#         for file_name in files:\n",
				"#             if file_name.endswith('.txt'):\n",
				"#                 file_path = os.path.join(root, file_name)\n",
				"#                 course_name = extract_course_name(file_path).lower()\n",
				"\n",
				"#                 text_loader_lectures_content = document_loaders.TextLoader(file_path)\n",
				"#                 document = text_loader_lectures_content.load()\n",
				"\n",
				"#                 text_splitter = text_splitters.RecursiveCharacterTextSplitter(\n",
				"#                     chunk_size=1000, chunk_overlap=200,\n",
				"#                 )\n",
				"#                 docs_lectures_content = text_splitter.split_documents(document)\n",
				"\n",
				"#                 metadatas = {\n",
				"#                     \"data\": \"lectures content\",\n",
				"#                     \"course_name\": course_name,\n",
				"#                 }\n",
				"#                 utils.remove_metadata(docs_lectures_content, \"source\")\n",
				"#                 utils.update_metadata(docs_lectures_content, metadatas)\n",
				"\n",
				"#                 data_dict[course_name] = docs_lectures_content\n",
				"\n",
				"#     return data_dict\n",
				"\n",
				"\n",
				"# folder_path = f\"{PATH_VTC}/script/\"\n",
				"# docs_lectures_content_dict = process_folder(folder_path)\n",
				"# for file_name, content in docs_lectures_content_dict.items():\n",
				"#     print(f\"File: {file_name}, Course: {content[0].metadata['course_name']}\")"
			]
		},
		{
			"cell_type": "markdown",
			"metadata": {},
			"source": [
				"## FAQ"
			]
		},
		{
			"cell_type": "code",
			"execution_count": null,
			"metadata": {},
			"outputs": [],
			"source": [
				"# text_loader_faq = document_loaders.TextLoader(\n",
				"#   f\"{PATH_VTC}/faq.txt\"\n",
				"# )\n",
				"# document = text_loader_faq.load()\n",
				"\n",
				"# text_splitter = text_splitters.RecursiveCharacterTextSplitter(\n",
				"#   # chunk_size=500, chunk_overlap=100,\n",
				"#   separators=[\"##\"], chunk_size=150, chunk_overlap=0,\n",
				"# )\n",
				"# docs_faq = text_splitter.split_documents(document)\n",
				"# docs_faq = docs_faq[1:]\n",
				"# metadatas = {\n",
				"#   \"data\": \"frequently asked questions\"\n",
				"# }\n",
				"# utils.remove_metadata(docs_faq, \"source\")\n",
				"# utils.update_metadata(docs_faq, metadatas)"
			]
		},
		{
			"cell_type": "markdown",
			"metadata": {},
			"source": [
				"## Courses list"
			]
		},
		{
			"cell_type": "code",
			"execution_count": null,
			"metadata": {},
			"outputs": [],
			"source": [
				"model = chat_models.chat_openai\n",
				"\n",
				"template1 = \"\"\"\\\n",
				"Dựa trên mô tả khóa học, đưa ra chỉ nội dung cốt lõi sẽ được dạy của khóa học. Trả lời dưới dạng gạch đầu dòng.\n",
				"\n",
				"Đây là mô tả khóa học:\n",
				"{text}\"\"\"\n",
				"\n",
				"template2 = \"\"\"\\\n",
				"Delete bullet points. Replace line breaks with dots.\n",
				"Example Input:\n",
				"'- Kiến thức cơ bản về màu sắc\\n- Sử dụng ánh sáng và nhiệt độ trong màu sắc\\n- Nguyên lý phối màu\\n- Thực hành tô màu với vòng tròn thuần sắc\\n- Hướng dẫn bởi giảng viên chuyên ngành thiết kế'\n",
				"\n",
				"Example Output:\n",
				"'Kiến thức cơ bản về màu sắc. Sử dụng ánh sáng và nhiệt độ trong màu sắc. Nguyên lý phối màu. Thực hành tô màu với vòng tròn thuần sắc. Hướng dẫn bởi giảng viên chuyên ngành thiết kế'\n",
				"\n",
				"Input:\n",
				"{text}\n",
				"\"\"\"\n",
				"\n",
				"prompt_template1 = prompts.PromptTemplate.from_template(template1)\n",
				"prompt_template2 = prompts.PromptTemplate.from_template(template2)\n",
				"\n",
				"chain1 = prompt_template1 | model | output_parsers.StrOutputParser()\n",
				"chain2 = prompt_template2 | model | output_parsers.StrOutputParser()\n",
				"\n",
				"chain = runnables.RunnablePassthrough.assign(\n",
				"  text=chain1\n",
				").assign(\n",
				"  text=chain2\n",
				")\n",
				"\n",
				"def process_course_description(text: str) -> str:\n",
				"  result = chain.invoke({\"text\": text})['text']\n",
				"  return result\n",
				"\n",
				"# query = 'Bạn yêu thích việc sử dụng màu sắc, nhưng lại không biết làm sao để phối ra những màu sắc mà bản thân mong muốn. Vậy thì khóa học \"Màu sắc và cách phối màu cơ bản\" sẽ mang đến cho bạn những kiến thức cơ bản về màu sắc như việc sử dụng ánh sáng, nhiệt độ trong màu sắc hay thú vị hơn là nắm được các nguyên lý phối màu. Không những thế bạn còn có thể thực hành tô màu với vòng tròn thuần sắc cùng Mr. Anh Thi - Giảng viên chuyên ngành thiết kế. Để có thể có những trải nghiệm tuyệt vời trên còn chần chờ gì mà không nhanh tay đăng ký khóa học để tiếp thu những kiến thức hữu ích bạn nhé!'\n",
				"# result = process_course_description(query)\n",
				"\n",
				"# pprint(result)"
			]
		},
		{
			"cell_type": "code",
			"execution_count": null,
			"metadata": {},
			"outputs": [],
			"source": [
				"# path_courses_list = f\"{PATH_VTC}/courses_list.csv\"\n",
				"\n",
				"# df = pd.read_csv(path_courses_list)\n",
				"\n",
				"# df['MÔ TẢ (course description)'] = df['MÔ TẢ (course description)'].progress_apply(\n",
				"#   process_course_description)\n",
				"\n",
				"# df.to_csv(f\"{PATH_VTC}/courses_list1.csv\", index=False)\n",
				"\n",
				"# list(df[\"MÔ TẢ (course description)\"])"
			]
		},
		{
			"cell_type": "code",
			"execution_count": null,
			"metadata": {},
			"outputs": [],
			"source": [
				"# path_courses_list = f\"{PATH_VTC}/courses_list1.csv\"\n",
				"# courses_list_cols = utils.get_csv_column_names(path_courses_list)\n",
				"\n",
				"# csv_loader_courses_list = document_loaders.CSVLoader(\n",
				"#     path_courses_list,\n",
				"#     # source_column=\"No\",\n",
				"#     csv_args={\n",
				"#         \"delimiter\": \",\",\n",
				"#         # \"quotechar\": \"''\",\n",
				"#         \"fieldnames\": courses_list_cols,\n",
				"#     },\n",
				"# )\n",
				"# document = csv_loader_courses_list.load()[1:]\n",
				"# docs_courses_information = document\n",
				"\n",
				"# metadatas = {\n",
				"#     \"data\": \"courses information\"\n",
				"# }\n",
				"\n",
				"# utils.remove_metadata(docs_courses_information, \"source\")\n",
				"# utils.remove_metadata(docs_courses_information, \"row\")\n",
				"# utils.update_metadata(docs_courses_information, metadatas)"
			]
		},
		{
			"cell_type": "markdown",
			"metadata": {},
			"source": [
				"# Vector store "
			]
		},
		{
			"cell_type": "markdown",
			"metadata": {},
			"source": [
				"## Lectures Content"
			]
		},
		{
			"cell_type": "code",
			"execution_count": 2,
			"metadata": {},
			"outputs": [
				{
					"name": "stderr",
					"output_type": "stream",
					"text": [
						"\u001b[32m2024-04-02 14:37:23.704\u001b[0m | \u001b[1mINFO    \u001b[0m | \u001b[36mmy_langchain.vectorstores\u001b[0m:\u001b[36m__init__\u001b[0m:\u001b[36m121\u001b[0m - \u001b[1mFound collection: `vtc-lectures-content-3072-v1`.\u001b[0m\n",
						"\u001b[32m2024-04-02 14:37:23.705\u001b[0m | \u001b[1mINFO    \u001b[0m | \u001b[36mmy_langchain.vectorstores\u001b[0m:\u001b[36m__init__\u001b[0m:\u001b[36m132\u001b[0m - \u001b[1m`vtc-lectures-content-3072-v1` - Embeddings: openai - {'model': 'text-embedding-3-large'}, 3072\u001b[0m\n",
						"\u001b[32m2024-04-02 14:37:23.753\u001b[0m | \u001b[1mINFO    \u001b[0m | \u001b[36mmy_langchain.vectorstores\u001b[0m:\u001b[36m__init__\u001b[0m:\u001b[36m156\u001b[0m - \u001b[1m`vtc-lectures-content-3072-v1` - Retriever: Vectorstore\u001b[0m\n"
					]
				}
			],
			"source": [
				"qdrant_lectures_content = vectorstores.QdrantWrapper(\n",
				"  qdrant_host=os.getenv(\"QDRANT_HOST\"),\n",
				"  qdrant_api_key=os.getenv(\"QDRANT_API_KEY\"),\n",
				"  configs=configs_vtc,\n",
				"  **configs_vtc[\"vector_db\"][\"qdrant\"][\"lectures_content\"],\n",
				")"
			]
		},
		{
			"cell_type": "markdown",
			"metadata": {},
			"source": [
				"### Add multiple courses\n"
			]
		},
		{
			"cell_type": "code",
			"execution_count": null,
			"metadata": {},
			"outputs": [],
			"source": [
				"# for docs in docs_lectures_content_dict.values():\n",
				"#   qdrant_lectures_content.add_documents(docs)"
			]
		},
		{
			"cell_type": "markdown",
			"metadata": {},
			"source": [
				"#### If error"
			]
		},
		{
			"cell_type": "code",
			"execution_count": null,
			"metadata": {},
			"outputs": [],
			"source": [
				"# # Check position based on len(docs) of the course\n",
				"# for position, (key, value) in enumerate(docs_lectures_content_dict.items()):\n",
				"#     if len(value) == 71:\n",
				"#         print(\"Key:\", key)\n",
				"#         print(\"Position:\", position)"
			]
		},
		{
			"cell_type": "code",
			"execution_count": null,
			"metadata": {},
			"outputs": [],
			"source": [
				"# # Continue if error\n",
				"# for docs in (list(docs_lectures_content_dict.values()))[36:]:\n",
				"#   qdrant_lectures_content.add_documents(docs)"
			]
		},
		{
			"cell_type": "markdown",
			"metadata": {},
			"source": [
				"### Add one course\n"
			]
		},
		{
			"cell_type": "code",
			"execution_count": null,
			"metadata": {},
			"outputs": [],
			"source": [
				"# qdrant_lectures_content.add_documents(docs_lectures_content)"
			]
		},
		{
			"cell_type": "markdown",
			"metadata": {},
			"source": [
				"## FAQ"
			]
		},
		{
			"cell_type": "code",
			"execution_count": 23,
			"metadata": {},
			"outputs": [
				{
					"name": "stderr",
					"output_type": "stream",
					"text": [
						"\u001b[32m2024-04-02 14:47:18.244\u001b[0m | \u001b[1mINFO    \u001b[0m | \u001b[36mmy_langchain.vectorstores\u001b[0m:\u001b[36m__init__\u001b[0m:\u001b[36m121\u001b[0m - \u001b[1mFound collection: `vtc-faq-3072-v1`.\u001b[0m\n",
						"\u001b[32m2024-04-02 14:47:18.244\u001b[0m | \u001b[1mINFO    \u001b[0m | \u001b[36mmy_langchain.vectorstores\u001b[0m:\u001b[36m__init__\u001b[0m:\u001b[36m132\u001b[0m - \u001b[1m`vtc-faq-3072-v1` - Embeddings: openai - {'model': 'text-embedding-3-large'}, 3072\u001b[0m\n",
						"\u001b[32m2024-04-02 14:47:18.285\u001b[0m | \u001b[1mINFO    \u001b[0m | \u001b[36mmy_langchain.vectorstores\u001b[0m:\u001b[36m__init__\u001b[0m:\u001b[36m156\u001b[0m - \u001b[1m`vtc-faq-3072-v1` - Retriever: Vectorstore\u001b[0m\n"
					]
				}
			],
			"source": [
				"qdrant_faq = vectorstores.QdrantWrapper(\n",
				"  qdrant_host=os.getenv(\"QDRANT_HOST\"),\n",
				"  qdrant_api_key=os.getenv(\"QDRANT_API_KEY\"),\n",
				"  configs=configs_vtc,\n",
				"  **configs_vtc[\"vector_db\"][\"qdrant\"][\"faq\"]\n",
				")"
			]
		},
		{
			"cell_type": "code",
			"execution_count": 22,
			"metadata": {},
			"outputs": [
				{
					"name": "stderr",
					"output_type": "stream",
					"text": [
						"100%|██████████| 1/1 [00:01<00:00,  1.99s/it]\n"
					]
				}
			],
			"source": [
				"# qdrant_faq.add_documents(docs_faq)"
			]
		},
		{
			"cell_type": "markdown",
			"metadata": {},
			"source": [
				"## Courses List"
			]
		},
		{
			"cell_type": "code",
			"execution_count": 4,
			"metadata": {},
			"outputs": [
				{
					"name": "stderr",
					"output_type": "stream",
					"text": [
						"\u001b[32m2024-04-02 14:37:34.202\u001b[0m | \u001b[1mINFO    \u001b[0m | \u001b[36mmy_langchain.vectorstores\u001b[0m:\u001b[36m__init__\u001b[0m:\u001b[36m121\u001b[0m - \u001b[1mFound collection: `vtc-courses-information-3072-v1`.\u001b[0m\n",
						"\u001b[32m2024-04-02 14:37:34.203\u001b[0m | \u001b[1mINFO    \u001b[0m | \u001b[36mmy_langchain.vectorstores\u001b[0m:\u001b[36m__init__\u001b[0m:\u001b[36m132\u001b[0m - \u001b[1m`vtc-courses-information-3072-v1` - Embeddings: openai - {'model': 'text-embedding-3-large'}, 3072\u001b[0m\n",
						"\u001b[32m2024-04-02 14:37:34.241\u001b[0m | \u001b[1mINFO    \u001b[0m | \u001b[36mmy_langchain.vectorstores\u001b[0m:\u001b[36m__init__\u001b[0m:\u001b[36m156\u001b[0m - \u001b[1m`vtc-courses-information-3072-v1` - Retriever: Vectorstore\u001b[0m\n"
					]
				}
			],
			"source": [
				"qdrant_courses_information = vectorstores.QdrantWrapper(\n",
				"  qdrant_host=os.getenv(\"QDRANT_HOST\"),\n",
				"  qdrant_api_key=os.getenv(\"QDRANT_API_KEY\"),\n",
				"  configs=configs_vtc,\n",
				"  **configs_vtc[\"vector_db\"][\"qdrant\"][\"courses_information\"]\n",
				")"
			]
		},
		{
			"cell_type": "code",
			"execution_count": null,
			"metadata": {},
			"outputs": [],
			"source": [
				"# qdrant_courses_information.add_documents(docs_courses_information)"
			]
		},
		{
			"cell_type": "markdown",
			"metadata": {},
			"source": [
				"#### ONE course\n"
			]
		},
		{
			"cell_type": "markdown",
			"metadata": {},
			"source": [
				"# Tools"
			]
		},
		{
			"cell_type": "code",
			"execution_count": 24,
			"metadata": {},
			"outputs": [],
			"source": [
				"system_message_onlinica = configs_vtc[\"prompts\"][\"system_message_onlinica\"]\n",
				"prompt_onlinica = prompts.create_prompt_custom_agent_openai_tools(system_message_onlinica)"
			]
		},
		{
			"cell_type": "code",
			"execution_count": 25,
			"metadata": {},
			"outputs": [
				{
					"name": "stderr",
					"output_type": "stream",
					"text": [
						"\u001b[32m2024-04-02 14:47:25.430\u001b[0m | \u001b[1mINFO    \u001b[0m | \u001b[36mmy_langchain.agents\u001b[0m:\u001b[36m_create_agent\u001b[0m:\u001b[36m73\u001b[0m - \u001b[1mAgent type: openai_tools\u001b[0m\n"
					]
				}
			],
			"source": [
				"tools = [\n",
				"  qdrant_lectures_content.retriever_tool,\n",
				"  qdrant_faq.retriever_tool,\n",
				"  qdrant_courses_information.retriever_tool,\n",
				"]\n",
				"\n",
				"llm = chat_models.chat_openai\n",
				"agent = agents.MyAgent(\n",
				"  prompt=prompt_onlinica, tools=tools,\n",
				"  agent_type=configs_vtc[\"agents\"][\"agent_type_onlinica\"], \n",
				"  llm=llm\n",
				")"
			]
		},
		{
			"cell_type": "code",
			"execution_count": null,
			"metadata": {},
			"outputs": [],
			"source": [
				"questions = [\n",
				"  \"xin chào. Tên tôi là Bob.\",\n",
				"  \"bạn có nhớ tên tôi là gì không\",\n",
				"  \n",
				"  \"digital marketing là gì\",\n",
				"  \n",
				"  \"làm cách nào để đăng ký tài khoản onlinica\",\n",
				"  \"có mấy loại tài khoản onlinica\",\n",
				"  \"các khoá học tại onlinica có thời hạn sử dụng bao lâu\",\n",
				"  \"onlinica có mấy hình thức thanh toán\",\n",
				"  \"có thể thanh toán bằng momo được không\",\n",
				"  \n",
				"  \"các khóa học về design\",\n",
				"  \"các khóa học về trí tuệ nhân tạo\",\n",
				"  \"các khóa học về  ai\",\n",
				"  \"các khóa học của nguyễn ngọc tú uyên\",\n",
				"  \"các khóa học của tú uyên\",\n",
				"  \"các khóa học thầy trần anh tuấn dạy\",\n",
				"  \n",
				"  \"cách quản lý thời gian\",\n",
				"  \"nguyên lý phối màu\",\n",
				"]\n"
			]
		},
		{
			"cell_type": "code",
			"execution_count": 27,
			"metadata": {},
			"outputs": [
				{
					"name": "stdout",
					"output_type": "stream",
					"text": [
						"\n",
						"\n",
						"\u001b[1m> Entering new AgentExecutor chain...\u001b[0m\n",
						"\u001b[32;1m\u001b[1;3m\n",
						"Invoking: `courses_information` with `{'query': 'Thầy Trần Anh Tuấn'}`\n",
						"\n",
						"\n",
						"\u001b[0m\u001b[38;5;200m\u001b[1;3mTÊN KHÓA HỌC (course name): NHẬP MÔN LẬP TRÌNH TRÍ TUỆ NHÂN TẠO\n",
						"CHUYÊN NGÀNH (course category): Trí tuệ nhân tạo A.I\n",
						"TÊN GIẢNG VIÊN (instructor name): Mr. Trần Anh Tuấn\n",
						"LINK KHÓA HỌC (course link): https://onlinica.com/courses/course-v1:Onlinica+076+2022_076/about#shortDes\n",
						"MÔ TẢ (course description): Lập trình Flowchart. Mã giả. Thuật toán. Bài tập thực tế. Rèn luyện tính tư duy. Tự học\n",
						"\n",
						"TÊN KHÓA HỌC (course name): PHƯƠNG PHÁP XÂY DỰNG KẾ HOẠCH QUẢNG CÁO BÁN HÀNG - PHẦN 01\n",
						"CHUYÊN NGÀNH (course category): Digital Marketing\n",
						"TÊN GIẢNG VIÊN (instructor name): Mr. Nguyễn Huỳnh Thiên An\n",
						"LINK KHÓA HỌC (course link): https://onlinica.com/courses/course-v1:Onlinica+052+2022_052/about#shortDes\n",
						"MÔ TẢ (course description): Xây dựng kế hoạch quảng cáo phù hợp. Tối ưu chiến lược quảng cáo để tiết kiệm chi phí và hiệu quả\n",
						"\n",
						"TÊN KHÓA HỌC (course name): KỸ NĂNG THUYẾT TRÌNH ẤN TƯỢNG\n",
						"CHUYÊN NGÀNH (course category): Personal Development\n",
						"TÊN GIẢNG VIÊN (instructor name): Ms. Nguyễn Kim Phượng\n",
						"LINK KHÓA HỌC (course link): https://onlinica.com/courses/course-v1:Onlinica+114+2023_114/about\n",
						"MÔ TẢ (course description): Kỹ năng thuyết trình. Thu hút sự tập trung của người nghe. Tạo ấn tượng với mọi người. Rèn luyện kỹ năng nói trước đám đông. Phát triển kỹ năng viết lách\n",
						"\n",
						"TÊN KHÓA HỌC (course name): LÝ THUYẾT NGHỆ THUẬT VỀ TỈ LỆ & GIẢI PHẪU NGƯỜI - PHẦN 01\n",
						"CHUYÊN NGÀNH (course category): Design\n",
						"TÊN GIẢNG VIÊN (instructor name): Mr. Huỳnh Nguyên Bảo\n",
						"LINK KHÓA HỌC (course link): https://onlinica.com/courses/course-v1:Onlinica+064+2022_064/about\n",
						"MÔ TẢ (course description): Cấu trúc cơ thể con người. Tỷ lệ cơ thể người. Kỹ thuật vẽ người. Bài tập thực hành vẽ người\n",
						"\n",
						"TÊN KHÓA HỌC (course name): SÁNG TẠO VÀ SẢN XUẤT PHIM ANIMATION\n",
						"CHUYÊN NGÀNH (course category): Design\n",
						"TÊN GIẢNG VIÊN (instructor name): Mr. Kỷ Thế Vinh\n",
						"Mr. Lê Vũ Quang\n",
						"LINK KHÓA HỌC (course link): https://onlinica.com/courses/course-v1:Onlinica+039+2022-039/about#shortDes\n",
						"MÔ TẢ (course description): Chia sẻ và kinh nghiệm thực tế khi thực hiện bộ phim \"Bình Ngô Đại Chiến\". Quy trình làm phim Animation. Truyền cảm hứng và khám phá ước mơ tạo nên một bộ phim Animation của chính bạn\n",
						"\n",
						"TÊN KHÓA HỌC (course name): THIẾT KẾ UI/UX DÀNH CHO LẬP TRÌNH VIÊN\n",
						"CHUYÊN NGÀNH (course category): Lập trình\n",
						"TÊN GIẢNG VIÊN (instructor name): Ms. Trần Thị Phương Thảo\n",
						"LINK KHÓA HỌC (course link): https://onlinica.com/courses/course-v1:Onlinica+VTCA-281+2024_VTCA_281/about\n",
						"MÔ TẢ (course description): Nguyên tắc thiết kế UI/UX. Tư duy về trải nghiệm người dùng. Cách tạo ra website/ứng dụng thân thiện và đáp ứng nhu cầu của người dùng. Yếu tố giao diện và trải nghiệm người dùng. Cách thu hút nhà tuyển dụng và tăng thu nhập thông qua kiến thức UI/UX\n",
						"\n",
						"TÊN KHÓA HỌC (course name): TỔNG QUAN VỀ BUSINESS INTELLIGENCE & BUSINESS ANALYTICS (BI/BA FUNDAMENTALS)\n",
						"CHUYÊN NGÀNH (course category): Trí tuệ nhân tạo A.I\n",
						"TÊN GIẢNG VIÊN (instructor name): Mr. Trần Anh Tuấn\n",
						"LINK KHÓA HỌC (course link): https://onlinica.com/courses/course-v1:Onlinica+081+2022_081/about#shortDes\n",
						"MÔ TẢ (course description): Tổng quan về Business Intelligence (BI Fundamentals). Kiến thức tổng quan về BI&BA. Mô tả công việc của một người làm BI&BA. Kỹ năng cần có của một người BI&BA. Bảng báo cáo KPI trong nhiều lĩnh vực.\n",
						"\n",
						"TÊN KHÓA HỌC (course name): CẤU TRÚC DỮ LIỆU VÀ GIẢI THUẬT (PHẦN 2)\n",
						"CHUYÊN NGÀNH (course category): Lập trình\n",
						"TÊN GIẢNG VIÊN (instructor name): Mr. Nguyễn Đình Cường\n",
						"LINK KHÓA HỌC (course link): https://onlinica.com/courses/course-v1:Onlinica+VTCA-270B+2023_VTCA_270B/about\n",
						"MÔ TẢ (course description): Mục đích và nội dung của cấu trúc dữ liệu. Khái niệm cơ bản về cấu trúc dữ liệu và giải thuật. Sử dụng ngôn ngữ để diễn đạt giải thuật. Thiết kế và phân tích các giải thuật\n",
						"\n",
						"TÊN KHÓA HỌC (course name): HỘI HỌA: MÀU SẮC VÀ PHỐI MÀU CƠ BẢN\n",
						"CHUYÊN NGÀNH (course category): Design\n",
						"TÊN GIẢNG VIÊN (instructor name): Mr. Lê Hoàng Anh Thi\n",
						"LINK KHÓA HỌC (course link): https://onlinica.com/courses/course-v1:Onlinica+001+2022_001/about\n",
						"MÔ TẢ (course description): Kiến thức cơ bản về màu sắc. Sử dụng ánh sáng và nhiệt độ trong màu sắc. Nguyên lý phối màu. Thực hành tô màu với vòng tròn thuần sắc. Hướng dẫn bởi giảng viên chuyên ngành thiết kế\n",
						"\n",
						"TÊN KHÓA HỌC (course name): COMPUTER FUNDAMENTALS - PHẦN 02\n",
						"CHUYÊN NGÀNH (course category): Lập trình\n",
						"TÊN GIẢNG VIÊN (instructor name): Mr. Nguyễn Trọng Tiến\n",
						"LINK KHÓA HỌC (course link): https://onlinica.com/courses/course-v1:Onlinica+072+2022_072/about#shortDes\n",
						"MÔ TẢ (course description): Kiến thức cơ bản về hệ điều hành. Cách vận hành thiết bị một cách có quy trình. Tối ưu thao tác trên máy tính\u001b[0mDưới đây là danh sách các khóa học mà Thầy Trần Anh Tuấn dạy trên Onlinica:\n",
						"\n",
						"1. **NHẬP MÔN LẬP TRÌNH TRÍ TUỆ NHÂN TẠO**\n",
						"   - Chuyên ngành: Trí tuệ nhân tạo A.I\n",
						"   - [Chi tiết khóa học](https://onlinica.com/courses/course-v1:Onlinica+076+2022_076/about#shortDes)\n",
						"\n",
						"2. **TỔNG QUAN VỀ BUSINESS INTELLIGENCE & BUSINESS ANALYTICS (BI/BA FUNDAMENTALS)**\n",
						"   - Chuyên ngành: Trí tuệ nhân tạo A.I\n",
						"   - [Chi tiết khóa học](https://onlinica.com/courses/course-v1:Onlinica+081+2022_081/about#shortDes)\n",
						"\n",
						"Nếu bạn cần thông tin chi tiết về bất kỳ khóa học nào khác, hãy cho tôi biết!\u001b[32;1m\u001b[1;3mDưới đây là danh sách các khóa học mà Thầy Trần Anh Tuấn dạy trên Onlinica:\n",
						"\n",
						"1. **NHẬP MÔN LẬP TRÌNH TRÍ TUỆ NHÂN TẠO**\n",
						"   - Chuyên ngành: Trí tuệ nhân tạo A.I\n",
						"   - [Chi tiết khóa học](https://onlinica.com/courses/course-v1:Onlinica+076+2022_076/about#shortDes)\n",
						"\n",
						"2. **TỔNG QUAN VỀ BUSINESS INTELLIGENCE & BUSINESS ANALYTICS (BI/BA FUNDAMENTALS)**\n",
						"   - Chuyên ngành: Trí tuệ nhân tạo A.I\n",
						"   - [Chi tiết khóa học](https://onlinica.com/courses/course-v1:Onlinica+081+2022_081/about#shortDes)\n",
						"\n",
						"Nếu bạn cần thông tin chi tiết về bất kỳ khóa học nào khác, hãy cho tôi biết!\u001b[0m\n",
						"\n",
						"\u001b[1m> Finished chain.\u001b[0m\n",
						"\n"
					]
				}
			],
			"source": [
				"input_message = \"các khóa học thầy trần anh tuấn dạy\"\n",
				"\n",
				"# await agent.invoke_agent_stream(questions[2])\n",
				"await agent.invoke_agent_stream(input_message)"
			]
		},
		{
			"cell_type": "markdown",
			"metadata": {},
			"source": [
				"# Test prompt"
			]
		},
		{
			"cell_type": "code",
			"execution_count": null,
			"metadata": {},
			"outputs": [],
			"source": [
				"# prompt = prompts.hub.pull(\"hwchase17/react\")\n",
				"\n",
				"prompt_template_react = \"\"\"\\\n",
				"Answer the following questions as best you can. You have access to the \\\n",
				"following tools:\n",
				"\n",
				"{tools}\n",
				"\n",
				"Use the following format:\n",
				"\n",
				"Question: the input question you must answer\n",
				"Thought: you should always think about what to do\n",
				"Action: the action to take, should be one of [{tool_names}]\n",
				"Action Input: the input to the action\n",
				"Observation: the result of the action\n",
				"... (this Thought/Action/Action Input/Observation can repeat N times)\n",
				"Thought: I now know the final answer\n",
				"Final Answer: the final answer to the original input question\n",
				"\n",
				"Begin!\n",
				"\n",
				"Question: {input}\n",
				"Thought:{agent_scratchpad}'\n",
				"\"\"\"\n",
				"prompt_react = prompts.PromptTemplate(\n",
				"    input_variables=['agent_scratchpad', 'input', 'tool_names', 'tools'],\n",
				"    template=prompt_template_react\n",
				")\n",
				"\n",
				"tools = [\n",
				"  qdrant_lectures_content.retriever_tool,\n",
				"  qdrant_faq.retriever_tool,\n",
				"  qdrant_courses_information.retriever_tool,\n",
				"]\n",
				"\n",
				"llm = chat_models.chat_openai\n",
				"agent = agents.MyAgent(\n",
				"  prompt=prompt_react, tools=tools,\n",
				"  agent_type=configs_vtc[\"agents\"][\"agent_type_onlinica\"], \n",
				"  llm=llm\n",
				")"
			]
		},
		{
			"cell_type": "code",
			"execution_count": null,
			"metadata": {},
			"outputs": [],
			"source": [
				"# input_message = \"nguyên lý phối màu\"\n",
				"\n",
				"# # await agent.invoke_agent_stream(questions[2])\n",
				"# await agent.invoke_agent_stream(input_message)\n"
			]
		},
		{
			"cell_type": "code",
			"execution_count": null,
			"metadata": {},
			"outputs": [],
			"source": [
				"react_agent = agents.create_react_agent(\n",
				"  llm, tools, prompt_react\n",
				")\n",
				"react_executor = agents.AgentExecutor(agent=react_agent, tools=tools, prompt=prompt_react, verbose=True)"
			]
		},
		{
			"cell_type": "code",
			"execution_count": null,
			"metadata": {},
			"outputs": [],
			"source": [
				"react_executor.invoke({\"input\": \"tôi vừa hỏi gì\"})"
			]
		},
		{
			"cell_type": "code",
			"execution_count": null,
			"metadata": {},
			"outputs": [],
			"source": [
				"agent"
			]
		},
		{
			"cell_type": "markdown",
			"metadata": {},
			"source": [
				"# Test Anthropic"
			]
		},
		{
			"cell_type": "code",
			"execution_count": null,
			"metadata": {},
			"outputs": [],
			"source": [
				"from langchain import hub\n",
				"from langchain.agents import AgentExecutor, create_xml_agent\n",
				"from langchain_anthropic import ChatAnthropic\n",
				"from langchain_community.tools.tavily_search import TavilySearchResults\n",
				"\n",
				"# tools = [TavilySearchResults(max_results=1)]\n",
				"tools = [\n",
				"    qdrant_lectures_content.retriever_tool,\n",
				"    qdrant_faq.retriever_tool,\n",
				"    qdrant_courses_information.retriever_tool,\n",
				"]\n",
				"\n",
				"# Get the prompt to use - you can modify this!\n",
				"# prompt = prompts.create_prompt_custom_agent_xml_tools(system_message_onlinica)\n",
				"prompt = prompts.create_prompt_custom_agent_xml_tools()\n",
				"\n",
				"# Choose the LLM that will drive the agent\n",
				"llm = ChatAnthropic(model=\"claude-3-haiku-20240307\")\n",
				"\n",
				"# Construct the XML agent\n",
				"agent = create_xml_agent(llm, tools, prompt)\n",
				"\n",
				"# Create an agent executor by passing in the agent and tools\n",
				"agent_executor = AgentExecutor(agent=agent, tools=tools, verbose=True)\n",
				"\n",
				"result = agent_executor.invoke({\"input\": \"các khóa học thầy trần anh tuấn\"})['output']\n",
				"pprint(result)"
			]
		}
	],
	"metadata": {
		"kernelspec": {
			"display_name": "LLM",
			"language": "python",
			"name": "python3"
		},
		"language_info": {
			"codemirror_mode": {
				"name": "ipython",
				"version": 3
			},
			"file_extension": ".py",
			"mimetype": "text/x-python",
			"name": "python",
			"nbconvert_exporter": "python",
			"pygments_lexer": "ipython3",
			"version": "3.11.8"
		}
	},
	"nbformat": 4,
	"nbformat_minor": 2
}
