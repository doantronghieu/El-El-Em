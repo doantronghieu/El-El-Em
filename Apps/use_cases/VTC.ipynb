{
	"cells": [
		{
			"cell_type": "code",
			"execution_count": 1,
			"metadata": {
				"notebookRunGroups": {
					"groupValue": "1"
				}
			},
			"outputs": [
				{
					"name": "stderr",
					"output_type": "stream",
					"text": [
						"/home/doantronghieu/anaconda3/envs/LLM/lib/python3.9/site-packages/tqdm/auto.py:21: TqdmWarning: IProgress not found. Please update jupyter and ipywidgets. See https://ipywidgets.readthedocs.io/en/stable/user_install.html\n",
						"  from .autonotebook import tqdm as notebook_tqdm\n"
					]
				}
			],
			"source": [
				"import yaml\n",
				"import add_packages\n",
				"from pprint import pprint\n",
				"import os, re\n",
				"import pandas as pd\n",
				"# import tqdm\n",
				"from tqdm.auto import tqdm\n",
				"\n",
				"from my_langchain import (\n",
				"  document_loaders, text_splitters, text_embedding_models, vectorstores, \n",
				"  chat_models, prompts, utils, output_parsers, agents, documents, llms,\n",
				"  runnables\n",
				")\n",
				"\n",
				"tqdm.pandas(desc=\"Processing\")\n",
				"\n",
				"with open(\"../my_configs/vtc.yaml\", 'r') as file:\n",
				"    configs_vtc = yaml.safe_load(file)"
			]
		},
		{
			"cell_type": "markdown",
			"metadata": {},
			"source": [
				"# Data"
			]
		},
		{
			"cell_type": "markdown",
			"metadata": {},
			"source": [
				"## Lectures Content"
			]
		},
		{
			"cell_type": "markdown",
			"metadata": {},
			"source": [
				"### Combine"
			]
		},
		{
			"cell_type": "code",
			"execution_count": null,
			"metadata": {},
			"outputs": [],
			"source": [
				"def extract_course_name(file_path):\n",
				"    with open(file_path, 'r', encoding='utf-8') as file:\n",
				"        first_line = file.readline().strip()\n",
				"        return first_line[len(\"# Course: \"):]"
			]
		},
		{
			"cell_type": "code",
			"execution_count": null,
			"metadata": {},
			"outputs": [],
			"source": [
				"def remove_extra_newlines(text):\n",
				"    while '\\n\\n' in text:\n",
				"        text = text.replace('\\n\\n', '\\n')\n",
				"    return text\n",
				"\n",
				"\n",
				"def remove_double_spaces(text):\n",
				"    while '  ' in text:\n",
				"        text = text.replace('  ', ' ')\n",
				"    return text\n",
				"\n",
				"\n",
				"def process_add_space_after_hash(text):\n",
				"    pattern = r'##(\\w)'\n",
				"    processed_text = re.sub(pattern, r'## \\1', text)\n",
				"    return processed_text\n",
				"\n",
				"\n",
				"def process_remove_quotes(text):\n",
				"    cleaned_text = text.replace('\"', '')\n",
				"    return cleaned_text\n",
				"\n",
				"\n",
				"def process_text_file(input_file, output_file, functions):\n",
				"    # Read the first line of the input file\n",
				"    with open(input_file, 'r') as file:\n",
				"        first_line = file.readline().strip()\n",
				"        len_first_line = len(first_line)\n",
				"    \n",
				"\n",
				"    # Extract course name from filename\n",
				"    course_name = os.path.splitext(os.path.basename(input_file))[0]\n",
				"    # If the first line doesn't match the filename, replace it with the filename's course name\n",
				"    first_line = \"# Course: \" + course_name\n",
				"\n",
				"    # Reopen the file to process the entire content\n",
				"    with open(input_file, 'r') as file:\n",
				"        text = file.read()\n",
				"\n",
				"    # Apply processing functions\n",
				"    for func in functions:\n",
				"        text = func(text)\n",
				"\n",
				"    # Prepend the modified first line to the processed text\n",
				"    text = first_line + '\\n' + text[len_first_line + 1:]\n",
				"\n",
				"    # Write the processed text to the output file\n",
				"    with open(output_file, 'w') as file:\n",
				"        file.write(text)\n",
				"\n",
				"\n",
				"# Define the list of functions to apply\n",
				"functions_to_apply = [\n",
				"    process_remove_quotes,\n",
				"    remove_extra_newlines,\n",
				"    remove_double_spaces,\n",
				"    process_add_space_after_hash,\n",
				"]\n"
			]
		},
		{
			"cell_type": "code",
			"execution_count": null,
			"metadata": {},
			"outputs": [],
			"source": [
				"# Example usage:\n",
				"input_file_path = '../data/vtc1/script/KỸ NĂNG TÌM VIỆC LÀM THÊM.txt'\n",
				"output_file_path = '../data/vtc1/script/KỸ NĂNG TÌM VIỆC LÀM THÊM.txt'\n",
				"process_text_file(input_file_path, output_file_path, functions_to_apply)"
			]
		},
		{
			"cell_type": "markdown",
			"metadata": {},
			"source": [
				"### Process files"
			]
		},
		{
			"cell_type": "code",
			"execution_count": null,
			"metadata": {},
			"outputs": [],
			"source": [
				"# Specify the folder containing the files\n",
				"folder_path = '../data/vtc2/script/'\n",
				"\n",
				"# Loop through each file in the folder\n",
				"for filename in os.listdir(folder_path):\n",
				"    if filename.endswith('.txt'):  # Process only text files\n",
				"        input_file_path = os.path.join(folder_path, filename)\n",
				"        output_file_path = os.path.join(\n",
				"            folder_path, filename)  # Output file path\n",
				"        process_text_file(input_file_path, output_file_path,\n",
				"                          functions_to_apply)"
			]
		},
		{
			"cell_type": "markdown",
			"metadata": {},
			"source": [
				"### Create documents "
			]
		},
		{
			"cell_type": "markdown",
			"metadata": {},
			"source": [
				"#### ONE course\n"
			]
		},
		{
			"cell_type": "code",
			"execution_count": null,
			"metadata": {},
			"outputs": [],
			"source": [
				"# Example usage:\n",
				"file_path = \"../data/vtc1/script/HỘI HỌA - MÀU SẮC VÀ PHỐI MÀU CƠ BẢN.txt\"\n",
				"course_name = extract_course_name(file_path).lower()\n",
				"\n",
				"text_loader_lectures_content = document_loaders.TextLoader(file_path)\n",
				"document = text_loader_lectures_content.load()\n",
				"\n",
				"text_splitter = text_splitters.RecursiveCharacterTextSplitter(\n",
				"  chunk_size=1000, chunk_overlap=200,\n",
				")\n",
				"docs_lectures_content = text_splitter.split_documents(document)\n",
				"\n",
				"metadatas = {\n",
				"  \"data\": \"lectures content\",\n",
				"  \"course_name\": course_name,\n",
				"}\n",
				"utils.remove_metadata(docs_lectures_content, \"source\")\n",
				"utils.update_metadata(docs_lectures_content, metadatas)"
			]
		},
		{
			"cell_type": "markdown",
			"metadata": {},
			"source": [
				"#### MULTIPLE course\n"
			]
		},
		{
			"cell_type": "code",
			"execution_count": null,
			"metadata": {},
			"outputs": [],
			"source": [
				"\n",
				"def process_folder(folder_path):\n",
				"    data_dict = {}\n",
				"    for root, dirs, files in os.walk(folder_path):\n",
				"        for file_name in files:\n",
				"            if file_name.endswith('.txt'):\n",
				"                file_path = os.path.join(root, file_name)\n",
				"                course_name = extract_course_name(file_path).lower()\n",
				"\n",
				"                text_loader_lectures_content = document_loaders.TextLoader(file_path)\n",
				"                document = text_loader_lectures_content.load()\n",
				"\n",
				"                text_splitter = text_splitters.RecursiveCharacterTextSplitter(\n",
				"                    chunk_size=1000, chunk_overlap=200,\n",
				"                )\n",
				"                docs_lectures_content = text_splitter.split_documents(document)\n",
				"\n",
				"                metadatas = {\n",
				"                    \"data\": \"lectures content\",\n",
				"                    \"course_name\": course_name,\n",
				"                }\n",
				"                utils.remove_metadata(docs_lectures_content, \"source\")\n",
				"                utils.update_metadata(docs_lectures_content, metadatas)\n",
				"\n",
				"                data_dict[course_name] = docs_lectures_content\n",
				"\n",
				"    return data_dict\n",
				"\n",
				"\n",
				"folder_path = \"../data/vtc2/script/\"\n",
				"docs_lectures_content_dict = process_folder(folder_path)\n",
				"for file_name, content in docs_lectures_content_dict.items():\n",
				"    print(f\"File: {file_name}, Course: {content[0].metadata['course_name']}\")"
			]
		},
		{
			"cell_type": "markdown",
			"metadata": {},
			"source": [
				"## FAQ"
			]
		},
		{
			"cell_type": "code",
			"execution_count": null,
			"metadata": {},
			"outputs": [],
			"source": [
				"text_loader_faq = document_loaders.TextLoader(\n",
				"  \"../data/vtc/faq.txt\"\n",
				")\n",
				"document = text_loader_faq.load()\n",
				"\n",
				"text_splitter = text_splitters.RecursiveCharacterTextSplitter(\n",
				"  chunk_size=500, chunk_overlap=100,\n",
				")\n",
				"docs_faq = text_splitter.split_documents(document)\n",
				"\n",
				"metadatas = {\n",
				"  \"data\": \"frequently asked questions\"\n",
				"}\n",
				"utils.remove_metadata(docs_faq, \"source\")\n",
				"utils.update_metadata(docs_faq, metadatas)"
			]
		},
		{
			"cell_type": "markdown",
			"metadata": {},
			"source": [
				"## Courses list"
			]
		},
		{
			"cell_type": "code",
			"execution_count": null,
			"metadata": {},
			"outputs": [],
			"source": [
				"model = chat_models.chat_openai\n",
				"\n",
				"template1 = \"\"\"\\\n",
				"Dựa trên mô tả khóa học, đưa ra chỉ nội dung cốt lõi sẽ được dạy của khóa học. Trả lời dưới dạng gạch đầu dòng.\n",
				"\n",
				"Đây là mô tả khóa học:\n",
				"{text}\"\"\"\n",
				"\n",
				"template2 = \"\"\"\\\n",
				"Delete bullet points. Replace line breaks with dots.\n",
				"Example Input:\n",
				"'- Kiến thức cơ bản về màu sắc\\n- Sử dụng ánh sáng và nhiệt độ trong màu sắc\\n- Nguyên lý phối màu\\n- Thực hành tô màu với vòng tròn thuần sắc\\n- Hướng dẫn bởi giảng viên chuyên ngành thiết kế'\n",
				"\n",
				"Example Output:\n",
				"'Kiến thức cơ bản về màu sắc. Sử dụng ánh sáng và nhiệt độ trong màu sắc. Nguyên lý phối màu. Thực hành tô màu với vòng tròn thuần sắc. Hướng dẫn bởi giảng viên chuyên ngành thiết kế'\n",
				"\n",
				"Input:\n",
				"{text}\n",
				"\"\"\"\n",
				"\n",
				"prompt_template1 = prompts.PromptTemplate.from_template(template1)\n",
				"prompt_template2 = prompts.PromptTemplate.from_template(template2)\n",
				"\n",
				"chain1 = prompt_template1 | model | output_parsers.StrOutputParser()\n",
				"chain2 = prompt_template2 | model | output_parsers.StrOutputParser()\n",
				"\n",
				"chain = runnables.RunnablePassthrough.assign(\n",
				"  text=chain1\n",
				").assign(\n",
				"  text=chain2\n",
				")\n",
				"\n",
				"def process_course_description(text: str) -> str:\n",
				"  result = chain.invoke({\"text\": text})['text']\n",
				"  return result\n",
				"\n",
				"query = 'Bạn yêu thích việc sử dụng màu sắc, nhưng lại không biết làm sao để phối ra những màu sắc mà bản thân mong muốn. Vậy thì khóa học \"Màu sắc và cách phối màu cơ bản\" sẽ mang đến cho bạn những kiến thức cơ bản về màu sắc như việc sử dụng ánh sáng, nhiệt độ trong màu sắc hay thú vị hơn là nắm được các nguyên lý phối màu. Không những thế bạn còn có thể thực hành tô màu với vòng tròn thuần sắc cùng Mr. Anh Thi - Giảng viên chuyên ngành thiết kế. Để có thể có những trải nghiệm tuyệt vời trên còn chần chờ gì mà không nhanh tay đăng ký khóa học để tiếp thu những kiến thức hữu ích bạn nhé!'\n",
				"result = process_course_description(query)\n",
				"\n",
				"pprint(result)"
			]
		},
		{
			"cell_type": "code",
			"execution_count": null,
			"metadata": {},
			"outputs": [],
			"source": [
				"path_courses_list = \"../data/vtc2/courses_list.csv\"\n",
				"\n",
				"df = pd.read_csv(path_courses_list)\n",
				"\n",
				"df['MÔ TẢ (course description)'] = df['MÔ TẢ (course description)'].progress_apply(\n",
				"  process_course_description)\n",
				"\n",
				"df.to_csv(\"../data/vtc2/courses_list1.csv\", index=False)\n",
				"\n",
				"list(df[\"MÔ TẢ (course description)\"])"
			]
		},
		{
			"cell_type": "code",
			"execution_count": null,
			"metadata": {},
			"outputs": [],
			"source": [
				"path_courses_list = \"../data/vtc2/courses_list1.csv\"\n",
				"courses_list_cols = utils.get_csv_column_names(path_courses_list)\n",
				"\n",
				"csv_loader_courses_list = document_loaders.CSVLoader(\n",
				"    path_courses_list,\n",
				"    # source_column=\"No\",\n",
				"    csv_args={\n",
				"        \"delimiter\": \",\",\n",
				"        # \"quotechar\": \"''\",\n",
				"        \"fieldnames\": courses_list_cols,\n",
				"    },\n",
				")\n",
				"document = csv_loader_courses_list.load()[1:]\n",
				"docs_courses_information = document\n",
				"\n",
				"metadatas = {\n",
				"    \"data\": \"courses information\"\n",
				"}\n",
				"\n",
				"utils.remove_metadata(docs_courses_information, \"source\")\n",
				"utils.remove_metadata(docs_courses_information, \"row\")\n",
				"utils.update_metadata(docs_courses_information, metadatas)"
			]
		},
		{
			"cell_type": "markdown",
			"metadata": {},
			"source": [
				"# Vector store "
			]
		},
		{
			"cell_type": "markdown",
			"metadata": {},
			"source": [
				"## Lectures Content"
			]
		},
		{
			"cell_type": "code",
			"execution_count": 2,
			"metadata": {},
			"outputs": [
				{
					"name": "stderr",
					"output_type": "stream",
					"text": [
						"\u001b[32m2024-03-26 08:46:48.054\u001b[0m | \u001b[1mINFO    \u001b[0m | \u001b[36mmy_langchain.vectorstores\u001b[0m:\u001b[36m__init__\u001b[0m:\u001b[36m122\u001b[0m - \u001b[1mFound collection: `vtc-lectures-content-2`.\u001b[0m\n",
						"\u001b[32m2024-03-26 08:46:48.054\u001b[0m | \u001b[1mINFO    \u001b[0m | \u001b[36mmy_langchain.vectorstores\u001b[0m:\u001b[36m__init__\u001b[0m:\u001b[36m131\u001b[0m - \u001b[1m`vtc-lectures-content-2` - Embeddings: openai\u001b[0m\n",
						"\u001b[32m2024-03-26 08:46:48.105\u001b[0m | \u001b[1mINFO    \u001b[0m | \u001b[36mmy_langchain.vectorstores\u001b[0m:\u001b[36m__init__\u001b[0m:\u001b[36m156\u001b[0m - \u001b[1m`vtc-lectures-content-2` - Retriever: Vectorstore\u001b[0m\n"
					]
				}
			],
			"source": [
				"qdrant_lectures_content = vectorstores.QdrantWrapper(\n",
				"  qdrant_host=os.getenv(\"QDRANT_HOST\"),\n",
				"  qdrant_api_key=os.getenv(\"QDRANT_API_KEY\"),\n",
				"  embeddings=configs_vtc[\"vector_db\"][\"embeddings\"],\n",
				"  **configs_vtc[\"vector_db\"][\"qdrant\"][\"lectures_content\"],\n",
				")"
			]
		},
		{
			"cell_type": "markdown",
			"metadata": {},
			"source": [
				"### Add multiple courses\n"
			]
		},
		{
			"cell_type": "code",
			"execution_count": null,
			"metadata": {},
			"outputs": [],
			"source": [
				"# for docs in docs_lectures_content_dict.values():\n",
				"#   qdrant_lectures_content.add_documents(docs)"
			]
		},
		{
			"cell_type": "markdown",
			"metadata": {},
			"source": [
				"#### If error"
			]
		},
		{
			"cell_type": "code",
			"execution_count": null,
			"metadata": {},
			"outputs": [],
			"source": [
				"# # Check position based on len(docs) of the course\n",
				"# for position, (key, value) in enumerate(docs_lectures_content_dict.items()):\n",
				"#     if len(value) == 71:\n",
				"#         print(\"Key:\", key)\n",
				"#         print(\"Position:\", position)"
			]
		},
		{
			"cell_type": "code",
			"execution_count": null,
			"metadata": {},
			"outputs": [],
			"source": [
				"# # Continue if error\n",
				"# for docs in (list(docs_lectures_content_dict.values()))[36:]:\n",
				"#   qdrant_lectures_content.add_documents(docs)"
			]
		},
		{
			"cell_type": "markdown",
			"metadata": {},
			"source": [
				"### Add one course\n"
			]
		},
		{
			"cell_type": "code",
			"execution_count": null,
			"metadata": {},
			"outputs": [],
			"source": [
				"# qdrant_lectures_content.add_documents(docs_lectures_content)"
			]
		},
		{
			"cell_type": "markdown",
			"metadata": {},
			"source": [
				"## FAQ"
			]
		},
		{
			"cell_type": "code",
			"execution_count": 3,
			"metadata": {},
			"outputs": [
				{
					"name": "stderr",
					"output_type": "stream",
					"text": [
						"\u001b[32m2024-03-26 08:47:04.096\u001b[0m | \u001b[1mINFO    \u001b[0m | \u001b[36mmy_langchain.vectorstores\u001b[0m:\u001b[36m__init__\u001b[0m:\u001b[36m122\u001b[0m - \u001b[1mFound collection: `vtc-faq`.\u001b[0m\n",
						"\u001b[32m2024-03-26 08:47:04.097\u001b[0m | \u001b[1mINFO    \u001b[0m | \u001b[36mmy_langchain.vectorstores\u001b[0m:\u001b[36m__init__\u001b[0m:\u001b[36m131\u001b[0m - \u001b[1m`vtc-faq` - Embeddings: openai\u001b[0m\n",
						"\u001b[32m2024-03-26 08:47:04.147\u001b[0m | \u001b[1mINFO    \u001b[0m | \u001b[36mmy_langchain.vectorstores\u001b[0m:\u001b[36m__init__\u001b[0m:\u001b[36m156\u001b[0m - \u001b[1m`vtc-faq` - Retriever: Vectorstore\u001b[0m\n"
					]
				}
			],
			"source": [
				"qdrant_faq = vectorstores.QdrantWrapper(\n",
				"  qdrant_host=os.getenv(\"QDRANT_HOST\"),\n",
				"  qdrant_api_key=os.getenv(\"QDRANT_API_KEY\"),\n",
				"  embeddings=configs_vtc[\"vector_db\"][\"embeddings\"],\n",
				"  **configs_vtc[\"vector_db\"][\"qdrant\"][\"faq\"]\n",
				")"
			]
		},
		{
			"cell_type": "code",
			"execution_count": null,
			"metadata": {},
			"outputs": [],
			"source": [
				"# qdrant_faq.add_documents(docs_faq)"
			]
		},
		{
			"cell_type": "markdown",
			"metadata": {},
			"source": [
				"## Courses List"
			]
		},
		{
			"cell_type": "code",
			"execution_count": 4,
			"metadata": {},
			"outputs": [
				{
					"name": "stderr",
					"output_type": "stream",
					"text": [
						"\u001b[32m2024-03-26 08:47:11.161\u001b[0m | \u001b[1mINFO    \u001b[0m | \u001b[36mmy_langchain.vectorstores\u001b[0m:\u001b[36m__init__\u001b[0m:\u001b[36m122\u001b[0m - \u001b[1mFound collection: `vtc-courses-information-2`.\u001b[0m\n",
						"\u001b[32m2024-03-26 08:47:11.162\u001b[0m | \u001b[1mINFO    \u001b[0m | \u001b[36mmy_langchain.vectorstores\u001b[0m:\u001b[36m__init__\u001b[0m:\u001b[36m131\u001b[0m - \u001b[1m`vtc-courses-information-2` - Embeddings: openai\u001b[0m\n",
						"\u001b[32m2024-03-26 08:47:11.211\u001b[0m | \u001b[1mINFO    \u001b[0m | \u001b[36mmy_langchain.vectorstores\u001b[0m:\u001b[36m__init__\u001b[0m:\u001b[36m156\u001b[0m - \u001b[1m`vtc-courses-information-2` - Retriever: Vectorstore\u001b[0m\n"
					]
				}
			],
			"source": [
				"qdrant_courses_information = vectorstores.QdrantWrapper(\n",
				"  qdrant_host=os.getenv(\"QDRANT_HOST\"),\n",
				"  qdrant_api_key=os.getenv(\"QDRANT_API_KEY\"),\n",
				"  embeddings=configs_vtc[\"vector_db\"][\"embeddings\"],\n",
				"  **configs_vtc[\"vector_db\"][\"qdrant\"][\"courses_information\"]\n",
				")"
			]
		},
		{
			"cell_type": "code",
			"execution_count": null,
			"metadata": {},
			"outputs": [],
			"source": [
				"# qdrant_courses_information.add_documents(docs_courses_information)"
			]
		},
		{
			"cell_type": "markdown",
			"metadata": {},
			"source": [
				"#### ONE course\n"
			]
		},
		{
			"cell_type": "markdown",
			"metadata": {},
			"source": [
				"# Tools"
			]
		},
		{
			"cell_type": "code",
			"execution_count": 5,
			"metadata": {},
			"outputs": [],
			"source": [
				"system_message_onlinica = configs_vtc[\"prompts\"][\"system_message_onlinica\"]\n",
				"prompt_onlinica = prompts.create_prompt_custom_agent_openai_tools(system_message_onlinica)"
			]
		},
		{
			"cell_type": "code",
			"execution_count": 6,
			"metadata": {},
			"outputs": [],
			"source": [
				"tools = [\n",
				"  qdrant_lectures_content.retriever_tool,\n",
				"  qdrant_faq.retriever_tool,\n",
				"  qdrant_courses_information.retriever_tool,\n",
				"]\n",
				"\n",
				"llm = chat_models.chat_openai\n",
				"agent = agents.MyAgent(prompt=prompt_onlinica, tools=tools, agent_type=\"openai_tools\", llm=llm)"
			]
		},
		{
			"cell_type": "code",
			"execution_count": 7,
			"metadata": {},
			"outputs": [],
			"source": [
				"questions = [\n",
				"  \"xin chào. Tên tôi là Bob.\",\n",
				"  \"bạn có nhớ tên tôi là gì không\",\n",
				"  \n",
				"  \"digital marketing là gì\",\n",
				"  \n",
				"  \"làm cách nào để đăng ký tài khoản onlinica\",\n",
				"  \"có mấy loại tài khoản onlinica\",\n",
				"  \"các khoá học tại onlinica có thời hạn sử dụng bao lâu\",\n",
				"  \"onlinica có mấy hình thức thanh toán\",\n",
				"  \"có thể thanh toán bằng momo được không\",\n",
				"  \n",
				"  \"các khóa học về design\",\n",
				"  \"các khóa học về trí tuệ nhân tạo\",\n",
				"  \"các khóa học về  ai\",\n",
				"  \"các khóa học của nguyễn ngọc tú uyên\",\n",
				"  \"các khóa học của tú uyên\",\n",
				"  \"các khóa học thầy trần anh tuấn dạy\",\n",
				"  \n",
				"  \"cách quản lý thời gian\",\n",
				"  \"nguyên lý phối màu\",\n",
				"]\n"
			]
		},
		{
			"cell_type": "code",
			"execution_count": 8,
			"metadata": {},
			"outputs": [
				{
					"name": "stdout",
					"output_type": "stream",
					"text": [
						"\n",
						"\n",
						"\u001b[1m> Entering new AgentExecutor chain...\u001b[0m\n",
						"\u001b[32;1m\u001b[1;3m\n",
						"Invoking: `lectures_content` with `{'query': 'nguyên lý phối màu'}`\n",
						"\n",
						"\n",
						"\u001b[0m\u001b[36;1m\u001b[1;3m### Subsection 2.2 Các nguyên lý phối màu\n",
						"\n",
						"### Subsection 2.4: Nguyên tắc phối màu \n",
						"Nếu nắm được các nguyên tắc về hệ màu, cũng như biết về các dạng màu sắc nhưng không nắm được các nguyên tắc phối màu thì tác phẩm của bạn chưa chắc đã hoàn thiện nhất. Hãy tham khảo các nguyên tắc phối màu sau đây biết đâu bạn sẽ rút ra được kinh nghiệm cho bản thân thì sao?\n",
						"Nguyên tắc đầu tiên khi phối màu, là một nguyên tắc đơn giản và thường được sử dụng nhất đó là nguyên tắc phối màu đơn sắc.\n",
						"Sự cân bằng màu sắc là cực kỳ quan trọng trong thiết kế. Với một trang web, người dùng sẽ có ấn tượng đầu tiên sâu đậm nếu bạn dùng màu sắc một cách ấn tượng. Các nhà thiết kế thường phân biệt rõ ràng các cách phối màu căn bản, hay còn gọi là sự hoà hợp màu sắc.\n",
						"Phương pháp này thường sử dụng đúng 1 màu chủ đạo, kèm theo đó là các tone và shade của nó. Phương pháp phối đơn sắc luôn là lựa chọn hàng đầu bởi vì tính hoàn thiện cũng như vẻ thẩm mỹ cao.\n",
						"Các bạn có thể dễ dàng bắt gặp qua các mẫu thiết kế như thế này\n",
						"\n",
						"Tiếp theo tôi sẽ đi đến nguyên lý phối màu, phần này thì tôi sẽ chủ yếu nói về các gam màu cơ bản nhất. Đầu tiên là màu vô sắc, màu vô sắc đó là những màu chỉ có sắc độ trắng và đen và các thanh đậm nhạt sẽ do những màu đen và trắng thì quyết định, thì sự tương quan tỷ lệ giữa các sắc độ, sẽ cho các bạn sự phân cấp rõ, mờ khác nhau trong một bố cục của một bức tranh đen trắng. Tiếp theo đó là màu nguyên sắc, màu nguyên sắc đó là những màu bậc một và các bậc màu khác như là các bậc màu 2, 3, 4, 5 được pha ra từ các bậc màu, từ các màu cơ bản mà các màu này sẽ không có sự tham gia của màu trắng hoặc là màu đen và màu các bạn lưu ý thì màu nguyên sắc sẽ cho ra độ thuần cao và độ màu tươi thắm nhất. Tiếp đến là màu hữu sắc, màu hữu sắc đó là những màu được pha ra từ những màu gốc. Mình sẽ có 3 màu gốc, màu đỏ, màu xanh lam, màu vàng. Đây là 3 màu cơ bản, hay còn gọi là ba màu bậc một, ba màu này không thể được pha từ các màu sắc khác, cho nên nó là ba màu cơ bản nhất. Tiếp đến chúng ta sẽ\n",
						"\n",
						"Ví dụ như việc sử dụng các màu sắc theo các bức tranh này, tác giả đã sử dụng phương pháp phối màu tương phản cho các chủ thể, hoặc như cách phối màu tương phản mà Tubik Studio sử dụng.\n",
						"Phương pháp phối màu thứ 4 này khá giống với phối màu tương phản ngoại trừ việc nó sử dụng nhiều màu hơn. \n",
						"Ví dụ, nếu bạn chọn màu xanh dương, bạn sẽ phải chọn thêm 2 màu bên cạnh màu đối diện của nó: vàng và đỏ. Độ tương phản trong phương pháp này sẽ không quá sắc nét so với phương pháp phối màu trước đó, nhưng bù lại bạn sẽ có khả năng sử dụng được nhiều màu sắc hơn cho thiết kế của mình.\n",
						"\n",
						"Đầu tiên chúng ta sẽ đến phối màu tương đồng lạnh, thì màu tương đồng lạnh là nó sẽ cho các bạn một cảm giác mát lạnh, các bạn có thể liên tưởng đến màu của bầu trời, biển, nước hoặc là lá cây. Những màu lạnh ở gần nhau, trên vòng màu sắc, càng gần nhau, thì sẽ càng tương đồng với nhau và cách phối màu tương đồng lạnh là, ngoài những màu lạnh các bạn còn có thể sử dụng thêm các sắc độ đen, trắng và những màu trung gian hòa trộn với nhau. Ngoài ra để mà nhấn nhá thêm cho gam màu lạnh thì các bạn có thể sử dụng thêm một ít, của gam màu nóng nhưng mà nó sẽ chiếm rất tỷ lệ rất là ít trong gam màu lạnh của mình. Màu tương đồng nóng sẽ cho các bạn cảm nhận được sự nóng, ấm các bạn có thể liên tưởng đến bức xạ của mặt trời, ngọn lửa hoặc là sa mạc. Cũng tương tự như vậy thì những màu nóng, mà càng đứng gần nhau trên vòng thuần sắc thì nó sẽ tạo ra sự tương đồng nhiều hơn. Tiếp theo đó là cách phối màu tương đồng nóng, cũng tương tự như cách phối màu tương đồng lạnh, cách phối màu tương đồng\u001b[0m### Các nguyên lý phối màu\n",
						"\n",
						"Trong khóa học về nguyên lý phối màu, chúng ta sẽ tìm hiểu về các nguyên tắc cơ bản và quan trọng khi phối màu trong thiết kế. Dưới đây là một số nguyên tắc phối màu quan trọng:\n",
						"\n",
						"1. **Nguyên tắc phối màu đơn sắc**: Phương pháp này sử dụng một màu chủ đạo kèm theo các tone và shade của nó. Đây là lựa chọn hàng đầu vì tính hoàn thiện và vẻ thẩm mỹ cao.\n",
						"\n",
						"2. **Màu vô sắc**: Đây là những màu chỉ có sắc độ trắng và đen, tạo ra sự phân cấp rõ mờ khác nhau trong bố cục của một bức tranh đen trắng.\n",
						"\n",
						"3. **Màu nguyên sắc**: Đây là những màu bậc một không có sự tham gia của màu trắng hoặc đen, cho ra độ thuần cao và màu tươi thắm nhất.\n",
						"\n",
						"4. **Màu hữu sắc**: Được pha ra từ các màu gốc như đỏ, xanh lam, và vàng. Đây là ba màu cơ bản nhất không thể pha từ các màu sắc khác.\n",
						"\n",
						"5. **Phối màu tương phản**: Sử dụng màu đối diện nhau trên vòng màu sắc để tạo ra sự tương phản trong thiết kế.\n",
						"\n",
						"6. **Phối màu tương đồng lạnh và nóng**: Màu tương đồng lạnh tạo cảm giác mát lạnh như màu của bầu trời, biển; trong khi màu tương đồng nóng tạo cảm giác nóng, ấm như bức xạ của mặt trời.\n",
						"\n",
						"Những nguyên tắc này sẽ giúp bạn hiểu rõ hơn về cách phối màu và áp dụng chúng vào thiết kế của mình.\u001b[32;1m\u001b[1;3m### Các nguyên lý phối màu\n",
						"\n",
						"Trong khóa học về nguyên lý phối màu, chúng ta sẽ tìm hiểu về các nguyên tắc cơ bản và quan trọng khi phối màu trong thiết kế. Dưới đây là một số nguyên tắc phối màu quan trọng:\n",
						"\n",
						"1. **Nguyên tắc phối màu đơn sắc**: Phương pháp này sử dụng một màu chủ đạo kèm theo các tone và shade của nó. Đây là lựa chọn hàng đầu vì tính hoàn thiện và vẻ thẩm mỹ cao.\n",
						"\n",
						"2. **Màu vô sắc**: Đây là những màu chỉ có sắc độ trắng và đen, tạo ra sự phân cấp rõ mờ khác nhau trong bố cục của một bức tranh đen trắng.\n",
						"\n",
						"3. **Màu nguyên sắc**: Đây là những màu bậc một không có sự tham gia của màu trắng hoặc đen, cho ra độ thuần cao và màu tươi thắm nhất.\n",
						"\n",
						"4. **Màu hữu sắc**: Được pha ra từ các màu gốc như đỏ, xanh lam, và vàng. Đây là ba màu cơ bản nhất không thể pha từ các màu sắc khác.\n",
						"\n",
						"5. **Phối màu tương phản**: Sử dụng màu đối diện nhau trên vòng màu sắc để tạo ra sự tương phản trong thiết kế.\n",
						"\n",
						"6. **Phối màu tương đồng lạnh và nóng**: Màu tương đồng lạnh tạo cảm giác mát lạnh như màu của bầu trời, biển; trong khi màu tương đồng nóng tạo cảm giác nóng, ấm như bức xạ của mặt trời.\n",
						"\n",
						"Những nguyên tắc này sẽ giúp bạn hiểu rõ hơn về cách phối màu và áp dụng chúng vào thiết kế của mình.\u001b[0m\n",
						"\n",
						"\u001b[1m> Finished chain.\u001b[0m\n"
					]
				}
			],
			"source": [
				"input_message = \"nguyên lý phối màu\"\n",
				"await agent.invoke_agent_stream(input_message)"
			]
		},
		{
			"cell_type": "code",
			"execution_count": null,
			"metadata": {},
			"outputs": [],
			"source": []
		}
	],
	"metadata": {
		"kernelspec": {
			"display_name": "LLM",
			"language": "python",
			"name": "python3"
		},
		"language_info": {
			"codemirror_mode": {
				"name": "ipython",
				"version": 3
			},
			"file_extension": ".py",
			"mimetype": "text/x-python",
			"name": "python",
			"nbconvert_exporter": "python",
			"pygments_lexer": "ipython3",
			"version": "3.9.18"
		}
	},
	"nbformat": 4,
	"nbformat_minor": 2
}
