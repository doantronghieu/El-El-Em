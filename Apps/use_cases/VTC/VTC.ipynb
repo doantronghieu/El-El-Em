{
	"cells": [
		{
			"cell_type": "code",
			"execution_count": 2,
			"metadata": {
				"notebookRunGroups": {
					"groupValue": "1"
				}
			},
			"outputs": [
				{
					"name": "stderr",
					"output_type": "stream",
					"text": [
						"/opt/homebrew/Caskroom/miniconda/base/envs/llm/lib/python3.11/site-packages/tqdm/auto.py:21: TqdmWarning: IProgress not found. Please update jupyter and ipywidgets. See https://ipywidgets.readthedocs.io/en/stable/user_install.html\n",
						"  from .autonotebook import tqdm as notebook_tqdm\n"
					]
				}
			],
			"source": [
				"import yaml\n",
				"import add_packages\n",
				"from pprint import pprint\n",
				"import os\n",
				"import pandas as pd\n",
				"from tqdm.auto import tqdm\n",
				"\n",
				"from toolkit.langchain import (\n",
				"\tdocument_loaders, text_splitters, text_embedding_models, stores, \n",
				"\tprompts, utils, output_parsers, agents, documents, models,\n",
				"\trunnables, tools, chains\n",
				")\n",
				"\n",
				"from toolkit import sql\n",
				"\n",
				"PATH_DATA = f\"{add_packages.APP_PATH}/data/vtc\"\n",
				"FILE_CFG = \"vtc.yaml\"\n",
				"tqdm.pandas(desc=\"Processing\")\n",
				"\n",
				"with open(f\"{add_packages.APP_PATH}/my_configs/{FILE_CFG}\", 'r') as file:\n",
				"    configs = yaml.safe_load(file)"
			]
		},
		{
			"cell_type": "code",
			"execution_count": 6,
			"metadata": {},
			"outputs": [],
			"source": [
				"llm = models.create_llm(provider=\"openai\", version=\"gpt-4o-mini\")\n",
				"embeddings = text_embedding_models.OpenAIEmbeddings(model=\"text-embedding-3-large\")\n",
				"vectorstore = stores.faiss.FAISS"
			]
		},
		{
			"cell_type": "code",
			"execution_count": 7,
			"metadata": {},
			"outputs": [],
			"source": [
				"# my_sql_db = sql.MySQLDatabase()\n",
				"my_sql_db = sql.MySQLDatabase(\n",
				"\tdbname=os.getenv(\"SQL_DB_NEON\"),\n",
				"\thost=os.getenv(\"SQL_HOST_NEON\"),\n",
				"\tport=os.getenv(\"SQL_PORT_NEON\"),\n",
				"\tuser=os.getenv(\"SQL_USER_NEON\"),\n",
				"\tpassword=os.getenv(\"SQL_PASSWORD_NEON\"),\n",
				")"
			]
		},
		{
			"cell_type": "markdown",
			"metadata": {},
			"source": [
				"# Data"
			]
		},
		{
			"cell_type": "markdown",
			"metadata": {},
			"source": [
				"## txt - FAQ"
			]
		},
		{
			"cell_type": "markdown",
			"metadata": {},
			"source": [
				"### vtc_faq"
			]
		},
		{
			"cell_type": "code",
			"execution_count": null,
			"metadata": {},
			"outputs": [],
			"source": [
				"path_txt = f\"{PATH_DATA}/vtc_faq.txt\""
			]
		},
		{
			"cell_type": "code",
			"execution_count": null,
			"metadata": {},
			"outputs": [],
			"source": [
				"loader_txt = document_loaders.TextLoader(path_txt)\n",
				"doc_txt = loader_txt.load()\n",
				"\n",
				"text_splitter = text_splitters.RecursiveCharacterTextSplitter(\n",
				"\t# chunk_size=500, chunk_overlap=100,\n",
				"\tseparators=[\"##\"], chunk_size=150, chunk_overlap=0,\n",
				")\n",
				"docs_txt = text_splitter.split_documents(doc_txt)\n",
				"docs_txt = docs_txt[1:]\n",
				"\n",
				"metadatas = {\n",
				"\t\"data\": \"frequently asked questions\"\n",
				"}\n",
				"utils.remove_metadata(docs_txt, \"source\")\n",
				"utils.update_metadata(docs_txt, metadatas)"
			]
		},
		{
			"cell_type": "code",
			"execution_count": null,
			"metadata": {},
			"outputs": [],
			"source": [
				"docs_txt_vtc_faq = docs_txt"
			]
		},
		{
			"cell_type": "markdown",
			"metadata": {},
			"source": [
				"### onli_faq"
			]
		},
		{
			"cell_type": "code",
			"execution_count": null,
			"metadata": {},
			"outputs": [],
			"source": [
				"path_txt = f\"{PATH_DATA}/onli_faq.txt\""
			]
		},
		{
			"cell_type": "code",
			"execution_count": null,
			"metadata": {},
			"outputs": [],
			"source": [
				"loader_txt = document_loaders.TextLoader(path_txt)\n",
				"doc_txt = loader_txt.load()\n",
				"\n",
				"text_splitter = text_splitters.RecursiveCharacterTextSplitter(\n",
				"\t# chunk_size=500, chunk_overlap=100,\n",
				"\tseparators=[\"##\"], chunk_size=150, chunk_overlap=0,\n",
				")\n",
				"docs_txt = text_splitter.split_documents(doc_txt)\n",
				"docs_txt = docs_txt[1:]\n",
				"\n",
				"metadatas = {\n",
				"\t\"data\": \"frequently asked questions\"\n",
				"}\n",
				"utils.remove_metadata(docs_txt, \"source\")\n",
				"utils.update_metadata(docs_txt, metadatas)"
			]
		},
		{
			"cell_type": "code",
			"execution_count": null,
			"metadata": {},
			"outputs": [],
			"source": [
				"docs_txt_onli_faq = docs_txt"
			]
		},
		{
			"cell_type": "markdown",
			"metadata": {},
			"source": [
				"### File 3"
			]
		},
		{
			"cell_type": "code",
			"execution_count": null,
			"metadata": {},
			"outputs": [],
			"source": [
				"path_txt = f\"{PATH_DATA}/faq.txt\""
			]
		},
		{
			"cell_type": "code",
			"execution_count": null,
			"metadata": {},
			"outputs": [],
			"source": [
				"loader_txt = document_loaders.TextLoader(path_txt)\n",
				"doc_txt = loader_txt.load()\n",
				"\n",
				"text_splitter = text_splitters.RecursiveCharacterTextSplitter(\n",
				"\t# chunk_size=500, chunk_overlap=100,\n",
				"\tseparators=[\"##\"], chunk_size=150, chunk_overlap=0,\n",
				")\n",
				"docs_txt = text_splitter.split_documents(doc_txt)\n",
				"docs_txt = docs_txt[1:]\n",
				"\n",
				"metadatas = {\n",
				"\t\"data\": \"frequently asked questions\"\n",
				"}\n",
				"utils.remove_metadata(docs_txt, \"source\")\n",
				"utils.update_metadata(docs_txt, metadatas)"
			]
		},
		{
			"cell_type": "markdown",
			"metadata": {},
			"source": [
				"## table"
			]
		},
		{
			"cell_type": "markdown",
			"metadata": {},
			"source": [
				"### onli_course_list"
			]
		},
		{
			"cell_type": "code",
			"execution_count": null,
			"metadata": {},
			"outputs": [],
			"source": [
				"file_csv = \"onli_course_list.xlsx\"\n",
				"path_csv = f\"{PATH_DATA}/{file_csv}\"\n",
				"path_csv_processed = f\"{PATH_DATA}/{file_csv.split('.')[0]}2.xlsx\""
			]
		},
		{
			"cell_type": "code",
			"execution_count": null,
			"metadata": {},
			"outputs": [],
			"source": [
				"df = pd.read_excel(\n",
				"\tpath_csv, \n",
				" \t# delimiter=\",\" # \",\" \";\"\n",
				")\n",
				"\n",
				"df.head()"
			]
		},
		{
			"cell_type": "markdown",
			"metadata": {},
			"source": [
				"#### Process"
			]
		},
		{
			"cell_type": "code",
			"execution_count": null,
			"metadata": {},
			"outputs": [],
			"source": [
				"model = models.chat_openai\n",
				"\n",
				"template1 = \"\"\"\\\n",
				"Here is a description of a learning course:\n",
				"\n",
				"<course_description>\n",
				"{{COURSE_DESCRIPTION}}\n",
				"</course_description>\n",
				"\n",
				"Please read the course description carefully. Your task is to identify and extract ONLY the core learning objectives and outcomes that a student should expect from taking this course. Ignore any extraneous information beyond the key things the student will learn and take away.\n",
				"\n",
				"Summarize the core information you have extracted in a single short paragraph. \n",
				"\n",
				"Provide your output in Vietnamese.\n",
				"\n",
				"Again, please ONLY include information directly related to the main things the student will learn and take away from this course based on the description. Do not include any other details. Focus exclusively on the core learning objectives and outcomes and nothing else.\n",
				"{text}\"\"\"\n",
				"\n",
				"template2 = \"\"\"\\\n",
				"...\n",
				"{text}\n",
				"\"\"\"\n",
				"\n",
				"prompt_template1 = prompts.PromptTemplate.from_template(template1)\n",
				"prompt_template2 = prompts.PromptTemplate.from_template(template2)\n",
				"\n",
				"chain1 = prompt_template1 | model | output_parsers.StrOutputParser()\n",
				"chain2 = prompt_template2 | model | output_parsers.StrOutputParser()\n",
				"\n",
				"# chain = runnables.RunnablePassthrough.assign(\n",
				"#   text=chain1\n",
				"# ).assign(\n",
				"#   text=chain2\n",
				"# )\n",
				"\n",
				"chain = runnables.RunnablePassthrough.assign(\n",
				"  text=chain1\n",
				")\n",
				"\n",
				"def process_csv_col(text: str) -> str:\n",
				"  result = chain.invoke({\"text\": text})['text']\n",
				"  return result\n",
				"\n",
				"def capitalize_first_letter(s):\n",
				"\treturn ' '.join([word.capitalize() for word in s.split()])\n",
				"\n",
				"def change_col_value(df: pd.DataFrame, column_name: str, value, new_value):\n",
				"\tdf[column_name] = df[column_name].replace(value, new_value)\n",
				"\treturn df\n",
				"\n",
				"def replace_col_value_if_contains(df, column_name, substring, new_substring):\n",
				"\tdf[column_name] = df[column_name].str.replace(substring, new_substring)\n",
				"\treturn df\n",
				"\n",
				"# query = '...'\n",
				"# result = process_csv_col(query)\n",
				"# pprint(result)"
			]
		},
		{
			"cell_type": "code",
			"execution_count": null,
			"metadata": {},
			"outputs": [],
			"source": [
				"col_to_process = \"course_description\"\n",
				"\n",
				"df[col_to_process] = df[col_to_process].progress_apply(process_csv_col)\n",
				"\n",
				"# df.to_excel(f\"{path_csv_processed}\", index=False)\n"
			]
		},
		{
			"cell_type": "code",
			"execution_count": null,
			"metadata": {},
			"outputs": [],
			"source": [
				"df.to_excel(f\"{path_csv_processed}\", index=False)\n"
			]
		},
		{
			"cell_type": "code",
			"execution_count": null,
			"metadata": {},
			"outputs": [],
			"source": [
				"path_csv = path_csv_processed"
			]
		},
		{
			"cell_type": "markdown",
			"metadata": {},
			"source": [
				"#### Load"
			]
		},
		{
			"cell_type": "code",
			"execution_count": null,
			"metadata": {},
			"outputs": [],
			"source": [
				"path_csv"
			]
		},
		{
			"cell_type": "code",
			"execution_count": null,
			"metadata": {},
			"outputs": [],
			"source": [
				"csv_cols = list(df.columns)\n",
				"\n",
				"loader_csv = document_loaders.UnstructuredExcelLoader(\n",
				"\tpath_csv,\n",
				"\tmode=\"elements\"\n",
				")\n",
				"docs_csv = loader_csv.load_and_split()"
			]
		},
		{
			"cell_type": "code",
			"execution_count": null,
			"metadata": {},
			"outputs": [],
			"source": [
				"docs_csv = loader_csv.load()[1:]\n",
				"\n",
				"metadatas = {\n",
				"\t\"data\": \"...\"\n",
				"}\n",
				"\n",
				"utils.remove_metadata(docs_csv, \"source\")\n",
				"utils.remove_metadata(docs_csv, \"row\")\n",
				"utils.update_metadata(docs_csv, metadatas)"
			]
		},
		{
			"cell_type": "markdown",
			"metadata": {},
			"source": [
				"#### Load to sql"
			]
		},
		{
			"cell_type": "code",
			"execution_count": null,
			"metadata": {},
			"outputs": [],
			"source": [
				"my_table_schema = [\n",
				"\t\"course_id SERIAL\",\n",
				"\t\"course_name VARCHAR(255) NOT NULL UNIQUE\",\n",
				"\t\"course_category VARCHAR(255) NOT NULL\",\n",
				"\t\"instructor_name VARCHAR(100) NOT NULL\",\n",
				"\t\"course_link VARCHAR(2048) NOT NULL UNIQUE\",\n",
				"\t\"course_description TEXT NOT NULL\",\n",
				"\t\"PRIMARY KEY (course_id)\",\n",
				"]\n",
				"my_table = sql.MySQLTable(\n",
				"\tname=\"onli_course_list\", \n",
				"\tschema=my_table_schema,\n",
				"\tdb=my_sql_db,\n",
				")\n",
				"my_table.create()\n",
				"\n",
				"db = stores.SQLDatabase.from_uri(my_sql_db.get_uri())\n",
				"llm = models.chat_openai\n",
				"\n",
				"embeddings = text_embedding_models.OpenAIEmbeddings()\n",
				"vectorstore = stores.faiss.FAISS\n",
				"\n",
				"table_cols = [col_description.split(\" \")[0] for col_description in my_table_schema][1:-1]\n"
			]
		},
		{
			"cell_type": "code",
			"execution_count": null,
			"metadata": {},
			"outputs": [],
			"source": [
				"df = pd.read_excel(path_csv)\n",
				"df.columns = table_cols\n",
				"\n",
				"# my_table.insert_from_dataframe(df)"
			]
		},
		{
			"cell_type": "code",
			"execution_count": null,
			"metadata": {},
			"outputs": [],
			"source": [
				"my_table.insert_from_dataframe(df)\n"
			]
		},
		{
			"cell_type": "code",
			"execution_count": null,
			"metadata": {},
			"outputs": [],
			"source": [
				"cols = [\"course_name\", \"course_category\", \"instructor_name\"]\n",
				"proper_nouns_onli_course_list = [value for col in cols for value in my_table.get_discrete_values_col(col)]"
			]
		},
		{
			"cell_type": "code",
			"execution_count": null,
			"metadata": {},
			"outputs": [],
			"source": [
				"questions = [\n",
				"  \"Which courses are available in the Design category?\",\n",
				"\t\"Who are the instructors for the Personal Development courses?\",\n",
				"\t\"Can you provide a summary of the course descriptions for the Digital Marketing category?\",\n",
				"\t\"Which courses have the longest descriptions?\",\n",
				"\t\"How many courses are offered by each instructor?\",\n",
				"\t\"Which course categories have the most number of courses?\",\n",
				"\t\"Can you tell me about the course 'Kỹ năng quản lý thời gian'?\",\n",
				"\t\"Which courses have the shortest descriptions?\",\n",
				"\t\"Which instructors have the most number of courses?\",\n",
				"\t\"Can you list all the courses that are related to Personal Development?\"\n",
				"]\n",
				"\n",
				"examples_questions_to_sql_onli_course_list = [\n",
				"    {\n",
				"        \"input\": \"Which courses are available in the Design category?\",\n",
				"        \"query\": \"SELECT course_name FROM courses WHERE course_category = 'Design';\"\n",
				"    },\n",
				"    {\n",
				"        \"input\": \"Who are the instructors for the Personal Development courses?\",\n",
				"        \"query\": \"SELECT DISTINCT instructor_name FROM courses WHERE course_category = 'Personal Development';\"\n",
				"    },\n",
				"    {\n",
				"        \"input\": \"Can you provide a summary of the course descriptions for the Digital Marketing category?\",\n",
				"        \"query\": \"SELECT course_name, SUBSTRING(course_description, 1, 100) AS summary FROM courses WHERE course_category = 'Digital Marketing';\"\n",
				"    },\n",
				"    {\n",
				"        \"input\": \"Which courses have the longest descriptions?\",\n",
				"        \"query\": \"SELECT course_name, LENGTH(course_description) AS description_length FROM courses ORDER BY description_length DESC LIMIT 5;\"\n",
				"    },\n",
				"    {\n",
				"        \"input\": \"How many courses are offered by each instructor?\",\n",
				"        \"query\": \"SELECT instructor_name, COUNT(course_id) AS num_courses FROM courses GROUP BY instructor_name;\"\n",
				"    },\n",
				"    {\n",
				"        \"input\": \"Which course categories have the most number of courses?\",\n",
				"        \"query\": \"SELECT course_category, COUNT(course_id) AS num_courses FROM courses GROUP BY course_category ORDER BY num_courses DESC LIMIT 5;\"\n",
				"    },\n",
				"    {\n",
				"        \"input\": \"Can you tell me about the course 'Kỹ năng quản lý thời gian'?\",\n",
				"        \"query\": \"SELECT * FROM courses WHERE course_name = 'Kỹ năng quản lý thời gian';\"\n",
				"    },\n",
				"    {\n",
				"        \"input\": \"Which courses have the shortest descriptions?\",\n",
				"        \"query\": \"SELECT course_name, LENGTH(course_description) AS description_length FROM courses ORDER BY description_length ASC LIMIT 5;\"\n",
				"    },\n",
				"    {\n",
				"        \"input\": \"Which instructors have the most number of courses?\",\n",
				"        \"query\": \"SELECT instructor_name, COUNT(course_id) AS num_courses FROM courses GROUP BY instructor_name ORDER BY num_courses DESC LIMIT 5;\"\n",
				"    },\n",
				"    {\n",
				"        \"input\": \"Can you list all the courses that are related to Personal Development?\",\n",
				"        \"query\": \"SELECT course_name FROM courses WHERE course_category = 'Personal Development';\"\n",
				"    }\n",
				"]"
			]
		},
		{
			"cell_type": "markdown",
			"metadata": {},
			"source": [
				"### File vtc_course_list"
			]
		},
		{
			"cell_type": "code",
			"execution_count": null,
			"metadata": {},
			"outputs": [],
			"source": [
				"file_xlsx = \"vtc_course_list.xlsx\"\n",
				"path_xlsx = f\"{PATH_DATA}/{file_xlsx}\"\n",
				"path_xlsx_processed = f\"{PATH_DATA}/{file_xlsx.split('.')[0]}-prod.xlsx\""
			]
		},
		{
			"cell_type": "code",
			"execution_count": null,
			"metadata": {},
			"outputs": [],
			"source": [
				"df = pd.read_excel(\n",
				"\tpath_xlsx, \n",
				" \t# delimiter=\";\"\n",
				")\n",
				"\n",
				"df.head()"
			]
		},
		{
			"cell_type": "markdown",
			"metadata": {},
			"source": [
				"#### Process"
			]
		},
		{
			"cell_type": "code",
			"execution_count": null,
			"metadata": {},
			"outputs": [],
			"source": [
				"model = models.chat_openai\n",
				"\n",
				"template1 = \"\"\"\\\n",
				"...\n",
				"{text}\"\"\"\n",
				"\n",
				"template2 = \"\"\"\\\n",
				"...\n",
				"{text}\n",
				"\"\"\"\n",
				"\n",
				"prompt_template1 = prompts.PromptTemplate.from_template(template1)\n",
				"prompt_template2 = prompts.PromptTemplate.from_template(template2)\n",
				"\n",
				"chain1 = prompt_template1 | model | output_parsers.StrOutputParser()\n",
				"chain2 = prompt_template2 | model | output_parsers.StrOutputParser()\n",
				"\n",
				"chain = runnables.RunnablePassthrough.assign(\n",
				"  text=chain1\n",
				").assign(\n",
				"  text=chain2\n",
				")\n",
				"\n",
				"def process_xlsx_col(text: str) -> str:\n",
				"  result = chain.invoke({\"text\": text})['text']\n",
				"  return result\n",
				"\n",
				"query = '...'\n",
				"result = process_xlsx_col(query)\n",
				"\n",
				"pprint(result)"
			]
		},
		{
			"cell_type": "code",
			"execution_count": null,
			"metadata": {},
			"outputs": [],
			"source": [
				"df = pd.read_excel(path_xlsx)\n",
				"\n",
				"col_to_process = \"...\"\n",
				"\n",
				"df[col_to_process] = df[col_to_process].progress_apply(process_xlsx_col)\n",
				"\n",
				"df.to_excel(f\"{path_xlsx_processed}\", index=False)\n"
			]
		},
		{
			"cell_type": "code",
			"execution_count": null,
			"metadata": {},
			"outputs": [],
			"source": [
				"path_xlsx = path_xlsx_processed"
			]
		},
		{
			"cell_type": "markdown",
			"metadata": {},
			"source": [
				"#### Load"
			]
		},
		{
			"cell_type": "code",
			"execution_count": null,
			"metadata": {},
			"outputs": [],
			"source": [
				"xlsx_cols = ...\n",
				"\n",
				"loader_xlsx = document_loaders.UnstructuredExcelLoader(\n",
				"\tpath_xlsx,\n",
				"\tmode=\"elements\",\n",
				")\n",
				"docs_xlsx = loader_xlsx.load()\n",
				"\n",
				"metadatas = {\n",
				"\t\"data\": \"...\"\n",
				"}\n",
				"\n",
				"utils.remove_metadata(docs_xlsx, \"source\")\n",
				"utils.remove_metadata(docs_xlsx, \"row\")\n",
				"utils.update_metadata(docs_xlsx, metadatas)"
			]
		},
		{
			"cell_type": "markdown",
			"metadata": {},
			"source": [
				"#### Load to sql"
			]
		},
		{
			"cell_type": "code",
			"execution_count": null,
			"metadata": {},
			"outputs": [],
			"source": [
				"# Khối ngành\tChuyên ngành\tChương trình\tLink tham khảo\tHình thức học\tĐộ dài\tThời gian\tChỉ tiêu học viên\tĐối tượng tuyển sinh\tHình thức tuyển sinh\tLịch khai giảng\tGiới thiệu khoá học\tĐầu ra khoá học\tYêu cầu\tHọc phí"
			]
		},
		{
			"cell_type": "code",
			"execution_count": null,
			"metadata": {},
			"outputs": [],
			"source": [
				"my_table_schema = [\n",
				"\t\"id SERIAL\",\n",
				"\t\"category VARCHAR(255) NOT NULL\",\n",
				"\t\"academic_program VARCHAR(255) NOT NULL\",\n",
				"\t\"program_type VARCHAR(255) NOT NULL\",\n",
				"\t\"reference_link VARCHAR(2048) NOT NULL\",\n",
				"\t\"program_format VARCHAR(255) NOT NULL\",\n",
				"\t\"program_duration VARCHAR(255) NOT NULL\",\n",
				"\t\"program_time VARCHAR(128) NOT NULL\",\n",
				"\t\"no_enrollments TEXT\",\n",
				"\t\"admission_targets TEXT\",\n",
				"\t\"admission_form TEXT\",\n",
				"\t\"program_schedule TEXT\",\n",
				"\t\"program_introduction TEXT\",\n",
				"\t\"program_outcomes TEXT\",\n",
				"\t\"requirements TEXT\",\n",
				"\t\"tuition TEXT\",\n",
				"\t\"PRIMARY KEY (id)\",\n",
				"\t\"training_roadmap TEXT\"\n",
				"]\n",
				"\n",
				"my_table = sql.MySQLTable(\n",
				"\tname=\"vtc_course_list\", \n",
				"\tschema=my_table_schema,\n",
				"\tdb=my_sql_db,\n",
				")\n",
				"my_table.create()\n",
				"\n",
				"db = stores.SQLDatabase.from_uri(my_sql_db.get_uri())\n",
				"llm = models.chat_openai\n",
				"\n",
				"embeddings = text_embedding_models.OpenAIEmbeddings()\n",
				"vectorstore = stores.faiss.FAISS\n",
				"\n",
				"table_cols = [col_description.split(\" \")[0] for col_description in my_table_schema][1:-1]\n"
			]
		},
		{
			"cell_type": "code",
			"execution_count": null,
			"metadata": {},
			"outputs": [],
			"source": [
				"df = pd.read_excel(path_xlsx)\n",
				"df.columns = table_cols"
			]
		},
		{
			"cell_type": "code",
			"execution_count": null,
			"metadata": {},
			"outputs": [],
			"source": [
				"# my_table.insert_from_dataframe(df)"
			]
		},
		{
			"cell_type": "code",
			"execution_count": null,
			"metadata": {},
			"outputs": [],
			"source": [
				"cols = [\n",
				"  \"category\", \"academic_program\", \"program_type\", \"program_format\", \n",
				"  \"program_duration\", \"program_time\"\n",
				"]\n",
				"proper_nouns_vtc_course_list = [value for col in cols for value in my_table.get_discrete_values_col(col)]"
			]
		},
		{
			"cell_type": "markdown",
			"metadata": {},
			"source": [
				"### FINAL SQL TABLE"
			]
		},
		{
			"cell_type": "code",
			"execution_count": null,
			"metadata": {},
			"outputs": [],
			"source": [
				"examples_questions_to_sql = []\n",
				"proper_nouns = []\n",
				"\n",
				"proper_nouns.extend(value for value in proper_nouns_onli_course_list)\n",
				"proper_nouns.extend(value for value in proper_nouns_vtc_course_list)"
			]
		},
		{
			"cell_type": "markdown",
			"metadata": {},
			"source": [
				"# Vector store \n",
				"\n",
				"Note:\n",
				"- `tiktoken` >= 0.6.0"
			]
		},
		{
			"cell_type": "markdown",
			"metadata": {},
			"source": [
				"## txt"
			]
		},
		{
			"cell_type": "markdown",
			"metadata": {},
			"source": [
				"### vtc_faq"
			]
		},
		{
			"cell_type": "code",
			"execution_count": 8,
			"metadata": {},
			"outputs": [
				{
					"name": "stderr",
					"output_type": "stream",
					"text": [
						"\u001b[32m2024-08-06 09:03:37.606\u001b[0m | \u001b[1mINFO    \u001b[0m | \u001b[36mtoolkit.langchain.stores\u001b[0m:\u001b[36mcreate_embeddings\u001b[0m:\u001b[36m80\u001b[0m - \u001b[1m[Embeddings] openai. Model: text-embedding-3-large\u001b[0m\n",
						"\u001b[32m2024-08-06 09:03:39.155\u001b[0m | \u001b[1mINFO    \u001b[0m | \u001b[36mtoolkit.langchain.stores\u001b[0m:\u001b[36msetup_collection\u001b[0m:\u001b[36m310\u001b[0m - \u001b[1m[Qdrant] Collection `vtc_faq` created.\u001b[0m\n",
						"\u001b[32m2024-08-06 09:03:39.158\u001b[0m | \u001b[1mINFO    \u001b[0m | \u001b[36mtoolkit.langchain.stores\u001b[0m:\u001b[36mcreate_retriever\u001b[0m:\u001b[36m174\u001b[0m - \u001b[1m[Retrievers] ['base', 'MultiQueryRetriever']\u001b[0m\n"
					]
				}
			],
			"source": [
				"qdrant_txt_vtc_faq = stores.QdrantStore(\n",
				"  embeddings_provider=\"openai\",\n",
				"\tembeddings_model=\"text-embedding-3-large\",\n",
				"\tllm=models.chat_openai,\n",
				"\tsearch_type=\"mmr\",\n",
				"  configs=configs,\n",
				"  distance=\"Cosine\",\n",
				"  **configs[\"vector_db\"][\"qdrant\"][\"vtc_faq\"]\n",
				")"
			]
		},
		{
			"cell_type": "code",
			"execution_count": null,
			"metadata": {},
			"outputs": [],
			"source": [
				"# qdrant_txt_vtc_faq.add_documents(docs_txt_vtc_faq)"
			]
		},
		{
			"cell_type": "markdown",
			"metadata": {},
			"source": [
				"### onli_faq"
			]
		},
		{
			"cell_type": "code",
			"execution_count": null,
			"metadata": {},
			"outputs": [],
			"source": [
				"qdrant_txt_onli_faq = stores.QdrantStore(\n",
				"  embeddings_provider=\"openai\",\n",
				"\tembeddings_model=\"text-embedding-3-large\",\n",
				"\tllm=models.chat_openai,\n",
				"\tsearch_type=\"mmr\",\n",
				"  configs=configs,\n",
				"  distance=\"Cosine\",\n",
				"  **configs[\"vector_db\"][\"qdrant\"][\"onli_faq\"]\n",
				")"
			]
		},
		{
			"cell_type": "code",
			"execution_count": null,
			"metadata": {},
			"outputs": [],
			"source": [
				"# qdrant_txt_onli_faq.add_documents(docs_txt_onli_faq)"
			]
		},
		{
			"cell_type": "markdown",
			"metadata": {},
			"source": [
				"### File 3"
			]
		},
		{
			"cell_type": "code",
			"execution_count": null,
			"metadata": {},
			"outputs": [],
			"source": [
				"# qdrant_txt = stores.QdrantStore(\n",
				"#   qdrant_host=os.getenv(\"QDRANT_HOST\"),\n",
				"#   qdrant_api_key=os.getenv(\"QDRANT_API_KEY\"),\n",
				"#   configs=configs,\n",
				"#   **configs[\"vector_db\"][\"qdrant\"][\"...\"]\n",
				"# )"
			]
		},
		{
			"cell_type": "code",
			"execution_count": null,
			"metadata": {},
			"outputs": [],
			"source": [
				"# qdrant_txt.add_documents(docs_txt)"
			]
		},
		{
			"cell_type": "markdown",
			"metadata": {},
			"source": [
				"# Test"
			]
		},
		{
			"cell_type": "code",
			"execution_count": null,
			"metadata": {},
			"outputs": [],
			"source": [
				"my_chain_rag_vtc_faq = chains.MyRagChain(\n",
				"\tllm=llm,\n",
				"\tretriever=qdrant_txt_vtc_faq.retriever,\n",
				"\tis_debug=False,\n",
				"\tjust_return_ctx=True,\n",
				"\t**configs[\"vector_db\"][\"qdrant\"][\"vtc_faq\"],\n",
				")\n",
				"\n",
				"tool_chain_rag_vtc_faq = my_chain_rag_vtc_faq.create_tool_chain_rag()\n",
				"\n",
				"my_chain_rag_onli_faq = chains.MyRagChain(\n",
				"\tllm=llm,\n",
				"\tretriever=qdrant_txt_onli_faq.retriever,\n",
				"\tis_debug=False,\n",
				"\tjust_return_ctx=True,\n",
				"\t**configs[\"vector_db\"][\"qdrant\"][\"onli_faq\"],\n",
				")\n",
				"\n",
				"tool_chain_rag_onli_faq = my_chain_rag_onli_faq.create_tool_chain_rag()"
			]
		},
		{
			"cell_type": "code",
			"execution_count": null,
			"metadata": {},
			"outputs": [],
			"source": [
				"examples_fewshot_tmp = dict(configs[\"sql\"][\"examples_questions_to_sql\"]).values()\n",
				"examples_questions_to_sql = [example for sublist in examples_fewshot_tmp for example in sublist]\n",
				"\n",
				"proper_nouns = configs[\"sql\"][\"proper_nouns\"]\n",
				"\n",
				"# my_sql_db = sql.MySQLDatabase()\n",
				"my_sql_db = sql.MySQLDatabase(\n",
				"\tdbname=os.getenv(\"SQL_DB_NEON\"),\n",
				"\thost=os.getenv(\"SQL_HOST_NEON\"),\n",
				"\tport=os.getenv(\"SQL_PORT_NEON\"),\n",
				"\tuser=os.getenv(\"SQL_USER_NEON\"),\n",
				"\tpassword=os.getenv(\"SQL_PASSWORD_NEON\"),\n",
				")\n",
				"\n",
				"cfg_sql = configs[\"sql\"]\n",
				"cfg_sql_tool = cfg_sql[\"tool\"]\n",
				"\n",
				"my_sql_chain = chains.MySqlChain(\n",
				"\tmy_sql_db=my_sql_db,\n",
				"\tllm=llm,\n",
				"\tembeddings=embeddings,\n",
				"\tvectorstore=vectorstore,\n",
				"\tproper_nouns=proper_nouns,\n",
				"\tk_retriever_proper_nouns=4,\n",
				"\texamples_questions_to_sql=examples_questions_to_sql,\n",
				"\tk_few_shot_examples=5,\n",
				"\tsql_max_out_length=2000,\n",
				"\tis_sql_get_all=True,\n",
				"\tis_debug=False,\n",
				"\ttool_name=cfg_sql_tool[\"name\"],\n",
				"\ttool_description=cfg_sql_tool[\"description\"],\n",
				"\ttool_metadata=cfg_sql_tool[\"metadata\"],\n",
				"\ttool_tags=cfg_sql_tool[\"tags\"],\n",
				")\n",
				"\n",
				"tool_chain_sql = my_sql_chain.create_tool_chain_sql()"
			]
		},
		{
			"cell_type": "code",
			"execution_count": null,
			"metadata": {},
			"outputs": [],
			"source": [
				"llm = models.chat_openai\n",
				"\n",
				"tools = [\n",
				"\ttool_chain_rag_vtc_faq,\n",
				"\ttool_chain_rag_onli_faq,\n",
				"\ttool_chain_sql,\n",
				"]\n",
				"\n",
				"system_message_custom = configs[\"prompts\"][\"system_message_vtc\"]\n",
				"prompt = prompts.create_prompt_tool_calling_agent(system_message_custom)\n",
				"\n",
				"agent = agents.MyStatelessAgent(\n",
				"\tllm=llm,\n",
				"\ttools=tools,\n",
				"\tprompt=prompt,\n",
				"\tagent_type=\"tool_calling\",\n",
				"\tagent_verbose=False,\n",
				")"
			]
		},
		{
			"cell_type": "code",
			"execution_count": null,
			"metadata": {},
			"outputs": [],
			"source": [
				"questions = [\n",
				"]"
			]
		},
		{
			"cell_type": "code",
			"execution_count": null,
			"metadata": {},
			"outputs": [],
			"source": [
				"res = []\n",
				"async for chunk in agent.astream_events_basic(\n",
				"\t# \"Xin chào\",\n",
				"\t# \"VTCA có hỗ trợ tìm kiếm việc làm không\",\n",
				"\t\"Các giảng viên dạy về lập trình ở Onlninica\",\n",
				"  show_tool_call=True,\n",
				"  history_type=\"mongodb\",\n",
				"  user_id=\"test\",\n",
				"\tsession_id=\"test\",\n",
				"):\n",
				"\tprint(chunk, end=\"\", flush=True)\n",
				"\n",
				"\tres.append(chunk)"
			]
		},
		{
			"cell_type": "code",
			"execution_count": null,
			"metadata": {},
			"outputs": [],
			"source": [
				"# result = my_sql_chain.chain_sql.invoke({\n",
				"# \t\"question\": \n",
				"#    \t\"Các chương trình học tiêu chuẩn tại VTCA\",\n",
				"# })\n",
				"\n",
				"# result"
			]
		},
		{
			"cell_type": "markdown",
			"metadata": {},
			"source": [
				"# Todos\n",
				"\n",
				"- [ ] Deep dive into chain"
			]
		}
	],
	"metadata": {
		"kernelspec": {
			"display_name": "LLM",
			"language": "python",
			"name": "python3"
		},
		"language_info": {
			"codemirror_mode": {
				"name": "ipython",
				"version": 3
			},
			"file_extension": ".py",
			"mimetype": "text/x-python",
			"name": "python",
			"nbconvert_exporter": "python",
			"pygments_lexer": "ipython3",
			"version": "3.11.9"
		}
	},
	"nbformat": 4,
	"nbformat_minor": 2
}
