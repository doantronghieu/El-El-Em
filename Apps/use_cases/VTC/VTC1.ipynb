{
	"cells": [
		{
			"cell_type": "code",
			"execution_count": 1,
			"metadata": {
				"notebookRunGroups": {
					"groupValue": "1"
				}
			},
			"outputs": [
				{
					"name": "stderr",
					"output_type": "stream",
					"text": [
						"/opt/homebrew/Caskroom/miniconda/base/envs/llm/lib/python3.11/site-packages/tqdm/auto.py:21: TqdmWarning: IProgress not found. Please update jupyter and ipywidgets. See https://ipywidgets.readthedocs.io/en/stable/user_install.html\n",
						"  from .autonotebook import tqdm as notebook_tqdm\n"
					]
				}
			],
			"source": [
				"import yaml\n",
				"import add_packages\n",
				"from pprint import pprint\n",
				"import os\n",
				"import pandas as pd\n",
				"from tqdm.auto import tqdm\n",
				"\n",
				"from toolkit.langchain import (\n",
				"\tdocument_loaders, text_splitters, text_embedding_models, stores, \n",
				"\tprompts, utils, output_parsers, agents, documents, models,\n",
				"\trunnables, tools, chains, stores1\n",
				")\n",
				"\n",
				"from toolkit import sql\n",
				"\n",
				"PATH_DATA = f\"{add_packages.APP_PATH}/data/vtc\"\n",
				"FILE_CFG = \"vtc1.yaml\"\n",
				"tqdm.pandas(desc=\"Processing\")\n",
				"\n",
				"with open(f\"{add_packages.APP_PATH}/my_configs/{FILE_CFG}\", 'r') as file:\n",
				"    configs = yaml.safe_load(file)"
			]
		},
		{
			"cell_type": "code",
			"execution_count": 2,
			"metadata": {},
			"outputs": [],
			"source": [
				"llm = models.chat_openai\n",
				"embeddings = text_embedding_models.OpenAIEmbeddings()\n",
				"vectorstore = stores.faiss.FAISS"
			]
		},
		{
			"cell_type": "code",
			"execution_count": null,
			"metadata": {},
			"outputs": [],
			"source": [
				"# my_sql_db = sql.MySQLDatabase()\n",
				"my_sql_db = sql.MySQLDatabase(\n",
				"\tdbname=os.getenv(\"SQL_DB_NEON\"),\n",
				"\thost=os.getenv(\"SQL_HOST_NEON\"),\n",
				"\tport=os.getenv(\"SQL_PORT_NEON\"),\n",
				"\tuser=os.getenv(\"SQL_USER_NEON\"),\n",
				"\tpassword=os.getenv(\"SQL_PASSWORD_NEON\"),\n",
				")"
			]
		},
		{
			"cell_type": "markdown",
			"metadata": {},
			"source": [
				"# Data"
			]
		},
		{
			"cell_type": "markdown",
			"metadata": {},
			"source": [
				"## txt - FAQ"
			]
		},
		{
			"cell_type": "markdown",
			"metadata": {},
			"source": [
				"### vtc_faq"
			]
		},
		{
			"cell_type": "code",
			"execution_count": null,
			"metadata": {},
			"outputs": [],
			"source": [
				"path_txt = f\"{PATH_DATA}/vtc_faq.txt\""
			]
		},
		{
			"cell_type": "code",
			"execution_count": null,
			"metadata": {},
			"outputs": [],
			"source": [
				"loader_txt = document_loaders.TextLoader(path_txt)\n",
				"doc_txt = loader_txt.load()\n",
				"\n",
				"text_splitter = text_splitters.RecursiveCharacterTextSplitter(\n",
				"\t# chunk_size=500, chunk_overlap=100,\n",
				"\tseparators=[\"##\"], chunk_size=150, chunk_overlap=0,\n",
				")\n",
				"docs_txt = text_splitter.split_documents(doc_txt)\n",
				"docs_txt = docs_txt[1:]\n",
				"\n",
				"metadatas = {\n",
				"\t\"data\": \"frequently asked questions\"\n",
				"}\n",
				"utils.remove_metadata(docs_txt, \"source\")\n",
				"utils.update_metadata(docs_txt, metadatas)"
			]
		},
		{
			"cell_type": "code",
			"execution_count": null,
			"metadata": {},
			"outputs": [],
			"source": [
				"docs_txt_vtc_faq = docs_txt"
			]
		},
		{
			"cell_type": "markdown",
			"metadata": {},
			"source": [
				"### onli_faq"
			]
		},
		{
			"cell_type": "code",
			"execution_count": null,
			"metadata": {},
			"outputs": [],
			"source": [
				"path_txt = f\"{PATH_DATA}/onli_faq.txt\""
			]
		},
		{
			"cell_type": "code",
			"execution_count": null,
			"metadata": {},
			"outputs": [],
			"source": [
				"loader_txt = document_loaders.TextLoader(path_txt)\n",
				"doc_txt = loader_txt.load()\n",
				"\n",
				"text_splitter = text_splitters.RecursiveCharacterTextSplitter(\n",
				"\t# chunk_size=500, chunk_overlap=100,\n",
				"\tseparators=[\"##\"], chunk_size=150, chunk_overlap=0,\n",
				")\n",
				"docs_txt = text_splitter.split_documents(doc_txt)\n",
				"docs_txt = docs_txt[1:]\n",
				"\n",
				"metadatas = {\n",
				"\t\"data\": \"frequently asked questions\"\n",
				"}\n",
				"utils.remove_metadata(docs_txt, \"source\")\n",
				"utils.update_metadata(docs_txt, metadatas)"
			]
		},
		{
			"cell_type": "code",
			"execution_count": null,
			"metadata": {},
			"outputs": [],
			"source": [
				"docs_txt_onli_faq = docs_txt"
			]
		},
		{
			"cell_type": "markdown",
			"metadata": {},
			"source": [
				"### File 3"
			]
		},
		{
			"cell_type": "code",
			"execution_count": null,
			"metadata": {},
			"outputs": [],
			"source": [
				"path_txt = f\"{PATH_DATA}/faq.txt\""
			]
		},
		{
			"cell_type": "code",
			"execution_count": null,
			"metadata": {},
			"outputs": [],
			"source": [
				"loader_txt = document_loaders.TextLoader(path_txt)\n",
				"doc_txt = loader_txt.load()\n",
				"\n",
				"text_splitter = text_splitters.RecursiveCharacterTextSplitter(\n",
				"\t# chunk_size=500, chunk_overlap=100,\n",
				"\tseparators=[\"##\"], chunk_size=150, chunk_overlap=0,\n",
				")\n",
				"docs_txt = text_splitter.split_documents(doc_txt)\n",
				"docs_txt = docs_txt[1:]\n",
				"\n",
				"metadatas = {\n",
				"\t\"data\": \"frequently asked questions\"\n",
				"}\n",
				"utils.remove_metadata(docs_txt, \"source\")\n",
				"utils.update_metadata(docs_txt, metadatas)"
			]
		},
		{
			"cell_type": "markdown",
			"metadata": {},
			"source": [
				"## table"
			]
		},
		{
			"cell_type": "markdown",
			"metadata": {},
			"source": [
				"### onli_course_list"
			]
		},
		{
			"cell_type": "code",
			"execution_count": null,
			"metadata": {},
			"outputs": [],
			"source": [
				"file_csv = \"onli_course_list.xlsx\"\n",
				"path_csv = f\"{PATH_DATA}/{file_csv}\"\n",
				"path_csv_processed = f\"{PATH_DATA}/{file_csv.split('.')[0]}2.xlsx\""
			]
		},
		{
			"cell_type": "code",
			"execution_count": null,
			"metadata": {},
			"outputs": [],
			"source": [
				"df = pd.read_excel(\n",
				"\tpath_csv, \n",
				" \t# delimiter=\",\" # \",\" \";\"\n",
				")\n",
				"\n",
				"df.head()"
			]
		},
		{
			"cell_type": "markdown",
			"metadata": {},
			"source": [
				"#### Process"
			]
		},
		{
			"cell_type": "code",
			"execution_count": null,
			"metadata": {},
			"outputs": [],
			"source": [
				"model = models.chat_openai\n",
				"\n",
				"template1 = \"\"\"\\\n",
				"Here is a description of a learning course:\n",
				"\n",
				"<course_description>\n",
				"{{COURSE_DESCRIPTION}}\n",
				"</course_description>\n",
				"\n",
				"Please read the course description carefully. Your task is to identify and extract ONLY the core learning objectives and outcomes that a student should expect from taking this course. Ignore any extraneous information beyond the key things the student will learn and take away.\n",
				"\n",
				"Summarize the core information you have extracted in a single short paragraph. \n",
				"\n",
				"Provide your output in Vietnamese.\n",
				"\n",
				"Again, please ONLY include information directly related to the main things the student will learn and take away from this course based on the description. Do not include any other details. Focus exclusively on the core learning objectives and outcomes and nothing else.\n",
				"{text}\"\"\"\n",
				"\n",
				"template2 = \"\"\"\\\n",
				"...\n",
				"{text}\n",
				"\"\"\"\n",
				"\n",
				"prompt_template1 = prompts.PromptTemplate.from_template(template1)\n",
				"prompt_template2 = prompts.PromptTemplate.from_template(template2)\n",
				"\n",
				"chain1 = prompt_template1 | model | output_parsers.StrOutputParser()\n",
				"chain2 = prompt_template2 | model | output_parsers.StrOutputParser()\n",
				"\n",
				"# chain = runnables.RunnablePassthrough.assign(\n",
				"#   text=chain1\n",
				"# ).assign(\n",
				"#   text=chain2\n",
				"# )\n",
				"\n",
				"chain = runnables.RunnablePassthrough.assign(\n",
				"  text=chain1\n",
				")\n",
				"\n",
				"def process_csv_col(text: str) -> str:\n",
				"  result = chain.invoke({\"text\": text})['text']\n",
				"  return result\n",
				"\n",
				"def capitalize_first_letter(s):\n",
				"\treturn ' '.join([word.capitalize() for word in s.split()])\n",
				"\n",
				"def change_col_value(df: pd.DataFrame, column_name: str, value, new_value):\n",
				"\tdf[column_name] = df[column_name].replace(value, new_value)\n",
				"\treturn df\n",
				"\n",
				"def replace_col_value_if_contains(df, column_name, substring, new_substring):\n",
				"\tdf[column_name] = df[column_name].str.replace(substring, new_substring)\n",
				"\treturn df\n",
				"\n",
				"# query = '...'\n",
				"# result = process_csv_col(query)\n",
				"# pprint(result)"
			]
		},
		{
			"cell_type": "code",
			"execution_count": null,
			"metadata": {},
			"outputs": [],
			"source": [
				"col_to_process = \"course_description\"\n",
				"\n",
				"df[col_to_process] = df[col_to_process].progress_apply(process_csv_col)\n",
				"\n",
				"# df.to_excel(f\"{path_csv_processed}\", index=False)\n"
			]
		},
		{
			"cell_type": "code",
			"execution_count": null,
			"metadata": {},
			"outputs": [],
			"source": [
				"df.to_excel(f\"{path_csv_processed}\", index=False)\n"
			]
		},
		{
			"cell_type": "code",
			"execution_count": null,
			"metadata": {},
			"outputs": [],
			"source": [
				"path_csv = path_csv_processed"
			]
		},
		{
			"cell_type": "markdown",
			"metadata": {},
			"source": [
				"#### Load"
			]
		},
		{
			"cell_type": "code",
			"execution_count": null,
			"metadata": {},
			"outputs": [],
			"source": [
				"path_csv"
			]
		},
		{
			"cell_type": "code",
			"execution_count": null,
			"metadata": {},
			"outputs": [],
			"source": [
				"csv_cols = list(df.columns)\n",
				"\n",
				"loader_csv = document_loaders.UnstructuredExcelLoader(\n",
				"\tpath_csv,\n",
				"\tmode=\"elements\"\n",
				")\n",
				"docs_csv = loader_csv.load_and_split()"
			]
		},
		{
			"cell_type": "code",
			"execution_count": null,
			"metadata": {},
			"outputs": [],
			"source": [
				"docs_csv = loader_csv.load()[1:]\n",
				"\n",
				"metadatas = {\n",
				"\t\"data\": \"...\"\n",
				"}\n",
				"\n",
				"utils.remove_metadata(docs_csv, \"source\")\n",
				"utils.remove_metadata(docs_csv, \"row\")\n",
				"utils.update_metadata(docs_csv, metadatas)"
			]
		},
		{
			"cell_type": "markdown",
			"metadata": {},
			"source": [
				"#### Load to sql"
			]
		},
		{
			"cell_type": "code",
			"execution_count": null,
			"metadata": {},
			"outputs": [],
			"source": [
				"my_table_schema = [\n",
				"\t\"course_id SERIAL\",\n",
				"\t\"course_name VARCHAR(255) NOT NULL UNIQUE\",\n",
				"\t\"course_category VARCHAR(255) NOT NULL\",\n",
				"\t\"instructor_name VARCHAR(100) NOT NULL\",\n",
				"\t\"course_link VARCHAR(2048) NOT NULL UNIQUE\",\n",
				"\t\"course_description TEXT NOT NULL\",\n",
				"\t\"PRIMARY KEY (course_id)\",\n",
				"]\n",
				"my_table = sql.MySQLTable(\n",
				"\tname=\"onli_course_list\", \n",
				"\tschema=my_table_schema,\n",
				"\tdb=my_sql_db,\n",
				")\n",
				"my_table.create()\n",
				"\n",
				"db = stores.SQLDatabase.from_uri(my_sql_db.get_uri())\n",
				"llm = models.chat_openai\n",
				"\n",
				"embeddings = text_embedding_models.OpenAIEmbeddings()\n",
				"vectorstore = stores.faiss.FAISS\n",
				"\n",
				"table_cols = [col_description.split(\" \")[0] for col_description in my_table_schema][1:-1]\n"
			]
		},
		{
			"cell_type": "code",
			"execution_count": null,
			"metadata": {},
			"outputs": [],
			"source": [
				"df = pd.read_excel(path_csv)\n",
				"df.columns = table_cols\n",
				"\n",
				"# my_table.insert_from_dataframe(df)"
			]
		},
		{
			"cell_type": "code",
			"execution_count": null,
			"metadata": {},
			"outputs": [],
			"source": [
				"my_table.insert_from_dataframe(df)\n"
			]
		},
		{
			"cell_type": "code",
			"execution_count": null,
			"metadata": {},
			"outputs": [],
			"source": [
				"cols = [\"course_name\", \"course_category\", \"instructor_name\"]\n",
				"proper_nouns_onli_course_list = [value for col in cols for value in my_table.get_discrete_values_col(col)]"
			]
		},
		{
			"cell_type": "code",
			"execution_count": null,
			"metadata": {},
			"outputs": [],
			"source": [
				"questions = [\n",
				"  \"Which courses are available in the Design category?\",\n",
				"\t\"Who are the instructors for the Personal Development courses?\",\n",
				"\t\"Can you provide a summary of the course descriptions for the Digital Marketing category?\",\n",
				"\t\"Which courses have the longest descriptions?\",\n",
				"\t\"How many courses are offered by each instructor?\",\n",
				"\t\"Which course categories have the most number of courses?\",\n",
				"\t\"Can you tell me about the course 'Kỹ năng quản lý thời gian'?\",\n",
				"\t\"Which courses have the shortest descriptions?\",\n",
				"\t\"Which instructors have the most number of courses?\",\n",
				"\t\"Can you list all the courses that are related to Personal Development?\"\n",
				"]\n",
				"\n",
				"examples_questions_to_sql_onli_course_list = [\n",
				"    {\n",
				"        \"input\": \"Which courses are available in the Design category?\",\n",
				"        \"query\": \"SELECT course_name FROM courses WHERE course_category = 'Design';\"\n",
				"    },\n",
				"    {\n",
				"        \"input\": \"Who are the instructors for the Personal Development courses?\",\n",
				"        \"query\": \"SELECT DISTINCT instructor_name FROM courses WHERE course_category = 'Personal Development';\"\n",
				"    },\n",
				"    {\n",
				"        \"input\": \"Can you provide a summary of the course descriptions for the Digital Marketing category?\",\n",
				"        \"query\": \"SELECT course_name, SUBSTRING(course_description, 1, 100) AS summary FROM courses WHERE course_category = 'Digital Marketing';\"\n",
				"    },\n",
				"    {\n",
				"        \"input\": \"Which courses have the longest descriptions?\",\n",
				"        \"query\": \"SELECT course_name, LENGTH(course_description) AS description_length FROM courses ORDER BY description_length DESC LIMIT 5;\"\n",
				"    },\n",
				"    {\n",
				"        \"input\": \"How many courses are offered by each instructor?\",\n",
				"        \"query\": \"SELECT instructor_name, COUNT(course_id) AS num_courses FROM courses GROUP BY instructor_name;\"\n",
				"    },\n",
				"    {\n",
				"        \"input\": \"Which course categories have the most number of courses?\",\n",
				"        \"query\": \"SELECT course_category, COUNT(course_id) AS num_courses FROM courses GROUP BY course_category ORDER BY num_courses DESC LIMIT 5;\"\n",
				"    },\n",
				"    {\n",
				"        \"input\": \"Can you tell me about the course 'Kỹ năng quản lý thời gian'?\",\n",
				"        \"query\": \"SELECT * FROM courses WHERE course_name = 'Kỹ năng quản lý thời gian';\"\n",
				"    },\n",
				"    {\n",
				"        \"input\": \"Which courses have the shortest descriptions?\",\n",
				"        \"query\": \"SELECT course_name, LENGTH(course_description) AS description_length FROM courses ORDER BY description_length ASC LIMIT 5;\"\n",
				"    },\n",
				"    {\n",
				"        \"input\": \"Which instructors have the most number of courses?\",\n",
				"        \"query\": \"SELECT instructor_name, COUNT(course_id) AS num_courses FROM courses GROUP BY instructor_name ORDER BY num_courses DESC LIMIT 5;\"\n",
				"    },\n",
				"    {\n",
				"        \"input\": \"Can you list all the courses that are related to Personal Development?\",\n",
				"        \"query\": \"SELECT course_name FROM courses WHERE course_category = 'Personal Development';\"\n",
				"    }\n",
				"]"
			]
		},
		{
			"cell_type": "markdown",
			"metadata": {},
			"source": [
				"### File vtc_course_list"
			]
		},
		{
			"cell_type": "code",
			"execution_count": null,
			"metadata": {},
			"outputs": [],
			"source": [
				"file_xlsx = \"vtc_course_list.xlsx\"\n",
				"path_xlsx = f\"{PATH_DATA}/{file_xlsx}\"\n",
				"path_xlsx_processed = f\"{PATH_DATA}/{file_xlsx.split('.')[0]}-prod.xlsx\""
			]
		},
		{
			"cell_type": "code",
			"execution_count": null,
			"metadata": {},
			"outputs": [],
			"source": [
				"df = pd.read_excel(\n",
				"\tpath_xlsx, \n",
				" \t# delimiter=\";\"\n",
				")\n",
				"\n",
				"df.head()"
			]
		},
		{
			"cell_type": "markdown",
			"metadata": {},
			"source": [
				"#### Process"
			]
		},
		{
			"cell_type": "code",
			"execution_count": null,
			"metadata": {},
			"outputs": [],
			"source": [
				"model = models.chat_openai\n",
				"\n",
				"template1 = \"\"\"\\\n",
				"...\n",
				"{text}\"\"\"\n",
				"\n",
				"template2 = \"\"\"\\\n",
				"...\n",
				"{text}\n",
				"\"\"\"\n",
				"\n",
				"prompt_template1 = prompts.PromptTemplate.from_template(template1)\n",
				"prompt_template2 = prompts.PromptTemplate.from_template(template2)\n",
				"\n",
				"chain1 = prompt_template1 | model | output_parsers.StrOutputParser()\n",
				"chain2 = prompt_template2 | model | output_parsers.StrOutputParser()\n",
				"\n",
				"chain = runnables.RunnablePassthrough.assign(\n",
				"  text=chain1\n",
				").assign(\n",
				"  text=chain2\n",
				")\n",
				"\n",
				"def process_xlsx_col(text: str) -> str:\n",
				"  result = chain.invoke({\"text\": text})['text']\n",
				"  return result\n",
				"\n",
				"query = '...'\n",
				"result = process_xlsx_col(query)\n",
				"\n",
				"pprint(result)"
			]
		},
		{
			"cell_type": "code",
			"execution_count": null,
			"metadata": {},
			"outputs": [],
			"source": [
				"df = pd.read_excel(path_xlsx)\n",
				"\n",
				"col_to_process = \"...\"\n",
				"\n",
				"df[col_to_process] = df[col_to_process].progress_apply(process_xlsx_col)\n",
				"\n",
				"df.to_excel(f\"{path_xlsx_processed}\", index=False)\n"
			]
		},
		{
			"cell_type": "code",
			"execution_count": null,
			"metadata": {},
			"outputs": [],
			"source": [
				"path_xlsx = path_xlsx_processed"
			]
		},
		{
			"cell_type": "markdown",
			"metadata": {},
			"source": [
				"#### Load"
			]
		},
		{
			"cell_type": "code",
			"execution_count": null,
			"metadata": {},
			"outputs": [],
			"source": [
				"xlsx_cols = ...\n",
				"\n",
				"loader_xlsx = document_loaders.UnstructuredExcelLoader(\n",
				"\tpath_xlsx,\n",
				"\tmode=\"elements\",\n",
				")\n",
				"docs_xlsx = loader_xlsx.load()\n",
				"\n",
				"metadatas = {\n",
				"\t\"data\": \"...\"\n",
				"}\n",
				"\n",
				"utils.remove_metadata(docs_xlsx, \"source\")\n",
				"utils.remove_metadata(docs_xlsx, \"row\")\n",
				"utils.update_metadata(docs_xlsx, metadatas)"
			]
		},
		{
			"cell_type": "markdown",
			"metadata": {},
			"source": [
				"#### Load to sql"
			]
		},
		{
			"cell_type": "code",
			"execution_count": null,
			"metadata": {},
			"outputs": [],
			"source": [
				"# Khối ngành\tChuyên ngành\tChương trình\tLink tham khảo\tHình thức học\tĐộ dài\tThời gian\tChỉ tiêu học viên\tĐối tượng tuyển sinh\tHình thức tuyển sinh\tLịch khai giảng\tGiới thiệu khoá học\tĐầu ra khoá học\tYêu cầu\tHọc phí"
			]
		},
		{
			"cell_type": "code",
			"execution_count": null,
			"metadata": {},
			"outputs": [],
			"source": [
				"my_table_schema = [\n",
				"\t\"id SERIAL\",\n",
				"\t\"category VARCHAR(255) NOT NULL\",\n",
				"\t\"academic_program VARCHAR(255) NOT NULL\",\n",
				"\t\"program_type VARCHAR(255) NOT NULL\",\n",
				"\t\"reference_link VARCHAR(2048) NOT NULL\",\n",
				"\t\"program_format VARCHAR(255) NOT NULL\",\n",
				"\t\"program_duration VARCHAR(255) NOT NULL\",\n",
				"\t\"program_time VARCHAR(128) NOT NULL\",\n",
				"\t\"no_enrollments TEXT\",\n",
				"\t\"admission_targets TEXT\",\n",
				"\t\"admission_form TEXT\",\n",
				"\t\"program_schedule TEXT\",\n",
				"\t\"program_introduction TEXT\",\n",
				"\t\"program_outcomes TEXT\",\n",
				"\t\"requirements TEXT\",\n",
				"\t\"tuition TEXT\",\n",
				"\t\"PRIMARY KEY (id)\",\n",
				"\t\"training_roadmap TEXT\"\n",
				"]\n",
				"\n",
				"my_table = sql.MySQLTable(\n",
				"\tname=\"vtc_course_list\", \n",
				"\tschema=my_table_schema,\n",
				"\tdb=my_sql_db,\n",
				")\n",
				"my_table.create()\n",
				"\n",
				"db = stores.SQLDatabase.from_uri(my_sql_db.get_uri())\n",
				"llm = models.chat_openai\n",
				"\n",
				"embeddings = text_embedding_models.OpenAIEmbeddings()\n",
				"vectorstore = stores.faiss.FAISS\n",
				"\n",
				"table_cols = [col_description.split(\" \")[0] for col_description in my_table_schema][1:-1]\n"
			]
		},
		{
			"cell_type": "code",
			"execution_count": null,
			"metadata": {},
			"outputs": [],
			"source": [
				"df = pd.read_excel(path_xlsx)\n",
				"df.columns = table_cols"
			]
		},
		{
			"cell_type": "code",
			"execution_count": null,
			"metadata": {},
			"outputs": [],
			"source": [
				"# my_table.insert_from_dataframe(df)"
			]
		},
		{
			"cell_type": "code",
			"execution_count": null,
			"metadata": {},
			"outputs": [],
			"source": [
				"cols = [\n",
				"  \"category\", \"academic_program\", \"program_type\", \"program_format\", \n",
				"  \"program_duration\", \"program_time\"\n",
				"]\n",
				"proper_nouns_vtc_course_list = [value for col in cols for value in my_table.get_discrete_values_col(col)]"
			]
		},
		{
			"cell_type": "markdown",
			"metadata": {},
			"source": [
				"### FINAL SQL TABLE"
			]
		},
		{
			"cell_type": "code",
			"execution_count": null,
			"metadata": {},
			"outputs": [],
			"source": [
				"examples_questions_to_sql = []\n",
				"proper_nouns = []\n",
				"\n",
				"proper_nouns.extend(value for value in proper_nouns_onli_course_list)\n",
				"proper_nouns.extend(value for value in proper_nouns_vtc_course_list)"
			]
		},
		{
			"cell_type": "markdown",
			"metadata": {},
			"source": []
		},
		{
			"cell_type": "markdown",
			"metadata": {},
			"source": [
				"# Vector store \n",
				"\n",
				"Note:\n",
				"- `tiktoken` >= 0.6.0"
			]
		},
		{
			"cell_type": "markdown",
			"metadata": {},
			"source": [
				"## txt"
			]
		},
		{
			"cell_type": "markdown",
			"metadata": {},
			"source": [
				"### vtc_faq"
			]
		},
		{
			"cell_type": "code",
			"execution_count": null,
			"metadata": {},
			"outputs": [],
			"source": [
				"# qdrant_txt_vtc_faq = stores.QdrantWrapper(\n",
				"#   qdrant_host=os.getenv(\"QDRANT_HOST\"),\n",
				"#   qdrant_api_key=os.getenv(\"QDRANT_API_KEY\"),\n",
				"#   configs=configs,\n",
				"#   **configs[\"vector_db\"][\"qdrant\"][\"vtc_faq\"]\n",
				"# )"
			]
		},
		{
			"cell_type": "code",
			"execution_count": 3,
			"metadata": {},
			"outputs": [
				{
					"name": "stderr",
					"output_type": "stream",
					"text": [
						"\u001b[32m2024-07-10 15:41:52.788\u001b[0m | \u001b[1mINFO    \u001b[0m | \u001b[36mtoolkit.langchain.stores1\u001b[0m:\u001b[36mcreate_embeddings\u001b[0m:\u001b[36m80\u001b[0m - \u001b[1m[Embeddings] openai. Model: text-embedding-3-large\u001b[0m\n",
						"\u001b[32m2024-07-10 15:41:53.811\u001b[0m | \u001b[1mINFO    \u001b[0m | \u001b[36mtoolkit.langchain.stores1\u001b[0m:\u001b[36msetup_collection\u001b[0m:\u001b[36m301\u001b[0m - \u001b[1m[Qdrant] Collection `vtc_faq` found.\u001b[0m\n",
						"\u001b[32m2024-07-10 15:41:53.812\u001b[0m | \u001b[1mINFO    \u001b[0m | \u001b[36mtoolkit.langchain.stores1\u001b[0m:\u001b[36mcreate_retriever\u001b[0m:\u001b[36m174\u001b[0m - \u001b[1m[Retrievers] ['base', 'MultiQueryRetriever']\u001b[0m\n"
					]
				}
			],
			"source": [
				"qdrant_txt_vtc_faq = stores1.QdrantWrapper(\n",
				"  embeddings_provider=\"openai\",\n",
				"\tembeddings_model=\"text-embedding-3-large\",\n",
				"\tllm=models.chat_openai,\n",
				"\tsearch_type=\"mmr\",\n",
				"  configs=configs,\n",
				"  distance=\"Cosine\",\n",
				"  **configs[\"vector_db\"][\"qdrant\"][\"vtc_faq\"]\n",
				")"
			]
		},
		{
			"cell_type": "code",
			"execution_count": null,
			"metadata": {},
			"outputs": [],
			"source": [
				"# qdrant_txt_vtc_faq.add_documents(docs_txt_vtc_faq)"
			]
		},
		{
			"cell_type": "markdown",
			"metadata": {},
			"source": [
				"### onli_faq"
			]
		},
		{
			"cell_type": "code",
			"execution_count": null,
			"metadata": {},
			"outputs": [],
			"source": [
				"# qdrant_txt_onli_faq = stores.QdrantWrapper(\n",
				"#   qdrant_host=os.getenv(\"QDRANT_HOST\"),\n",
				"#   qdrant_api_key=os.getenv(\"QDRANT_API_KEY\"),\n",
				"#   configs=configs,\n",
				"#   **configs[\"vector_db\"][\"qdrant\"][\"onli_faq\"]\n",
				"# )"
			]
		},
		{
			"cell_type": "code",
			"execution_count": 26,
			"metadata": {},
			"outputs": [
				{
					"name": "stderr",
					"output_type": "stream",
					"text": [
						"\u001b[32m2024-07-10 16:00:45.816\u001b[0m | \u001b[1mINFO    \u001b[0m | \u001b[36mtoolkit.langchain.stores1\u001b[0m:\u001b[36mcreate_embeddings\u001b[0m:\u001b[36m80\u001b[0m - \u001b[1m[Embeddings] openai. Model: text-embedding-3-large\u001b[0m\n",
						"\u001b[32m2024-07-10 16:00:46.818\u001b[0m | \u001b[1mINFO    \u001b[0m | \u001b[36mtoolkit.langchain.stores1\u001b[0m:\u001b[36msetup_collection\u001b[0m:\u001b[36m301\u001b[0m - \u001b[1m[Qdrant] Collection `onli_faq` found.\u001b[0m\n",
						"\u001b[32m2024-07-10 16:00:46.820\u001b[0m | \u001b[1mINFO    \u001b[0m | \u001b[36mtoolkit.langchain.stores1\u001b[0m:\u001b[36mcreate_retriever\u001b[0m:\u001b[36m174\u001b[0m - \u001b[1m[Retrievers] ['base', 'MultiQueryRetriever']\u001b[0m\n"
					]
				}
			],
			"source": [
				"qdrant_txt_onli_faq = stores1.QdrantWrapper(\n",
				"  embeddings_provider=\"openai\",\n",
				"\tembeddings_model=\"text-embedding-3-large\",\n",
				"\tllm=models.chat_openai,\n",
				"\tsearch_type=\"mmr\",\n",
				"  configs=configs,\n",
				"  distance=\"Cosine\",\n",
				"  **configs[\"vector_db\"][\"qdrant\"][\"onli_faq\"]\n",
				")"
			]
		},
		{
			"cell_type": "code",
			"execution_count": null,
			"metadata": {},
			"outputs": [],
			"source": [
				"# qdrant_txt_onli_faq.add_documents(docs_txt_onli_faq)"
			]
		},
		{
			"cell_type": "code",
			"execution_count": null,
			"metadata": {},
			"outputs": [],
			"source": []
		},
		{
			"cell_type": "markdown",
			"metadata": {},
			"source": [
				"### File 3"
			]
		},
		{
			"cell_type": "code",
			"execution_count": null,
			"metadata": {},
			"outputs": [],
			"source": [
				"# qdrant_txt = stores.QdrantWrapper(\n",
				"#   qdrant_host=os.getenv(\"QDRANT_HOST\"),\n",
				"#   qdrant_api_key=os.getenv(\"QDRANT_API_KEY\"),\n",
				"#   configs=configs,\n",
				"#   **configs[\"vector_db\"][\"qdrant\"][\"...\"]\n",
				"# )"
			]
		},
		{
			"cell_type": "code",
			"execution_count": null,
			"metadata": {},
			"outputs": [],
			"source": [
				"# qdrant_txt.add_documents(docs_txt)"
			]
		},
		{
			"cell_type": "markdown",
			"metadata": {},
			"source": [
				"# Test"
			]
		},
		{
			"cell_type": "code",
			"execution_count": null,
			"metadata": {},
			"outputs": [],
			"source": [
				"# qdrant_lectures_content = stores.QdrantWrapper(\n",
				"#   qdrant_host=os.getenv(\"QDRANT_HOST\"),\n",
				"#   qdrant_api_key=os.getenv(\"QDRANT_API_KEY\"),\n",
				"#   configs=configs,\n",
				"#   **configs[\"vector_db\"][\"qdrant\"][\"lectures_content\"],\n",
				"# )"
			]
		},
		{
			"cell_type": "code",
			"execution_count": 4,
			"metadata": {},
			"outputs": [],
			"source": [
				"examples_fewshot_tmp = dict(configs[\"sql\"][\"examples_questions_to_sql\"]).values()\n",
				"examples_questions_to_sql = [example for sublist in examples_fewshot_tmp for example in sublist]\n",
				"\n",
				"proper_nouns = configs[\"sql\"][\"proper_nouns\"]\n",
				"\n",
				"# my_sql_db = sql.MySQLDatabase()\n",
				"my_sql_db = sql.MySQLDatabase(\n",
				"\tdbname=os.getenv(\"SQL_DB_NEON\"),\n",
				"\thost=os.getenv(\"SQL_HOST_NEON\"),\n",
				"\tport=os.getenv(\"SQL_PORT_NEON\"),\n",
				"\tuser=os.getenv(\"SQL_USER_NEON\"),\n",
				"\tpassword=os.getenv(\"SQL_PASSWORD_NEON\"),\n",
				")\n",
				"\n",
				"cfg_sql = configs[\"sql\"]\n",
				"cfg_sql_tool = cfg_sql[\"tool\"]\n",
				"\n",
				"my_sql_chain = chains.MySqlChain(\n",
				"\tmy_sql_db=my_sql_db,\n",
				"\tllm=llm,\n",
				"\tembeddings=embeddings,\n",
				"\tvectorstore=vectorstore,\n",
				"\tproper_nouns=proper_nouns,\n",
				"\tk_retriever_proper_nouns=4,\n",
				"\texamples_questions_to_sql=examples_questions_to_sql,\n",
				"\tk_few_shot_examples=5,\n",
				"\tsql_max_out_length=2000,\n",
				"\tis_sql_get_all=True,\n",
				"\tis_debug=False,\n",
				"\ttool_name=cfg_sql_tool[\"name\"],\n",
				"\ttool_description=cfg_sql_tool[\"description\"],\n",
				"\ttool_metadata=cfg_sql_tool[\"metadata\"],\n",
				"\ttool_tags=cfg_sql_tool[\"tags\"],\n",
				")\n",
				"\n",
				"tool_chain_sql = my_sql_chain.create_tool_chain_sql()"
			]
		},
		{
			"cell_type": "code",
			"execution_count": 27,
			"metadata": {},
			"outputs": [],
			"source": [
				"my_chain_rag_vtc_faq = chains.MyRagChain(\n",
				"\tllm=llm,\n",
				"\tretriever=qdrant_txt_vtc_faq.retriever,\n",
				"\tis_debug=False,\n",
				"\tjust_return_ctx=True,\n",
				"\t**configs[\"vector_db\"][\"qdrant\"][\"vtc_faq\"],\n",
				")\n",
				"\n",
				"tool_chain_rag_vtc_faq = my_chain_rag_vtc_faq.create_tool_chain_rag()\n",
				"\n",
				"my_chain_rag_onli_faq = chains.MyRagChain(\n",
				"\tllm=llm,\n",
				"\tretriever=qdrant_txt_onli_faq.retriever,\n",
				"\tis_debug=False,\n",
				"\tjust_return_ctx=True,\n",
				"\t**configs[\"vector_db\"][\"qdrant\"][\"onli_faq\"],\n",
				")\n",
				"\n",
				"tool_chain_rag_onli_faq = my_chain_rag_onli_faq.create_tool_chain_rag()"
			]
		},
		{
			"cell_type": "code",
			"execution_count": 29,
			"metadata": {},
			"outputs": [
				{
					"name": "stderr",
					"output_type": "stream",
					"text": [
						"\u001b[32m2024-07-10 16:01:03.917\u001b[0m | \u001b[1mINFO    \u001b[0m | \u001b[36mtoolkit.langchain.agents\u001b[0m:\u001b[36m_create_agent\u001b[0m:\u001b[36m159\u001b[0m - \u001b[1mAgent type: tool_calling\u001b[0m\n"
					]
				}
			],
			"source": [
				"llm = models.chat_openai\n",
				"\n",
				"tools = [\n",
				"\t# qdrant_txt_vtc_faq.retriever_tool,\n",
				"\t# qdrant_txt_onli_faq.retriever_tool,\n",
				"\ttool_chain_rag_vtc_faq,\n",
				"\ttool_chain_rag_onli_faq,\n",
				"\ttool_chain_sql,\n",
				"]\n",
				"\n",
				"system_message_custom = configs[\"prompts\"][\"system_message_vtc\"]\n",
				"prompt = prompts.create_prompt_tool_calling_agent(system_message_custom)\n",
				"\n",
				"agent = agents.MyStatelessAgent(\n",
				"\tllm=llm,\n",
				"\ttools=tools,\n",
				"\tprompt=prompt,\n",
				"\tagent_type=\"tool_calling\",\n",
				"\tagent_verbose=False,\n",
				")"
			]
		},
		{
			"cell_type": "code",
			"execution_count": null,
			"metadata": {},
			"outputs": [],
			"source": [
				"questions = [\n",
				"  # VTCA FAQs\n",
				"\t\"Các đặc quyền của học viên VTC Academy\",\n",
				"\t\"Thành tựu của VTC Academy\",\n",
				"\t\"Sứ mệnh của VTC Academy\",\n",
				"\t\"Tầm nhìn của VTC Academy\",\n",
				"\t\"Mục tiêu của VTC Academy\",\n",
				"\t\"Thông tin liên hệ các cơ sở của VTC Academy\",\n",
				"\t\"Mô hình đào tạo tại VTC Academy\",\n",
				"\t\"Không gian tại VTC Academy\",\n",
				"\t\"Đội ngũ giảng viên tại VTC Academy\",\n",
				"\t\"Đối tượng tuyển sinh tại VTC Academy\",\n",
				"\t\"Hình thức tuyển sinh tại VTC Academy\",\n",
				"\t\"Quy trình đăng ký và làm hồ sơ nhập học tại VTC Academy\",\n",
				"\t\"Hồ sơ nhập học trực tuyến tại VTC Academy\",\n",
				"\t\"Lịch khai giảng các khoá học tại VTC Academy\",\n",
				"\t\"Tôi muốn nộp hồ sơ nhập học online cho con tôi vì đang ở một thành phố khác, làm sao có thể làm thủ tục nhập học tại VTC Academy?\",\n",
				"\t\"Hồ sơ nhập học trực tuyến (online) tại VTC Academy cần có những gì?\",\n",
				"\t\"Làm sao để biết con tôi đã được nhập học thành công tại VTC Academy?\",\n",
				"\t\"Lịch khai giảng của Nhà trường tại VTC Academy là bao giờ?\",\n",
				"\t\"Nếu học online thì chất lượng và lộ trình học tập có đảm bảo không? Hình thức học online tại VTC Academy như thế nào?\",\n",
				"\t\"Học viên có cần phải thi tuyển đầu vào tại VTC Academy không?\",\n",
				"\t\"Tôi muốn tham quan cơ sở nhưng vì ở xa nên không có điều kiện đến tận trường. Có thể chia sẻ hình ảnh môi trường học tập thực tế tại các cơ sở \",\n",
				"\t\"VTC Academy có các hình thức hoặc chương trình ưu đãi nào để hỗ trợ gia đình học viên không?\",\n",
				"\t\"Các hình thức đóng học phí cho nhà trường tại VTC Academy?\",\n",
				"\t\"Tôi muốn đóng học phí trực tiếp cho trường VTC Aacademy vì không đủ điều kiện để đóng qua Internet Banking hay qua thẻ thì nhà trường có hỗ \",\n",
				"\t\"Nhà trường tại VTC Academy có hỗ trợ tìm nhà trọ không?\",\n",
				"\t\"Sau khi hoàn thành các khoá học tại VTC Academy, học viên có việc làm ngay không?\",\n",
				"\t\"Đăng ký xét học bạ tại VTC Academy\",\n",
				"\t\"VTC Academy Plus tại VTC Academy\",\n",
				"\t\"Học bổng tài năng tại VTC Academy\",\n",
				"\t\"Học bổng tài năng tại VTC Academy Plus\",\n",
				"\t\"Thông tin tham khảo về tuyển sinh ở VTC Academy\",\n",
				"\t\"Hình thức xét học bạ tại VTC Academy như thế nào?\",\n",
				"\t\"Điều kiện đăng ký xét tuyển các ngành học tại VTC Academy là gì?\",\n",
				"\t\"Tôi không có bằng THPT, liệu có thể học tại VTC Academy được không?\",\n",
				"\t\"VTC Academy có hỗ trợ nơi ở cho những bạn ở xa theo học tại trường không?\",\n",
				"\t\"Để nhập học tại VTC Academy cần thi khối nào, môn thi là gì, điểm chuẩn là bao nhiêu?\",\n",
				"\t\"Sau khi xét học bạ tại VTC Academy thì có cần đăng ký trên cổng thông tin bộ giáo dục không?\",\n",
				"\t\"Bằng tốt nghiệp tại VTC Academy thuộc hệ gì?\",\n",
				"\t\"Bằng tốt nghiệp tại VTC Academy có xin được bên ngoài không hay chỉ doanh nghiệp liên kết với trường?\",\n",
				"\t\"Khi nào thì nhận được chứng chỉ DMI tại VTC Academy?\",\n",
				"\t\"Bằng khóa Plus tại VTC Academy khác gì so với khóa thường?\",\n",
				"\t\"Trường tại VTC Academy có các cơ sở nào?\",\n",
				"\t\"Giấy tờ đăng ký và nhập học tại VTC Academy cần những gì?\",\n",
				"\t\"Thời gian học tại VTC Academy có phù hợp cho sinh viên học 2 trường/người đi làm không?\",\n",
				"\t\"Sau khi tốt nghiệp, tôi có thể làm việc ở những công ty nào mà VTC Academy liên kết?\",\n",
				"\t\"Học phí giữa các cơ sở tại VTC Academy có chênh lệch không?\",\n",
				"\t\"Thời gian học 1 khóa học tại VTC Academy khoảng mấy năm?\",\n",
				"\t\"Thời gian nhập học tại VTC Academy là khi nào?\",\n",
				"\t\"Hạn chót gửi hồ sơ xét tuyển tại VTC Academy là khi nào?\",\n",
				"\t\"Tôi có thể dời thời gian nhập học tại VTC Academy không? Nếu có thì được dời lại trong bao lâu?\",\n",
				"\t\"Khi đăng ký nhập học tại VTC Academy có được miễn nghĩa vụ quân sự không?\",\n",
				"\t\"Trường tại VTC Academy có lớp buổi tối không?\",\n",
				"\t\"Em không biết chọn ngành nào tại VTC Academy?/Em không biết mình phù hợp với ngành nào?\",\n",
				"\t\"Tôi chưa đủ tuổi thì có được theo học tại VTC Academy không?\",\n",
				"\t\"VTC Academy có khóa học online không?\",\n",
				"\t\"Tôi học song song tại VTC Academy với trường trung học có được không? Yêu cầu gì?\",\n",
				"\t\"VTC Academy có cam kết việc làm bằng văn bản pháp lý thật không?\",\n",
				"\t\"Học tại VTC Academy có liên thông được không?\",\n",
				"\t\"Trong thời gian học hệ Plus tại VTC Academy có đi học ở các trường liên kết nước ngoài không?\",\n",
				"\t\"Trường có tăng học phí trong thời gian học tại VTC Academy không?\",\n",
				"\t\"Trường đang có các ưu đãi gì khi đăng ký nhập học tại VTC Academy không?\",\n",
				"\t\"Thông tin chi tiết về trả góp học phí 0% tại VTC Academy \",\n",
				"\t\"Mê game thì có thể học những ngành học nào tại VTC Academy?\",\n",
				"\t\"Có chương trình hỗ trợ học phí tại VTC Academy hay ưu đãi gì không?\",\n",
				"\t\"Có ưu đãi gì cho Quân Nhân Xuất Ngũ tại VTC Academy không?\",\n",
				" \n",
				"\t# VTCA courses\n",
				"  \"Các khối ngành đào tạo tại VTCA?\",\n",
				"\t\"Khối ngành thiết kế tại VTC Academy có những chuyên ngành nào?\",\n",
				"\t\"Thời lượng và hình thức học của khóa học lập trình phần mềm tại VTCA\",\n",
				"\t\"Ở VTCA có những khoá học dài hạn nào?\",\n",
				"\t\"Ở VTCA có những khoá học trung hạn nào?\",\n",
				"\t\"Đối tượng nhập học của khóa học thiết kế 3D tại VTC Academy\",\n",
				"\t\"Các khoá học tại VTCA có hình thức học tập trung\",\n",
				"\t\"Link tham khảo khóa học quản lý chuỗi ứng dụng và logistic tại VTC Academy\",\n",
				"\t\"Học phí cho khóa học Digital Marketing VTCA\",\n",
				"\t\"Thời gian khai giảng khóa học 3D Modeling tại VTCA\",\n",
				"\t\"Cơ hội nghề nghiệp của ngành học digital marketing ở VTCA?\",\n",
				"\t\"Các chương trình học tiêu chuẩn tại VTCA\",\n",
				"\t\"Các chương trình học plus của VTCA\",\n",
				"  \n",
				"  # Onlinica courses\n",
				"\t\"Các thể loại khoá học ở Onlinica\", # redo onli_faq\n",
				"\t\"Giảng viên nào có nhiều khoá học nhất ở Onlinica\",\n",
				"\t\"Các Giảng viên có nhiều khoá học nhất ở Onlinica\",\n",
				"\t\"Thể loại khoá học nào có nhiều khoá học nhất ở Onlinica?\",\n",
				"\t\"Các khoá học của thầy Trần Anh Tuấn ở Onlinica\", \n",
				"\t\"Các khoá học về lập trình ở Onlninica\",\n",
				"\t\"Các giảng viên dạy về lập trình ở Onlninica\",\n",
				"\t\"Thông tin khoá học kỹ năng quản lý thời gian ở Onlinica?\",\n",
				"\t\"Giảng viên của khoá học 'Kỹ Năng Giao Tiếp Hiệu Quả' ở Onlinica\",\n",
				"\t\"Các khoá học về game ở Onlinica\", #\n",
				" \n",
				"\t# Onlinica FAQs\n",
				"\t\"Làm cách nào để đăng ký tài khoản Onlinica?\", \n",
				"\t\"Có thể thanh toán Onlinica bằng Momo được không\",\n",
				"\t\"Có mấy loại tài khoản Onlinica?\",\n",
				"\t\"Các khoá học ở Onlinica có mất phí không?\",\n",
				"\t\"Các khoá học của tôi tại Onlinica có thời hạn sử dụng bao lâu?\",\n",
				"\t\"Tôi có thể xoá tài khoản Onlinica không? Và làm như thế nào?\",\n",
				"\t\"Tôi có bị mất phí khi hết thời gian trải nghiệm Onlinica VIP không?\",\n",
				"\t\"Tôi sẽ nhận được chứng chỉ hoàn thành khóa học chứ? Và sẽ nhận qua hình thức nào?\",\n",
				"\t\"Vì sao tôi chưa nhận được chứng chỉ hoàn thành khi đã học xong?\",\n",
				"\t\"Onlinica có mấy hình thức thanh toán?\",\n",
				"\t\"Làm cách nào để đăng ký tài khoản Onlinica?\",\n",
				"\t\"Có mấy loại tài khoản Onlinica?\",\n",
				"\t\"Các khoá học ở Onlinica có mất phí không?\",\n",
				"\t\"Các khoá học của tôi tại Onlinica có thời hạn sử dụng bao lâu?\",\n",
				"\t\"Tôi có thể xoá tài khoản Onlinica không? Và làm như thế nào?\",\n",
				"\t\"Tôi có bị mất phí khi hết thời gian trải nghiệm Onlinica VIP không?\",\n",
				"\t\"Onlinica hiện đang có các khóa học nào?\",\n",
				"\t\"Tôi sẽ nhận được chứng chỉ hoàn thành khóa học chứ? Và sẽ nhận qua hình thức nào?\",\n",
				"\t\"Vì sao tôi chưa nhận được chứng chỉ hoàn thành khi đã học xong?\",\n",
				"\t\"Onlinica có mấy hình thức thanh toán?\",\n",
				"]"
			]
		},
		{
			"cell_type": "code",
			"execution_count": null,
			"metadata": {},
			"outputs": [],
			"source": [
				"# result = my_sql_chain.chain_sql.invoke({\n",
				"# \t\"question\": \n",
				"#    \t\"Các chương trình học tiêu chuẩn tại VTCA\",\n",
				"# })\n",
				"\n",
				"# result"
			]
		},
		{
			"cell_type": "code",
			"execution_count": 32,
			"metadata": {},
			"outputs": [
				{
					"name": "stderr",
					"output_type": "stream",
					"text": [
						"\u001b[32m2024-07-10 16:02:45.407\u001b[0m | \u001b[1mINFO    \u001b[0m | \u001b[36mtoolkit.langchain.agents\u001b[0m:\u001b[36m__init__\u001b[0m:\u001b[36m94\u001b[0m - \u001b[1mUser Id: test\u001b[0m\n",
						"\u001b[32m2024-07-10 16:02:45.408\u001b[0m | \u001b[1mINFO    \u001b[0m | \u001b[36mtoolkit.langchain.agents\u001b[0m:\u001b[36m__init__\u001b[0m:\u001b[36m95\u001b[0m - \u001b[1mSession Id: test\u001b[0m\n",
						"\u001b[32m2024-07-10 16:02:45.408\u001b[0m | \u001b[1mINFO    \u001b[0m | \u001b[36mtoolkit.langchain.agents\u001b[0m:\u001b[36m__init__\u001b[0m:\u001b[36m96\u001b[0m - \u001b[1mHistory Type: mongodb\u001b[0m\n"
					]
				},
				{
					"name": "stdout",
					"output_type": "stream",
					"text": [
						"`[TOOL - CALLING]` \n",
						"Invoking: `onlinica_frequently_asked_questions` with `{'question': 'Thời hạn sử dụng khoá học tại Onlinica'}`\n",
						"\n",
						"\n",
						"1. What is the expiration period for using courses at Onlinica?\n",
						"2. How long can I access courses on Onlinica before they expire?\n",
						"3. What is the duration of validity for courses offered by Onlinica?"
					]
				},
				{
					"name": "stderr",
					"output_type": "stream",
					"text": [
						"INFO:langchain.retrievers.multi_query:Generated queries: ['1. What is the expiration period for using courses at Onlinica?', '2. How long can I access courses on Onlinica before they expire?', '3. What is the duration of validity for courses offered by Onlinica?']\n"
					]
				},
				{
					"name": "stdout",
					"output_type": "stream",
					"text": [
						"['## QUESTION: Các khoá học của tôi tại Onlinica có thời hạn sử dụng bao lâu?\\nANSWER:\\n- Khoá học miễn phí (\"FREE\") không có thời hạn sử dụng.\\n- Đối với khoá học có phí (VIP và các loại khác):\\n- Khi truy cập bằng tài khoản Onlinica VIP, thời hạn sử dụng là bằng với tài khoản Onlinica VIP.\\n- Khi mua lẻ, sở hữu vĩnh viễn.\\n\\n']`[TOOL - RESULT]` [\"## QUESTION: Các khoá học của tôi tại Onlinica có thời hạn sử dụng bao lâu?\\nANSWER:\\n- Khoá học miễn phí (\\\"FREE\\\") không có thời hạn sử dụng.\\n- Đối với khoá học có phí (VIP và các loại khác):\\n- Khi truy cập bằng tài khoản Onlinica VIP, thời hạn sử dụng là bằng với tài khoản Onlinica VIP.\\n- Khi mua lẻ, sở hữu vĩnh viễn.\\n\\n\"]\n",
						"\n",
						"Các khóa học tại Onlinica có thời hạn sử dụng như sau:\n",
						"\n",
						"- Khóa học miễn phí (\"FREE\") không có thời hạn sử dụng.\n",
						"- Đối với các khóa học có phí (VIP và các loại khác):\n",
						"  - Khi truy cập bằng tài khoản Onlinica VIP, thời hạn sử dụng là bằng với tài khoản Onlinica VIP.\n",
						"  - Khi mua lẻ, bạn sở hữu khóa học vĩnh viễn.\n",
						"\n",
						"Điều này có nghĩa là nếu bạn truy cập khóa học bằng tài khoản VIP, thời hạn sử dụng sẽ tương đương với tài khoản VIP của bạn. Nếu bạn mua khóa học lẻ, bạn sẽ sở hữu khóa học đó vĩnh viễn.\n",
						"\n",
						"Nếu bạn cần thêm thông tin hoặc có bất kỳ câu hỏi nào khác, hãy để lại số điện thoại để nhân viên của chúng tôi có thể liên hệ và hỗ trợ bạn.\n",
						"\n",
						"Bạn có thể để lại số điện thoại để nhận được sự hỗ trợ tốt nhất không?"
					]
				}
			],
			"source": [
				"res = []\n",
				"async for chunk in agent.astream_events_basic(\n",
				"\t# \"Xin chào\",\n",
				"\t# \"VTCA có hỗ trợ tìm kiếm việc làm không\",\n",
				"\t\"Các giảng viên dạy về lập trình ở Onlninica\",\n",
				"  show_tool_call=True,\n",
				"  history_type=\"mongodb\",\n",
				"  user_id=\"test\",\n",
				"\tsession_id=\"test\",\n",
				"):\n",
				"\tprint(chunk, end=\"\", flush=True)\n",
				"\n",
				"\tres.append(chunk)"
			]
		},
		{
			"cell_type": "markdown",
			"metadata": {},
			"source": [
				"# Todos\n",
				"\n",
				"- [ ] Deep dive into chain"
			]
		}
	],
	"metadata": {
		"kernelspec": {
			"display_name": "LLM",
			"language": "python",
			"name": "python3"
		},
		"language_info": {
			"codemirror_mode": {
				"name": "ipython",
				"version": 3
			},
			"file_extension": ".py",
			"mimetype": "text/x-python",
			"name": "python",
			"nbconvert_exporter": "python",
			"pygments_lexer": "ipython3",
			"version": "3.11.9"
		}
	},
	"nbformat": 4,
	"nbformat_minor": 2
}
