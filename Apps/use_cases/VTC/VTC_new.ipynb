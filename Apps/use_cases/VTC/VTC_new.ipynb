{
	"cells": [
		{
			"cell_type": "code",
			"execution_count": 1,
			"metadata": {
				"notebookRunGroups": {
					"groupValue": "1"
				}
			},
			"outputs": [
				{
					"name": "stderr",
					"output_type": "stream",
					"text": [
						"/opt/homebrew/Caskroom/miniconda/base/envs/llm/lib/python3.11/site-packages/tqdm/auto.py:21: TqdmWarning: IProgress not found. Please update jupyter and ipywidgets. See https://ipywidgets.readthedocs.io/en/stable/user_install.html\n",
						"  from .autonotebook import tqdm as notebook_tqdm\n"
					]
				}
			],
			"source": [
				"import yaml\n",
				"import add_packages\n",
				"from pprint import pprint\n",
				"import os, re\n",
				"import pandas as pd\n",
				"# import tqdm\n",
				"from tqdm.auto import tqdm\n",
				"\n",
				"from toolkit.langchain import (\n",
				"\tdocument_loaders, text_splitters, text_embedding_models, stores, \n",
				"\tprompts, utils, output_parsers, agents, documents, models,\n",
				"\trunnables, tools, chains\n",
				")\n",
				"\n",
				"from toolkit import sql\n",
				"\n",
				"PATH_DATA = f\"{add_packages.APP_PATH}/data/vtc\"\n",
				"FILE_CFG = \"vtc.yaml\"\n",
				"tqdm.pandas(desc=\"Processing\")\n",
				"\n",
				"with open(f\"{add_packages.APP_PATH}/my_configs/{FILE_CFG}\", 'r') as file:\n",
				"    configs = yaml.safe_load(file)"
			]
		},
		{
			"cell_type": "code",
			"execution_count": 2,
			"metadata": {},
			"outputs": [],
			"source": [
				"llm = models.chat_openai\n",
				"my_sql_db = sql.MySQLDatabase()\n",
				"embeddings = text_embedding_models.OpenAIEmbeddings()\n",
				"vectorstore = stores.faiss.FAISS"
			]
		},
		{
			"cell_type": "markdown",
			"metadata": {},
			"source": [
				"# Data"
			]
		},
		{
			"cell_type": "markdown",
			"metadata": {},
			"source": [
				"## txt - FAQ"
			]
		},
		{
			"cell_type": "markdown",
			"metadata": {},
			"source": [
				"### vtc_faq"
			]
		},
		{
			"cell_type": "code",
			"execution_count": 3,
			"metadata": {},
			"outputs": [],
			"source": [
				"path_txt = f\"{PATH_DATA}/vtc_faq.txt\""
			]
		},
		{
			"cell_type": "code",
			"execution_count": 4,
			"metadata": {},
			"outputs": [],
			"source": [
				"loader_txt = document_loaders.TextLoader(path_txt)\n",
				"doc_txt = loader_txt.load()\n",
				"\n",
				"text_splitter = text_splitters.RecursiveCharacterTextSplitter(\n",
				"\t# chunk_size=500, chunk_overlap=100,\n",
				"\tseparators=[\"##\"], chunk_size=150, chunk_overlap=0,\n",
				")\n",
				"docs_txt = text_splitter.split_documents(doc_txt)\n",
				"docs_txt = docs_txt[1:]\n",
				"\n",
				"metadatas = {\n",
				"\t\"data\": \"frequently asked questions\"\n",
				"}\n",
				"utils.remove_metadata(docs_txt, \"source\")\n",
				"utils.update_metadata(docs_txt, metadatas)"
			]
		},
		{
			"cell_type": "code",
			"execution_count": 5,
			"metadata": {},
			"outputs": [],
			"source": [
				"docs_txt_vtc_faq = docs_txt"
			]
		},
		{
			"cell_type": "markdown",
			"metadata": {},
			"source": [
				"### onli_faq"
			]
		},
		{
			"cell_type": "code",
			"execution_count": 3,
			"metadata": {},
			"outputs": [],
			"source": [
				"path_txt = f\"{PATH_DATA}/onli_faq.txt\""
			]
		},
		{
			"cell_type": "code",
			"execution_count": 4,
			"metadata": {},
			"outputs": [],
			"source": [
				"loader_txt = document_loaders.TextLoader(path_txt)\n",
				"doc_txt = loader_txt.load()\n",
				"\n",
				"text_splitter = text_splitters.RecursiveCharacterTextSplitter(\n",
				"\t# chunk_size=500, chunk_overlap=100,\n",
				"\tseparators=[\"##\"], chunk_size=150, chunk_overlap=0,\n",
				")\n",
				"docs_txt = text_splitter.split_documents(doc_txt)\n",
				"docs_txt = docs_txt[1:]\n",
				"\n",
				"metadatas = {\n",
				"\t\"data\": \"frequently asked questions\"\n",
				"}\n",
				"utils.remove_metadata(docs_txt, \"source\")\n",
				"utils.update_metadata(docs_txt, metadatas)"
			]
		},
		{
			"cell_type": "code",
			"execution_count": 5,
			"metadata": {},
			"outputs": [],
			"source": [
				"docs_txt_onli_faq = docs_txt"
			]
		},
		{
			"cell_type": "markdown",
			"metadata": {},
			"source": [
				"### File 3"
			]
		},
		{
			"cell_type": "code",
			"execution_count": null,
			"metadata": {},
			"outputs": [],
			"source": [
				"path_txt = f\"{PATH_DATA}/faq.txt\""
			]
		},
		{
			"cell_type": "code",
			"execution_count": null,
			"metadata": {},
			"outputs": [],
			"source": [
				"loader_txt = document_loaders.TextLoader(path_txt)\n",
				"doc_txt = loader_txt.load()\n",
				"\n",
				"text_splitter = text_splitters.RecursiveCharacterTextSplitter(\n",
				"\t# chunk_size=500, chunk_overlap=100,\n",
				"\tseparators=[\"##\"], chunk_size=150, chunk_overlap=0,\n",
				")\n",
				"docs_txt = text_splitter.split_documents(doc_txt)\n",
				"docs_txt = docs_txt[1:]\n",
				"\n",
				"metadatas = {\n",
				"\t\"data\": \"frequently asked questions\"\n",
				"}\n",
				"utils.remove_metadata(docs_txt, \"source\")\n",
				"utils.update_metadata(docs_txt, metadatas)"
			]
		},
		{
			"cell_type": "markdown",
			"metadata": {},
			"source": [
				"## table"
			]
		},
		{
			"cell_type": "markdown",
			"metadata": {},
			"source": [
				"### onli_course_list"
			]
		},
		{
			"cell_type": "code",
			"execution_count": null,
			"metadata": {},
			"outputs": [],
			"source": [
				"file_csv = \"onli_course_list.xlsx\"\n",
				"path_csv = f\"{PATH_DATA}/{file_csv}\"\n",
				"path_csv_processed = f\"{PATH_DATA}/{file_csv.split('.')[0]}2.xlsx\""
			]
		},
		{
			"cell_type": "code",
			"execution_count": null,
			"metadata": {},
			"outputs": [],
			"source": [
				"df = pd.read_excel(\n",
				"\tpath_csv, \n",
				" \t# delimiter=\",\" # \",\" \";\"\n",
				")\n",
				"\n",
				"df.head()"
			]
		},
		{
			"cell_type": "markdown",
			"metadata": {},
			"source": [
				"#### Process"
			]
		},
		{
			"cell_type": "code",
			"execution_count": null,
			"metadata": {},
			"outputs": [],
			"source": [
				"model = models.chat_openai\n",
				"\n",
				"template1 = \"\"\"\\\n",
				"Here is a description of a learning course:\n",
				"\n",
				"<course_description>\n",
				"{{COURSE_DESCRIPTION}}\n",
				"</course_description>\n",
				"\n",
				"Please read the course description carefully. Your task is to extract the core information from the description, leaving out any boilerplate or filler words that are not essential to understanding the key points of the course.\n",
				"\n",
				"Summarize the core information you have extracted in a single short paragraph. \n",
				"\n",
				"Provide your output in Vietnamese.\n",
				"{text}\"\"\"\n",
				"\n",
				"template2 = \"\"\"\\\n",
				"...\n",
				"{text}\n",
				"\"\"\"\n",
				"\n",
				"prompt_template1 = prompts.PromptTemplate.from_template(template1)\n",
				"prompt_template2 = prompts.PromptTemplate.from_template(template2)\n",
				"\n",
				"chain1 = prompt_template1 | model | output_parsers.StrOutputParser()\n",
				"chain2 = prompt_template2 | model | output_parsers.StrOutputParser()\n",
				"\n",
				"# chain = runnables.RunnablePassthrough.assign(\n",
				"#   text=chain1\n",
				"# ).assign(\n",
				"#   text=chain2\n",
				"# )\n",
				"\n",
				"chain = runnables.RunnablePassthrough.assign(\n",
				"  text=chain1\n",
				")\n",
				"\n",
				"def process_csv_col(text: str) -> str:\n",
				"  result = chain.invoke({\"text\": text})['text']\n",
				"  return result\n",
				"\n",
				"# query = '...'\n",
				"# result = process_csv_col(query)\n",
				"# pprint(result)"
			]
		},
		{
			"cell_type": "code",
			"execution_count": null,
			"metadata": {},
			"outputs": [],
			"source": [
				"df = pd.read_csv(path_csv)\n",
				"\n",
				"col_to_process = \"MÔ TẢ (course description)\"\n",
				"\n",
				"df[col_to_process] = df[col_to_process].progress_apply(process_csv_col)\n",
				"\n",
				"df.to_excel(f\"{path_csv_processed}\", index=False)\n"
			]
		},
		{
			"cell_type": "code",
			"execution_count": null,
			"metadata": {},
			"outputs": [],
			"source": [
				"df.to_excel(f\"{path_csv_processed}\", index=False)"
			]
		},
		{
			"cell_type": "code",
			"execution_count": null,
			"metadata": {},
			"outputs": [],
			"source": [
				"path_csv = path_csv_processed"
			]
		},
		{
			"cell_type": "markdown",
			"metadata": {},
			"source": [
				"#### Load"
			]
		},
		{
			"cell_type": "code",
			"execution_count": null,
			"metadata": {},
			"outputs": [],
			"source": [
				"path_csv"
			]
		},
		{
			"cell_type": "code",
			"execution_count": null,
			"metadata": {},
			"outputs": [],
			"source": [
				"csv_cols = list(df.columns)\n",
				"\n",
				"loader_csv = document_loaders.UnstructuredExcelLoader(\n",
				"\tpath_csv,\n",
				"\tmode=\"elements\"\n",
				")\n",
				"docs_csv = loader_csv.load_and_split()"
			]
		},
		{
			"cell_type": "code",
			"execution_count": null,
			"metadata": {},
			"outputs": [],
			"source": [
				"docs_csv = loader_csv.load()[1:]\n",
				"\n",
				"metadatas = {\n",
				"\t\"data\": \"...\"\n",
				"}\n",
				"\n",
				"utils.remove_metadata(docs_csv, \"source\")\n",
				"utils.remove_metadata(docs_csv, \"row\")\n",
				"utils.update_metadata(docs_csv, metadatas)"
			]
		},
		{
			"cell_type": "markdown",
			"metadata": {},
			"source": [
				"#### Load to sql"
			]
		},
		{
			"cell_type": "code",
			"execution_count": 3,
			"metadata": {},
			"outputs": [],
			"source": [
				"my_table_schema = [\n",
				"\t\"course_id SERIAL\",\n",
				"\t\"course_name VARCHAR(255) NOT NULL UNIQUE\",\n",
				"\t\"course_category VARCHAR(255) NOT NULL\",\n",
				"\t\"instructor_name VARCHAR(100) NOT NULL\",\n",
				"\t\"course_link VARCHAR(2048) NOT NULL UNIQUE\",\n",
				"\t\"course_description TEXT NOT NULL\",\n",
				"\t\"PRIMARY KEY (course_id)\",\n",
				"]\n",
				"my_table = sql.MySQLTable(\n",
				"\tname=\"onli_course_list\", \n",
				"\tschema=my_table_schema,\n",
				"\tdb=my_sql_db,\n",
				")\n",
				"my_table.create()\n",
				"\n",
				"db = stores.SQLDatabase.from_uri(my_sql_db.get_uri())\n",
				"llm = models.chat_openai\n",
				"\n",
				"embeddings = text_embedding_models.OpenAIEmbeddings()\n",
				"vectorstore = stores.faiss.FAISS\n",
				"\n",
				"table_cols = [col_description.split(\" \")[0] for col_description in my_table_schema][1:-1]\n"
			]
		},
		{
			"cell_type": "code",
			"execution_count": null,
			"metadata": {},
			"outputs": [],
			"source": [
				"df = pd.read_excel(path_csv)\n",
				"df.columns = table_cols\n",
				"\n",
				"my_table.insert_from_dataframe(df)"
			]
		},
		{
			"cell_type": "code",
			"execution_count": 4,
			"metadata": {},
			"outputs": [],
			"source": [
				"cols = [\"course_category\", \"instructor_name\"]\n",
				"proper_nouns_onli_course_list = [value for col in cols for value in my_table.get_discrete_values_col(col)]"
			]
		},
		{
			"cell_type": "code",
			"execution_count": null,
			"metadata": {},
			"outputs": [],
			"source": [
				"questions = [\n",
				"  \"Which courses are available in the Design category?\",\n",
				"\t\"Who are the instructors for the Personal Development courses?\",\n",
				"\t\"Can you provide a summary of the course descriptions for the Digital Marketing category?\",\n",
				"\t\"Which courses have the longest descriptions?\",\n",
				"\t\"How many courses are offered by each instructor?\",\n",
				"\t\"Which course categories have the most number of courses?\",\n",
				"\t\"Can you tell me about the course 'Kỹ năng quản lý thời gian'?\",\n",
				"\t\"Which courses have the shortest descriptions?\",\n",
				"\t\"Which instructors have the most number of courses?\",\n",
				"\t\"Can you list all the courses that are related to Personal Development?\"\n",
				"]\n",
				"\n",
				"examples_questions_to_sql_onli_course_list = [\n",
				"    {\n",
				"        \"input\": \"Which courses are available in the Design category?\",\n",
				"        \"query\": \"SELECT course_name FROM courses WHERE course_category = 'Design';\"\n",
				"    },\n",
				"    {\n",
				"        \"input\": \"Who are the instructors for the Personal Development courses?\",\n",
				"        \"query\": \"SELECT DISTINCT instructor_name FROM courses WHERE course_category = 'Personal Development';\"\n",
				"    },\n",
				"    {\n",
				"        \"input\": \"Can you provide a summary of the course descriptions for the Digital Marketing category?\",\n",
				"        \"query\": \"SELECT course_name, SUBSTRING(course_description, 1, 100) AS summary FROM courses WHERE course_category = 'Digital Marketing';\"\n",
				"    },\n",
				"    {\n",
				"        \"input\": \"Which courses have the longest descriptions?\",\n",
				"        \"query\": \"SELECT course_name, LENGTH(course_description) AS description_length FROM courses ORDER BY description_length DESC LIMIT 5;\"\n",
				"    },\n",
				"    {\n",
				"        \"input\": \"How many courses are offered by each instructor?\",\n",
				"        \"query\": \"SELECT instructor_name, COUNT(course_id) AS num_courses FROM courses GROUP BY instructor_name;\"\n",
				"    },\n",
				"    {\n",
				"        \"input\": \"Which course categories have the most number of courses?\",\n",
				"        \"query\": \"SELECT course_category, COUNT(course_id) AS num_courses FROM courses GROUP BY course_category ORDER BY num_courses DESC LIMIT 5;\"\n",
				"    },\n",
				"    {\n",
				"        \"input\": \"Can you tell me about the course 'Kỹ năng quản lý thời gian'?\",\n",
				"        \"query\": \"SELECT * FROM courses WHERE course_name = 'Kỹ năng quản lý thời gian';\"\n",
				"    },\n",
				"    {\n",
				"        \"input\": \"Which courses have the shortest descriptions?\",\n",
				"        \"query\": \"SELECT course_name, LENGTH(course_description) AS description_length FROM courses ORDER BY description_length ASC LIMIT 5;\"\n",
				"    },\n",
				"    {\n",
				"        \"input\": \"Which instructors have the most number of courses?\",\n",
				"        \"query\": \"SELECT instructor_name, COUNT(course_id) AS num_courses FROM courses GROUP BY instructor_name ORDER BY num_courses DESC LIMIT 5;\"\n",
				"    },\n",
				"    {\n",
				"        \"input\": \"Can you list all the courses that are related to Personal Development?\",\n",
				"        \"query\": \"SELECT course_name FROM courses WHERE course_category = 'Personal Development';\"\n",
				"    }\n",
				"]"
			]
		},
		{
			"cell_type": "markdown",
			"metadata": {},
			"source": [
				"### File vtc_course_list"
			]
		},
		{
			"cell_type": "code",
			"execution_count": null,
			"metadata": {},
			"outputs": [],
			"source": [
				"file_xlsx = \"vtc_course_list.xlsx\"\n",
				"path_xlsx = f\"{PATH_DATA}/{file_xlsx}\"\n",
				"path_xlsx_processed = f\"{PATH_DATA}/{file_xlsx.split('.')[0]}-prod.xlsx\""
			]
		},
		{
			"cell_type": "code",
			"execution_count": null,
			"metadata": {},
			"outputs": [],
			"source": [
				"df = pd.read_excel(\n",
				"\tpath_xlsx, \n",
				" \t# delimiter=\";\"\n",
				")\n",
				"\n",
				"df.head()"
			]
		},
		{
			"cell_type": "markdown",
			"metadata": {},
			"source": [
				"#### Process"
			]
		},
		{
			"cell_type": "code",
			"execution_count": null,
			"metadata": {},
			"outputs": [],
			"source": [
				"model = models.chat_openai\n",
				"\n",
				"template1 = \"\"\"\\\n",
				"...\n",
				"{text}\"\"\"\n",
				"\n",
				"template2 = \"\"\"\\\n",
				"...\n",
				"{text}\n",
				"\"\"\"\n",
				"\n",
				"prompt_template1 = prompts.PromptTemplate.from_template(template1)\n",
				"prompt_template2 = prompts.PromptTemplate.from_template(template2)\n",
				"\n",
				"chain1 = prompt_template1 | model | output_parsers.StrOutputParser()\n",
				"chain2 = prompt_template2 | model | output_parsers.StrOutputParser()\n",
				"\n",
				"chain = runnables.RunnablePassthrough.assign(\n",
				"  text=chain1\n",
				").assign(\n",
				"  text=chain2\n",
				")\n",
				"\n",
				"def process_xlsx_col(text: str) -> str:\n",
				"  result = chain.invoke({\"text\": text})['text']\n",
				"  return result\n",
				"\n",
				"query = '...'\n",
				"result = process_xlsx_col(query)\n",
				"\n",
				"pprint(result)"
			]
		},
		{
			"cell_type": "code",
			"execution_count": null,
			"metadata": {},
			"outputs": [],
			"source": [
				"df = pd.read_excel(path_xlsx)\n",
				"\n",
				"col_to_process = \"...\"\n",
				"\n",
				"df[col_to_process] = df[col_to_process].progress_apply(process_xlsx_col)\n",
				"\n",
				"df.to_excel(f\"{path_xlsx_processed}\", index=False)\n"
			]
		},
		{
			"cell_type": "code",
			"execution_count": null,
			"metadata": {},
			"outputs": [],
			"source": [
				"path_xlsx = path_xlsx_processed"
			]
		},
		{
			"cell_type": "markdown",
			"metadata": {},
			"source": [
				"#### Load"
			]
		},
		{
			"cell_type": "code",
			"execution_count": null,
			"metadata": {},
			"outputs": [],
			"source": [
				"xlsx_cols = ...\n",
				"\n",
				"loader_xlsx = document_loaders.UnstructuredExcelLoader(\n",
				"\tpath_xlsx,\n",
				"\tmode=\"elements\",\n",
				")\n",
				"docs_xlsx = loader_xlsx.load()\n",
				"\n",
				"metadatas = {\n",
				"\t\"data\": \"...\"\n",
				"}\n",
				"\n",
				"utils.remove_metadata(docs_xlsx, \"source\")\n",
				"utils.remove_metadata(docs_xlsx, \"row\")\n",
				"utils.update_metadata(docs_xlsx, metadatas)"
			]
		},
		{
			"cell_type": "markdown",
			"metadata": {},
			"source": [
				"#### Load to sql"
			]
		},
		{
			"cell_type": "code",
			"execution_count": 5,
			"metadata": {},
			"outputs": [],
			"source": [
				"my_table_schema = [\n",
				"\t\"course_id SERIAL\",\n",
				"\t\"course_name VARCHAR(255) NOT NULL\",\n",
				"\t\"semester_no INT NOT NULL\",\n",
				"\t\"semester_name VARCHAR(50) NOT NULL\",\n",
				"\t\"subject VARCHAR(100) NOT NULL\",\n",
				"\t\"hour INT NOT NULL\",\n",
				"\t\"learning_outcome TEXT NOT NULL\",\n",
				"\t\"PRIMARY KEY (course_id)\",\n",
				"]\n",
				"\n",
				"my_table = sql.MySQLTable(\n",
				"\tname=\"vtc_course_list\", \n",
				"\tschema=my_table_schema,\n",
				"\tdb=my_sql_db,\n",
				")\n",
				"my_table.create()\n",
				"\n",
				"db = stores.SQLDatabase.from_uri(my_sql_db.get_uri())\n",
				"llm = models.chat_openai\n",
				"\n",
				"embeddings = text_embedding_models.OpenAIEmbeddings()\n",
				"vectorstore = stores.faiss.FAISS\n",
				"\n",
				"table_cols = [col_description.split(\" \")[0] for col_description in my_table_schema][1:-1]\n"
			]
		},
		{
			"cell_type": "code",
			"execution_count": null,
			"metadata": {},
			"outputs": [],
			"source": [
				"df = pd.read_excel(path_xlsx)\n",
				"df.columns = table_cols"
			]
		},
		{
			"cell_type": "code",
			"execution_count": 6,
			"metadata": {},
			"outputs": [],
			"source": [
				"# my_table.insert_from_dataframe(df)\n",
				"\n",
				"cols = [\"course_name\", \"semester_name\", \"subject\"]\n",
				"proper_nouns_vtc_course_list = [value for col in cols for value in my_table.get_discrete_values_col(col)]"
			]
		},
		{
			"cell_type": "markdown",
			"metadata": {},
			"source": [
				"### FINAL SQL TABLE"
			]
		},
		{
			"cell_type": "code",
			"execution_count": 14,
			"metadata": {},
			"outputs": [],
			"source": [
				"examples_fewshot_tmp = dict(configs[\"sql\"][\"examples_questions_to_sql\"]).values()\n",
				"examples_questions_to_sql = [example for sublist in examples_fewshot_tmp for example in sublist]\n",
				"\n",
				"proper_nouns = configs[\"sql\"][\"proper_nouns\"]\n",
				"\n",
				"my_sql_db = sql.MySQLDatabase()\n",
				"\n",
				"cfg_sql_tool = configs[\"sql\"][\"tool\"]\n",
				"\n",
				"my_sql_chain = chains.MySqlChain(\n",
				"\tmy_sql_db=my_sql_db,\n",
				"\tllm=llm,\n",
				"\tembeddings=embeddings,\n",
				"\tvectorstore=vectorstore,\n",
				"\tproper_nouns=proper_nouns,\n",
				"\tk_retriever_proper_nouns=4,\n",
				"\texamples_questions_to_sql=examples_questions_to_sql,\n",
				"\tk_few_shot_examples=5,\n",
				"\tis_debug=False,\n",
				"\ttool_name=cfg_sql_tool[\"name\"],\n",
				"\ttool_description=cfg_sql_tool[\"description\"],\n",
				"\ttool_metadata=cfg_sql_tool[\"metadata\"],\n",
				"\ttool_tags=cfg_sql_tool[\"tags\"],\n",
				")\n",
				"\n",
				"tool_chain_sql = my_sql_chain.create_tool_chain_sql()"
			]
		},
		{
			"cell_type": "code",
			"execution_count": null,
			"metadata": {},
			"outputs": [],
			"source": [
				"result = my_sql_chain.invoke_chain(\n",
				"\t# \"how many courses are there in Onlinica?\"\n",
				"\t\"các khoá học Onlinica về lập trình\"\n",
				")\n",
				"\n",
				"pprint(result)"
			]
		},
		{
			"cell_type": "code",
			"execution_count": null,
			"metadata": {},
			"outputs": [],
			"source": [
				"pprint(result['output'])"
			]
		},
		{
			"cell_type": "markdown",
			"metadata": {},
			"source": [
				"# Vector store \n",
				"\n",
				"Note:\n",
				"- `tiktoken` >= 0.6.0"
			]
		},
		{
			"cell_type": "markdown",
			"metadata": {},
			"source": [
				"## txt"
			]
		},
		{
			"cell_type": "markdown",
			"metadata": {},
			"source": [
				"### vtc_faq"
			]
		},
		{
			"cell_type": "code",
			"execution_count": 3,
			"metadata": {},
			"outputs": [
				{
					"name": "stderr",
					"output_type": "stream",
					"text": [
						"\u001b[32m2024-06-04 11:23:03.741\u001b[0m | \u001b[1mINFO    \u001b[0m | \u001b[36mtoolkit.langchain.stores\u001b[0m:\u001b[36m__init__\u001b[0m:\u001b[36m113\u001b[0m - \u001b[1mFound collection: `vtc_faq`.\u001b[0m\n",
						"\u001b[32m2024-06-04 11:23:03.742\u001b[0m | \u001b[1mINFO    \u001b[0m | \u001b[36mtoolkit.langchain.stores\u001b[0m:\u001b[36m__init__\u001b[0m:\u001b[36m126\u001b[0m - \u001b[1m`vtc_faq` - Embeddings: openai - {'model': 'text-embedding-3-large'}, 3072\u001b[0m\n",
						"\u001b[32m2024-06-04 11:23:03.788\u001b[0m | \u001b[1mINFO    \u001b[0m | \u001b[36mtoolkit.langchain.stores\u001b[0m:\u001b[36m__init__\u001b[0m:\u001b[36m145\u001b[0m - \u001b[1m`vtc_faq` - Retriever: Vectorstore\u001b[0m\n"
					]
				}
			],
			"source": [
				"qdrant_txt_vtc_faq = stores.QdrantWrapper(\n",
				"  qdrant_host=os.getenv(\"QDRANT_HOST\"),\n",
				"  qdrant_api_key=os.getenv(\"QDRANT_API_KEY\"),\n",
				"  configs=configs,\n",
				"  **configs[\"vector_db\"][\"qdrant\"][\"vtc_faq\"]\n",
				")"
			]
		},
		{
			"cell_type": "code",
			"execution_count": 4,
			"metadata": {},
			"outputs": [],
			"source": [
				"# qdrant_txt_vtc_faq.add_documents(docs_txt_vtc_faq)"
			]
		},
		{
			"cell_type": "markdown",
			"metadata": {},
			"source": [
				"### onli_faq"
			]
		},
		{
			"cell_type": "code",
			"execution_count": 5,
			"metadata": {},
			"outputs": [
				{
					"name": "stderr",
					"output_type": "stream",
					"text": [
						"\u001b[32m2024-06-04 11:23:04.602\u001b[0m | \u001b[1mINFO    \u001b[0m | \u001b[36mtoolkit.langchain.stores\u001b[0m:\u001b[36m__init__\u001b[0m:\u001b[36m113\u001b[0m - \u001b[1mFound collection: `onli_faq`.\u001b[0m\n",
						"\u001b[32m2024-06-04 11:23:04.603\u001b[0m | \u001b[1mINFO    \u001b[0m | \u001b[36mtoolkit.langchain.stores\u001b[0m:\u001b[36m__init__\u001b[0m:\u001b[36m126\u001b[0m - \u001b[1m`onli_faq` - Embeddings: openai - {'model': 'text-embedding-3-large'}, 3072\u001b[0m\n",
						"\u001b[32m2024-06-04 11:23:04.650\u001b[0m | \u001b[1mINFO    \u001b[0m | \u001b[36mtoolkit.langchain.stores\u001b[0m:\u001b[36m__init__\u001b[0m:\u001b[36m145\u001b[0m - \u001b[1m`onli_faq` - Retriever: Vectorstore\u001b[0m\n"
					]
				}
			],
			"source": [
				"qdrant_txt_onli_faq = stores.QdrantWrapper(\n",
				"  qdrant_host=os.getenv(\"QDRANT_HOST\"),\n",
				"  qdrant_api_key=os.getenv(\"QDRANT_API_KEY\"),\n",
				"  configs=configs,\n",
				"  **configs[\"vector_db\"][\"qdrant\"][\"onli_faq\"]\n",
				")"
			]
		},
		{
			"cell_type": "code",
			"execution_count": 8,
			"metadata": {},
			"outputs": [
				{
					"name": "stderr",
					"output_type": "stream",
					"text": [
						"100%|██████████| 21/21 [00:19<00:00,  1.06it/s]\n"
					]
				}
			],
			"source": [
				"# qdrant_txt_onli_faq.add_documents(docs_txt_onli_faq)"
			]
		},
		{
			"cell_type": "code",
			"execution_count": null,
			"metadata": {},
			"outputs": [],
			"source": []
		},
		{
			"cell_type": "markdown",
			"metadata": {},
			"source": [
				"### File 3"
			]
		},
		{
			"cell_type": "code",
			"execution_count": null,
			"metadata": {},
			"outputs": [],
			"source": [
				"qdrant_txt = stores.QdrantWrapper(\n",
				"  qdrant_host=os.getenv(\"QDRANT_HOST\"),\n",
				"  qdrant_api_key=os.getenv(\"QDRANT_API_KEY\"),\n",
				"  configs=configs,\n",
				"  **configs[\"vector_db\"][\"qdrant\"][\"...\"]\n",
				")"
			]
		},
		{
			"cell_type": "code",
			"execution_count": null,
			"metadata": {},
			"outputs": [],
			"source": [
				"# qdrant_txt.add_documents(docs_txt)"
			]
		},
		{
			"cell_type": "markdown",
			"metadata": {},
			"source": [
				"## table"
			]
		},
		{
			"cell_type": "markdown",
			"metadata": {},
			"source": [
				"### File 1"
			]
		},
		{
			"cell_type": "code",
			"execution_count": null,
			"metadata": {},
			"outputs": [],
			"source": [
				"qdrant_csv = stores.QdrantWrapper(\n",
				"\tqdrant_host=os.getenv(\"QDRANT_HOST\"),\n",
				"\tqdrant_api_key=os.getenv(\"QDRANT_API_KEY\"),\n",
				"\tconfigs=configs,\n",
				"\t**configs[\"vector_db\"][\"qdrant\"][\"...\"]\n",
				")"
			]
		},
		{
			"cell_type": "code",
			"execution_count": null,
			"metadata": {},
			"outputs": [],
			"source": [
				"qdrant_csv.add_documents(docs_csv)"
			]
		},
		{
			"cell_type": "markdown",
			"metadata": {},
			"source": [
				"### File 2"
			]
		},
		{
			"cell_type": "code",
			"execution_count": null,
			"metadata": {},
			"outputs": [],
			"source": [
				"qdrant_csv = stores.QdrantWrapper(\n",
				"\tqdrant_host=os.getenv(\"QDRANT_HOST\"),\n",
				"\tqdrant_api_key=os.getenv(\"QDRANT_API_KEY\"),\n",
				"\tconfigs=configs,\n",
				"\t**configs[\"vector_db\"][\"qdrant\"][\"...\"]\n",
				")"
			]
		},
		{
			"cell_type": "code",
			"execution_count": null,
			"metadata": {},
			"outputs": [],
			"source": [
				"qdrant_csv.add_documents(docs_csv)"
			]
		},
		{
			"cell_type": "markdown",
			"metadata": {},
			"source": [
				"# Test"
			]
		},
		{
			"cell_type": "code",
			"execution_count": null,
			"metadata": {},
			"outputs": [],
			"source": [
				"qdrant_lectures_content = stores.QdrantWrapper(\n",
				"  qdrant_host=os.getenv(\"QDRANT_HOST\"),\n",
				"  qdrant_api_key=os.getenv(\"QDRANT_API_KEY\"),\n",
				"  configs=configs,\n",
				"  **configs[\"vector_db\"][\"qdrant\"][\"lectures_content\"],\n",
				")"
			]
		},
		{
			"cell_type": "code",
			"execution_count": 6,
			"metadata": {},
			"outputs": [],
			"source": [
				"examples_fewshot_tmp = dict(configs[\"sql\"][\"examples_questions_to_sql\"]).values()\n",
				"examples_questions_to_sql = [example for sublist in examples_fewshot_tmp for example in sublist]\n",
				"\n",
				"proper_nouns = configs[\"sql\"][\"proper_nouns\"]\n",
				"\n",
				"my_sql_db = sql.MySQLDatabase()\n",
				"\n",
				"cfg_sql_tool = configs[\"sql\"][\"tool\"]\n",
				"\n",
				"my_sql_chain = chains.MySqlChain(\n",
				"\tmy_sql_db=my_sql_db,\n",
				"\tllm=llm,\n",
				"\tembeddings=embeddings,\n",
				"\tvectorstore=vectorstore,\n",
				"\tproper_nouns=proper_nouns,\n",
				"\tk_retriever_proper_nouns=4,\n",
				"\texamples_questions_to_sql=examples_questions_to_sql,\n",
				"\tk_few_shot_examples=5,\n",
				"\tis_debug=True,\n",
				"\ttool_name=cfg_sql_tool[\"name\"],\n",
				"\ttool_description=cfg_sql_tool[\"description\"],\n",
				"\ttool_metadata=cfg_sql_tool[\"metadata\"],\n",
				"\ttool_tags=cfg_sql_tool[\"tags\"],\n",
				")\n",
				"\n",
				"tool_chain_sql = my_sql_chain.create_tool_chain_sql()"
			]
		},
		{
			"cell_type": "code",
			"execution_count": 7,
			"metadata": {},
			"outputs": [
				{
					"name": "stderr",
					"output_type": "stream",
					"text": [
						"\u001b[32m2024-06-04 11:23:21.123\u001b[0m | \u001b[1mINFO    \u001b[0m | \u001b[36mtoolkit.langchain.agents\u001b[0m:\u001b[36m_create_agent\u001b[0m:\u001b[36m157\u001b[0m - \u001b[1mAgent type: tool_calling\u001b[0m\n"
					]
				}
			],
			"source": [
				"llm = models.chat_openai\n",
				"\n",
				"tools = [\n",
				"\tqdrant_txt_vtc_faq.retriever_tool,\n",
				"\tqdrant_txt_onli_faq.retriever_tool,\n",
				"\ttool_chain_sql,\n",
				"]\n",
				"\n",
				"system_message_custom = configs[\"prompts\"][\"system_message_vtc\"]\n",
				"prompt = prompts.create_prompt_tool_calling_agent(system_message_custom)\n",
				"\n",
				"agent = agents.MyStatelessAgent(\n",
				"\tllm=llm,\n",
				"\ttools=tools,\n",
				"\tprompt=prompt,\n",
				"\tagent_type=configs[\"agents\"][\"type\"],\n",
				"\tagent_verbose=True,\n",
				")"
			]
		},
		{
			"cell_type": "code",
			"execution_count": 9,
			"metadata": {},
			"outputs": [
				{
					"name": "stderr",
					"output_type": "stream",
					"text": [
						"\u001b[32m2024-06-04 11:23:37.370\u001b[0m | \u001b[1mINFO    \u001b[0m | \u001b[36mtoolkit.langchain.agents\u001b[0m:\u001b[36m__init__\u001b[0m:\u001b[36m90\u001b[0m - \u001b[1mUser Id: admin\u001b[0m\n",
						"\u001b[32m2024-06-04 11:23:37.371\u001b[0m | \u001b[1mINFO    \u001b[0m | \u001b[36mtoolkit.langchain.agents\u001b[0m:\u001b[36m__init__\u001b[0m:\u001b[36m91\u001b[0m - \u001b[1mSession Id: Mark Ramos-60a18a5b\u001b[0m\n",
						"\u001b[32m2024-06-04 11:23:37.371\u001b[0m | \u001b[1mINFO    \u001b[0m | \u001b[36mtoolkit.langchain.agents\u001b[0m:\u001b[36m__init__\u001b[0m:\u001b[36m92\u001b[0m - \u001b[1mHistory Type: in_memory\u001b[0m\n"
					]
				},
				{
					"name": "stdout",
					"output_type": "stream",
					"text": [
						"\n",
						"\n",
						"\u001b[1m> Entering new AgentExecutor chain...\u001b[0m\n",
						"\u001b[32;1m\u001b[1;3m\n",
						"Invoking: `sql_executor` with `{'question': 'Các khoá học về lập trình trên Onlinica'}`\n",
						"\n",
						"\n",
						"\u001b[0m"
					]
				},
				{
					"name": "stderr",
					"output_type": "stream",
					"text": [
						"WARNING:langchain_core.callbacks.manager:Error in LangChainTracer.on_tool_end callback: TracerException(\"Found chain run at ID 63acc761-d308-4036-8237-5482bf8a32b4, but expected {'tool'} run.\")\n"
					]
				},
				{
					"name": "stdout",
					"output_type": "stream",
					"text": [
						"\u001b[38;5;200m\u001b[1;3m{'question': 'Các khoá học về lập trình trên Onlinica', 'table_names_to_use': ['onli_course_list'], 'proper_nouns': 'Lập trình\\nGiảng viên Onlinica\\nGiảng viên Onlinica (AI)\\nMs. Đoàn Phương Trúc', 'examples': [{'input': \"Can you tell me about the course 'Kỹ năng quản lý thời gian'?\", 'query': \"SELECT * FROM courses WHERE course_name = 'Kỹ năng quản lý thời gian';\"}, {'input': 'What are the different courses offered?', 'query': 'SELECT DISTINCT course_name FROM courses;'}, {'input': 'What is the distribution of course hours across different subjects?', 'query': 'SELECT subject, SUM(hour) AS total_hours FROM courses GROUP BY subject;'}, {'input': 'Which subject has the most number of courses?', 'query': 'SELECT subject, COUNT(course_name) AS num_courses FROM courses GROUP BY subject ORDER BY num_courses DESC LIMIT 1;'}, {'input': 'Can you provide a breakdown of learning outcomes for each course?', 'query': 'SELECT course_name, learning_outcome FROM courses;'}], 'query': 'SELECT \"course_name\", \"course_category\", \"instructor_name\", \"course_link\", \"course_description\" \\nFROM onli_course_list \\nWHERE \"course_category\" = \\'Lập trình\\'\\nLIMIT 5;', 'result': '[(\\'KHÁM PHÁ NGÀNH GAME DEVELOPER - NHẬP MÔN\\', \\'Lập trình\\', \\'Mr. Dương Hoàng Thanh\\', \\'https://onlinica.com/courses/course-v1:Onlinica+008+2022_008/about\\', \\'Khóa học này cung cấp kiến thức về quy trình tạo ra một video game, bao gồm lập trình, thiết kế hình ảnh, âm thanh và dữ liệu. Học viên sẽ hiểu rõ về vai trò và cơ hội việc làm của một Game Developer.\\'), (\\'LẬP TRÌNH PYTHON CĂN BẢN VỚI BIẾN VÀ VÒNG LẶP\\', \\'Lập trình\\', \\'Mr. Đinh Nguyễn Trọng Nghĩa\\', \\'https://onlinica.com/courses/course-v1:Onlinica+152+2023_152/about \\', \\'Khóa học \"Lập trình Python căn bản với biến và vòng lặp\" giúp học viên tiếp cận ngôn ngữ lập trình Python một cách dễ hiểu và nhanh chóng, với sự hướng dẫn của thầy Trọng Nghĩa có hơn 10 năm kinh nghiệm. Khóa học không chỉ cung cấp kiến thức căn bản mà còn chia sẻ bí quyết và kinh nghiệm riêng...\\'), (\\'XÂY DỰNG MỘT GAME ĐƠN GIẢN BẰNG PYTHON\\', \\'Lập trình\\', \\'Mr. Đinh Nguyễn Trọng Nghĩa\\', \\'https://onlinica.com/courses/course-v1:Onlinica+237+2023_237/about\\', \\'Khóa học \"Xây dựng game đơn giản bằng Python\" sẽ giúp bạn hiểu cơ bản về lập trình Python và áp dụng nó trong phát triển game, thực hành xây dựng luật chơi, tạo ra các trò chơi đơn giản, tối ưu hóa và điều chỉnh trò chơi để hoàn hảo. Hướng dẫn bởi giảng viên có kinh nghiệm, khóa học sẽ giúp bạn...\\'), (\\'THIẾT KẾ CƠ SỞ DỮ LIỆU\\', \\'Lập trình\\', \\'Mr. Nguyễn Đức Giang\\', \\'https://onlinica.com/courses/course-v1:Onlinica+VTCA-271+2023_VTCA_271/about\\', \\'Khóa học \"Thiết kế cơ sở dữ liệu\" của Onlinica cung cấp kiến thức về các khái niệm cơ bản, bước thiết kế cơ sở dữ liệu và nguyên tắc thiết kế cơ sở dữ liệu tốt, phù hợp cho sinh viên ngành công nghệ thông tin, người mới học lập trình và lập trình viên muốn nâng cao kiến thức.\\'), (\\'NHẬP MÔN NGÀNH LẬP TRÌNH WEB  FULL-STACK \\', \\'Lập trình\\', \\'Ms. Lê Thị Cẩm Thi\\', \\'https://onlinica.com/courses/course-v1:Onlinica+036+2022_036/about#shortDes\\', \\'Khóa học \"Nhập môn ngành lập trình Web Full-stack\" tại Onlinica sẽ giúp bạn định hướng và chuẩn bị cho việc theo đuổi ngành lập trình Web. Cô Cẩm Thi, người có nhiều năm kinh nghiệm trong ngành, sẽ hướng dẫn bạn về lộ trình thăng tiến sau khóa học và yếu tố cần thiết để thành công trong lĩnh vực...\\')]', 'output': 'Các khoá học về lập trình trên Onlinica là:\\n1. KHÁM PHÁ NGÀNH GAME DEVELOPER - NHẬP MÔN\\n2. LẬP TRÌNH PYTHON CĂN BẢN VỚI BIẾN VÀ VÒNG LẶP\\n3. XÂY DỰNG MỘT GAME ĐƠN GIẢN BẰNG PYTHON\\n4. THIẾT KẾ CƠ SỞ DỮ LIỆU\\n5. NHẬP MÔN NGÀNH LẬP TRÌNH WEB FULL-STACK'}\u001b[0m\u001b[32;1m\u001b[1;3mCác khoá học về lập trình trên Onlinica là:\n",
						"1. KHÁM PHÁ NGÀNH GAME DEVELOPER - NHẬP MÔN\n",
						"2. LẬP TRÌNH PYTHON CĂN BẢN VỚI BIẾN VÀ VÒNG LẶP\n",
						"3. XÂY DỰNG MỘT GAME ĐƠN GIẢN BẰNG PYTHON\n",
						"4. THIẾT KẾ CƠ SỞ DỮ LIỆU\n",
						"5. NHẬP MÔN NGÀNH LẬP TRÌNH WEB FULL-STACK\n",
						"\n",
						"Bạn có thể tìm hiểu thêm về từng khoá học bằng cách truy cập vào các liên kết tương ứng.\u001b[0m\n",
						"\n",
						"\u001b[1m> Finished chain.\u001b[0m\n"
					]
				}
			],
			"source": [
				"result = await agent.invoke_agent(\n",
				"  # \"Xin chào\",\n",
				"  \"Các khoá học về lập trình trên Onlinica?\",\n",
				"  # \"Chi tiết khoá học THIẾT KẾ CƠ SỞ DỮ LIỆU Onlinica\",\n",
				"\thistory_type=\"in_memory\"\n",
				")"
			]
		},
		{
			"cell_type": "code",
			"execution_count": 20,
			"metadata": {},
			"outputs": [
				{
					"name": "stdout",
					"output_type": "stream",
					"text": [
						"('Here are some programming courses offered by Onlinica:\\n'\n",
						" '1. KHÁM PHÁ NGÀNH GAME DEVELOPER - NHẬP MÔN\\n'\n",
						" '2. LẬP TRÌNH PYTHON CĂN BẢN VỚI BIẾN VÀ VÒNG LẶP\\n'\n",
						" '3. XÂY DỰNG MỘT GAME ĐƠN GIẢN BẰNG PYTHON\\n'\n",
						" '4. THIẾT KẾ CƠ SỞ DỮ LIỆU\\n'\n",
						" '5. NHẬP MÔN NGÀNH LẬP TRÌNH WEB FULL-STACK\\n'\n",
						" '\\n'\n",
						" 'If you need more information about any specific course, feel free to ask!')\n"
					]
				}
			],
			"source": [
				"pprint(result)"
			]
		},
		{
			"cell_type": "code",
			"execution_count": null,
			"metadata": {},
			"outputs": [],
			"source": [
				"input_message = questions[1]\n",
				"# await agent.stream_conversable_agent(questions[2])\n",
				"result = agent.invoke_agent(input_message)\n",
				"# await agent.stream_agent(input_message)\n",
				"pprint(result)"
			]
		}
	],
	"metadata": {
		"kernelspec": {
			"display_name": "LLM",
			"language": "python",
			"name": "python3"
		},
		"language_info": {
			"codemirror_mode": {
				"name": "ipython",
				"version": 3
			},
			"file_extension": ".py",
			"mimetype": "text/x-python",
			"name": "python",
			"nbconvert_exporter": "python",
			"pygments_lexer": "ipython3",
			"version": "3.11.9"
		}
	},
	"nbformat": 4,
	"nbformat_minor": 2
}
