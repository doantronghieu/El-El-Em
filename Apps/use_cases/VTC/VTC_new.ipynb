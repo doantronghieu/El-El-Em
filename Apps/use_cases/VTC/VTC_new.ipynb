{
	"cells": [
		{
			"cell_type": "code",
			"execution_count": 3,
			"metadata": {
				"notebookRunGroups": {
					"groupValue": "1"
				}
			},
			"outputs": [
				{
					"name": "stderr",
					"output_type": "stream",
					"text": [
						"/opt/homebrew/Caskroom/miniconda/base/envs/llm/lib/python3.11/site-packages/tqdm/auto.py:21: TqdmWarning: IProgress not found. Please update jupyter and ipywidgets. See https://ipywidgets.readthedocs.io/en/stable/user_install.html\n",
						"  from .autonotebook import tqdm as notebook_tqdm\n"
					]
				}
			],
			"source": [
				"import yaml\n",
				"import add_packages\n",
				"from pprint import pprint\n",
				"import os, re\n",
				"import pandas as pd\n",
				"# import tqdm\n",
				"from tqdm.auto import tqdm\n",
				"\n",
				"from toolkit.langchain import (\n",
				"\tdocument_loaders, text_splitters, text_embedding_models, stores, \n",
				"\tprompts, utils, output_parsers, agents, documents, models,\n",
				"\trunnables, tools, chains\n",
				")\n",
				"\n",
				"from toolkit import sql\n",
				"\n",
				"PATH_DATA = f\"{add_packages.APP_PATH}/data/vtc\"\n",
				"FILE_CFG = \"vtc.yaml\"\n",
				"tqdm.pandas(desc=\"Processing\")\n",
				"\n",
				"with open(f\"{add_packages.APP_PATH}/my_configs/{FILE_CFG}\", 'r') as file:\n",
				"    configs = yaml.safe_load(file)"
			]
		},
		{
			"cell_type": "code",
			"execution_count": 4,
			"metadata": {},
			"outputs": [],
			"source": [
				"llm = models.chat_openai\n",
				"my_sql_db = sql.MySQLDatabase()\n",
				"embeddings = text_embedding_models.OpenAIEmbeddings()\n",
				"vectorstore = stores.faiss.FAISS"
			]
		},
		{
			"cell_type": "markdown",
			"metadata": {},
			"source": [
				"# Data"
			]
		},
		{
			"cell_type": "markdown",
			"metadata": {},
			"source": [
				"## txt - FAQ"
			]
		},
		{
			"cell_type": "markdown",
			"metadata": {},
			"source": [
				"### vtc_faq"
			]
		},
		{
			"cell_type": "code",
			"execution_count": null,
			"metadata": {},
			"outputs": [],
			"source": [
				"path_txt = f\"{PATH_DATA}/vtc_faq.txt\""
			]
		},
		{
			"cell_type": "code",
			"execution_count": null,
			"metadata": {},
			"outputs": [],
			"source": [
				"loader_txt = document_loaders.TextLoader(path_txt)\n",
				"doc_txt = loader_txt.load()\n",
				"\n",
				"text_splitter = text_splitters.RecursiveCharacterTextSplitter(\n",
				"\t# chunk_size=500, chunk_overlap=100,\n",
				"\tseparators=[\"##\"], chunk_size=150, chunk_overlap=0,\n",
				")\n",
				"docs_txt = text_splitter.split_documents(doc_txt)\n",
				"docs_txt = docs_txt[1:]\n",
				"\n",
				"metadatas = {\n",
				"\t\"data\": \"frequently asked questions\"\n",
				"}\n",
				"utils.remove_metadata(docs_txt, \"source\")\n",
				"utils.update_metadata(docs_txt, metadatas)"
			]
		},
		{
			"cell_type": "code",
			"execution_count": null,
			"metadata": {},
			"outputs": [],
			"source": [
				"docs_txt_vtc_faq = docs_txt"
			]
		},
		{
			"cell_type": "markdown",
			"metadata": {},
			"source": [
				"### onli_faq"
			]
		},
		{
			"cell_type": "code",
			"execution_count": null,
			"metadata": {},
			"outputs": [],
			"source": [
				"path_txt = f\"{PATH_DATA}/onli_faq.txt\""
			]
		},
		{
			"cell_type": "code",
			"execution_count": null,
			"metadata": {},
			"outputs": [],
			"source": [
				"loader_txt = document_loaders.TextLoader(path_txt)\n",
				"doc_txt = loader_txt.load()\n",
				"\n",
				"text_splitter = text_splitters.RecursiveCharacterTextSplitter(\n",
				"\t# chunk_size=500, chunk_overlap=100,\n",
				"\tseparators=[\"##\"], chunk_size=150, chunk_overlap=0,\n",
				")\n",
				"docs_txt = text_splitter.split_documents(doc_txt)\n",
				"docs_txt = docs_txt[1:]\n",
				"\n",
				"metadatas = {\n",
				"\t\"data\": \"frequently asked questions\"\n",
				"}\n",
				"utils.remove_metadata(docs_txt, \"source\")\n",
				"utils.update_metadata(docs_txt, metadatas)"
			]
		},
		{
			"cell_type": "code",
			"execution_count": null,
			"metadata": {},
			"outputs": [],
			"source": [
				"docs_txt_onli_faq = docs_txt"
			]
		},
		{
			"cell_type": "markdown",
			"metadata": {},
			"source": [
				"### File 3"
			]
		},
		{
			"cell_type": "code",
			"execution_count": null,
			"metadata": {},
			"outputs": [],
			"source": [
				"path_txt = f\"{PATH_DATA}/faq.txt\""
			]
		},
		{
			"cell_type": "code",
			"execution_count": null,
			"metadata": {},
			"outputs": [],
			"source": [
				"loader_txt = document_loaders.TextLoader(path_txt)\n",
				"doc_txt = loader_txt.load()\n",
				"\n",
				"text_splitter = text_splitters.RecursiveCharacterTextSplitter(\n",
				"\t# chunk_size=500, chunk_overlap=100,\n",
				"\tseparators=[\"##\"], chunk_size=150, chunk_overlap=0,\n",
				")\n",
				"docs_txt = text_splitter.split_documents(doc_txt)\n",
				"docs_txt = docs_txt[1:]\n",
				"\n",
				"metadatas = {\n",
				"\t\"data\": \"frequently asked questions\"\n",
				"}\n",
				"utils.remove_metadata(docs_txt, \"source\")\n",
				"utils.update_metadata(docs_txt, metadatas)"
			]
		},
		{
			"cell_type": "markdown",
			"metadata": {},
			"source": [
				"## table"
			]
		},
		{
			"cell_type": "markdown",
			"metadata": {},
			"source": [
				"### onli_course_list"
			]
		},
		{
			"cell_type": "code",
			"execution_count": 5,
			"metadata": {},
			"outputs": [],
			"source": [
				"file_csv = \"onli_course_list.xlsx\"\n",
				"path_csv = f\"{PATH_DATA}/{file_csv}\"\n",
				"path_csv_processed = f\"{PATH_DATA}/{file_csv.split('.')[0]}2.xlsx\""
			]
		},
		{
			"cell_type": "code",
			"execution_count": 6,
			"metadata": {},
			"outputs": [
				{
					"data": {
						"text/html": [
							"<div>\n",
							"<style scoped>\n",
							"    .dataframe tbody tr th:only-of-type {\n",
							"        vertical-align: middle;\n",
							"    }\n",
							"\n",
							"    .dataframe tbody tr th {\n",
							"        vertical-align: top;\n",
							"    }\n",
							"\n",
							"    .dataframe thead th {\n",
							"        text-align: right;\n",
							"    }\n",
							"</style>\n",
							"<table border=\"1\" class=\"dataframe\">\n",
							"  <thead>\n",
							"    <tr style=\"text-align: right;\">\n",
							"      <th></th>\n",
							"      <th>course_name</th>\n",
							"      <th>course_category</th>\n",
							"      <th>instructor_name</th>\n",
							"      <th>course_link</th>\n",
							"      <th>course_description</th>\n",
							"    </tr>\n",
							"  </thead>\n",
							"  <tbody>\n",
							"    <tr>\n",
							"      <th>0</th>\n",
							"      <td>Hội Họa: Màu Sắc Và Phối Màu Cơ Bản</td>\n",
							"      <td>Thiết kế</td>\n",
							"      <td>Lê Hoàng Anh Thi</td>\n",
							"      <td>https://onlinica.com/courses/course-v1:Onlinic...</td>\n",
							"      <td>Khóa học \"Màu sắc và cách phối màu cơ bản\" cun...</td>\n",
							"    </tr>\n",
							"    <tr>\n",
							"      <th>1</th>\n",
							"      <td>Kỹ Năng Quản Lý Thời Gian</td>\n",
							"      <td>Phát triển cá nhân</td>\n",
							"      <td>Nguyễn Thu Hà</td>\n",
							"      <td>https://onlinica.com/courses/course-v1:Onlinic...</td>\n",
							"      <td>Khóa học này sẽ giúp bạn hiểu và áp dụng kỹ nă...</td>\n",
							"    </tr>\n",
							"    <tr>\n",
							"      <th>2</th>\n",
							"      <td>Kỹ Năng Sinh Tồn Trong Thành Phố</td>\n",
							"      <td>Phát triển cá nhân</td>\n",
							"      <td>Lê Diệu Hiền</td>\n",
							"      <td>https://onlinica.com/courses/course-v1:Onlinic...</td>\n",
							"      <td>Khóa học của Onlinica giúp trang bị kỹ năng tì...</td>\n",
							"    </tr>\n",
							"    <tr>\n",
							"      <th>3</th>\n",
							"      <td>Khám Phá Ngành Digital Marketing</td>\n",
							"      <td>Digital Marketing</td>\n",
							"      <td>Nguyễn Khánh Ly</td>\n",
							"      <td>https://onlinica.com/courses/course-v1:Onlinic...</td>\n",
							"      <td>Khóa học \"Khám phá ngành Digital Marketing\" củ...</td>\n",
							"    </tr>\n",
							"    <tr>\n",
							"      <th>4</th>\n",
							"      <td>Kỹ Năng Phỏng Vấn Tìm Việc Làm</td>\n",
							"      <td>Kỹ năng mềm</td>\n",
							"      <td>Bùi Thương Huyền</td>\n",
							"      <td>https://onlinica.com/courses/course-v1:Onlinic...</td>\n",
							"      <td>Khóa học này cung cấp các kỹ năng cần thiết để...</td>\n",
							"    </tr>\n",
							"  </tbody>\n",
							"</table>\n",
							"</div>"
						],
						"text/plain": [
							"                           course_name     course_category   instructor_name  \\\n",
							"0  Hội Họa: Màu Sắc Và Phối Màu Cơ Bản            Thiết kế  Lê Hoàng Anh Thi   \n",
							"1            Kỹ Năng Quản Lý Thời Gian  Phát triển cá nhân     Nguyễn Thu Hà   \n",
							"2     Kỹ Năng Sinh Tồn Trong Thành Phố  Phát triển cá nhân      Lê Diệu Hiền   \n",
							"3     Khám Phá Ngành Digital Marketing   Digital Marketing   Nguyễn Khánh Ly   \n",
							"4       Kỹ Năng Phỏng Vấn Tìm Việc Làm         Kỹ năng mềm  Bùi Thương Huyền   \n",
							"\n",
							"                                         course_link  \\\n",
							"0  https://onlinica.com/courses/course-v1:Onlinic...   \n",
							"1  https://onlinica.com/courses/course-v1:Onlinic...   \n",
							"2  https://onlinica.com/courses/course-v1:Onlinic...   \n",
							"3  https://onlinica.com/courses/course-v1:Onlinic...   \n",
							"4  https://onlinica.com/courses/course-v1:Onlinic...   \n",
							"\n",
							"                                  course_description  \n",
							"0  Khóa học \"Màu sắc và cách phối màu cơ bản\" cun...  \n",
							"1  Khóa học này sẽ giúp bạn hiểu và áp dụng kỹ nă...  \n",
							"2  Khóa học của Onlinica giúp trang bị kỹ năng tì...  \n",
							"3  Khóa học \"Khám phá ngành Digital Marketing\" củ...  \n",
							"4  Khóa học này cung cấp các kỹ năng cần thiết để...  "
						]
					},
					"execution_count": 6,
					"metadata": {},
					"output_type": "execute_result"
				}
			],
			"source": [
				"df = pd.read_excel(\n",
				"\tpath_csv, \n",
				" \t# delimiter=\",\" # \",\" \";\"\n",
				")\n",
				"\n",
				"df.head()"
			]
		},
		{
			"cell_type": "markdown",
			"metadata": {},
			"source": [
				"#### Process"
			]
		},
		{
			"cell_type": "code",
			"execution_count": 18,
			"metadata": {},
			"outputs": [],
			"source": [
				"model = models.chat_openai\n",
				"\n",
				"template1 = \"\"\"\\\n",
				"Here is a description of a learning course:\n",
				"\n",
				"<course_description>\n",
				"{{COURSE_DESCRIPTION}}\n",
				"</course_description>\n",
				"\n",
				"Please read the course description carefully. Your task is to extract the core information from the description, leaving out any boilerplate or filler words that are not essential to understanding the key points of the course.\n",
				"\n",
				"Summarize the core information you have extracted in a single short paragraph. \n",
				"\n",
				"Provide your output in Vietnamese.\n",
				"{text}\"\"\"\n",
				"\n",
				"template2 = \"\"\"\\\n",
				"...\n",
				"{text}\n",
				"\"\"\"\n",
				"\n",
				"prompt_template1 = prompts.PromptTemplate.from_template(template1)\n",
				"prompt_template2 = prompts.PromptTemplate.from_template(template2)\n",
				"\n",
				"chain1 = prompt_template1 | model | output_parsers.StrOutputParser()\n",
				"chain2 = prompt_template2 | model | output_parsers.StrOutputParser()\n",
				"\n",
				"# chain = runnables.RunnablePassthrough.assign(\n",
				"#   text=chain1\n",
				"# ).assign(\n",
				"#   text=chain2\n",
				"# )\n",
				"\n",
				"chain = runnables.RunnablePassthrough.assign(\n",
				"  text=chain1\n",
				")\n",
				"\n",
				"def process_csv_col(text: str) -> str:\n",
				"  result = chain.invoke({\"text\": text})['text']\n",
				"  return result\n",
				"\n",
				"def capitalize_first_letter(s):\n",
				"\treturn ' '.join([word.capitalize() for word in s.split()])\n",
				"\n",
				"def change_col_value(df: pd.DataFrame, column_name: str, value, new_value):\n",
				"\tdf[column_name] = df[column_name].replace(value, new_value)\n",
				"\treturn df\n",
				"\n",
				"def replace_col_value_if_contains(df, column_name, substring, new_substring):\n",
				"\tdf[column_name] = df[column_name].str.replace(substring, new_substring)\n",
				"\treturn df\n",
				"\n",
				"# query = '...'\n",
				"# result = process_csv_col(query)\n",
				"# pprint(result)"
			]
		},
		{
			"cell_type": "code",
			"execution_count": null,
			"metadata": {},
			"outputs": [],
			"source": [
				"col_to_process = \"course_name\"\n",
				"\n",
				"df[col_to_process] = df[col_to_process].progress_apply(process_csv_col)\n",
				"\n",
				"df.to_excel(f\"{path_csv_processed}\", index=False)\n"
			]
		},
		{
			"cell_type": "code",
			"execution_count": null,
			"metadata": {},
			"outputs": [],
			"source": [
				"path_csv = path_csv_processed"
			]
		},
		{
			"cell_type": "markdown",
			"metadata": {},
			"source": [
				"#### Load"
			]
		},
		{
			"cell_type": "code",
			"execution_count": null,
			"metadata": {},
			"outputs": [],
			"source": [
				"path_csv"
			]
		},
		{
			"cell_type": "code",
			"execution_count": null,
			"metadata": {},
			"outputs": [],
			"source": [
				"csv_cols = list(df.columns)\n",
				"\n",
				"loader_csv = document_loaders.UnstructuredExcelLoader(\n",
				"\tpath_csv,\n",
				"\tmode=\"elements\"\n",
				")\n",
				"docs_csv = loader_csv.load_and_split()"
			]
		},
		{
			"cell_type": "code",
			"execution_count": null,
			"metadata": {},
			"outputs": [],
			"source": [
				"docs_csv = loader_csv.load()[1:]\n",
				"\n",
				"metadatas = {\n",
				"\t\"data\": \"...\"\n",
				"}\n",
				"\n",
				"utils.remove_metadata(docs_csv, \"source\")\n",
				"utils.remove_metadata(docs_csv, \"row\")\n",
				"utils.update_metadata(docs_csv, metadatas)"
			]
		},
		{
			"cell_type": "markdown",
			"metadata": {},
			"source": [
				"#### Load to sql"
			]
		},
		{
			"cell_type": "code",
			"execution_count": 10,
			"metadata": {},
			"outputs": [],
			"source": [
				"my_table_schema = [\n",
				"\t\"course_id SERIAL\",\n",
				"\t\"course_name VARCHAR(255) NOT NULL UNIQUE\",\n",
				"\t\"course_category VARCHAR(255) NOT NULL\",\n",
				"\t\"instructor_name VARCHAR(100) NOT NULL\",\n",
				"\t\"course_link VARCHAR(2048) NOT NULL UNIQUE\",\n",
				"\t\"course_description TEXT NOT NULL\",\n",
				"\t\"PRIMARY KEY (course_id)\",\n",
				"]\n",
				"my_table = sql.MySQLTable(\n",
				"\tname=\"onli_course_list\", \n",
				"\tschema=my_table_schema,\n",
				"\tdb=my_sql_db,\n",
				")\n",
				"my_table.create()\n",
				"\n",
				"db = stores.SQLDatabase.from_uri(my_sql_db.get_uri())\n",
				"llm = models.chat_openai\n",
				"\n",
				"embeddings = text_embedding_models.OpenAIEmbeddings()\n",
				"vectorstore = stores.faiss.FAISS\n",
				"\n",
				"table_cols = [col_description.split(\" \")[0] for col_description in my_table_schema][1:-1]\n"
			]
		},
		{
			"cell_type": "code",
			"execution_count": 12,
			"metadata": {},
			"outputs": [
				{
					"data": {
						"text/plain": [
							"['course_id SERIAL',\n",
							" 'course_name VARCHAR(255) NOT NULL UNIQUE',\n",
							" 'course_category VARCHAR(255) NOT NULL',\n",
							" 'instructor_name VARCHAR(100) NOT NULL',\n",
							" 'course_link VARCHAR(2048) NOT NULL UNIQUE',\n",
							" 'course_description TEXT NOT NULL',\n",
							" 'PRIMARY KEY (course_id)']"
						]
					},
					"execution_count": 12,
					"metadata": {},
					"output_type": "execute_result"
				}
			],
			"source": [
				"my_table.schema"
			]
		},
		{
			"cell_type": "code",
			"execution_count": null,
			"metadata": {},
			"outputs": [],
			"source": [
				"\"Can you list all the courses that have 'Game Developer' in their name?\",\n",
				"\"Which course has the shortest link?\", \"Are there any courses that have the same name but different instructors?\""
			]
		},
		{
			"cell_type": "code",
			"execution_count": null,
			"metadata": {},
			"outputs": [],
			"source": [
				"df = pd.read_excel(path_csv)\n",
				"df.columns = table_cols\n",
				"\n",
				"# my_table.insert_from_dataframe(df)"
			]
		},
		{
			"cell_type": "code",
			"execution_count": 13,
			"metadata": {},
			"outputs": [],
			"source": [
				"cols = [\"course_name\", \"course_category\", \"instructor_name\"]\n",
				"proper_nouns_onli_course_list = [value for col in cols for value in my_table.get_discrete_values_col(col)]"
			]
		},
		{
			"cell_type": "code",
			"execution_count": null,
			"metadata": {},
			"outputs": [],
			"source": [
				"questions = [\n",
				"  \"Which courses are available in the Design category?\",\n",
				"\t\"Who are the instructors for the Personal Development courses?\",\n",
				"\t\"Can you provide a summary of the course descriptions for the Digital Marketing category?\",\n",
				"\t\"Which courses have the longest descriptions?\",\n",
				"\t\"How many courses are offered by each instructor?\",\n",
				"\t\"Which course categories have the most number of courses?\",\n",
				"\t\"Can you tell me about the course 'Kỹ năng quản lý thời gian'?\",\n",
				"\t\"Which courses have the shortest descriptions?\",\n",
				"\t\"Which instructors have the most number of courses?\",\n",
				"\t\"Can you list all the courses that are related to Personal Development?\"\n",
				"]\n",
				"\n",
				"examples_questions_to_sql_onli_course_list = [\n",
				"    {\n",
				"        \"input\": \"Which courses are available in the Design category?\",\n",
				"        \"query\": \"SELECT course_name FROM courses WHERE course_category = 'Design';\"\n",
				"    },\n",
				"    {\n",
				"        \"input\": \"Who are the instructors for the Personal Development courses?\",\n",
				"        \"query\": \"SELECT DISTINCT instructor_name FROM courses WHERE course_category = 'Personal Development';\"\n",
				"    },\n",
				"    {\n",
				"        \"input\": \"Can you provide a summary of the course descriptions for the Digital Marketing category?\",\n",
				"        \"query\": \"SELECT course_name, SUBSTRING(course_description, 1, 100) AS summary FROM courses WHERE course_category = 'Digital Marketing';\"\n",
				"    },\n",
				"    {\n",
				"        \"input\": \"Which courses have the longest descriptions?\",\n",
				"        \"query\": \"SELECT course_name, LENGTH(course_description) AS description_length FROM courses ORDER BY description_length DESC LIMIT 5;\"\n",
				"    },\n",
				"    {\n",
				"        \"input\": \"How many courses are offered by each instructor?\",\n",
				"        \"query\": \"SELECT instructor_name, COUNT(course_id) AS num_courses FROM courses GROUP BY instructor_name;\"\n",
				"    },\n",
				"    {\n",
				"        \"input\": \"Which course categories have the most number of courses?\",\n",
				"        \"query\": \"SELECT course_category, COUNT(course_id) AS num_courses FROM courses GROUP BY course_category ORDER BY num_courses DESC LIMIT 5;\"\n",
				"    },\n",
				"    {\n",
				"        \"input\": \"Can you tell me about the course 'Kỹ năng quản lý thời gian'?\",\n",
				"        \"query\": \"SELECT * FROM courses WHERE course_name = 'Kỹ năng quản lý thời gian';\"\n",
				"    },\n",
				"    {\n",
				"        \"input\": \"Which courses have the shortest descriptions?\",\n",
				"        \"query\": \"SELECT course_name, LENGTH(course_description) AS description_length FROM courses ORDER BY description_length ASC LIMIT 5;\"\n",
				"    },\n",
				"    {\n",
				"        \"input\": \"Which instructors have the most number of courses?\",\n",
				"        \"query\": \"SELECT instructor_name, COUNT(course_id) AS num_courses FROM courses GROUP BY instructor_name ORDER BY num_courses DESC LIMIT 5;\"\n",
				"    },\n",
				"    {\n",
				"        \"input\": \"Can you list all the courses that are related to Personal Development?\",\n",
				"        \"query\": \"SELECT course_name FROM courses WHERE course_category = 'Personal Development';\"\n",
				"    }\n",
				"]"
			]
		},
		{
			"cell_type": "markdown",
			"metadata": {},
			"source": [
				"### File vtc_course_list"
			]
		},
		{
			"cell_type": "code",
			"execution_count": 17,
			"metadata": {},
			"outputs": [],
			"source": [
				"file_xlsx = \"vtc_course_list.xlsx\"\n",
				"path_xlsx = f\"{PATH_DATA}/{file_xlsx}\"\n",
				"path_xlsx_processed = f\"{PATH_DATA}/{file_xlsx.split('.')[0]}-prod.xlsx\""
			]
		},
		{
			"cell_type": "code",
			"execution_count": 18,
			"metadata": {},
			"outputs": [
				{
					"data": {
						"text/html": [
							"<div>\n",
							"<style scoped>\n",
							"    .dataframe tbody tr th:only-of-type {\n",
							"        vertical-align: middle;\n",
							"    }\n",
							"\n",
							"    .dataframe tbody tr th {\n",
							"        vertical-align: top;\n",
							"    }\n",
							"\n",
							"    .dataframe thead th {\n",
							"        text-align: right;\n",
							"    }\n",
							"</style>\n",
							"<table border=\"1\" class=\"dataframe\">\n",
							"  <thead>\n",
							"    <tr style=\"text-align: right;\">\n",
							"      <th></th>\n",
							"      <th>category</th>\n",
							"      <th>academic_program</th>\n",
							"      <th>program_type</th>\n",
							"      <th>reference_link</th>\n",
							"      <th>program_format</th>\n",
							"      <th>program_duration</th>\n",
							"      <th>program_time</th>\n",
							"      <th>no_enrollments</th>\n",
							"      <th>admission_targets</th>\n",
							"      <th>admission_form</th>\n",
							"      <th>program_schedule</th>\n",
							"      <th>program_introduction</th>\n",
							"      <th>program_outcomes</th>\n",
							"      <th>requirements</th>\n",
							"      <th>tuition</th>\n",
							"      <th>training_roadmap</th>\n",
							"    </tr>\n",
							"  </thead>\n",
							"  <tbody>\n",
							"    <tr>\n",
							"      <th>0</th>\n",
							"      <td>Thiết kế</td>\n",
							"      <td>Thiết kế Dựng hình 3D (3D Modelling)</td>\n",
							"      <td>Tiêu chuẩn</td>\n",
							"      <td>https://vtc.edu.vn/course/chuyen-vien-dung-hin...</td>\n",
							"      <td>Tập trung</td>\n",
							"      <td>Dài hạn</td>\n",
							"      <td>2 năm</td>\n",
							"      <td>390.0</td>\n",
							"      <td>- Các bạn trẻ yêu thiết kế và thích làm việc t...</td>\n",
							"      <td>- Đối tượng 1: Học sinh THPT\\n  - Đã tốt nghiệ...</td>\n",
							"      <td>- Giờ học: Ban ngày\\n- Đợt 1: 04/2024\\n- Đợt 2...</td>\n",
							"      <td>- Thiết kế 3D (3D Design) là công việc sử dụng...</td>\n",
							"      <td>- Được trang bị đầy đủ những kiến thức chuyên ...</td>\n",
							"      <td>VTC Academy sẽ đào tạo từ đầu đến cuối, chương...</td>\n",
							"      <td>Liên hệ để được hỗ trợ chi tiết và nhận ưu đãi...</td>\n",
							"      <td>- Học kỳ 1: Nền tảng mỹ thuật\\n    - Định hướn...</td>\n",
							"    </tr>\n",
							"    <tr>\n",
							"      <th>1</th>\n",
							"      <td>Thiết kế</td>\n",
							"      <td>Hoạt hình/Diễn hoạt 3D ( 3D Animation)</td>\n",
							"      <td>Tiêu chuẩn</td>\n",
							"      <td>https://vtc.edu.vn/course/chuyen-vien-dien-hoa...</td>\n",
							"      <td>Tập trung</td>\n",
							"      <td>Dài hạn</td>\n",
							"      <td>2 năm</td>\n",
							"      <td>390.0</td>\n",
							"      <td>- Các bạn trẻ yêu thiết kế và thích làm việc t...</td>\n",
							"      <td>- Đối tượng 1: Học sinh THPT\\n  - Đã tốt nghiệ...</td>\n",
							"      <td>- Giờ học: Ban ngày\\n- Đợt 1: 04/2024\\n- Đợt 2...</td>\n",
							"      <td>- Hoạt hình 3D (3D Animation) là công việc sử ...</td>\n",
							"      <td>- Được trang bị đầy đủ những kiến thức chuyên ...</td>\n",
							"      <td>VTC Academy sẽ đào tạo từ đầu đến cuối, chương...</td>\n",
							"      <td>Liên hệ để được hỗ trợ chi tiết và nhận ưu đãi...</td>\n",
							"      <td>- Học kỳ 1: Nền tảng mỹ thuật\\n    - Định hướn...</td>\n",
							"    </tr>\n",
							"    <tr>\n",
							"      <th>2</th>\n",
							"      <td>Thiết kế</td>\n",
							"      <td>Thiết kế đồ họa (Digital Graphic Design)</td>\n",
							"      <td>Tiêu chuẩn</td>\n",
							"      <td>https://vtc.edu.vn/course/chuyen-vien-thiet-ke...</td>\n",
							"      <td>Tập trung</td>\n",
							"      <td>Dài hạn</td>\n",
							"      <td>2 năm</td>\n",
							"      <td>390.0</td>\n",
							"      <td>-  Những người muốn chuyển ngành sang thiết kế...</td>\n",
							"      <td>- Đối tượng 1: Học sinh THPT\\n  - Đã tốt nghiệ...</td>\n",
							"      <td>- Giờ học: Ban ngày\\n- Đợt 1: 04/2024\\n- Đợt 2...</td>\n",
							"      <td>- Thiết kế đồ họa là công việc sử dụng các côn...</td>\n",
							"      <td>- Được trang bị đầy đủ những kiến thức chuyên ...</td>\n",
							"      <td>VTC Academy sẽ đào tạo từ đầu đến cuối, chương...</td>\n",
							"      <td>Liên hệ để được hỗ trợ chi tiết và nhận ưu đãi...</td>\n",
							"      <td>- Học kỳ 1: Nền tảng mỹ thuật\\n    - Định hướn...</td>\n",
							"    </tr>\n",
							"    <tr>\n",
							"      <th>3</th>\n",
							"      <td>Công nghệ thông tin</td>\n",
							"      <td>Lập trình Game (Game Development)</td>\n",
							"      <td>Tiêu chuẩn</td>\n",
							"      <td>https://vtc.edu.vn/course/chuyen-vien-phat-tri...</td>\n",
							"      <td>Tập trung</td>\n",
							"      <td>Dài hạn</td>\n",
							"      <td>2 năm</td>\n",
							"      <td>390.0</td>\n",
							"      <td>- Những người muốn trở thành Chuyên viên Lập t...</td>\n",
							"      <td>- Đối tượng 1: Học sinh THPT\\n  - Đã tốt nghiệ...</td>\n",
							"      <td>- Giờ học: Ban ngày\\n- Đợt 1: 04/2024\\n- Đợt 2...</td>\n",
							"      <td>- Lập trình game là một phần quan trọng của ng...</td>\n",
							"      <td>- Được trang bị đầy đủ những hiểu biết về quá ...</td>\n",
							"      <td>VTC Academy sẽ đào tạo từ đầu đến cuối, chương...</td>\n",
							"      <td>Liên hệ để được hỗ trợ chi tiết và nhận ưu đãi...</td>\n",
							"      <td>- Học kỳ 1: Cơ sở lập trình\\n    - Định hướng ...</td>\n",
							"    </tr>\n",
							"    <tr>\n",
							"      <th>4</th>\n",
							"      <td>Công nghệ thông tin</td>\n",
							"      <td>Lập trình Phần mềm (Full-stack)</td>\n",
							"      <td>Tiêu chuẩn</td>\n",
							"      <td>https://vtc.edu.vn/course/chuyen-vien-phat-tri...</td>\n",
							"      <td>Tập trung</td>\n",
							"      <td>Dài hạn</td>\n",
							"      <td>2 năm</td>\n",
							"      <td>390.0</td>\n",
							"      <td>- Những ai có đam mê và mong muốn trở thành Ch...</td>\n",
							"      <td>- Đối tượng 1: Học sinh THPT\\n  - Đã tốt nghiệ...</td>\n",
							"      <td>- Giờ học: Ban ngày\\n- Đợt 1: 04/2024\\n- Đợt 2...</td>\n",
							"      <td>- Lập trình phần mềm là một trong những lĩnh v...</td>\n",
							"      <td>- Được trang bị đầy đủ kiến thức về quá trình ...</td>\n",
							"      <td>VTC Academy sẽ đào tạo từ đầu đến cuối, chương...</td>\n",
							"      <td>Liên hệ để được hỗ trợ chi tiết và nhận ưu đãi...</td>\n",
							"      <td>- Học kỳ 1: Cơ sở lập trình\\n    - Định hướng ...</td>\n",
							"    </tr>\n",
							"  </tbody>\n",
							"</table>\n",
							"</div>"
						],
						"text/plain": [
							"              category                          academic_program program_type  \\\n",
							"0             Thiết kế      Thiết kế Dựng hình 3D (3D Modelling)   Tiêu chuẩn   \n",
							"1             Thiết kế    Hoạt hình/Diễn hoạt 3D ( 3D Animation)   Tiêu chuẩn   \n",
							"2             Thiết kế  Thiết kế đồ họa (Digital Graphic Design)   Tiêu chuẩn   \n",
							"3  Công nghệ thông tin         Lập trình Game (Game Development)   Tiêu chuẩn   \n",
							"4  Công nghệ thông tin           Lập trình Phần mềm (Full-stack)   Tiêu chuẩn   \n",
							"\n",
							"                                      reference_link program_format  \\\n",
							"0  https://vtc.edu.vn/course/chuyen-vien-dung-hin...      Tập trung   \n",
							"1  https://vtc.edu.vn/course/chuyen-vien-dien-hoa...      Tập trung   \n",
							"2  https://vtc.edu.vn/course/chuyen-vien-thiet-ke...      Tập trung   \n",
							"3  https://vtc.edu.vn/course/chuyen-vien-phat-tri...      Tập trung   \n",
							"4  https://vtc.edu.vn/course/chuyen-vien-phat-tri...      Tập trung   \n",
							"\n",
							"  program_duration program_time  no_enrollments  \\\n",
							"0          Dài hạn        2 năm           390.0   \n",
							"1          Dài hạn        2 năm           390.0   \n",
							"2          Dài hạn        2 năm           390.0   \n",
							"3          Dài hạn        2 năm           390.0   \n",
							"4          Dài hạn        2 năm           390.0   \n",
							"\n",
							"                                   admission_targets  \\\n",
							"0  - Các bạn trẻ yêu thiết kế và thích làm việc t...   \n",
							"1  - Các bạn trẻ yêu thiết kế và thích làm việc t...   \n",
							"2  -  Những người muốn chuyển ngành sang thiết kế...   \n",
							"3  - Những người muốn trở thành Chuyên viên Lập t...   \n",
							"4  - Những ai có đam mê và mong muốn trở thành Ch...   \n",
							"\n",
							"                                      admission_form  \\\n",
							"0  - Đối tượng 1: Học sinh THPT\\n  - Đã tốt nghiệ...   \n",
							"1  - Đối tượng 1: Học sinh THPT\\n  - Đã tốt nghiệ...   \n",
							"2  - Đối tượng 1: Học sinh THPT\\n  - Đã tốt nghiệ...   \n",
							"3  - Đối tượng 1: Học sinh THPT\\n  - Đã tốt nghiệ...   \n",
							"4  - Đối tượng 1: Học sinh THPT\\n  - Đã tốt nghiệ...   \n",
							"\n",
							"                                    program_schedule  \\\n",
							"0  - Giờ học: Ban ngày\\n- Đợt 1: 04/2024\\n- Đợt 2...   \n",
							"1  - Giờ học: Ban ngày\\n- Đợt 1: 04/2024\\n- Đợt 2...   \n",
							"2  - Giờ học: Ban ngày\\n- Đợt 1: 04/2024\\n- Đợt 2...   \n",
							"3  - Giờ học: Ban ngày\\n- Đợt 1: 04/2024\\n- Đợt 2...   \n",
							"4  - Giờ học: Ban ngày\\n- Đợt 1: 04/2024\\n- Đợt 2...   \n",
							"\n",
							"                                program_introduction  \\\n",
							"0  - Thiết kế 3D (3D Design) là công việc sử dụng...   \n",
							"1  - Hoạt hình 3D (3D Animation) là công việc sử ...   \n",
							"2  - Thiết kế đồ họa là công việc sử dụng các côn...   \n",
							"3  - Lập trình game là một phần quan trọng của ng...   \n",
							"4  - Lập trình phần mềm là một trong những lĩnh v...   \n",
							"\n",
							"                                    program_outcomes  \\\n",
							"0  - Được trang bị đầy đủ những kiến thức chuyên ...   \n",
							"1  - Được trang bị đầy đủ những kiến thức chuyên ...   \n",
							"2  - Được trang bị đầy đủ những kiến thức chuyên ...   \n",
							"3  - Được trang bị đầy đủ những hiểu biết về quá ...   \n",
							"4  - Được trang bị đầy đủ kiến thức về quá trình ...   \n",
							"\n",
							"                                        requirements  \\\n",
							"0  VTC Academy sẽ đào tạo từ đầu đến cuối, chương...   \n",
							"1  VTC Academy sẽ đào tạo từ đầu đến cuối, chương...   \n",
							"2  VTC Academy sẽ đào tạo từ đầu đến cuối, chương...   \n",
							"3  VTC Academy sẽ đào tạo từ đầu đến cuối, chương...   \n",
							"4  VTC Academy sẽ đào tạo từ đầu đến cuối, chương...   \n",
							"\n",
							"                                             tuition  \\\n",
							"0  Liên hệ để được hỗ trợ chi tiết và nhận ưu đãi...   \n",
							"1  Liên hệ để được hỗ trợ chi tiết và nhận ưu đãi...   \n",
							"2  Liên hệ để được hỗ trợ chi tiết và nhận ưu đãi...   \n",
							"3  Liên hệ để được hỗ trợ chi tiết và nhận ưu đãi...   \n",
							"4  Liên hệ để được hỗ trợ chi tiết và nhận ưu đãi...   \n",
							"\n",
							"                                    training_roadmap  \n",
							"0  - Học kỳ 1: Nền tảng mỹ thuật\\n    - Định hướn...  \n",
							"1  - Học kỳ 1: Nền tảng mỹ thuật\\n    - Định hướn...  \n",
							"2  - Học kỳ 1: Nền tảng mỹ thuật\\n    - Định hướn...  \n",
							"3  - Học kỳ 1: Cơ sở lập trình\\n    - Định hướng ...  \n",
							"4  - Học kỳ 1: Cơ sở lập trình\\n    - Định hướng ...  "
						]
					},
					"execution_count": 18,
					"metadata": {},
					"output_type": "execute_result"
				}
			],
			"source": [
				"df = pd.read_excel(\n",
				"\tpath_xlsx, \n",
				" \t# delimiter=\";\"\n",
				")\n",
				"\n",
				"df.head()"
			]
		},
		{
			"cell_type": "code",
			"execution_count": 19,
			"metadata": {},
			"outputs": [
				{
					"data": {
						"text/plain": [
							"array(['Thiết kế Dựng hình 3D (3D Modelling)',\n",
							"       'Hoạt hình/Diễn hoạt 3D ( 3D Animation)',\n",
							"       'Thiết kế đồ họa (Digital Graphic Design)',\n",
							"       'Lập trình Game (Game Development)',\n",
							"       'Lập trình Phần mềm (Full-stack)',\n",
							"       'Digital Marketing (Full-stack)',\n",
							"       'Quản lý chuỗi cung ứng và Logistics', 'Kỹ xảo Hoạt hình 3D',\n",
							"       'Thiết kế 3D nâng cao', 'Lập trình Phần mềm', 'Trí tuệ nhân tạo',\n",
							"       'Họa Sỹ Nhân Vật 3D Chuyên Nghiệp (3D Character Artist Pro)',\n",
							"       'Họa Sỹ Môi Trường 3D Chuyên Nghiệp (3D Environment Artist Pro)',\n",
							"       'AI For Everyone', 'Python Developer For AI',\n",
							"       'AI Specialist - AI Engineer', 'AI Specialist - Data Scientist',\n",
							"       'AI Expert - AI Engineer', 'AI Expert - Data Scientist',\n",
							"       'Data Analytics For BI/BA', 'AI Practitioner',\n",
							"       'Visual Understanding',\n",
							"       'Level 2 - AI Specialist - Language Understanding',\n",
							"       'Level 2 - AI Specialist - Decision Making',\n",
							"       'AI Full-stack Engineer', 'Tools Master For Digital Age',\n",
							"       'E-commerce Leaders', 'Modern Marketers: Design & Content',\n",
							"       'Digital Marketers', 'Growing Digital Business',\n",
							"       'Digital Marketing Management 4.0',\n",
							"       'Tvb-201 Bootcamp For New Admins',\n",
							"       'Tvb-403 Bootcamp For Platform App Builder',\n",
							"       'Tvb-450 Bootcamp For Platform Developer I',\n",
							"       'Rpx-101 Reporting Fundamentals',\n",
							"       'Adx-201 Administrative Essentials'], dtype=object)"
						]
					},
					"execution_count": 19,
					"metadata": {},
					"output_type": "execute_result"
				}
			],
			"source": [
				"df[\"academic_program\"].unique()"
			]
		},
		{
			"cell_type": "markdown",
			"metadata": {},
			"source": [
				"#### Process"
			]
		},
		{
			"cell_type": "code",
			"execution_count": null,
			"metadata": {},
			"outputs": [],
			"source": [
				"model = models.chat_openai\n",
				"\n",
				"template1 = \"\"\"\\\n",
				"...\n",
				"{text}\"\"\"\n",
				"\n",
				"template2 = \"\"\"\\\n",
				"...\n",
				"{text}\n",
				"\"\"\"\n",
				"\n",
				"prompt_template1 = prompts.PromptTemplate.from_template(template1)\n",
				"prompt_template2 = prompts.PromptTemplate.from_template(template2)\n",
				"\n",
				"chain1 = prompt_template1 | model | output_parsers.StrOutputParser()\n",
				"chain2 = prompt_template2 | model | output_parsers.StrOutputParser()\n",
				"\n",
				"chain = runnables.RunnablePassthrough.assign(\n",
				"  text=chain1\n",
				").assign(\n",
				"  text=chain2\n",
				")\n",
				"\n",
				"def process_xlsx_col(text: str) -> str:\n",
				"  result = chain.invoke({\"text\": text})['text']\n",
				"  return result\n",
				"\n",
				"query = '...'\n",
				"result = process_xlsx_col(query)\n",
				"\n",
				"pprint(result)"
			]
		},
		{
			"cell_type": "code",
			"execution_count": null,
			"metadata": {},
			"outputs": [],
			"source": [
				"df = pd.read_excel(path_xlsx)\n",
				"\n",
				"col_to_process = \"...\"\n",
				"\n",
				"df[col_to_process] = df[col_to_process].progress_apply(process_xlsx_col)\n",
				"\n",
				"df.to_excel(f\"{path_xlsx_processed}\", index=False)\n"
			]
		},
		{
			"cell_type": "code",
			"execution_count": null,
			"metadata": {},
			"outputs": [],
			"source": [
				"path_xlsx = path_xlsx_processed"
			]
		},
		{
			"cell_type": "markdown",
			"metadata": {},
			"source": [
				"#### Load"
			]
		},
		{
			"cell_type": "code",
			"execution_count": null,
			"metadata": {},
			"outputs": [],
			"source": [
				"xlsx_cols = ...\n",
				"\n",
				"loader_xlsx = document_loaders.UnstructuredExcelLoader(\n",
				"\tpath_xlsx,\n",
				"\tmode=\"elements\",\n",
				")\n",
				"docs_xlsx = loader_xlsx.load()\n",
				"\n",
				"metadatas = {\n",
				"\t\"data\": \"...\"\n",
				"}\n",
				"\n",
				"utils.remove_metadata(docs_xlsx, \"source\")\n",
				"utils.remove_metadata(docs_xlsx, \"row\")\n",
				"utils.update_metadata(docs_xlsx, metadatas)"
			]
		},
		{
			"cell_type": "markdown",
			"metadata": {},
			"source": [
				"#### Load to sql"
			]
		},
		{
			"cell_type": "code",
			"execution_count": null,
			"metadata": {},
			"outputs": [],
			"source": [
				"# Khối ngành\tChuyên ngành\tChương trình\tLink tham khảo\tHình thức học\tĐộ dài\tThời gian\tChỉ tiêu học viên\tĐối tượng tuyển sinh\tHình thức tuyển sinh\tLịch khai giảng\tGiới thiệu khoá học\tĐầu ra khoá học\tYêu cầu\tHọc phí"
			]
		},
		{
			"cell_type": "code",
			"execution_count": 20,
			"metadata": {},
			"outputs": [],
			"source": [
				"my_table_schema = [\n",
				"\t\"id SERIAL\",\n",
				"\t\"category VARCHAR(255) NOT NULL\",\n",
				"\t\"academic_program VARCHAR(255) NOT NULL\",\n",
				"\t\"program_type VARCHAR(255) NOT NULL\",\n",
				"\t\"reference_link VARCHAR(2048) NOT NULL\",\n",
				"\t\"program_format VARCHAR(255) NOT NULL\",\n",
				"\t\"program_duration VARCHAR(255) NOT NULL\",\n",
				"\t\"program_time VARCHAR(128) NOT NULL\",\n",
				"\t\"no_enrollments TEXT\",\n",
				"\t\"admission_targets TEXT\",\n",
				"\t\"admission_form TEXT\",\n",
				"\t\"program_schedule TEXT\",\n",
				"\t\"program_introduction TEXT\",\n",
				"\t\"program_outcomes TEXT\",\n",
				"\t\"requirements TEXT\",\n",
				"\t\"tuition TEXT\",\n",
				"\t\"PRIMARY KEY (id)\",\n",
				"\t\"training_roadmap TEXT\"\n",
				"]\n",
				"\n",
				"my_table = sql.MySQLTable(\n",
				"\tname=\"vtc_course_list\", \n",
				"\tschema=my_table_schema,\n",
				"\tdb=my_sql_db,\n",
				")\n",
				"my_table.create()\n",
				"\n",
				"db = stores.SQLDatabase.from_uri(my_sql_db.get_uri())\n",
				"llm = models.chat_openai\n",
				"\n",
				"embeddings = text_embedding_models.OpenAIEmbeddings()\n",
				"vectorstore = stores.faiss.FAISS\n",
				"\n",
				"table_cols = [col_description.split(\" \")[0] for col_description in my_table_schema][1:-1]\n"
			]
		},
		{
			"cell_type": "code",
			"execution_count": null,
			"metadata": {},
			"outputs": [],
			"source": [
				"# df = pd.read_excel(path_xlsx)\n",
				"# df.columns = table_cols"
			]
		},
		{
			"cell_type": "code",
			"execution_count": 21,
			"metadata": {},
			"outputs": [],
			"source": [
				"my_table.insert_from_dataframe(df)"
			]
		},
		{
			"cell_type": "code",
			"execution_count": null,
			"metadata": {},
			"outputs": [],
			"source": [
				"cols = [\n",
				"  \"category\", \"academic_program\", \"program_type\", \"program_format\", \n",
				"  \"program_duration\", \"program_time\"\n",
				"]\n",
				"proper_nouns_vtc_course_list = [value for col in cols for value in my_table.get_discrete_values_col(col)]"
			]
		},
		{
			"cell_type": "markdown",
			"metadata": {},
			"source": [
				"### FINAL SQL TABLE"
			]
		},
		{
			"cell_type": "code",
			"execution_count": null,
			"metadata": {},
			"outputs": [],
			"source": [
				"examples_questions_to_sql = []\n",
				"proper_nouns = []\n",
				"\n",
				"proper_nouns.extend(value for value in proper_nouns_onli_course_list)\n",
				"proper_nouns.extend(value for value in proper_nouns_vtc_course_list)"
			]
		},
		{
			"cell_type": "code",
			"execution_count": null,
			"metadata": {},
			"outputs": [],
			"source": []
		},
		{
			"cell_type": "markdown",
			"metadata": {},
			"source": [
				"# Vector store \n",
				"\n",
				"Note:\n",
				"- `tiktoken` >= 0.6.0"
			]
		},
		{
			"cell_type": "markdown",
			"metadata": {},
			"source": [
				"## txt"
			]
		},
		{
			"cell_type": "markdown",
			"metadata": {},
			"source": [
				"### vtc_faq"
			]
		},
		{
			"cell_type": "code",
			"execution_count": null,
			"metadata": {},
			"outputs": [],
			"source": [
				"qdrant_txt_vtc_faq = stores.QdrantWrapper(\n",
				"  qdrant_host=os.getenv(\"QDRANT_HOST\"),\n",
				"  qdrant_api_key=os.getenv(\"QDRANT_API_KEY\"),\n",
				"  configs=configs,\n",
				"  **configs[\"vector_db\"][\"qdrant\"][\"vtc_faq\"]\n",
				")"
			]
		},
		{
			"cell_type": "code",
			"execution_count": null,
			"metadata": {},
			"outputs": [],
			"source": [
				"# qdrant_txt_vtc_faq.add_documents(docs_txt_vtc_faq)"
			]
		},
		{
			"cell_type": "markdown",
			"metadata": {},
			"source": [
				"### onli_faq"
			]
		},
		{
			"cell_type": "code",
			"execution_count": null,
			"metadata": {},
			"outputs": [],
			"source": [
				"qdrant_txt_onli_faq = stores.QdrantWrapper(\n",
				"  qdrant_host=os.getenv(\"QDRANT_HOST\"),\n",
				"  qdrant_api_key=os.getenv(\"QDRANT_API_KEY\"),\n",
				"  configs=configs,\n",
				"  **configs[\"vector_db\"][\"qdrant\"][\"onli_faq\"]\n",
				")"
			]
		},
		{
			"cell_type": "code",
			"execution_count": null,
			"metadata": {},
			"outputs": [],
			"source": [
				"# qdrant_txt_onli_faq.add_documents(docs_txt_onli_faq)"
			]
		},
		{
			"cell_type": "code",
			"execution_count": null,
			"metadata": {},
			"outputs": [],
			"source": []
		},
		{
			"cell_type": "markdown",
			"metadata": {},
			"source": [
				"### File 3"
			]
		},
		{
			"cell_type": "code",
			"execution_count": null,
			"metadata": {},
			"outputs": [],
			"source": [
				"qdrant_txt = stores.QdrantWrapper(\n",
				"  qdrant_host=os.getenv(\"QDRANT_HOST\"),\n",
				"  qdrant_api_key=os.getenv(\"QDRANT_API_KEY\"),\n",
				"  configs=configs,\n",
				"  **configs[\"vector_db\"][\"qdrant\"][\"...\"]\n",
				")"
			]
		},
		{
			"cell_type": "code",
			"execution_count": null,
			"metadata": {},
			"outputs": [],
			"source": [
				"# qdrant_txt.add_documents(docs_txt)"
			]
		},
		{
			"cell_type": "markdown",
			"metadata": {},
			"source": [
				"## table"
			]
		},
		{
			"cell_type": "markdown",
			"metadata": {},
			"source": [
				"### File 1"
			]
		},
		{
			"cell_type": "code",
			"execution_count": null,
			"metadata": {},
			"outputs": [],
			"source": [
				"qdrant_csv = stores.QdrantWrapper(\n",
				"\tqdrant_host=os.getenv(\"QDRANT_HOST\"),\n",
				"\tqdrant_api_key=os.getenv(\"QDRANT_API_KEY\"),\n",
				"\tconfigs=configs,\n",
				"\t**configs[\"vector_db\"][\"qdrant\"][\"...\"]\n",
				")"
			]
		},
		{
			"cell_type": "code",
			"execution_count": null,
			"metadata": {},
			"outputs": [],
			"source": [
				"qdrant_csv.add_documents(docs_csv)"
			]
		},
		{
			"cell_type": "markdown",
			"metadata": {},
			"source": [
				"### File 2"
			]
		},
		{
			"cell_type": "code",
			"execution_count": null,
			"metadata": {},
			"outputs": [],
			"source": [
				"qdrant_csv = stores.QdrantWrapper(\n",
				"\tqdrant_host=os.getenv(\"QDRANT_HOST\"),\n",
				"\tqdrant_api_key=os.getenv(\"QDRANT_API_KEY\"),\n",
				"\tconfigs=configs,\n",
				"\t**configs[\"vector_db\"][\"qdrant\"][\"...\"]\n",
				")"
			]
		},
		{
			"cell_type": "code",
			"execution_count": null,
			"metadata": {},
			"outputs": [],
			"source": [
				"qdrant_csv.add_documents(docs_csv)"
			]
		},
		{
			"cell_type": "markdown",
			"metadata": {},
			"source": [
				"# Test"
			]
		},
		{
			"cell_type": "code",
			"execution_count": null,
			"metadata": {},
			"outputs": [],
			"source": [
				"# qdrant_lectures_content = stores.QdrantWrapper(\n",
				"#   qdrant_host=os.getenv(\"QDRANT_HOST\"),\n",
				"#   qdrant_api_key=os.getenv(\"QDRANT_API_KEY\"),\n",
				"#   configs=configs,\n",
				"#   **configs[\"vector_db\"][\"qdrant\"][\"lectures_content\"],\n",
				"# )"
			]
		},
		{
			"cell_type": "code",
			"execution_count": null,
			"metadata": {},
			"outputs": [],
			"source": [
				"examples_fewshot_tmp = dict(configs[\"sql\"][\"examples_questions_to_sql\"]).values()\n",
				"examples_questions_to_sql = [example for sublist in examples_fewshot_tmp for example in sublist]\n",
				"\n",
				"proper_nouns = configs[\"sql\"][\"proper_nouns\"]\n",
				"\n",
				"my_sql_db = sql.MySQLDatabase()\n",
				"\n",
				"cfg_sql_tool = configs[\"sql\"][\"tool\"]\n",
				"\n",
				"my_sql_chain = chains.MySqlChain(\n",
				"\tmy_sql_db=my_sql_db,\n",
				"\tllm=llm,\n",
				"\tembeddings=embeddings,\n",
				"\tvectorstore=vectorstore,\n",
				"\tproper_nouns=proper_nouns,\n",
				"\tk_retriever_proper_nouns=4,\n",
				"\texamples_questions_to_sql=examples_questions_to_sql,\n",
				"\tk_few_shot_examples=5,\n",
				"\t# is_debug=True,\n",
				"\ttool_name=cfg_sql_tool[\"name\"],\n",
				"\ttool_description=cfg_sql_tool[\"description\"],\n",
				"\ttool_metadata=cfg_sql_tool[\"metadata\"],\n",
				"\ttool_tags=cfg_sql_tool[\"tags\"],\n",
				")\n",
				"\n",
				"tool_chain_sql = my_sql_chain.create_tool_chain_sql()"
			]
		},
		{
			"cell_type": "code",
			"execution_count": null,
			"metadata": {},
			"outputs": [],
			"source": [
				"llm = models.chat_openai\n",
				"\n",
				"tools = [\n",
				"\tqdrant_txt_vtc_faq.retriever_tool,\n",
				"\tqdrant_txt_onli_faq.retriever_tool,\n",
				"\ttool_chain_sql,\n",
				"]\n",
				"\n",
				"system_message_custom = configs[\"prompts\"][\"system_message_vtc\"]\n",
				"prompt = prompts.create_prompt_tool_calling_agent(system_message_custom)\n",
				"\n",
				"agent = agents.MyStatelessAgent(\n",
				"\tllm=llm,\n",
				"\ttools=tools,\n",
				"\tprompt=prompt,\n",
				"\tagent_type=configs[\"agents\"][\"type\"],\n",
				"\tagent_verbose=False,\n",
				")"
			]
		},
		{
			"cell_type": "code",
			"execution_count": null,
			"metadata": {},
			"outputs": [],
			"source": [
				"questions = [\n",
				"  # VTCA FAQs\n",
				"\t\"Các đặc quyền của học viên VTC Academy\",\n",
				"\t\"Thành tựu của VTC Academy\",\n",
				"\t\"Sứ mệnh của VTC Academy\",\n",
				"\t\"Tầm nhìn của VTC Academy\",\n",
				"\t\"Mục tiêu của VTC Academy\",\n",
				"\t\"Thông tin liên hệ các cơ sở của VTC Academy\",\n",
				"\t\"Mô hình đào tạo tại VTC Academy\",\n",
				"\t\"Không gian tại VTC Academy\",\n",
				"\t\"Đội ngũ giảng viên tại VTC Academy\",\n",
				"\t\"Đối tượng tuyển sinh tại VTC Academy\",\n",
				"\t\"Hình thức tuyển sinh tại VTC Academy\",\n",
				"\t\"Quy trình đăng ký và làm hồ sơ nhập học tại VTC Academy\",\n",
				"\t\"Hồ sơ nhập học trực tuyến tại VTC Academy\",\n",
				"\t\"Lịch khai giảng các khoá học tại VTC Academy\",\n",
				"\t\"Tôi muốn nộp hồ sơ nhập học online cho con tôi vì đang ở một thành phố khác, làm sao có thể làm thủ tục nhập học tại VTC Academy?\",\n",
				"\t\"Hồ sơ nhập học trực tuyến (online) tại VTC Academy cần có những gì?\",\n",
				"\t\"Làm sao để biết con tôi đã được nhập học thành công tại VTC Academy?\",\n",
				"\t\"Lịch khai giảng của Nhà trường tại VTC Academy là bao giờ?\",\n",
				"\t\"Nếu học online thì chất lượng và lộ trình học tập có đảm bảo không? Hình thức học online tại VTC Academy như thế nào?\",\n",
				"\t\"Học viên có cần phải thi tuyển đầu vào tại VTC Academy không?\",\n",
				"\t\"Tôi muốn tham quan cơ sở nhưng vì ở xa nên không có điều kiện đến tận trường. Có thể chia sẻ hình ảnh môi trường học tập thực tế tại các cơ sở \",\n",
				"\t\"VTC Academy có các hình thức hoặc chương trình ưu đãi nào để hỗ trợ gia đình học viên không?\",\n",
				"\t\"Các hình thức đóng học phí cho nhà trường tại VTC Academy?\",\n",
				"\t\"Tôi muốn đóng học phí trực tiếp cho trường VTC Aacademy vì không đủ điều kiện để đóng qua Internet Banking hay qua thẻ thì nhà trường có hỗ \",\n",
				"\t\"Nhà trường tại VTC Academy có hỗ trợ tìm nhà trọ không?\",\n",
				"\t\"Sau khi hoàn thành các khoá học tại VTC Academy, học viên có việc làm ngay không?\",\n",
				"\t\"Đăng ký xét học bạ tại VTC Academy\",\n",
				"\t\"VTC Academy Plus tại VTC Academy\",\n",
				"\t\"Học bổng tài năng tại VTC Academy\",\n",
				"\t\"Học bổng tài năng tại VTC Academy Plus\",\n",
				"\t\"Thông tin tham khảo về tuyển sinh ở VTC Academy\",\n",
				"\t\"Hình thức xét học bạ tại VTC Academy như thế nào?\",\n",
				"\t\"Điều kiện đăng ký xét tuyển các ngành học tại VTC Academy là gì?\",\n",
				"\t\"Tôi không có bằng THPT, liệu có thể học tại VTC Academy được không?\",\n",
				"\t\"VTC Academy có hỗ trợ nơi ở cho những bạn ở xa theo học tại trường không?\",\n",
				"\t\"Để nhập học tại VTC Academy cần thi khối nào, môn thi là gì, điểm chuẩn là bao nhiêu?\",\n",
				"\t\"Sau khi xét học bạ tại VTC Academy thì có cần đăng ký trên cổng thông tin bộ giáo dục không?\",\n",
				"\t\"Bằng tốt nghiệp tại VTC Academy thuộc hệ gì?\",\n",
				"\t\"Bằng tốt nghiệp tại VTC Academy có xin được bên ngoài không hay chỉ doanh nghiệp liên kết với trường?\",\n",
				"\t\"Khi nào thì nhận được chứng chỉ DMI tại VTC Academy?\",\n",
				"\t\"Bằng khóa Plus tại VTC Academy khác gì so với khóa thường?\",\n",
				"\t\"Trường tại VTC Academy có các cơ sở nào?\",\n",
				"\t\"Giấy tờ đăng ký và nhập học tại VTC Academy cần những gì?\",\n",
				"\t\"Thời gian học tại VTC Academy có phù hợp cho sinh viên học 2 trường/người đi làm không?\",\n",
				"\t\"Sau khi tốt nghiệp, tôi có thể làm việc ở những công ty nào mà VTC Academy liên kết?\",\n",
				"\t\"Học phí giữa các cơ sở tại VTC Academy có chênh lệch không?\",\n",
				"\t\"Thời gian học 1 khóa học tại VTC Academy khoảng mấy năm?\",\n",
				"\t\"Thời gian nhập học tại VTC Academy là khi nào?\",\n",
				"\t\"Hạn chót gửi hồ sơ xét tuyển tại VTC Academy là khi nào?\",\n",
				"\t\"Tôi có thể dời thời gian nhập học tại VTC Academy không? Nếu có thì được dời lại trong bao lâu?\",\n",
				"\t\"Khi đăng ký nhập học tại VTC Academy có được miễn nghĩa vụ quân sự không?\",\n",
				"\t\"Trường tại VTC Academy có lớp buổi tối không?\",\n",
				"\t\"Em không biết chọn ngành nào tại VTC Academy?/Em không biết mình phù hợp với ngành nào?\",\n",
				"\t\"Tôi chưa đủ tuổi thì có được theo học tại VTC Academy không?\",\n",
				"\t\"VTC Academy có khóa học online không?\",\n",
				"\t\"Tôi học song song tại VTC Academy với trường trung học có được không? Yêu cầu gì?\",\n",
				"\t\"VTC Academy có cam kết việc làm bằng văn bản pháp lý thật không?\",\n",
				"\t\"Học tại VTC Academy có liên thông được không?\",\n",
				"\t\"Trong thời gian học hệ Plus tại VTC Academy có đi học ở các trường liên kết nước ngoài không?\",\n",
				"\t\"Trường có tăng học phí trong thời gian học tại VTC Academy không?\",\n",
				"\t\"Trường đang có các ưu đãi gì khi đăng ký nhập học tại VTC Academy không?\",\n",
				"\t\"Thông tin chi tiết về trả góp học phí 0% tại VTC Academy \",\n",
				"\t\"Mê game thì có thể học những ngành học nào tại VTC Academy?\",\n",
				"\t\"Có chương trình hỗ trợ học phí tại VTC Academy hay ưu đãi gì không?\",\n",
				"\t\"Có ưu đãi gì cho Quân Nhân Xuất Ngũ tại VTC Academy không?\",\n",
				" \n",
				"\t# VTCA courses\n",
				"  \"Các khối ngành đào tạo tại VTCA?\",\n",
				"\t\"Khối ngành thiết kế tại VTC Academy có những chuyên ngành nào?\",\n",
				"\t\"Thời lượng và hình thức học của khóa học lập trình phần mềm tại VTCA\",\n",
				"\t\"Ở VTCA có những khoá học dài hạn nào?\",\n",
				"\t\"Ở VTCA có những khoá học trung hạn nào?\",\n",
				"\t\"Đối tượng nhập học của khóa học thiết kế 3D tại VTC Academy\",\n",
				"\t\"Các khoá học tại VTCA có hình thức học tập trung\",\n",
				"\t\"Link tham khảo khóa học quản lý chuỗi ứng dụng và logistic tại VTC Academy\",\n",
				"\t\"Học phí cho khóa học Digital Marketing VTCA\",\n",
				"\t\"Thời gian khai giảng khóa học 3D Modeling tại VTCA\",\n",
				"\t\"Cơ hội nghề nghiệp của ngành học digital marketing ở VTCA?\",\n",
				"\t\"Các chương trình học tiêu chuẩn tại VTCA\",\n",
				"\t\"Các chương trình học plus của VTCA\",\n",
				"  \n",
				"  # Onlinica courses\n",
				"\t\"Các thể loại khoá học ở Onlinica\", # redo onli_faq\n",
				"\t\"Giảng viên nào có nhiều khoá học nhất ở Onlinica\",\n",
				"\t\"Các Giảng viên có nhiều khoá học nhất ở Onlinica\",\n",
				"\t\"Thể loại khoá học nào có nhiều khoá học nhất ở Onlinica?\",\n",
				"\t\"Các khoá học của thầy Trần Anh Tuấn ở Onlinica\", \n",
				"\t\"Các khoá học về lập trình ở Onlninica\",\n",
				"\t\"Các giảng viên dạy về lập trình ở Onlninica\",\n",
				"\t\"Thông tin khoá học kỹ năng quản lý thời gian ở Onlinica?\",\n",
				"\t\"Giảng viên của khoá học 'Kỹ Năng Giao Tiếp Hiệu Quả' ở Onlinica\",\n",
				"\t\"Các khoá học về game ở Onlinica\", #\n",
				" \n",
				"\t# Onlinica FAQs\n",
				"\t\"Làm cách nào để đăng ký tài khoản Onlinica?\", \n",
				"\t\"Có thể thanh toán Onlinica bằng Momo được không\",\n",
				"\t\"Có mấy loại tài khoản Onlinica?\",\n",
				"\t\"Các khoá học ở Onlinica có mất phí không?\",\n",
				"\t\"Các khoá học của tôi tại Onlinica có thời hạn sử dụng bao lâu?\",\n",
				"\t\"Tôi có thể xoá tài khoản Onlinica không? Và làm như thế nào?\",\n",
				"\t\"Tôi có bị mất phí khi hết thời gian trải nghiệm Onlinica VIP không?\",\n",
				"\t\"Tôi sẽ nhận được chứng chỉ hoàn thành khóa học chứ? Và sẽ nhận qua hình thức nào?\",\n",
				"\t\"Vì sao tôi chưa nhận được chứng chỉ hoàn thành khi đã học xong?\",\n",
				"\t\"Onlinica có mấy hình thức thanh toán?\",\n",
				"\t\"Làm cách nào để đăng ký tài khoản Onlinica?\",\n",
				"\t\"Có mấy loại tài khoản Onlinica?\",\n",
				"\t\"Các khoá học ở Onlinica có mất phí không?\",\n",
				"\t\"Các khoá học của tôi tại Onlinica có thời hạn sử dụng bao lâu?\",\n",
				"\t\"Tôi có thể xoá tài khoản Onlinica không? Và làm như thế nào?\",\n",
				"\t\"Tôi có bị mất phí khi hết thời gian trải nghiệm Onlinica VIP không?\",\n",
				"\t\"Onlinica hiện đang có các khóa học nào?\",\n",
				"\t\"Tôi sẽ nhận được chứng chỉ hoàn thành khóa học chứ? Và sẽ nhận qua hình thức nào?\",\n",
				"\t\"Vì sao tôi chưa nhận được chứng chỉ hoàn thành khi đã học xong?\",\n",
				"\t\"Onlinica có mấy hình thức thanh toán?\",\n",
				"]"
			]
		},
		{
			"cell_type": "code",
			"execution_count": null,
			"metadata": {},
			"outputs": [],
			"source": [
				"res = []\n",
				"async for chunk in agent.astream_events_basic(\n",
				"  \"Khối ngành thiết kế tại VTC Academy có những chuyên ngành nào?\",\n",
				"  history_type=\"in_memory\",\n",
				"):\n",
				"\tprint(chunk, end=\"\", flush=True)\n",
				"\tres.append(chunk)"
			]
		},
		{
			"cell_type": "code",
			"execution_count": null,
			"metadata": {},
			"outputs": [],
			"source": [
				"result = await agent.invoke_agent(\n",
				"  \"Khối ngành thiết kế tại VTC Academy có những chuyên ngành nào?\",\n",
				"\thistory_type=\"in_memory\"\n",
				")\n",
				"\n",
				"pprint(result)"
			]
		},
		{
			"cell_type": "code",
			"execution_count": null,
			"metadata": {},
			"outputs": [],
			"source": []
		},
		{
			"cell_type": "markdown",
			"metadata": {},
			"source": [
				"# Todos\n",
				"\n",
				"- [ ] Deep dive into chain"
			]
		},
		{
			"cell_type": "markdown",
			"metadata": {},
			"source": [
				"['id SERIAL',\n",
				" 'major VARCHAR(255) NOT NULL',\n",
				" 'academic_program VARCHAR(255) NOT NULL',\n",
				" 'program_type VARCHAR(255) NOT NULL',\n",
				" 'reference_link VARCHAR(2048) NOT NULL',\n",
				" 'program_format VARCHAR(255) NOT NULL',\n",
				" 'program_duration VARCHAR(255) NOT NULL',\n",
				" 'program_time VARCHAR(128) NOT NULL',\n",
				" 'no_enrollments TEXT',\n",
				" 'admission_targets TEXT',\n",
				" 'admission_form TEXT',\n",
				" 'program_schedule TEXT',\n",
				" 'program_introduction TEXT',\n",
				" 'program_outcomes TEXT',\n",
				" 'requirements TEXT',\n",
				" 'tuition TEXT',\n",
				" 'PRIMARY KEY (id)']\n",
				"\n"
			]
		},
		{
			"cell_type": "code",
			"execution_count": null,
			"metadata": {},
			"outputs": [],
			"source": []
		}
	],
	"metadata": {
		"kernelspec": {
			"display_name": "LLM",
			"language": "python",
			"name": "python3"
		},
		"language_info": {
			"codemirror_mode": {
				"name": "ipython",
				"version": 3
			},
			"file_extension": ".py",
			"mimetype": "text/x-python",
			"name": "python",
			"nbconvert_exporter": "python",
			"pygments_lexer": "ipython3",
			"version": "3.11.9"
		}
	},
	"nbformat": 4,
	"nbformat_minor": 2
}
