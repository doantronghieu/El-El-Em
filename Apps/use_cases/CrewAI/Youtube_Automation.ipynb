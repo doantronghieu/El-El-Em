{
	"cells": [
		{
			"cell_type": "code",
			"execution_count": 2,
			"metadata": {},
			"outputs": [
				{
					"ename": "ModuleNotFoundError",
					"evalue": "No module named 'langchain_community'",
					"output_type": "error",
					"traceback": [
						"\u001b[0;31m---------------------------------------------------------------------------\u001b[0m",
						"\u001b[0;31mModuleNotFoundError\u001b[0m                       Traceback (most recent call last)",
						"Cell \u001b[0;32mIn[2], line 4\u001b[0m\n\u001b[1;32m      1\u001b[0m \u001b[38;5;28;01mimport\u001b[39;00m \u001b[38;5;21;01madd_packages\u001b[39;00m\n\u001b[1;32m      2\u001b[0m \u001b[38;5;28;01mimport\u001b[39;00m \u001b[38;5;21;01mos\u001b[39;00m\n\u001b[0;32m----> 4\u001b[0m \u001b[38;5;28;01mfrom\u001b[39;00m \u001b[38;5;21;01mtoolkit.langchain\u001b[39;00m \u001b[38;5;28;01mimport\u001b[39;00m (\n\u001b[1;32m      5\u001b[0m   document_loaders\n\u001b[1;32m      6\u001b[0m )\n",
						"File \u001b[0;32m~/Documents/Me/Coding/Learn-LLM/Apps/toolkit.langchain/document_loaders.py:1\u001b[0m\n\u001b[0;32m----> 1\u001b[0m \u001b[38;5;28;01mfrom\u001b[39;00m \u001b[38;5;21;01mlangchain_community\u001b[39;00m\u001b[38;5;21;01m.\u001b[39;00m\u001b[38;5;21;01mdocument_loaders\u001b[39;00m \u001b[38;5;28;01mimport\u001b[39;00m (\n\u001b[1;32m      2\u001b[0m   TextLoader, WebBaseLoader, CSVLoader, UnstructuredMarkdownLoader, \n\u001b[1;32m      3\u001b[0m   UnstructuredPDFLoader\n\u001b[1;32m      4\u001b[0m )\n",
						"\u001b[0;31mModuleNotFoundError\u001b[0m: No module named 'langchain_community'"
					]
				}
			],
			"source": [
				"import add_packages\n",
				"import os\n",
				"\n",
				"from toolkit.langchain import (\n",
				"  document_loaders\n",
				")\n",
				"\n"
			]
		},
		{
			"cell_type": "markdown",
			"metadata": {},
			"source": [
				"# Agents"
			]
		},
		{
			"cell_type": "markdown",
			"metadata": {},
			"source": [
				"# Tasks"
			]
		},
		{
			"cell_type": "markdown",
			"metadata": {},
			"source": [
				"# Main"
			]
		}
	],
	"metadata": {
		"kernelspec": {
			"display_name": "llm",
			"language": "python",
			"name": "python3"
		},
		"language_info": {
			"codemirror_mode": {
				"name": "ipython",
				"version": 3
			},
			"file_extension": ".py",
			"mimetype": "text/x-python",
			"name": "python",
			"nbconvert_exporter": "python",
			"pygments_lexer": "ipython3",
			"version": "3.10.14"
		}
	},
	"nbformat": 4,
	"nbformat_minor": 2
}
