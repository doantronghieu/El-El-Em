{
 "cells": [
  {
   "cell_type": "code",
   "execution_count": null,
   "metadata": {
    "notebookRunGroups": {
     "groupValue": "1"
    }
   },
   "outputs": [],
   "source": [
    "import add_packages\n",
    "import config\n",
    "from pprint import pprint\n",
    "import my_langchain\n",
    "from my_langchain import (document_loaders, vector_stores, text_embedding_models,\n",
    "                          text_splitters, utils)"
   ]
  },
  {
   "cell_type": "markdown",
   "metadata": {},
   "source": [
    "# FAISS"
   ]
  },
  {
   "cell_type": "code",
   "execution_count": null,
   "metadata": {},
   "outputs": [],
   "source": [
    "from my_langchain import (document_loaders, vector_stores, text_embedding_models,\n",
    "                          text_splitters)\n",
    "\n",
    "# Ingestion\n",
    "loader = document_loaders.text_loader(\"../data/state_of_the_union.txt\")\n",
    "documents = loader.load()\n",
    "text_splitter = text_splitters.character_text_splitter(\n",
    "  chunk_size=1000, chunk_overlap=0,\n",
    ")\n",
    "docs = text_splitter.split_documents(documents)\n",
    "embeddings = text_embedding_models.openai_embeddings()\n",
    "db = vector_stores.faiss_store.from_documents(docs, embeddings)\n",
    "retriever = db.as_retriever()"
   ]
  },
  {
   "cell_type": "markdown",
   "metadata": {},
   "source": [
    "## Querying\n",
    " "
   ]
  },
  {
   "cell_type": "code",
   "execution_count": null,
   "metadata": {},
   "outputs": [],
   "source": [
    "query = \"What did the president say about Ketanji Brown Jackson\"\n",
    "docs = db.similarity_search(query) \n",
    "docs = retriever.invoke(query)"
   ]
  },
  {
   "cell_type": "markdown",
   "metadata": {},
   "source": [
    "## Similarity Search with score"
   ]
  },
  {
   "cell_type": "code",
   "execution_count": null,
   "metadata": {},
   "outputs": [],
   "source": [
    "docs_scored = db.similarity_search_with_score(query)\n",
    "pprint(docs_scored)"
   ]
  },
  {
   "cell_type": "code",
   "execution_count": null,
   "metadata": {},
   "outputs": [],
   "source": [
    "query_embedding = embeddings.embed_query(query)\n",
    "docs_scored = db.similarity_search_by_vector(query_embedding)\n",
    "pprint(docs_scored)"
   ]
  },
  {
   "cell_type": "markdown",
   "metadata": {},
   "source": [
    "## Saving and loading\n"
   ]
  },
  {
   "cell_type": "code",
   "execution_count": null,
   "metadata": {},
   "outputs": [],
   "source": [
    "def save_faiss_index(path: str, db):\n",
    "  db.save_local(path)\n",
    "\n",
    "def load_faiss_index(path: str, embeddings):\n",
    "  db = vector_stores.faiss_store.load_local(path, embeddings)\n",
    "  return db\n",
    "\n",
    "path = \"../data/store/faiss_index\"\n",
    "save_faiss_index(path, db)"
   ]
  },
  {
   "cell_type": "code",
   "execution_count": null,
   "metadata": {},
   "outputs": [],
   "source": [
    "db_load = load_faiss_index(path, embeddings)\n",
    "docs = db_load.similarity_search(query)\n",
    "pprint(docs)"
   ]
  },
  {
   "cell_type": "markdown",
   "metadata": {},
   "source": [
    "## Merging\n"
   ]
  },
  {
   "cell_type": "code",
   "execution_count": null,
   "metadata": {},
   "outputs": [],
   "source": [
    "db1 = vector_stores.faiss_store.from_texts([\"foo\"], embeddings)\n",
    "db2 = vector_stores.faiss_store.from_texts([\"bar\"], embeddings)\n",
    "print(db1.docstore.__dict__)\n",
    "print(db2.docstore.__dict__)\n",
    "\n",
    "db1.merge_from(db2)\n",
    "print(db1.docstore.__dict__)"
   ]
  },
  {
   "cell_type": "markdown",
   "metadata": {},
   "source": [
    "## Similarity Search with filtering"
   ]
  },
  {
   "cell_type": "code",
   "execution_count": null,
   "metadata": {},
   "outputs": [],
   "source": [
    "from my_langchain import documents\n",
    "\n",
    "docs_info = [\n",
    "  {\"content\": \"foo\", \"metadata\": {\"page\": 1}},\n",
    "  {\"content\": \"bar\", \"metadata\": {\"page\": 1}},\n",
    "  {\"content\": \"foo\", \"metadata\": {\"page\": 2}},\n",
    "  {\"content\": \"barbar\", \"metadata\": {\"page\": 2}},\n",
    "  {\"content\": \"foo\", \"metadata\": {\"page\": 3}},\n",
    "  {\"content\": \"bar burr\", \"metadata\": {\"page\": 3}},\n",
    "  {\"content\": \"foo\", \"metadata\": {\"page\": 4}},\n",
    "  {\"content\": \"bar bruh\", \"metadata\": {\"page\": 4}},\n",
    "]\n",
    "\n",
    "docs_lst = [\n",
    "  documents.Document(page_content=doc[\"content\"], metadata=doc[\"metadata\"])\n",
    "    for doc in docs_info\n",
    "]\n",
    "\n",
    "db = vector_stores.faiss_store.from_documents(docs_lst, embeddings)\n",
    "results_scored = db.similarity_search_with_score(\"foo\")\n",
    "\n",
    "for doc, score in results_scored:\n",
    "  print(f\"Content: {doc.page_content}\\nMetadata: {doc.metadata}, Score: {score}\\n\")"
   ]
  },
  {
   "cell_type": "code",
   "execution_count": null,
   "metadata": {},
   "outputs": [],
   "source": [
    "results = db.similarity_search(\n",
    "  \"foo\",\n",
    "  filter={\n",
    "    \"page\": 1,\n",
    "  },\n",
    "  k=1,\n",
    "  fetch_k=4, # > k\n",
    ")\n",
    "results"
   ]
  },
  {
   "cell_type": "code",
   "execution_count": null,
   "metadata": {},
   "outputs": [],
   "source": [
    "results_scored = db.similarity_search_with_score(\n",
    "  \"foo\",\n",
    "  filter={\n",
    "    \"page\": 1,\n",
    "  }\n",
    ")\n",
    "for doc, score in results_scored:\n",
    "  print(f\"Content: {doc.page_content}\\nMetadata: {doc.metadata}, Score: {score}\\n\")"
   ]
  },
  {
   "cell_type": "code",
   "execution_count": null,
   "metadata": {},
   "outputs": [],
   "source": [
    "results = db.max_marginal_relevance_search(\n",
    "  \"foo\",\n",
    "  filter={\n",
    "    \"page\": 1,\n",
    "  }\n",
    ")\n",
    "results"
   ]
  },
  {
   "cell_type": "markdown",
   "metadata": {},
   "source": [
    "# Qdrant"
   ]
  },
  {
   "cell_type": "markdown",
   "metadata": {},
   "source": [
    "## Vector store"
   ]
  },
  {
   "cell_type": "code",
   "execution_count": null,
   "metadata": {},
   "outputs": [],
   "source": [
    "embeddings = text_embedding_models.openai_embeddings()"
   ]
  },
  {
   "cell_type": "code",
   "execution_count": null,
   "metadata": {},
   "outputs": [],
   "source": [
    "# OPTION\n",
    "loader = document_loaders.text_loader(\"../data/state_of_the_union.txt\")\n",
    "documents = loader.load()\n",
    "\n",
    "text_splitter = text_splitters.character_text_splitter(\n",
    "  chunk_size=1000,\n",
    "  chunk_overlap=0,\n",
    ")\n",
    "docs = text_splitter.split_documents(documents)"
   ]
  },
  {
   "cell_type": "code",
   "execution_count": null,
   "metadata": {},
   "outputs": [],
   "source": []
  },
  {
   "cell_type": "markdown",
   "metadata": {},
   "source": [
    "### Connecting to Qdrant from LangChain\n"
   ]
  },
  {
   "cell_type": "markdown",
   "metadata": {},
   "source": [
    "#### Local mode\n"
   ]
  },
  {
   "cell_type": "markdown",
   "metadata": {},
   "source": [
    "##### In-memory"
   ]
  },
  {
   "cell_type": "code",
   "execution_count": null,
   "metadata": {},
   "outputs": [],
   "source": [
    "qdrant_memory = vector_stores.qdrant_store.from_documents(\n",
    "  docs,\n",
    "  embeddings,\n",
    "  location=\":memory:\",  # Local mode with in-memory storage only\n",
    "  collection_name=\"my_documents\",\n",
    ")"
   ]
  },
  {
   "cell_type": "markdown",
   "metadata": {},
   "source": [
    "##### On-disk storage"
   ]
  },
  {
   "cell_type": "code",
   "execution_count": null,
   "metadata": {},
   "outputs": [],
   "source": [
    "qdrant_disk = vector_stores.qdrant_store.from_documents(\n",
    "  docs,\n",
    "  embeddings,\n",
    "  path=\"../data/store/local_qdrant\",\n",
    "  collection_name=\"my_documents\",\n",
    "  content_payload_key=\"my_page_content_key\",\n",
    "  metadata_payload_key=\"my_meta\",\n",
    "  force_recreate=True,\n",
    ")"
   ]
  },
  {
   "cell_type": "markdown",
   "metadata": {},
   "source": [
    "#### On-premise server deployment\n"
   ]
  },
  {
   "cell_type": "code",
   "execution_count": null,
   "metadata": {},
   "outputs": [],
   "source": [
    "\"\"\"\n",
    "Whether launching Qdrant locally via Docker or opting for a Kubernetes deployment\n",
    "with the official Helm chart, connecting to the instance remains the same - \n",
    "provide a URL pointing to the service.\n",
    "\"\"\"\n",
    "\n",
    "\"\"\"\n",
    "url = \"<---qdrant url here --->\"\n",
    "qdrant = Qdrant.from_documents(\n",
    "    docs,\n",
    "    embeddings,\n",
    "    url=url,\n",
    "    prefer_grpc=True,\n",
    "    collection_name=\"my_documents\",\n",
    ")\n",
    "\"\"\""
   ]
  },
  {
   "cell_type": "markdown",
   "metadata": {},
   "source": [
    "#### Qdrant Cloud\n"
   ]
  },
  {
   "cell_type": "markdown",
   "metadata": {},
   "source": [
    "#### Recreating the collection\n"
   ]
  },
  {
   "cell_type": "code",
   "execution_count": null,
   "metadata": {},
   "outputs": [],
   "source": [
    "\"\"\"\n",
    "url = \"<---qdrant url here --->\"\n",
    "qdrant = Qdrant.from_documents(\n",
    "    docs,\n",
    "    embeddings,\n",
    "    url=url,\n",
    "    prefer_grpc=True,\n",
    "    collection_name=\"my_documents\",\n",
    "    force_recreate=True, # Delete the old collection, enabling a fresh start.\n",
    ")\n",
    "\"\"\""
   ]
  },
  {
   "cell_type": "markdown",
   "metadata": {},
   "source": [
    "### Similarity search\n"
   ]
  },
  {
   "cell_type": "code",
   "execution_count": null,
   "metadata": {},
   "outputs": [],
   "source": [
    "query = \"What did the president say about Ketanji Brown Jackson\"\n",
    "found_docs = qdrant_disk.similarity_search(query)\n",
    "pprint(found_docs)"
   ]
  },
  {
   "cell_type": "markdown",
   "metadata": {},
   "source": [
    "### Similarity search with score\n"
   ]
  },
  {
   "cell_type": "code",
   "execution_count": null,
   "metadata": {},
   "outputs": [],
   "source": [
    "query = \"What did the president say about Ketanji Brown Jackson\"\n",
    "found_docs = qdrant_disk.similarity_search_with_score(query)"
   ]
  },
  {
   "cell_type": "markdown",
   "metadata": {},
   "source": [
    "#### Metadata filtering\n"
   ]
  },
  {
   "cell_type": "code",
   "execution_count": null,
   "metadata": {},
   "outputs": [],
   "source": [
    "from qdrant_client.http import models as rest\n",
    "\n",
    "query = \"What did the president say about Ketanji Brown Jackson\"\n",
    "found_docs = qdrant_disk.similarity_search_with_score(\n",
    "  query,\n",
    "  filter=rest.Filter(...),\n",
    ")"
   ]
  },
  {
   "cell_type": "markdown",
   "metadata": {},
   "source": [
    "### Maximum marginal relevance search (MMR)\n"
   ]
  },
  {
   "cell_type": "code",
   "execution_count": null,
   "metadata": {},
   "outputs": [],
   "source": [
    "query = \"What did the president say about Ketanji Brown Jackson\"\n",
    "found_docs = qdrant_disk.max_marginal_relevance_search(\n",
    "  query, k=2, fetch_k=10,\n",
    ")"
   ]
  },
  {
   "cell_type": "markdown",
   "metadata": {},
   "source": [
    "### Qdrant as a Retriever\n"
   ]
  },
  {
   "cell_type": "code",
   "execution_count": null,
   "metadata": {},
   "outputs": [],
   "source": [
    "retriever = qdrant_disk.as_retriever(\n",
    "  search_type=\"mmr\",\n",
    ")\n",
    "\n",
    "query = \"What did the president say about Ketanji Brown Jackson\"\n",
    "results = retriever.get_relevant_documents(query)"
   ]
  },
  {
   "cell_type": "markdown",
   "metadata": {},
   "source": [
    "## Retriever"
   ]
  },
  {
   "cell_type": "code",
   "execution_count": null,
   "metadata": {},
   "outputs": [],
   "source": [
    "from langchain_community.vectorstores import qdrant\n",
    "from langchain_core.documents import Document\n",
    "from langchain.chains.query_constructor.base import AttributeInfo\n",
    "from langchain.retrievers.self_query.base import SelfQueryRetriever\n",
    "from langchain_openai import OpenAI\n",
    "\n",
    "docs = [\n",
    "  Document(\n",
    "    page_content=\"A bunch of scientists bring back dinosaurs and mayhem breaks loose\",\n",
    "    metadata={\"year\": 1993, \"rating\": 7.7, \"genre\": \"science fiction\"},\n",
    "  ),\n",
    "  Document(\n",
    "    page_content=\"Leo DiCaprio gets lost in a dream within a dream within a dream within a ...\",\n",
    "    metadata={\"year\": 2010, \"director\": \"Christopher Nolan\", \"rating\": 8.2},\n",
    "  ),\n",
    "  Document(\n",
    "    page_content=\"A psychologist / detective gets lost in a series of dreams within dreams within dreams and Inception reused the idea\",\n",
    "    metadata={\"year\": 2006, \"director\": \"Satoshi Kon\", \"rating\": 8.6},\n",
    "  ),\n",
    "  Document(\n",
    "    page_content=\"A bunch of normal-sized women are supremely wholesome and some men pine after them\",\n",
    "    metadata={\"year\": 2019, \"director\": \"Greta Gerwig\", \"rating\": 8.3},\n",
    "  ),\n",
    "  Document(\n",
    "    page_content=\"Toys come alive and have a blast doing so\",\n",
    "    metadata={\"year\": 1995, \"genre\": \"animated\"},\n",
    "  ),\n",
    "  Document(\n",
    "    page_content=\"Three men walk into the Zone, three men walk out of the Zone\",\n",
    "    metadata={\n",
    "      \"year\": 1979,\n",
    "      \"rating\": 9.9,\n",
    "      \"director\": \"Andrei Tarkovsky\",\n",
    "      \"genre\": \"science fiction\",\n",
    "    },\n",
    "  ),\n",
    "]\n",
    "\n",
    "vectorstore = qdrant.Qdrant.from_documents(\n",
    "  docs, embeddings, \n",
    "  path=\"../data/store/qdrant_movie\", collection_name=\"qdrant_movie\"\n",
    ")\n",
    "\n",
    "metadata_field_info = [\n",
    "  AttributeInfo(\n",
    "    name=\"genre\",\n",
    "    description=\"The genre of the movie\",\n",
    "    type=\"string or list[string]\",\n",
    "  ),\n",
    "  AttributeInfo(\n",
    "    name=\"year\",\n",
    "    description=\"The year the movie was released\",\n",
    "    type=\"integer\",\n",
    "  ),\n",
    "    AttributeInfo(\n",
    "    name=\"director\",\n",
    "    description=\"The name of the movie director\",\n",
    "    type=\"string\",\n",
    "  ),\n",
    "    AttributeInfo(\n",
    "    name=\"rating\", \n",
    "    description=\"A 1-10 rating for the movie\", \n",
    "    type=\"float\",\n",
    "  ),\n",
    "]\n",
    "\n",
    "document_content_description = \"Brief summary of a movie\"\n",
    "llm = OpenAI(temperature=0)\n",
    "retriever = SelfQueryRetriever.from_llm(\n",
    "  llm=llm, \n",
    "  vectorstore=vectorstore,\n",
    "  document_contents=document_content_description,\n",
    "  metadata_field_info=metadata_field_info,\n",
    "  verbose=True,\n",
    ")\n",
    "\n",
    "results = retriever.get_relevant_documents(\"What are some movies about dinosaurs\")\n"
   ]
  },
  {
   "cell_type": "markdown",
   "metadata": {},
   "source": [
    "# Chroma"
   ]
  },
  {
   "cell_type": "code",
   "execution_count": null,
   "metadata": {},
   "outputs": [],
   "source": []
  },
  {
   "cell_type": "code",
   "execution_count": null,
   "metadata": {},
   "outputs": [],
   "source": []
  },
  {
   "cell_type": "code",
   "execution_count": null,
   "metadata": {},
   "outputs": [],
   "source": []
  },
  {
   "cell_type": "code",
   "execution_count": null,
   "metadata": {},
   "outputs": [],
   "source": []
  },
  {
   "cell_type": "code",
   "execution_count": null,
   "metadata": {},
   "outputs": [],
   "source": []
  }
 ],
 "metadata": {
  "kernelspec": {
   "display_name": "LLM",
   "language": "python",
   "name": "python3"
  },
  "language_info": {
   "codemirror_mode": {
    "name": "ipython",
    "version": 3
   },
   "file_extension": ".py",
   "mimetype": "text/x-python",
   "name": "python",
   "nbconvert_exporter": "python",
   "pygments_lexer": "ipython3",
   "version": "3.9.18"
  }
 },
 "nbformat": 4,
 "nbformat_minor": 2
}
