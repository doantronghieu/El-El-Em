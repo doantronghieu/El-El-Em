{
 "cells": [
  {
   "cell_type": "code",
   "execution_count": null,
   "metadata": {},
   "outputs": [],
   "source": [
    "import config\n",
    "from utils.langchain import llms, output_parsers, memory, chains\n",
    "from langchain.chains import ConversationChain\n",
    "# https://python.langchain.com/docs/modules/memory/conversational_customization\n",
    "llm_openai = llms.llm_openai\n",
    "conversation_buffer_memory = memory.conversation_buffer_memory\n",
    "\n",
    "conversation_chain = chains.conversation_chain(\n",
    "  llm=llm_openai,\n",
    "  memory=conversation_buffer_memory,\n",
    "  verbose=True,\n",
    ")"
   ]
  },
  {
   "cell_type": "code",
   "execution_count": null,
   "metadata": {},
   "outputs": [],
   "source": [
    "# conversation_chain.predict(input=\"Hi there\")"
   ]
  }
 ],
 "metadata": {
  "kernelspec": {
   "display_name": "LLM",
   "language": "python",
   "name": "python3"
  },
  "language_info": {
   "codemirror_mode": {
    "name": "ipython",
    "version": 3
   },
   "file_extension": ".py",
   "mimetype": "text/x-python",
   "name": "python",
   "nbconvert_exporter": "python",
   "pygments_lexer": "ipython3",
   "version": "3.9.18"
  }
 },
 "nbformat": 4,
 "nbformat_minor": 2
}
