{
 "cells": [
  {
   "cell_type": "code",
   "execution_count": 26,
   "metadata": {},
   "outputs": [],
   "source": [
    "import uuid\n",
    "from datetime import datetime"
   ]
  },
  {
   "cell_type": "code",
   "execution_count": 27,
   "metadata": {},
   "outputs": [],
   "source": [
    "def generate_user_uuid(user_email: str):\n",
    "\tname = f\"{user_email}\"\n",
    "\treturn str(uuid.uuid5(namespace=uuid.NAMESPACE_DNS, name=name))\n",
    "\n",
    "def generate_chat_uuid(app_name: str, user_id: str):\n",
    "\tname = f\"{app_name}_{user_id}_{datetime.now()}\"\n",
    "\treturn str(uuid.uuid5(namespace=uuid.NAMESPACE_DNS, name=name))"
   ]
  },
  {
   "cell_type": "code",
   "execution_count": 51,
   "metadata": {},
   "outputs": [
    {
     "name": "stdout",
     "output_type": "stream",
     "text": [
      "275a0899-2566-57fc-91ee-b1253a31b759\n",
      "d11c9bab-87fa-56a6-8880-ad91a1909747\n"
     ]
    }
   ],
   "source": [
    "user_email = \"dummy_user@gmail.com\"\n",
    "app_name = \"dummy_app\"\n",
    "user_id = generate_user_uuid(user_email)\n",
    "chat_id = generate_chat_uuid(app_name, user_id)\n",
    "\n",
    "print(user_id)\n",
    "print(chat_id)"
   ]
  },
  {
   "cell_type": "code",
   "execution_count": 21,
   "metadata": {},
   "outputs": [
    {
     "data": {
      "text/plain": [
       "'275a0899-2566-57fc-91ee-b1253a31b759'"
      ]
     },
     "execution_count": 21,
     "metadata": {},
     "output_type": "execute_result"
    }
   ],
   "source": []
  },
  {
   "cell_type": "code",
   "execution_count": null,
   "metadata": {},
   "outputs": [],
   "source": []
  }
 ],
 "metadata": {
  "kernelspec": {
   "display_name": "llm",
   "language": "python",
   "name": "python3"
  },
  "language_info": {
   "codemirror_mode": {
    "name": "ipython",
    "version": 3
   },
   "file_extension": ".py",
   "mimetype": "text/x-python",
   "name": "python",
   "nbconvert_exporter": "python",
   "pygments_lexer": "ipython3",
   "version": "3.11.8"
  }
 },
 "nbformat": 4,
 "nbformat_minor": 2
}
