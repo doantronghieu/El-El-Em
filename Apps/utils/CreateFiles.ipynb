{
 "cells": [
  {
   "cell_type": "code",
   "execution_count": 1,
   "metadata": {},
   "outputs": [],
   "source": []
  },
  {
   "cell_type": "code",
   "execution_count": 2,
   "metadata": {},
   "outputs": [],
   "source": [
    "import os\n",
    "\n",
    "\n",
    "def create_files(file_names):\n",
    "    for file_name in file_names:\n",
    "        os.system(f\"touch {file_name}.ipynb\")\n",
    "\n",
    "\n",
    "if __name__ == \"__main__\":\n",
    "    # List of file names without extension\n",
    "    file_names = [\n",
    "        \"a\", \n",
    "        \"b\",\n",
    "        \"c\",\n",
    "    ]\n",
    "\n",
    "    create_files(file_names)"
   ]
  },
  {
   "cell_type": "code",
   "execution_count": null,
   "metadata": {},
   "outputs": [],
   "source": []
  }
 ],
 "metadata": {
  "kernelspec": {
   "display_name": "llm",
   "language": "python",
   "name": "python3"
  },
  "language_info": {
   "codemirror_mode": {
    "name": "ipython",
    "version": 3
   },
   "file_extension": ".py",
   "mimetype": "text/x-python",
   "name": "python",
   "nbconvert_exporter": "python",
   "pygments_lexer": "ipython3",
   "version": "3.11.8"
  }
 },
 "nbformat": 4,
 "nbformat_minor": 2
}
