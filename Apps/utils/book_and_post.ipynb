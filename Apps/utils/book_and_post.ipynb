{
 "cells": [
  {
   "cell_type": "code",
   "execution_count": 2,
   "metadata": {},
   "outputs": [],
   "source": [
    "import add_packages"
   ]
  },
  {
   "cell_type": "markdown",
   "metadata": {},
   "source": [
    "# Load PDF content"
   ]
  },
  {
   "cell_type": "code",
   "execution_count": 2,
   "metadata": {},
   "outputs": [],
   "source": [
    "from langchain.document_loaders.pdf import UnstructuredPDFLoader\n",
    "from pprint import pprint"
   ]
  },
  {
   "cell_type": "code",
   "execution_count": 3,
   "metadata": {},
   "outputs": [
    {
     "name": "stderr",
     "output_type": "stream",
     "text": [
      "[nltk_data] Downloading package punkt to /Users/thung/nltk_data...\n",
      "[nltk_data]   Unzipping tokenizers/punkt.zip.\n",
      "[nltk_data] Downloading package averaged_perceptron_tagger to\n",
      "[nltk_data]     /Users/thung/nltk_data...\n",
      "[nltk_data]   Unzipping taggers/averaged_perceptron_tagger.zip.\n"
     ]
    }
   ],
   "source": [
    "loader = UnstructuredPDFLoader(\n",
    "  f\"{add_packages.APP_PATH}/data/book.pdf\",\n",
    ")\n",
    "pages = loader.load()"
   ]
  },
  {
   "cell_type": "code",
   "execution_count": 4,
   "metadata": {},
   "outputs": [],
   "source": [
    "content = pages[0].page_content\n",
    "with open(f\"{add_packages.APP_PATH}/data/pdf_raw_output.txt\", \"w\") as f:\n",
    "  f.write(content)"
   ]
  },
  {
   "cell_type": "code",
   "execution_count": 6,
   "metadata": {},
   "outputs": [],
   "source": [
    "def filter_lines(input_file, output_file):\n",
    "\t# List of Roman numerals\n",
    "\troman_numerals = [\n",
    "\t\t\"i\", \"ii\", \"iii\", \"iv\", \"v\", \"vi\", \"vii\", \"viii\", \"ix\", \"x\",\n",
    "\t\t\"xi\", \"xii\", \"xiii\", \"xiv\", \"xv\", \"xvi\", \"xvii\", \"xviii\", \"xix\", \"xx\",\n",
    "\t\t\"iti\", \"xxi\", \"xxiv\", \"xxv\"\n",
    "\t]\n",
    "\n",
    "\twith open(input_file, 'r') as file:\n",
    "\t\tlines = file.readlines()\n",
    "\n",
    "\t# Filter out lines with only one character, one number, a list of numbers, consecutive periods, only two words, or only Roman numerals\n",
    "\tfiltered_lines = [line.strip() for line in lines if len(line.strip()) > 1 and not (\n",
    "\t\tline.isdigit() or all(char.isdigit() or char.isspace() for char in line) or '....' in line or len(line.split()) == 2 or line.strip() in roman_numerals)]\n",
    "\n",
    "\twith open(output_file, 'w') as file:\n",
    "\t\t# Write filtered lines to the output file with a space between each line\n",
    "\t\tfile.write('\\n\\n'.join(filtered_lines))\n",
    "\n",
    "\n",
    "# Example usage:\n",
    "input_file_path = f\"{add_packages.APP_PATH}/data/pdf_raw_output.txt\"\n",
    "output_file_path = f\"{add_packages.APP_PATH}/data/pdf_processed.txt\"\n",
    "filter_lines(input_file_path, output_file_path)"
   ]
  },
  {
   "cell_type": "markdown",
   "metadata": {},
   "source": [
    "# Process content manually"
   ]
  },
  {
   "cell_type": "markdown",
   "metadata": {},
   "source": [
    "# Send to LLM"
   ]
  },
  {
   "cell_type": "code",
   "execution_count": 7,
   "metadata": {},
   "outputs": [],
   "source": [
    "from tqdm import tqdm\n",
    "import add_packages\n",
    "\n",
    "from langchain.prompts import PromptTemplate\n",
    "from langchain_openai import OpenAI\n",
    "from langchain_openai import ChatOpenAI\n",
    "from langchain_anthropic import ChatAnthropic\n"
   ]
  },
  {
   "cell_type": "code",
   "execution_count": 8,
   "metadata": {},
   "outputs": [
    {
     "name": "stderr",
     "output_type": "stream",
     "text": [
      "100%|██████████| 35/35 [01:07<00:00,  1.92s/it]\n"
     ]
    }
   ],
   "source": [
    "file_path = f'{add_packages.APP_PATH}/data/llm_input.txt'\n",
    "\n",
    "# Read the content of the file\n",
    "with open(file_path, 'r', encoding='utf-8') as file:\n",
    "    content = file.read()\n",
    "    \n",
    "# Split the content into paragraphs based on the newline character\n",
    "paragraphs = content.split('\\n\\n')\n",
    "\n",
    "# Remove empty paragraphs\n",
    "paragraphs = [paragraph.strip()\n",
    "              for paragraph in paragraphs if paragraph.strip()]\n",
    "\n",
    "template = \"\"\"\\\n",
    "Condense/optimize the input text as best as possible while still retaining the \\\n",
    "core meaning of the content by following these steps:\n",
    "\n",
    "- Remove pronouns (I, you, your, they, we, our, ...), suggestions/invitations/collaborative words (Let's, ...) as much as possible if necessary.\n",
    "- Rewrite the content to make it as memorable as possible.\n",
    "- Correct grammar if necessary.\n",
    "- Change another word if that word is easier to remember and more popular.\n",
    "- If the input text has starts with markdown heading syntax (#, ##, ### ...) \\\n",
    "or bullet points (-), return the input (\"#\", \"##\", \"###\", \"-\" included).\n",
    " \n",
    "<examples>\n",
    "<example>\n",
    "Input: Normal Paragraph\n",
    "Output: Normal Paragraph\n",
    "</example>\n",
    "\n",
    "<example>\n",
    "Input: ## HeadingName\n",
    "Output: ## HeadingName\n",
    "</example>\n",
    "\n",
    "<example>\n",
    "Input: - BulletpointIdea\n",
    "Output: - BulletpointIdea\n",
    "</example>\n",
    "</examples>\n",
    "\n",
    "Here is the input:\n",
    "{text}\\\n",
    "\"\"\"\n",
    "prompt_template = PromptTemplate.from_template(template)\n",
    "\n",
    "model = ChatOpenAI(model=\"gpt-3.5-turbo-0125\", temperature=0)\n",
    "# model = ChatAnthropic(model_name=\"claude-3-haiku-20240307\")\n",
    "chain = prompt_template | model\n",
    "\n",
    "output_file_path = f'{add_packages.APP_PATH}/data/llm_output.txt'\n",
    "with open(output_file_path, 'a', encoding='utf-8') as f:\n",
    "  for i in tqdm(range(len(paragraphs))):\n",
    "    result = chain.invoke({\"text\": paragraphs[i]}).content\n",
    "    f.writelines(result + \"\\n\\n\")"
   ]
  },
  {
   "cell_type": "code",
   "execution_count": null,
   "metadata": {},
   "outputs": [],
   "source": []
  },
  {
   "cell_type": "code",
   "execution_count": null,
   "metadata": {},
   "outputs": [],
   "source": []
  }
 ],
 "metadata": {
  "kernelspec": {
   "display_name": "LLM",
   "language": "python",
   "name": "python3"
  },
  "language_info": {
   "codemirror_mode": {
    "name": "ipython",
    "version": 3
   },
   "file_extension": ".py",
   "mimetype": "text/x-python",
   "name": "python",
   "nbconvert_exporter": "python",
   "pygments_lexer": "ipython3",
   "version": "3.11.8"
  }
 },
 "nbformat": 4,
 "nbformat_minor": 2
}
