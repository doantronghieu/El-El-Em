{
 "cells": [
  {
   "cell_type": "markdown",
   "metadata": {},
   "source": [
    "# Load PDF content"
   ]
  },
  {
   "cell_type": "code",
   "execution_count": 5,
   "metadata": {},
   "outputs": [],
   "source": [
    "from langchain.document_loaders.pdf import UnstructuredPDFLoader\n",
    "from pprint import pprint"
   ]
  },
  {
   "cell_type": "code",
   "execution_count": 6,
   "metadata": {},
   "outputs": [],
   "source": [
    "loader = UnstructuredPDFLoader(\n",
    "  \"./data/book.pdf\",\n",
    ")\n",
    "pages = loader.load()"
   ]
  },
  {
   "cell_type": "code",
   "execution_count": 7,
   "metadata": {},
   "outputs": [],
   "source": [
    "content = pages[0].page_content\n",
    "with open(\"./data/pdf_raw_output.txt\", \"w\") as f:\n",
    "  f.write(content)"
   ]
  },
  {
   "cell_type": "code",
   "execution_count": 8,
   "metadata": {},
   "outputs": [],
   "source": [
    "def filter_lines(input_file, output_file):\n",
    "    with open(input_file, 'r') as file:\n",
    "        lines = file.readlines()\n",
    "\n",
    "    # Filter out lines with only one number or a list of numbers\n",
    "    filtered_lines = [line.strip() for line in lines if not (\n",
    "        line.isdigit() or all(char.isdigit() or char.isspace() for char in line))]\n",
    "\n",
    "    with open(output_file, 'w') as file:\n",
    "        file.write('\\n'.join(filtered_lines))\n",
    "\n",
    "\n",
    "# Example usage:\n",
    "input_file_path = \"./data/pdf_raw_output.txt\"\n",
    "output_file_path = \"./data/pdf_processed.txt\"\n",
    "filter_lines(input_file_path, output_file_path)"
   ]
  },
  {
   "cell_type": "markdown",
   "metadata": {},
   "source": [
    "# Process content manually"
   ]
  },
  {
   "cell_type": "markdown",
   "metadata": {},
   "source": [
    "# Send to LLM"
   ]
  },
  {
   "cell_type": "code",
   "execution_count": 1,
   "metadata": {},
   "outputs": [],
   "source": [
    "from tqdm import tqdm\n",
    "import add_packages\n",
    "\n",
    "from langchain.prompts import PromptTemplate\n",
    "from langchain_openai import OpenAI\n",
    "from langchain_openai import ChatOpenAI\n",
    "from langchain_anthropic import ChatAnthropic\n"
   ]
  },
  {
   "cell_type": "code",
   "execution_count": 2,
   "metadata": {},
   "outputs": [
    {
     "name": "stderr",
     "output_type": "stream",
     "text": [
      "100%|██████████| 49/49 [00:39<00:00,  1.24it/s]\n"
     ]
    }
   ],
   "source": [
    "file_path = '../data/llm_input.txt'\n",
    "\n",
    "# Read the content of the file\n",
    "with open(file_path, 'r', encoding='utf-8') as file:\n",
    "    content = file.read()\n",
    "    \n",
    "# Split the content into paragraphs based on the newline character\n",
    "paragraphs = content.split('\\n\\n')\n",
    "\n",
    "# Remove empty paragraphs\n",
    "paragraphs = [paragraph.strip()\n",
    "              for paragraph in paragraphs if paragraph.strip()]\n",
    "\n",
    "template = \"\"\"\\\n",
    "Condense/optimize the input text as best as possible while still retaining the \\\n",
    "core meaning of the content by following these steps:\n",
    "\n",
    "- Remove pronouns (I, you, your, they, we, our, ...), suggestions/invitations/collaborative words (Let's, ...) as much as possible if necessary.\n",
    "- Rewrite the content to make it as memorable as possible.\n",
    "- Correct grammar if necessary.\n",
    "- Change another word if that word is easier to remember and more popular.\n",
    "- If the input text has starts with markdown heading syntax (#, ##, ### ...) \\\n",
    "or bullet points (-), return the input (\"#\", \"##\", \"###\", \"-\" included).\n",
    " \n",
    "<examples>\n",
    "<example>\n",
    "Input: Normal Paragraph\n",
    "Output: Normal Paragraph\n",
    "</example>\n",
    "\n",
    "<example>\n",
    "Input: ## HeadingName\n",
    "Output: ## HeadingName\n",
    "</example>\n",
    "\n",
    "<example>\n",
    "Input: - BulletpointIdea\n",
    "Output: - BulletpointIdea\n",
    "</example>\n",
    "</examples>\n",
    "\n",
    "Here is the input:\n",
    "{text}\\\n",
    "\"\"\"\n",
    "prompt_template = PromptTemplate.from_template(template)\n",
    "\n",
    "model = ChatOpenAI(model=\"gpt-3.5-turbo-0125\", temperature=0)\n",
    "# model = ChatAnthropic(model_name=\"claude-3-haiku-20240307\")\n",
    "chain = prompt_template | model\n",
    "\n",
    "output_file_path = '../data/llm_output.txt'\n",
    "with open(output_file_path, 'a', encoding='utf-8') as f:\n",
    "  for i in tqdm(range(len(paragraphs))):\n",
    "    result = chain.invoke({\"text\": paragraphs[i]}).content\n",
    "    f.writelines(result + \"\\n\\n\")"
   ]
  },
  {
   "cell_type": "code",
   "execution_count": null,
   "metadata": {},
   "outputs": [],
   "source": []
  },
  {
   "cell_type": "code",
   "execution_count": null,
   "metadata": {},
   "outputs": [],
   "source": []
  }
 ],
 "metadata": {
  "kernelspec": {
   "display_name": "LLM",
   "language": "python",
   "name": "python3"
  },
  "language_info": {
   "codemirror_mode": {
    "name": "ipython",
    "version": 3
   },
   "file_extension": ".py",
   "mimetype": "text/x-python",
   "name": "python",
   "nbconvert_exporter": "python",
   "pygments_lexer": "ipython3",
   "version": "3.11.8"
  }
 },
 "nbformat": 4,
 "nbformat_minor": 2
}
