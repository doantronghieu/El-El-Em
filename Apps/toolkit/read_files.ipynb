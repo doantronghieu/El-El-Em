{
 "cells": [
  {
   "cell_type": "code",
   "execution_count": 1,
   "metadata": {},
   "outputs": [],
   "source": [
    "def extract_files(files: list[str], output='extracted_files.txt', root_dir=None):\n",
    "\t\tif root_dir:\n",
    "\t\t\tfiles = [f'{root_dir}/{file}' for file in files]\n",
    "   \n",
    "\t\twith open(output, 'w') as outfile:\n",
    "\t\t\t\toutfile.write('**=== MY CODE ===**\\n\\n')\n",
    "\t\t\t\t# files = [f'../{file}' for file in files]\n",
    "\t\t\t\tfor file in files:\n",
    "\t\t\t\t\t\toutfile.write(f'{file}:\\n')\n",
    "\t\t\t\t\t\twith open(file, 'r') as infile:\n",
    "\t\t\t\t\t\t\t\toutfile.write(f'```\\n{infile.read()}\\n```\\n')\n",
    "\n",
    "def combine_lists(lists: list[list]):\n",
    "\treturn [item for sublist in lists for item in sublist]\n"
   ]
  },
  {
   "cell_type": "code",
   "execution_count": 2,
   "metadata": {},
   "outputs": [],
   "source": [
    "files = [\n",
    "\n",
    "]\n",
    "\n",
    "extract_files(files)"
   ]
  },
  {
   "cell_type": "code",
   "execution_count": null,
   "metadata": {},
   "outputs": [],
   "source": []
  }
 ],
 "metadata": {
  "kernelspec": {
   "display_name": "llm",
   "language": "python",
   "name": "python3"
  },
  "language_info": {
   "codemirror_mode": {
    "name": "ipython",
    "version": 3
   },
   "file_extension": ".py",
   "mimetype": "text/x-python",
   "name": "python",
   "nbconvert_exporter": "python",
   "pygments_lexer": "ipython3",
   "version": "3.11.9"
  }
 },
 "nbformat": 4,
 "nbformat_minor": 2
}
