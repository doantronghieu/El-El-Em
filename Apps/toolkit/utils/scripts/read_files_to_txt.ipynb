{
 "cells": [
  {
   "cell_type": "code",
   "execution_count": null,
   "metadata": {},
   "outputs": [],
   "source": [
    "def extract_files(files, output=\"extracted_files.txt\"):\n",
    "    with open(output, 'w') as outfile:\n",
    "        for file in files:\n",
    "            outfile.write(f'{file}:\\n')\n",
    "            with open(file, 'r') as infile:\n",
    "                outfile.write(f'```\\n{infile.read()}\\n```\\n')\n",
    "\n",
    "\n",
    "files = [\n",
    "\t\"\",\n",
    "]\n",
    "\n",
    "extract_files(files)"
   ]
  }
 ],
 "metadata": {
  "language_info": {
   "name": "python"
  }
 },
 "nbformat": 4,
 "nbformat_minor": 2
}
