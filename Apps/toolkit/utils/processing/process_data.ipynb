{
 "cells": [
  {
   "cell_type": "code",
   "execution_count": 1,
   "metadata": {},
   "outputs": [],
   "source": [
    "def process_file(input_file, output_file):\n",
    "    with open(input_file, 'r') as infile, open(output_file, 'w') as outfile:\n",
    "        previous_line = ''\n",
    "        for line in infile:\n",
    "            # Check if the line starts with a lowercase letter\n",
    "            if line.strip() and line[0].islower():\n",
    "                # Concatenate with the previous line and insert a space\n",
    "                previous_line += ' ' + line.strip()\n",
    "            else:\n",
    "                # Write the previous line to the output file\n",
    "                if previous_line:\n",
    "                    outfile.write(previous_line + '\\n')\n",
    "                # Update the previous line for the next iteration\n",
    "                previous_line = line.strip()\n",
    "\n",
    "        # Write the last line (if any) to the output file\n",
    "        if previous_line:\n",
    "            outfile.write(previous_line)\n",
    "\n",
    "\n",
    "# Example usage:\n",
    "input_file_path = \"../data/temp/input.txt\"\n",
    "output_file_path = '../data/temp/output.txt'\n",
    "process_file(input_file_path, output_file_path)"
   ]
  },
  {
   "cell_type": "code",
   "execution_count": 3,
   "metadata": {},
   "outputs": [],
   "source": [
    "def process_file(input_file, output_file):\n",
    "    with open(input_file, 'r') as infile, open(output_file, 'w') as outfile:\n",
    "        previous_line = ''\n",
    "        for line in infile:\n",
    "            # Check if the line starts with ##\n",
    "            if line.strip().startswith('##'):\n",
    "                # Insert '\\n\\n' in the last line before it\n",
    "                if previous_line:\n",
    "                    outfile.write(previous_line + '\\n\\n')\n",
    "                # Write the line starting with ##\n",
    "                outfile.write(line)\n",
    "                # Reset previous_line\n",
    "                previous_line = ''\n",
    "            else:\n",
    "                # Concatenate with the previous line and insert a space\n",
    "                previous_line += '\\n' + line.strip()\n",
    "\n",
    "        # Write the last line (if any) to the output file\n",
    "        if previous_line:\n",
    "            outfile.write(previous_line)\n",
    "\n",
    "\n",
    "# Example usage:\n",
    "input_file_path = \"../data/temp/output.txt\"\n",
    "output_file_path = \"../data/temp/output1.txt\"\n",
    "process_file(input_file_path, output_file_path)"
   ]
  }
 ],
 "metadata": {
  "kernelspec": {
   "display_name": "LLM",
   "language": "python",
   "name": "python3"
  },
  "language_info": {
   "codemirror_mode": {
    "name": "ipython",
    "version": 3
   },
   "file_extension": ".py",
   "mimetype": "text/x-python",
   "name": "python",
   "nbconvert_exporter": "python",
   "pygments_lexer": "ipython3",
   "version": "3.9.18"
  }
 },
 "nbformat": 4,
 "nbformat_minor": 2
}
