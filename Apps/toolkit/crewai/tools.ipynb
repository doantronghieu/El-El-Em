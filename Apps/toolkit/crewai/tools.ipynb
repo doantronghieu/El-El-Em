{
 "cells": [
  {
   "cell_type": "code",
   "execution_count": null,
   "metadata": {},
   "outputs": [],
   "source": [
    "import add_packages\n",
    "import yaml, re, os, json, requests\n",
    "from toolkit.langchain import document_loaders, text_splitters, documents\n",
    "from crewai import Agent, Task\n",
    "from pprint import pprint\n",
    "\n",
    "with open(f\"{add_packages.APP_PATH}/my_configs/crew_ai.yaml\") as f:\n",
    "  configs_crewai = yaml.safe_load(f)\n"
   ]
  },
  {
   "cell_type": "markdown",
   "metadata": {},
   "source": [
    "# Browser"
   ]
  },
  {
   "cell_type": "code",
   "execution_count": null,
   "metadata": {},
   "outputs": [],
   "source": [
    "\n",
    "def process_scraped_content(text: str) -> str:\n",
    "  # Replace \"\\n \" with \"\\n\"\n",
    "  text = re.sub(r'\\n\\s*', '\\n', text)\n",
    "\n",
    "  # Replace consecutive newlines with a single newline\n",
    "  text = re.sub(r'\\n+', '\\n', text)\n",
    "\n",
    "  # Replace multiple spaces with a single space\n",
    "  text = re.sub(r' +', ' ', text)\n",
    "\n",
    "  # Split text into lines\n",
    "  lines = text.split('\\n')\n",
    "\n",
    "  # Filter out lines with fewer than 4 words\n",
    "  lines = [line for line in lines if len(line.split()) >= 4]\n",
    "\n",
    "  # Remove words starting with \"Ä\"\n",
    "  lines = [re.sub(r'\\bÄ\\w*\\b', '', line) for line in lines]\n",
    "\n",
    "  # List of phrases to remove lines containing them\n",
    "  phrases_to_remove = [\n",
    "      \"Sign in to your CNN account\",\n",
    "      \"Ad was repetitive to ads I've seen previously\",\n",
    "      \"Content moved around while ad loaded\"\n",
    "  ]\n",
    "\n",
    "  # Filter out lines containing any of the phrases\n",
    "  lines = [line for line in lines if not any(\n",
    "      phrase in line for phrase in phrases_to_remove)]\n",
    "\n",
    "  # Join filtered lines back into text\n",
    "  text = '\\n'.join(lines)\n",
    "\n",
    "  return text"
   ]
  },
  {
   "cell_type": "markdown",
   "metadata": {},
   "source": [
    "## scrape_and_summarize_website"
   ]
  },
  {
   "cell_type": "code",
   "execution_count": null,
   "metadata": {},
   "outputs": [],
   "source": [
    "url = \"https://edition.cnn.com/2024/04/03/politics/biden-netanyahu-tension-analysis/index.html\"\n",
    "doc = document_loaders.WebBaseLoader(url).load()[0].page_content\n",
    "doc = process_scraped_content(doc)\n",
    "doc = [documents.Document(doc)]\n",
    "\n",
    "text_splitter = text_splitters.RecursiveCharacterTextSplitter(\n",
    "  chunk_size=2000, chunk_overlap=300,\n",
    ")\n",
    "docs = text_splitter.split_documents(doc)"
   ]
  },
  {
   "cell_type": "code",
   "execution_count": null,
   "metadata": {},
   "outputs": [],
   "source": [
    "configs_tool_browser = configs_crewai[\"tools\"][\"browser\"]\n",
    "configs_tool_scrape_and_summarize_website = configs_tool_browser[\n",
    "    \"scrape_and_summarize_website\"]\n",
    "configs_tool_scrape_and_summarize_website_agent = configs_tool_scrape_and_summarize_website[\"agent\"]\n",
    "configs_tool_scrape_and_summarize_website_task = configs_tool_scrape_and_summarize_website[\"task\"]\n"
   ]
  },
  {
   "cell_type": "code",
   "execution_count": null,
   "metadata": {},
   "outputs": [],
   "source": [
    "agent = Agent(\n",
    "  **configs_tool_scrape_and_summarize_website_agent,\n",
    "  allow_delegation=False,\n",
    ")"
   ]
  },
  {
   "cell_type": "code",
   "execution_count": null,
   "metadata": {},
   "outputs": [],
   "source": [
    "summaries = []\n",
    "\n",
    "for doc in docs:\n",
    "  content = doc.page_content\n",
    "  description = configs_tool_scrape_and_summarize_website_task[\"description\"].replace(\n",
    "      \"%CHUNK%\", content)\n",
    "  expected_output = configs_tool_scrape_and_summarize_website_task[\"expected_output\"]\n",
    "  \n",
    "  task = Task(\n",
    "    agent=agent,\n",
    "    description=description,\n",
    "    expected_output=expected_output,\n",
    "  )\n",
    "  \n",
    "  summary = task.execute()\n",
    "  summaries.append(summary)"
   ]
  },
  {
   "cell_type": "markdown",
   "metadata": {},
   "source": [
    "## search_internet"
   ]
  },
  {
   "cell_type": "code",
   "execution_count": 16,
   "metadata": {},
   "outputs": [],
   "source": [
    "def search_internet(\n",
    "  query: str,\n",
    "  top_result_to_return: int = 4,\n",
    ") -> str:\n",
    "  \"\"\"\n",
    "  Useful to search the internet about a a given topic and return relevant \n",
    "  results\n",
    "  \"\"\"\n",
    "  url_serper = \"https://google.serper.dev/search\"\n",
    "  \n",
    "  payload = json.dumps({\"q\": query})\n",
    "  headers = {\n",
    "    \"X-API-KEY\": os.environ[\"SERPER_API_KEY\"],\n",
    "    \"content-type\": \"application/json\",\n",
    "  }\n",
    "\n",
    "  response = requests.request(\"POST\", url_serper, headers=headers, data=payload)\n",
    "  \n",
    "  if \"organic\" not in response.json():\n",
    "    return (\"Sorry, I couldn't find anything about that, there could be an \"\n",
    "            \"error with you serper api key.\")\n",
    "  else:\n",
    "    results = response.json()[\"organic\"]\n",
    "    result_str = []\n",
    "    \n",
    "    for result in results[:top_result_to_return]:\n",
    "      try:\n",
    "        result_str.append(\"\\n\".join([\n",
    "          f\"Title: {result['title']}\", f\"Link: {result['link']}\",\n",
    "          f\"Snippet: {result['snippet']}\", f\"\\n{'-'*10}\"\n",
    "        ]))\n",
    "      except KeyError:\n",
    "        next\n",
    "  \n",
    "  return \"\\n\".join(result_str)"
   ]
  },
  {
   "cell_type": "code",
   "execution_count": 19,
   "metadata": {},
   "outputs": [
    {
     "name": "stdout",
     "output_type": "stream",
     "text": [
      "Title: Apple\n",
      "Link: https://www.apple.com/\n",
      "Snippet: Apple Footer · 1. · Available in the U.S. on apple.com, in the Apple Store app, and at Apple Stores. · To access and use all Apple Card features and products ...\n",
      "\n",
      "----------\n",
      "Title: Apple Inc. - Wikipedia\n",
      "Link: https://en.wikipedia.org/wiki/Apple_Inc.\n",
      "Snippet: Apple Inc. (formerly Apple Computer, Inc.) is an American multinational corporation and technology company headquartered in Cupertino, California, ...\n",
      "\n",
      "----------\n",
      "Title: Apple - YouTube\n",
      "Link: https://www.youtube.com/user/apple\n",
      "Snippet: Welcome to the official Apple YouTube channel. Here you'll find news about product launches, tutorials, and other great content. apple.comand 1 more link.\n",
      "\n",
      "----------\n",
      "Title: @apple • Instagram photos and videos\n",
      "Link: https://www.instagram.com/apple/\n",
      "Snippet: 33M Followers, 9 Following, 1183 Posts - See Instagram photos and videos from @apple.\n",
      "\n",
      "----------\n"
     ]
    }
   ],
   "source": [
    "result = search_internet(query=\"apple\", top_result_to_return=4)\n",
    "print(result)"
   ]
  },
  {
   "cell_type": "code",
   "execution_count": null,
   "metadata": {},
   "outputs": [],
   "source": []
  },
  {
   "cell_type": "markdown",
   "metadata": {},
   "source": [
    "# Test"
   ]
  },
  {
   "cell_type": "code",
   "execution_count": null,
   "metadata": {},
   "outputs": [],
   "source": [
    "import add_packages\n",
    "from toolkit.crewai import tools\n",
    "\n",
    "url = \"https://edition.cnn.com/2024/04/03/politics/biden-netanyahu-tension-analysis/index.html\"\n",
    "\n",
    "tools_browser = tools.ToolsBrowser()\n",
    "tools_browser.scrape_and_summarize_website(url)"
   ]
  }
 ],
 "metadata": {
  "kernelspec": {
   "display_name": "crewai",
   "language": "python",
   "name": "python3"
  },
  "language_info": {
   "codemirror_mode": {
    "name": "ipython",
    "version": 3
   },
   "file_extension": ".py",
   "mimetype": "text/x-python",
   "name": "python",
   "nbconvert_exporter": "python",
   "pygments_lexer": "ipython3",
   "version": "3.11.8"
  }
 },
 "nbformat": 4,
 "nbformat_minor": 2
}
