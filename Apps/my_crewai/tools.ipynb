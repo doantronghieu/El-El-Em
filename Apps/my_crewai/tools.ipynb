{
 "cells": [
  {
   "cell_type": "code",
   "execution_count": 57,
   "metadata": {},
   "outputs": [],
   "source": [
    "import add_packages\n",
    "import os, dotenv\n",
    "import http.client as http_client\n",
    "import urllib.parse as url_parser\n",
    "from my_langchain import document_loaders\n",
    "from pprint import pprint\n",
    "\n",
    "dotenv.load_dotenv()\n",
    "SCRAPING_ANT_API_KEY = os.getenv(\"SCRAPING_ANT_API_KEY\")"
   ]
  },
  {
   "cell_type": "code",
   "execution_count": 54,
   "metadata": {},
   "outputs": [],
   "source": [
    "conn_scraping_ant = http_client.HTTPSConnection(\"api.scrapingant.com\")\n",
    "url = \"https://www.langchain.com/langchain\"\n",
    "url_encoded = url_parser.quote_plus(url)\n",
    "properties = \"title, content, body\"\n",
    "properties_encoded = url_parser.quote(properties)"
   ]
  },
  {
   "cell_type": "code",
   "execution_count": 55,
   "metadata": {},
   "outputs": [],
   "source": [
    "\n",
    "url_scraping_ant = f\"/v2/extract?url={url_encoded}&x-api-key={SCRAPING_ANT_API_KEY}&extract_properties={properties_encoded}\"\n",
    "conn_scraping_ant.request(\"GET\", url_scraping_ant)\n",
    "res_scraping_ant = conn_scraping_ant.getresponse()\n",
    "data_scraping_ant = res_scraping_ant.read().decode(\"utf-8\")"
   ]
  },
  {
   "cell_type": "code",
   "execution_count": 61,
   "metadata": {},
   "outputs": [],
   "source": [
    "doc = document_loaders.WebBaseLoader(url).load()"
   ]
  },
  {
   "cell_type": "code",
   "execution_count": 65,
   "metadata": {},
   "outputs": [
    {
     "name": "stdout",
     "output_type": "stream",
     "text": [
      "('LangChain\\n'\n",
      " '\\n'\n",
      " '\\n'\n",
      " '\\n'\n",
      " '\\n'\n",
      " '\\n'\n",
      " '\\n'\n",
      " '\\n'\n",
      " '\\n'\n",
      " '\\n'\n",
      " '\\n'\n",
      " '\\n'\n",
      " '\\n'\n",
      " '\\n'\n",
      " '\\n'\n",
      " '\\n'\n",
      " '\\n'\n",
      " '\\n'\n",
      " '\\n'\n",
      " '\\n'\n",
      " '\\n'\n",
      " 'Products\\n'\n",
      " '\\n'\n",
      " 'LangChainLangSmithLangServeMethods\\n'\n",
      " '\\n'\n",
      " 'RetrievalAgentsEvaluationResources\\n'\n",
      " '\\n'\n",
      " 'Developer ResourcesTemplatesIntegrationsLangChain QuickstartLangChain.js '\n",
      " 'QuickstartCompany ResourcesBlogCase StudiesUse Case InspirationPartnersDocs\\n'\n",
      " '\\n'\n",
      " 'LangChain DocsLangSmith DocsPricingCompany\\n'\n",
      " '\\n'\n",
      " 'AboutCareersSign UpThe largest community building the future of LLM '\n",
      " 'appsLangChain’s flexible abstractions and AI-first toolkit make it\\xa0the\\xa0'\n",
      " '#1\\xa0choice for developers when building with GenAI.Get StartedAdd '\n",
      " 'Observability\\n'\n",
      " '\\n'\n",
      " 'LangChain keeps pace with \\u2028'\n",
      " 'the cutting edge, so you can too. Join 100k+ builders who standardize '\n",
      " \"development in LangChain's Python and TypeScript frameworks.\\n\"\n",
      " '\\n'\n",
      " '\\n'\n",
      " 'Augment the power \\u2028'\n",
      " 'of\\xa0LLMs with your dataLangChain helps connect LLMs to your company’s '\n",
      " 'private sources \\u2028'\n",
      " 'of data and APIs to create context-aware, reasoning applications.Go to Docs\\n'\n",
      " '\\n'\n",
      " '\\n'\n",
      " 'A complete set of interoperable and interchangeable building blocksLeverage '\n",
      " 'our comprehensive library of components that together make up sophisticated, '\n",
      " 'end-to-end applications. Want to change your model? Future-proof your '\n",
      " 'application by making vendor optionality part of your LLM infrastructure '\n",
      " 'design.Go to Docs\\n'\n",
      " '\\n'\n",
      " '\\n'\n",
      " 'Get customizability and control with a durable runtime baked inLangChain '\n",
      " 'Expression Language (LCEL) lets you build your app in a truly composable '\n",
      " 'way, allowing you to customize it as you see fit. The protocol supports '\n",
      " 'parallelization, fallbacks, batch, streaming, and async all out-of-the-box, '\n",
      " 'freeing you to focus on what matters. Go to Docs\\n'\n",
      " '\\n'\n",
      " '\\n'\n",
      " 'Smart connections to any source of data or knowledgeSee all our '\n",
      " 'integrations\\n'\n",
      " '\\n'\n",
      " '\\n'\n",
      " 'Need turnkey observability?LangSmith shines a light into application '\n",
      " 'behavior and performance. Get prompt-level visibility coupled with tools to '\n",
      " 'debug, test, evaluate, deploy, and monitor your applications with your '\n",
      " 'team.Sign\\xa0UpExplore LangSmithWhy choose LangChain?LangChain is easy to '\n",
      " 'get started with and\\xa0gives\\xa0you choice, flexibility, and power as\\xa0'\n",
      " 'you scale.\\n'\n",
      " '\\n'\n",
      " '\\n'\n",
      " '\\n'\n",
      " '\\n'\n",
      " '\\n'\n",
      " '2,600+ contributorsThe biggest community of any LLM-centric developer '\n",
      " 'framework.600+ integrationsProviding the largest library of pluggable '\n",
      " 'integrations.From 0 to 100Simple to get started, yet robust enough \\u2028'\n",
      " 'for production. LCEL and LangServe give \\u2028'\n",
      " 'you control and a fast path to deploy.Over 100 templatesDozens of pre-built '\n",
      " 'examples to get you \\u2028'\n",
      " 'on your way faster.\\n'\n",
      " '\\n'\n",
      " '\\n'\n",
      " 'One framework. \\u2028'\n",
      " 'Infinite use cases.Get inspired\\n'\n",
      " '\\n'\n",
      " '\\n'\n",
      " 'Our MethodsRetrieval\\n'\n",
      " '\\n'\n",
      " '\\n'\n",
      " 'Agents\\n'\n",
      " '\\n'\n",
      " '\\n'\n",
      " 'Evaluation\\n'\n",
      " '\\n'\n",
      " '\\n'\n",
      " 'Ready to start shipping \\u2028'\n",
      " 'reliable GenAI apps faster?LangChain and LangSmith are critical parts of the '\n",
      " 'reference \\u2028'\n",
      " 'architecture to get you from prototype to production.Request a demoSign '\n",
      " 'UpProductsLangChainLangSmithLangServeAgentsEvaluationRetrievalResourcesPython '\n",
      " 'DocsJS/TS DocsGitHubIntegrationsTemplatesLangChain QuickstartLangChain.js '\n",
      " 'QuickstartCompanyAboutBlogTwitterDiscordLinkedInYouTubeSign up for our '\n",
      " 'newsletter to stay up to dateThank you! Your submission has been '\n",
      " 'received!Oops! Something went wrong while submitting the form.All systems '\n",
      " 'operationalPrivacy PolicyTerms of Service\\n'\n",
      " '\\n')\n"
     ]
    }
   ],
   "source": [
    "pprint(doc[0].page_content)"
   ]
  },
  {
   "cell_type": "code",
   "execution_count": 56,
   "metadata": {},
   "outputs": [
    {
     "name": "stdout",
     "output_type": "stream",
     "text": [
      "('{\"title\":\"The largest community building the future of LLM '\n",
      " 'apps\",\"content\":\"LangChain’s flexible abstractions and AI-first toolkit make '\n",
      " 'it\\xa0the\\xa0#1\\xa0choice for developers when building with '\n",
      " 'GenAI.\",\"body\":\"LangChain keeps pace with \\u2028'\n",
      " 'the cutting edge, so you can too. Join 100k+ builders who standardize '\n",
      " \"development in LangChain's Python and TypeScript frameworks. Augment the \"\n",
      " 'power \\u2028'\n",
      " 'of\\xa0LLMs with your data. LangChain helps connect LLMs to your company’s '\n",
      " 'private sources \\u2028'\n",
      " 'of data and APIs to create context-aware, reasoning applications. Get '\n",
      " 'customizability and control with a durable runtime baked in. LangChain '\n",
      " 'Expression Language (LCEL) lets you build your app in a truly composable '\n",
      " 'way, allowing you to customize it as you see fit. The protocol supports '\n",
      " 'parallelization, fallbacks, batch, streaming, and async all out-of-the-box, '\n",
      " 'freeing you to focus on what matters. Smart connections to any source of '\n",
      " 'data or knowledge. Need turnkey observability? LangSmith shines a light into '\n",
      " 'application behavior and performance. Get prompt-level visibility coupled '\n",
      " 'with tools to debug, test, evaluate, deploy, and monitor your applications '\n",
      " 'with your team. Why choose LangChain? LangChain is easy to get started with '\n",
      " 'and\\xa0gives\\xa0you choice, flexibility, and power as\\xa0you scale. The '\n",
      " 'biggest community of any LLM-centric developer framework. Providing the '\n",
      " 'largest library of pluggable integrations. Simple to get started, yet robust '\n",
      " 'enough \\u2028'\n",
      " 'for production. LCEL and LangServe give \\u2028'\n",
      " 'you control and a fast path to deploy. Dozens of pre-built examples to get '\n",
      " 'you \\u2028'\n",
      " 'on your way faster. Get inspired. LangChain and LangSmith are critical parts '\n",
      " 'of the reference \\u2028'\n",
      " 'architecture to get you from prototype to production.\"}')\n"
     ]
    }
   ],
   "source": [
    "pprint(data_scraping_ant)"
   ]
  },
  {
   "cell_type": "code",
   "execution_count": null,
   "metadata": {},
   "outputs": [],
   "source": []
  }
 ],
 "metadata": {
  "kernelspec": {
   "display_name": "crewai",
   "language": "python",
   "name": "python3"
  },
  "language_info": {
   "codemirror_mode": {
    "name": "ipython",
    "version": 3
   },
   "file_extension": ".py",
   "mimetype": "text/x-python",
   "name": "python",
   "nbconvert_exporter": "python",
   "pygments_lexer": "ipython3",
   "version": "3.11.8"
  }
 },
 "nbformat": 4,
 "nbformat_minor": 2
}
