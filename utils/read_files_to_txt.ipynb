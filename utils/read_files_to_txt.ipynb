{
 "cells": [
  {
   "cell_type": "code",
   "execution_count": 2,
   "metadata": {},
   "outputs": [],
   "source": [
    "def extract_files(files, output=\"extracted_files.txt\"):\n",
    "    with open(output, 'w') as outfile:\n",
    "        for file in files:\n",
    "            outfile.write(f'{file}:\\n')\n",
    "            with open(file, 'r') as infile:\n",
    "                outfile.write(f'```\\n{infile.read()}\\n```\\n')\n",
    "\n",
    "\n",
    "files = [\n",
    "\t\"./templates/cluster-issuer.yaml\",\n",
    "\t\"./templates/config-map.yaml\",\n",
    "\t\"./templates/ingress.yaml\",\n",
    "\t\"./templates/service.yaml\",\n",
    "\t\"./values.yaml\",\n",
    "]\n",
    "\n",
    "extract_files(files)"
   ]
  }
 ],
 "metadata": {
  "kernelspec": {
   "display_name": "llm",
   "language": "python",
   "name": "python3"
  },
  "language_info": {
   "codemirror_mode": {
    "name": "ipython",
    "version": 3
   },
   "file_extension": ".py",
   "mimetype": "text/x-python",
   "name": "python",
   "nbconvert_exporter": "python",
   "pygments_lexer": "ipython3",
   "version": "3.11.9"
  }
 },
 "nbformat": 4,
 "nbformat_minor": 2
}
