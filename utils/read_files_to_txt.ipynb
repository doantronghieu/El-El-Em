{
 "cells": [
  {
   "cell_type": "code",
   "execution_count": 2,
   "metadata": {},
   "outputs": [],
   "source": [
    "def extract_files(files: list[str], output=\"extracted_files.txt\"):\n",
    "\t\twith open(output, 'w') as outfile:\n",
    "\t\t\t\tfiles = [f'../{file}' for file in files]\n",
    "\t\t\t\tfor file in files:\n",
    "\t\t\t\t\t\toutfile.write(f'{file[1:]}:\\n')\n",
    "\t\t\t\t\t\twith open(file, 'r') as infile:\n",
    "\t\t\t\t\t\t\t\toutfile.write(f'```\\n{infile.read()}\\n```\\n')\n"
   ]
  },
  {
   "cell_type": "markdown",
   "metadata": {},
   "source": [
    "# Front End"
   ]
  },
  {
   "cell_type": "code",
   "execution_count": 12,
   "metadata": {},
   "outputs": [],
   "source": [
    "files = [\n",
    "\t'FrontEnd/app.vue', \n",
    "\t'FrontEnd/layouts/default.vue',\n",
    "\t# 'FrontEnd/pages/tdtu/feee/personnel.vue',\n",
    "\t# 'FrontEnd/pages/tdtu/feee/programs.vue',\n",
    "\t# 'FrontEnd/components/TDTU/BaseCardPersonnel.vue',\n",
    "\t# 'FrontEnd/components/TDTU/BaseCardProgramDetail.vue',\n",
    "\t# 'FrontEnd/components/TDTU/BaseCardProgramIntro.vue',\n",
    "]\n",
    "\n",
    "extract_files(files)"
   ]
  },
  {
   "cell_type": "code",
   "execution_count": 8,
   "metadata": {},
   "outputs": [],
   "source": [
    "files = [\n",
    "\t'FrontEnd/app.vue',\n",
    "\t'FrontEnd/components/ChatbotWidget/ChatbotSmall.vue',\n",
    "\t'FrontEnd/components/ChatbotWidget/ChatWindow.vue',\n",
    "\t'FrontEnd/components/ChatbotWidget/ChatbotIcon.vue',\n",
    "\t'FrontEnd/components/ChatbotWidget/ChatProviderIcon.vue',\n",
    "\t'FrontEnd/components/ChatbotWidget/MessageBubble.vue',\n",
    "\t'FrontEnd/components/ChatbotWidget/MessageInput.vue',\n",
    "]\n",
    "\n",
    "extract_files(files)"
   ]
  },
  {
   "cell_type": "markdown",
   "metadata": {},
   "source": [
    "# Back End"
   ]
  },
  {
   "cell_type": "markdown",
   "metadata": {},
   "source": [
    "# DevOps"
   ]
  },
  {
   "cell_type": "code",
   "execution_count": 3,
   "metadata": {},
   "outputs": [],
   "source": [
    "files = [\n",
    "\t'DevOps/Docker/custom/Dockerfile.fastapi.custom',\n",
    "\t'DevOps/Docker/custom/Dockerfile.nuxtjs.custom',\n",
    "\t'DevOps/Docker/custom/Dockerfile.postgresql.custom',\n",
    " \t'DevOps/Docker/custom/custom.docker-compose.yaml'\n",
    "]\n",
    "\n",
    "extract_files(files)"
   ]
  },
  {
   "cell_type": "code",
   "execution_count": 2,
   "metadata": {},
   "outputs": [],
   "source": [
    "files = [\n",
    "\t'FrontEnd/components/ChatbotWidget/ChatWindow.vue',\n",
    "\t'FrontEnd/composables/useChatCustom.js',\n",
    "\t'FrontEnd/composables/useChatGpt.js',\n",
    "]\n",
    "\n",
    "extract_files(files)"
   ]
  },
  {
   "cell_type": "code",
   "execution_count": 4,
   "metadata": {},
   "outputs": [],
   "source": [
    "files = [\n",
    "\t'FrontEnd/.env',\n",
    "\t'FrontEnd/nuxt.config.ts',\n",
    "]\n",
    "\n",
    "extract_files(files)"
   ]
  },
  {
   "cell_type": "code",
   "execution_count": null,
   "metadata": {},
   "outputs": [],
   "source": []
  }
 ],
 "metadata": {
  "kernelspec": {
   "display_name": "llm",
   "language": "python",
   "name": "python3"
  },
  "language_info": {
   "codemirror_mode": {
    "name": "ipython",
    "version": 3
   },
   "file_extension": ".py",
   "mimetype": "text/x-python",
   "name": "python",
   "nbconvert_exporter": "python",
   "pygments_lexer": "ipython3",
   "version": "3.11.9"
  }
 },
 "nbformat": 4,
 "nbformat_minor": 2
}
